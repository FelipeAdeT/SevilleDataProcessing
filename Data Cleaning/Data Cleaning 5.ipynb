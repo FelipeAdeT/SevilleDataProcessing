{
 "cells": [
  {
   "cell_type": "markdown",
   "metadata": {},
   "source": [
    "We also seek to reduce the number of labels that identify an entity but place it in the wrong category. This is common because places and organizations often take the names of Saints and other religious figures. (tags that misinterpret the entity category, ex. assign \"PER\" to a location)\n",
    "\n",
    "Strategy 1:\n",
    "Return to the first and last name lists and identify tokens that are problematic within them, creating a list of potential problem tokens. This is especially important for religious words such as San, Santo, Ángel, etc. Can do the same in the entity token list."
   ]
  },
  {
   "cell_type": "code",
   "execution_count": null,
   "metadata": {},
   "outputs": [],
   "source": []
  }
 ],
 "metadata": {
  "kernelspec": {
   "display_name": "Python 3",
   "language": "python",
   "name": "python3"
  },
  "language_info": {
   "codemirror_mode": {
    "name": "ipython",
    "version": 3
   },
   "file_extension": ".py",
   "mimetype": "text/x-python",
   "name": "python",
   "nbconvert_exporter": "python",
   "pygments_lexer": "ipython3",
   "version": "3.7.6"
  }
 },
 "nbformat": 4,
 "nbformat_minor": 4
}
