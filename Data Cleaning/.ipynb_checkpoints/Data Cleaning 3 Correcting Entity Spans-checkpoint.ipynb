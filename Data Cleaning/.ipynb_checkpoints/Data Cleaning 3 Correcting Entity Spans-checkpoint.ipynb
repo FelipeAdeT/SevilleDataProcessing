{
 "cells": [
  {
   "cell_type": "markdown",
   "metadata": {},
   "source": [
    "# Data Cleaning 3: Correcting Entity Spans (short)\n",
    "\n",
    "Search for tokens to the left and right of a tagged person that appear in the entity list and the name lists and have not been tagged as entities. We can import the spacy docs, each token should have an entity tag = 0. "
   ]
  },
  {
   "cell_type": "code",
   "execution_count": 1,
   "metadata": {},
   "outputs": [],
   "source": [
    "from IPython.display import clear_output\n",
    "import spacy\n",
    "from spacy import displacy\n",
    "\n",
    "import pickle"
   ]
  },
  {
   "cell_type": "code",
   "execution_count": 6,
   "metadata": {},
   "outputs": [],
   "source": [
    "import pandas as pd"
   ]
  },
  {
   "cell_type": "code",
   "execution_count": 3,
   "metadata": {},
   "outputs": [],
   "source": [
    "file = open(\"Files_Cleaning2/NER_data_Cleaned22.p\", 'rb')\n",
    "docs = pickle.load(file)"
   ]
  },
  {
   "cell_type": "markdown",
   "metadata": {},
   "source": [
    "Let's import the file with the list of tokens appearing in our 3 lists, manually checked for dubious options, and filter those out. "
   ]
  },
  {
   "cell_type": "code",
   "execution_count": 81,
   "metadata": {},
   "outputs": [],
   "source": [
    "names = pd.read_excel(\"Files_Cleaning2/EntityTokensinKFLNamelists_manual_check.xlsx\")"
   ]
  },
  {
   "cell_type": "code",
   "execution_count": 82,
   "metadata": {},
   "outputs": [
    {
     "data": {
      "text/html": [
       "<div>\n",
       "<style scoped>\n",
       "    .dataframe tbody tr th:only-of-type {\n",
       "        vertical-align: middle;\n",
       "    }\n",
       "\n",
       "    .dataframe tbody tr th {\n",
       "        vertical-align: top;\n",
       "    }\n",
       "\n",
       "    .dataframe thead th {\n",
       "        text-align: right;\n",
       "    }\n",
       "</style>\n",
       "<table border=\"1\" class=\"dataframe\">\n",
       "  <thead>\n",
       "    <tr style=\"text-align: right;\">\n",
       "      <th></th>\n",
       "      <th>token</th>\n",
       "      <th>check</th>\n",
       "    </tr>\n",
       "  </thead>\n",
       "  <tbody>\n",
       "    <tr>\n",
       "      <th>0</th>\n",
       "      <td>guejar</td>\n",
       "      <td>NaN</td>\n",
       "    </tr>\n",
       "    <tr>\n",
       "      <th>1</th>\n",
       "      <td>belmonte</td>\n",
       "      <td>NaN</td>\n",
       "    </tr>\n",
       "    <tr>\n",
       "      <th>2</th>\n",
       "      <td>gatica</td>\n",
       "      <td>NaN</td>\n",
       "    </tr>\n",
       "    <tr>\n",
       "      <th>3</th>\n",
       "      <td>moyna</td>\n",
       "      <td>NaN</td>\n",
       "    </tr>\n",
       "    <tr>\n",
       "      <th>4</th>\n",
       "      <td>r</td>\n",
       "      <td>1.0</td>\n",
       "    </tr>\n",
       "  </tbody>\n",
       "</table>\n",
       "</div>"
      ],
      "text/plain": [
       "      token  check\n",
       "0    guejar    NaN\n",
       "1  belmonte    NaN\n",
       "2    gatica    NaN\n",
       "3     moyna    NaN\n",
       "4         r    1.0"
      ]
     },
     "execution_count": 82,
     "metadata": {},
     "output_type": "execute_result"
    }
   ],
   "source": [
    "names.head()"
   ]
  },
  {
   "cell_type": "code",
   "execution_count": 83,
   "metadata": {},
   "outputs": [],
   "source": [
    "acceptednames = names.loc[names['check']!=1,'token'].tolist()"
   ]
  },
  {
   "cell_type": "code",
   "execution_count": 85,
   "metadata": {},
   "outputs": [],
   "source": [
    "acceptednames = list(set(acceptednames))"
   ]
  },
  {
   "cell_type": "code",
   "execution_count": 86,
   "metadata": {},
   "outputs": [
    {
     "data": {
      "text/plain": [
       "1617"
      ]
     },
     "execution_count": 86,
     "metadata": {},
     "output_type": "execute_result"
    }
   ],
   "source": [
    "len(acceptednames)"
   ]
  },
  {
   "cell_type": "markdown",
   "metadata": {},
   "source": [
    "We can also add tokens from our name lists that did not appear in our tagged tokens, but might be elsewhere in the documents."
   ]
  },
  {
   "cell_type": "code",
   "execution_count": 118,
   "metadata": {},
   "outputs": [],
   "source": [
    "fnames = open(\"DBE_Names/firstnames.txt\", 'r')\n",
    "lnames = open(\"DBE_Names/lastnames.txt\",'r')"
   ]
  },
  {
   "cell_type": "code",
   "execution_count": 119,
   "metadata": {},
   "outputs": [],
   "source": [
    "DBEnames = []\n",
    "\n",
    "for line in fnames:\n",
    "    DBEnames.append(line.rstrip('\\n'))\n",
    "    \n",
    "for line in lnames:\n",
    "    DBEnames.append(line.rstrip('\\n'))"
   ]
  },
  {
   "cell_type": "code",
   "execution_count": 120,
   "metadata": {},
   "outputs": [],
   "source": [
    "DBEnames = set(DBEnames)"
   ]
  },
  {
   "cell_type": "code",
   "execution_count": 179,
   "metadata": {},
   "outputs": [
    {
     "data": {
      "text/plain": [
       "10004"
      ]
     },
     "execution_count": 179,
     "metadata": {},
     "output_type": "execute_result"
    }
   ],
   "source": [
    "len(DBEnames)"
   ]
  },
  {
   "cell_type": "markdown",
   "metadata": {},
   "source": [
    "Iterating through the rows, we found some tokens that are not necessary in these lists. We'll remove them:\n",
    "maestro\n",
    "licenciado\n",
    "bachiller\n",
    "maestre\n",
    "fray\n",
    "nombre\n",
    "jurado\n",
    "notario\n",
    "vicario\n",
    "mercader\n",
    "escribano"
   ]
  },
  {
   "cell_type": "code",
   "execution_count": 211,
   "metadata": {},
   "outputs": [
    {
     "data": {
      "text/plain": [
       "True"
      ]
     },
     "execution_count": 211,
     "metadata": {},
     "output_type": "execute_result"
    }
   ],
   "source": [
    "'maestro' in DBEnames"
   ]
  },
  {
   "cell_type": "code",
   "execution_count": 212,
   "metadata": {},
   "outputs": [
    {
     "data": {
      "text/plain": [
       "True"
      ]
     },
     "execution_count": 212,
     "metadata": {},
     "output_type": "execute_result"
    }
   ],
   "source": [
    "'licenciado' in DBEnames"
   ]
  },
  {
   "cell_type": "code",
   "execution_count": 213,
   "metadata": {},
   "outputs": [
    {
     "data": {
      "text/plain": [
       "True"
      ]
     },
     "execution_count": 213,
     "metadata": {},
     "output_type": "execute_result"
    }
   ],
   "source": [
    "'bachiller' in DBEnames"
   ]
  },
  {
   "cell_type": "code",
   "execution_count": 244,
   "metadata": {},
   "outputs": [
    {
     "data": {
      "text/plain": [
       "True"
      ]
     },
     "execution_count": 244,
     "metadata": {},
     "output_type": "execute_result"
    }
   ],
   "source": [
    "'maestre' in DBEnames"
   ]
  },
  {
   "cell_type": "code",
   "execution_count": 245,
   "metadata": {},
   "outputs": [
    {
     "data": {
      "text/plain": [
       "True"
      ]
     },
     "execution_count": 245,
     "metadata": {},
     "output_type": "execute_result"
    }
   ],
   "source": [
    "'fray' in DBEnames"
   ]
  },
  {
   "cell_type": "code",
   "execution_count": 246,
   "metadata": {},
   "outputs": [
    {
     "data": {
      "text/plain": [
       "True"
      ]
     },
     "execution_count": 246,
     "metadata": {},
     "output_type": "execute_result"
    }
   ],
   "source": [
    "'nombre' in DBEnames"
   ]
  },
  {
   "cell_type": "code",
   "execution_count": 247,
   "metadata": {},
   "outputs": [
    {
     "data": {
      "text/plain": [
       "True"
      ]
     },
     "execution_count": 247,
     "metadata": {},
     "output_type": "execute_result"
    }
   ],
   "source": [
    "'jurado' in DBEnames"
   ]
  },
  {
   "cell_type": "code",
   "execution_count": 248,
   "metadata": {},
   "outputs": [
    {
     "data": {
      "text/plain": [
       "True"
      ]
     },
     "execution_count": 248,
     "metadata": {},
     "output_type": "execute_result"
    }
   ],
   "source": [
    "'notario' in DBEnames"
   ]
  },
  {
   "cell_type": "code",
   "execution_count": 249,
   "metadata": {},
   "outputs": [
    {
     "data": {
      "text/plain": [
       "True"
      ]
     },
     "execution_count": 249,
     "metadata": {},
     "output_type": "execute_result"
    }
   ],
   "source": [
    "'vicario' in DBEnames"
   ]
  },
  {
   "cell_type": "code",
   "execution_count": 250,
   "metadata": {},
   "outputs": [
    {
     "data": {
      "text/plain": [
       "True"
      ]
     },
     "execution_count": 250,
     "metadata": {},
     "output_type": "execute_result"
    }
   ],
   "source": [
    "'mercader' in DBEnames"
   ]
  },
  {
   "cell_type": "code",
   "execution_count": 282,
   "metadata": {},
   "outputs": [
    {
     "data": {
      "text/plain": [
       "True"
      ]
     },
     "execution_count": 282,
     "metadata": {},
     "output_type": "execute_result"
    }
   ],
   "source": [
    "'escribano' in DBEnames"
   ]
  },
  {
   "cell_type": "code",
   "execution_count": 178,
   "metadata": {},
   "outputs": [],
   "source": [
    "DBEnames.remove('maestro')"
   ]
  },
  {
   "cell_type": "code",
   "execution_count": 214,
   "metadata": {},
   "outputs": [],
   "source": [
    "DBEnames.remove('licenciado')\n",
    "DBEnames.remove('bachiller')"
   ]
  },
  {
   "cell_type": "code",
   "execution_count": 251,
   "metadata": {},
   "outputs": [],
   "source": [
    "DBEnames.remove('maestre')\n",
    "DBEnames.remove('fray')\n",
    "DBEnames.remove('nombre')\n",
    "DBEnames.remove('jurado')\n",
    "DBEnames.remove('notario')\n",
    "DBEnames.remove('vicario')\n",
    "DBEnames.remove('mercader')"
   ]
  },
  {
   "cell_type": "code",
   "execution_count": 283,
   "metadata": {},
   "outputs": [],
   "source": [
    "DBEnames.remove('escribano')"
   ]
  },
  {
   "cell_type": "markdown",
   "metadata": {},
   "source": [
    "Let's look at the tokens that appear in the DBE list but do not form part of any entity (token.ent_iob is 2). "
   ]
  },
  {
   "cell_type": "code",
   "execution_count": 284,
   "metadata": {},
   "outputs": [],
   "source": [
    "untagged = []\n",
    "for doc,context in docs:\n",
    "    for token in doc:\n",
    "        if (token.ent_iob==2) and ((token.text.lower() in DBEnames)):\n",
    "            untagged.append(token.text)"
   ]
  },
  {
   "cell_type": "code",
   "execution_count": 285,
   "metadata": {},
   "outputs": [
    {
     "data": {
      "text/plain": [
       "79780"
      ]
     },
     "execution_count": 285,
     "metadata": {},
     "output_type": "execute_result"
    }
   ],
   "source": [
    "len(untagged)"
   ]
  },
  {
   "cell_type": "code",
   "execution_count": 286,
   "metadata": {},
   "outputs": [
    {
     "name": "stdout",
     "output_type": "stream",
     "text": [
      "{'plano', 'marques', 'matos', 'pontones', 'pradilla', 'Gallego', 'benito', 'pascual', 'jesus', 'vela', 'isla', 'ferran', 'Sevillano', 'farfan', 'fregenal', 'poyo', 'gabriel', 'santaren', 'Redondo', 'Rafael', 'Encarnacion', 'acosta', 'bellon', 'rincon', 'maldonado', 'porto', 'Ruis', 'moneda', 'portillo', 'jusepe', 'red', 'costas', 'verdes', 'Panes', 'Ovejas', 'arias', 'costa', 'trinidad', 'ARTEAGA', 'cid', 'la', 'morillo', 'pinelo', 'caula', 'page', 'faber', 'olivar', 'moran', 'carbon', 'Alvarez', 'barca', 'pio', 'fita', 'Jacinto', 'sea', 'cabeza', 'Esquivel', 'domingo', 'marco', 'Rio', 'tomasa', 'abarca', 'sacristan', 'von', 'argote', 'gradilla', 'ana', 'cortes', 'leandro', 'beata', 'melgarejo', 'cantillo', 'mina', 'ines', 'serafin', 'armas', 'encalada', 'sebil', 'Cosme', 'aguilar', 'prieto', 'machuca', 'cajes', 'Guardia', 'Segunda', 'brabante', 'aceites', 'Guillermo', 'ayala', 'vermondo', 'alcayde', 'Abad', 'cesare', 'Castañeda', 'Romana', 'Torres', 'Portugal', 'corona', 'arostegui', 'pico', 'oliva', 'marfil', 'salvo', 'casillas', 'LUCAS', 'perlas', 'texedor', 'Figueroa', 'flores', 'Sala', 'Villanueva', 'plana', 'mayoral', 'Sebastian', 'Hospital', 'Dios', 'peña', 'picado', 'joven', 'Cabezas', 'caldera', 'daban', 'bejar', 'honorio', 'salas', 'Piscina', 'justo', 'Vermondo', 'cameros', 'reyes', 'LEAL', 'bueno', 'aso', 'bailo', 'cuevas', 'Alameda', 'camino', 'PLATA', 'victoria', 'Nueva', 'alderete', 'mendes', 'prudencio', 'maria', 'Luisa', 'ceron', 'gozar', 'cabello', 'Oviedo', 'Mar', 'coto', 'JUAN', 'testera', 'pagan', 'bello', 'camacho', 'matis', 'flandes', 'tornos', 'garnica', 'Cristobal', 'portugues', 'becerra', 'olalla', 'gines', 'cazalla', 'porras', 'ribera', 'coco', 'van', 'lista', 'aguirre', 'Moro', 'azuaga', 'angela', 'corta', 'pulgar', 'nueva', 'bravo', 'cano', 'peñas', 'rico', 'polo', 'chica', 'oleo', 'Sacramento', 'Pimentel', 'geronimo', 'pardo', 'enjuta', 'marchena', 'jose', 'manera', 'vida', 'Solano', 'minjares', 'tercero', 'Vicenta', 'rueda', 'pares', 'hazen', 'Liñan', 'pared', 'Quinto', 'Niño', 'puente', 'Corte', 'elias', 'Ledesma', 'pison', 'calabazas', 'Aguirre', 'olivares', 'aguas', 'fernandez', 'toma', 'espiritu', 'jacome', 'carlos', 'pereira', 'mira', 'igual', 'Martin', 'contreras', 'angel', 'Primo', 'lana', 'Junta', 'armengol', 'peres', 'concepcion', 'Vitoria', 'cordon', 'lossa', 'Pablo', 'aspas', 'manco', 'pareja', 'jardin', 'sese', 'cuesta', 'campos', 'Leal', 'techo', 'recalde', 'romana', 'Apostol', 'Moises', 'Letamendi', 'pan', 'cean', 'Paez', 'maximiliano', 'Remedios', 'castellanos', 'oliba', 'Vuelta', 'lerma', 'Jordan', 'iglesia', 'arenas', 'ortega', 'olmos', 'Carranza', 'dueñas', 'sales', 'barbero', 'orta', 'Corpus', 'allende', 'Enriquez', 'pato', 'amparo', 'caso', 'Cortes', 'arteaga', 'crespo', 'Carta', 'michel', 'ropero', 'enzinas', 'Reyes', 'Lorenzo', 'Catalina', 'mal', 'linaje', 'Pedro', 'ballestero', 'aleman', 'solar', 'restan', 'Vega', 'Alberto', 'santiago', 'Batista', 'Vida', 'lara', 'rosa', 'llorente', 'Cristo', 'viñas', 'barbara', 'jacinto', 'hipolito', 'talon', 'hospital', 'reyna', 'alfonso', 'Guarda', 'aroche', 'gomez', 'Hamete', 'Monesterio', 'nebreda', 'cogolludo', 'girolamo', 'bautista', 'cabezas', 'leonardo', 'Cano', 'Contador', 'abad', 'vides', 'Toma', 'Oliva', 'laguna', 'quadra', 'parrales', 'vaca', 'Villa', 'alonso', 'texada', 'castro', 'cansino', 'Rita', 'Atocha', 'palacios', 'baños', 'Jacome', 'espiga', 'Evangelista', 'Albo', 'carcel', 'coria', 'bodega', 'benitez', 'gil', 'llamas', 'Baptista', 'visitacion', 'Chaves', 'Monteros', 'Segundo', 'buy', 'clara', 'Antonio', 'peinado', 'armero', 'baro', 'paz', 'pacheco', 'Delgado', 'Reyna', 'Carlos', 'mateo', 'simon', 'Real', 'Campofrio', 'granados', 'milan', 'ramos', 'hernando', 'ponce', 'peñafiel', 'Pacheco', 'costales', 'monteagudo', 'campana', 'cuellar', 'Gracia', 'sidonia', 'Antequera', 'herreros', 'bacio', 'carpio', 'antonio', 'horno', 'Pozo', 'Azcona', 'viga', 'salido', 'peru', 'Benito', 'plata', 'figueroa', 'thomas', 'llanas', 'ahumada', 'patricio', 'camara', 'jaspe', 'Regla', 'escaño', 'giron', 'torres', 'remedios', 'escudero', 'bona', 'Rivas', 'barra', 'Onofre', 'ley', 'PERO', 'Dorado', 'Hernan', 'reta', 'cobertores', 'arcangel', 'cumplido', 'juste', 'Pastor', 'Linaje', 'salvador', 'morales', 'berastegui', 'Carmen', 'pavon', 'tomas', 'justa', 'Marina', 'dios', 'monge', 'montano', 'cabra', 'paredes', 'naval', 'segui', 'capillas', 'troyano', 'canales', 'Angel', 'Gutierrez', 'Esteban', 'espino', 'Ana', 'vivas', 'caldero', 'corro', 'freses', 'Guevara', 'fuente', 'asuncion', 'valenzuela', 'toral', 'lopez', 'Niebla', 'Oro', 'iglesias', 'rato', 'alamin', 'riesco', 'custodio', 'escalera', 'Clemencia', 'cuyas', 'Salamanca', 'espadero', 'Vargas', 'Gonzalez', 'canela', 'romano', 'Clara', 'Benedicto', 'millan', 'Amparo', 'bartolome', 'trigo', 'Santiago', 'Angeles', 'nazareno', 'flecha', 'Alvaro', 'Resta', 'obrador', 'torre', 'santana', 'placido', 'monesterio', 'sacramento', 'Lugo', 'Felipa', 'Paulo', 'ybarra', 'pinos', 'Nazareno', 'lucas', 'Cecilia', 'claros', 'Ribera', 'Iglesia', 'reina', 'alta', 'escala', 'conde', 'Isidro', 'Ramos', 'balle', 'Carvajal', 'Joseph', 'Coca', 'baez', 'gallego', 'miguel', 'austria', 'moreno', 'guarda', 'coçar', 'buey', 'almendras', 'rosas', 'vergara', 'Damian', 'Padua', 'sastre', 'Gregorio', 'alva', 'albornoz', 'Ramo', 'toro', 'herrera', 'real', 'subira', 'criado', 'aldonza', 'Daniel', 'salado', 'andino', 'CARTA', 'Mejorada', 'Joachim', 'asturias', 'Musa', 'tamariz', 'sobrado', 'Loyola', 'onofre', 'abello', 'isidro', 'joan', 'petronila', 'tirado', 'Romanos', 'baca', 'redonda', 'casos', 'provecho', 'Bernardo', 'Reina', 'archidona', 'armada', 'Banda', 'Paz', 'juanes', 'barrio', 'fuensalida', 'triana', 'granado', 'blanco', 'solera', 'bernardino', 'estefania', 'clemencia', 'ambrosio', 'Santisteban', 'coronel', 'Coronado', 'bernabe', 'utrera', 'mantilla', 'perfecto', 'quadrado', 'sisa', 'bassa', 'calvo', 'valle', 'Leandro', 'quero', 'seso', 'diez', 'sala', 'marzo', 'Crispin', 'Eliseo', 'deu', 'julio', 'Magdalena', 'ubeda', 'arnao', 'barba', 'flor', 'Maria', 'dorado', 'cuadrado', 'cuentas', 'Cepeda', 'Granda', 'Arenales', 'diamante', 'salgado', 'asta', 'Fuentes', 'corte', 'chinchon', 'sierpe', 'hurtado', 'Anna', 'alamos', 'castillejo', 'arguello', 'Vicente', 'hortigas', 'fernando', 'leonis', 'mañara', 'eliseo', 'carrasco', 'Alfonso', 'Velasco', 'viejo', 'poza', 'leyes', 'caro', 'celda', 'mar', 'Phelipe', 'seva', 'baeza', 'amigo', 'caxon', 'arze', 'sesma', 'raso', 'chico', 'cueva', 'baltasar', 'Luis', 'Rico', 'pero', 'bruno', 'urban', 'paulo', 'cabo', 'Bruno', 'sa', 'socorro', 'virrey', 'corrientes', 'Dos', 'dehesa', 'pastor', 'sanabria', 'Teresa', 'barrera', 'Geronima', 'Obligado', 'cavallero', 'carmen', 'risco', 'patron', 'dos', 'guadalupe', 'leonor', 'amarilla', 'paula', 'pes', 'Yermo', 'Jeronimo', 'catalina', 'fierro', 'guardia', 'menor', 'escriba', 'paño', 'comino', 'montes', 'balbuena', 'cabañas', 'parra', 'porteria', 'molinos', 'villafuerte', 'soto', 'Justa', 'Piedra', 'Ramon', 'bartolomeo', 'osuna', 'caballos', 'pilar', 'albear', 'puerto', 'alexos', 'arellano', 'capuz', 'ginoves', 'junta', 'Bueno', 'cantos', 'orozco', 'bustos', 'Sacre', 'encinas', 'carranza', 'Cabañas', 'ormigon', 'monserrate', 'Laureano', 'cañas', 'Visitacion', 'arco', 'Anunciacion', 'nieves', 'sota', 'montañes', 'Encima', 'ribas', 'carnero', 'Caballero', 'roque', 'Armada', 'francisco', 'Bernardino', 'padua', 'Santisima', 'terreros', 'cordova', 'ortiz', 'muro', 'navajas', 'Lista', 'anda', 'Rojo', 'portero', 'verdugo', 'francisca', 'oreja', 'espejo', 'Romero', 'alli', 'Espina', 'peon', 'vara', 'Sa', 'matas', 'labrador', 'Austria', 'Flecha', 'vallados', 'Plata', 'Bandera', 'cerero', 'serena', 'Juanes', 'salcedo', 'monto', 'carrera', 'mas', 'salinas', 'bargas', 'della', 'marcos', 'sierra', 'hidalgo', 'Santana', 'aguiar', 'casas', 'barrionuevo', 'Pino', 'pulido', 'sobrino', 'alcantara', 'maeda', 'fajardo', 'Salvador', 'anunciacion', 'medina', 'Sea', 'corpus', 'huici', 'romero', 'bermejo', 'padilla', 'jamete', 'castillo', 'Esperanza', 'rea', 'nieto', 'Tome', 'rio', 'Felipe', 'laurel', 'banda', 'hierro', 'lissa', 'Mayor', 'pilares', 'texeda', 'ovejas', 'Paula', 'peral', 'Marcos', 'vega', 'centeno', 'olanda', 'cristiano', 'tallada', 'basta', 'regla', 'Soto', 'ARELLANO', 'teodomiro', 'portal', 'du', 'Cuevas', 'macia', 'tello', 'Palma', 'montesa', 'Morales', 'corrales', 'aguila', 'obligado', 'doblas', 'Alonso', 'hermoso', 'herrero', 'falcon', 'farina', 'artes', 'dallo', 'sillero', 'espada', 'lorenzo', 'gorriti', 'elena', 'magdalena', 'duro', 'balduque', 'tablada', 'bocanegra', 'Jesus', 'duran', 'coronado', 'casco', 'caxa', 'candelaria', 'cuero', 'acha', 'Gales', 'casta', 'Campo', 'Rosas', 'quadros', 'Casas', 'Cabeza', 'rebolledo', 'espina', 'Pero', 'Bautista', 'vargas', 'buenaventura', 'armando', 'josef', 'alameda', 'pazos', 'prado', 'bernardo', 'gala', 'Monte', 'quintero', 'Concepcion', 'villarrubia', 'La', 'bes', 'Valle', 'magaña', 'juan', 'pecador', 'felice', 'fraile', 'solares', 'rubio', 'Monserrat', 'napoles', 'molinas', 'escriva', 'marta', 'jesu', 'Olivares', 'Francisco', 'bandera', 'angeles', 'sola', 'Robles', 'yuso', 'anna', 'Nieto', 'cadena', 'linage', 'CAMPO', 'Domingo', 'beato', 'Puerta', 'resta', 'Custodio', 'casado', 'angulo', 'canal', 'Henrique', 'panes', 'xavier', 'rosado', 'Artes', 'Vieja', 'vicente', 'Hombre', 'lebrija', 'hamete', 'monasterio', 'melchior', 'Javier', 'franscisco', 'alas', 'Margarita', 'apostol', 'Manzanos', 'Ronda', 'calafate', 'garcia', 'topa', 'calero', 'Borja', 'phelipe', 'peñaranda', 'quiñones', 'Cid', 'MURILLO', 'hoz', 'busto', 'verano', 'paterna', 'cotan', 'Trinidad', 'cordero', 'Lechuga', 'lis', 'lindo', 'ramo', 'vicuña', 'portales', 'palma', 'Gallo', 'piñon', 'haya', 'Gabriel', 'Cantero', 'puebla', 'marca', 'ferrero', 'Catarina', 'treviño', 'cosa', 'peco', 'pinto', 'luna', 'francos', 'segura', 'tizon', 'frutos', 'esperanza', 'chamorro', 'gregorio', 'teresa', 'verdad', 'Sas', 'toscano', 'ursula', 'saco', 'isabel', 'moron', 'torquemada', 'Gato', 'crisostomo', 'feria', 'jerez', 'Viejo', 'quinto', 'Rodriguez', 'blancas', 'redondo', 'Flores', 'hermenegildo', 'montesdoca', 'mesas', 'piedras', 'oro', 'Ignacio', 'batista', 'Mayo', 'alos', 'Flandes', 'muros', 'margarita', 'gonçalo', 'luis', 'tejada', 'lucia', 'santillan', 'purificacion', 'fuerte', 'Castillo', 'abreu', 'mathe', 'eminente', 'mor', 'Mesa', 'valor', 'matheo', 'Clemente', 'Josef', 'balmazeda', 'ayllon', 'jorge', 'malo', 'delgado', 'Preciado', 'sas', 'fusta', 'clavijo', 'factor', 'Agreda', 'laso', 'robledo', 'Justiniano', 'moya', 'izquierdo', 'palomares', 'nicolas', 'antequera', 'Conde', 'anejo', 'gavilan', 'Leyes', 'riba', 'Salazar', 'posada', 'martel', 'cesar', 'alberto', 'baga', 'bote', 'huerta', 'mariana', 'mayor', 'seneca', 'foi', 'grado', 'canto', 'hoyos', 'baltazar', 'negro', 'Juan', 'bolos', 'liñan', 'cuerda', 'bela', 'rasa', 'llave', 'terrero', 'estupiñan', 'ros', 'anton', 'guerra', 'puerta', 'montagudo', 'ramales', 'castaño', 'caño', 'Baños', 'diego', 'clemente', 'per', 'mesa', 'Vela', 'beatriz', 'chantre', 'Andres', 'Pan', 'Piedad', 'agustin', 'polonia', 'mercedes', 'baustista', 'Malagon', 'corral', 'MORENO', 'linaza', 'Lucas', 'santisima', 'Peña', 'andres', 'cedo', 'dolores', 'pere', 'capa', 'verde', 'ventura', 'Fuente', 'vuelta', 'Jacob', 'acuña', 'Medina', 'gato', 'boquete', 'amador', 'jordan', 'luisa', 'alcoba', 'angelo', 'milanes', 'rua', 'Mariana', 'Holgado', 'amor', 'piedra', 'mozo', 'cancela', 'Pinos', 'castañeda', 'caja', 'parada', 'andrea', 'FRANCISCO', 'bacas', 'Cuentas', 'Marques', 'Jacobo', 'Mas', 'suarez', 'vieja', 'ribadeneira', 'Busto', 'vizcaino', 'carta', 'Diego', 'fuentes', 'varas', 'baranda', 'rodrigo', 'damas', 'marina', 'muñecas', 'nuñez', 'franco', 'aras', 'estrada', 'moli', 'Rodrigues', 'lanas', 'caballeria', 'amado', 'Monasterio', 'postigo', 'do', 'lima', 'apostoles', 'suero', 'Dulce', 'Feria', 'varillas', 'niño', 'Aguilar', 'marroquin', 'leyba', 'castroverde', 'martir', 'Granada', 'Lara', 'naves', 'dato', 'Redonda', 'Perez', 'Aldana', 'trigueros', 'Avila', 'junco', 'cardenas', 'sayas', 'gragera', 'pita', 'palos', 'cantera', 'consolacion', 'rozas', 'lazaro', 'guevara', 'tornero', 'tosca', 'concha', 'cristo', 'cabrera', 'evangelista', 'maeso', 'Espada', 'moguer', 'coll', 'carro', 'vandera', 'Cuesta', 'poma', 'ladron', 'atanasio', 'parado', 'vea', 'serrano', 'sotomayor', 'dominico', 'Capilla', 'leal', 'Espinosa', 'leon', 'meneses', 'plaza', 'Concha', 'dionisio', 'Saeta', 'navas', 'Diaz', 'alamo', 'Ribas', 'Chacon', 'granada', 'gusta', 'geronima', 'tejero', 'portes', 'joseph', 'matias', 'Costa', 'montaña', 'josep', 'baso', 'David', 'guzman', 'heredia', 'pazo', 'cortina', 'encima', 'cortada', 'moldes', 'espinosa', 'Aguas', 'novia', 'Jose', 'rosario', 'vico', 'felipe', 'Hermosa', 'correa', 'arcos', 'molina', 'casto', 'hoyo', 'Rosario', 'Francia', 'fanegas', 'losa', 'Caballos', 'pedro', 'capaz', 'segunda', 'Julio', 'pozo', 'MORILLO', 'carrero', 'brea', 'Puga', 'loyola', 'mejorada', 'faria', 'blanca', 'tome', 'ruis', 'piedad', 'Polonia', 'Roque', 'llano', 'tienda', 'mayo', 'romanos', 'jara', 'Fernando', 'diaz', 'guerrero', 'marmol', 'barreda', 'ferrer', 'Armas', 'benegas', 'Rivera', 'Casilda', 'chacon', 'serapio', 'duque', 'pedroso', 'Vico', 'buelta', 'cerro', 'cubillana', 'Miguel', 'contador', 'celada', 'toledano', 'FERNANDO', 'Monsalve', 'diz', 'frances', 'Susana', 'Restan', 'Rosa', 'Perea', 'cantero', 'Isabel', 'Puente', 'coma', 'estopiñan', 'monte', 'tadeo', 'Sevilla', 'falconete', 'malagon', 'grande', 'villacastin', 'aquino', 'Caso', 'mercado', 'Carpio', 'Maeda', 'vera', 'perea', 'girona', 'Ruiz', 'madera', 'Barbero', 'talavera', 'bailon', 'dulce', 'santisteban', 'escuderos', 'campo', 'encarnacion', 'Solis', 'halcon', 'estada', 'pimentel', 'remesal', 'calis', 'balanza', 'marino', 'bassas', 'gracia', 'escalada', 'limpias', 'pino', 'escoto', 'vasco', 'hera', 'alba', 'fernandes', 'cañero', 'puertas', 'holanda', 'moros', 'rallo', 'hombre', 'Carcel', 'tristan', 'Abraham', 'luz', 'millares', 'castilla', 'Justicia', 'blas', 'francia', 'Enrique', 'Duque', 'Castillejo', 'pablo', 'GUERRA', 'estrella', 'yañez', 'Cuerda', 'hijas', 'higuera', 'vacas', 'cala', 'Roldan', 'segundo', 'carpintero', 'gallegos', 'barco', 'mora', 'des', 'suelto', 'Francisca', 'alcazar', 'carton', 'palacio', 'moro', 'martin', 'quirino', 'puga', 'justiniano', 'caballero', 'fuertes', 'nolasco', 'adan', 'giraldo', 'castellar', 'vivo', 'villa', 'alexo', 'mancebo', 'conrado', 'damian', 'catalan', 'tapia', 'laurencio', 'linden', 'hernan', 'baptista', 'cerda', 'labrada', 'pasqual', 'fuero', 'Elias', 'bernarda', 'Simon', 'hermosa', 'primo', 'Amor', 'martines', 'arroyo', 'pecado', 'lopes', 'mate', 'justicia', 'Mora', 'hornero', 'capilla', 'cayo', 'demaria', 'llanos', 'carnicero'}\n"
     ]
    }
   ],
   "source": [
    "print(set(untagged))"
   ]
  },
  {
   "cell_type": "code",
   "execution_count": 287,
   "metadata": {},
   "outputs": [
    {
     "data": {
      "text/plain": [
       "1464"
      ]
     },
     "execution_count": 287,
     "metadata": {},
     "output_type": "execute_result"
    }
   ],
   "source": [
    "len(set(untagged))"
   ]
  },
  {
   "cell_type": "markdown",
   "metadata": {},
   "source": [
    "It would be wise to review this list of 1,478 tokens manually to determine which are names for sure and which are dubious. But first, let's see how many of these matches (DBE and acceptednames) happen adjacent to a PER entity (before or after) to see which spans we have to edit."
   ]
  },
  {
   "cell_type": "code",
   "execution_count": 49,
   "metadata": {},
   "outputs": [
    {
     "data": {
      "text/plain": [
       "martin"
      ]
     },
     "execution_count": 49,
     "metadata": {},
     "output_type": "execute_result"
    }
   ],
   "source": [
    "docs[0][0][1]"
   ]
  },
  {
   "cell_type": "markdown",
   "metadata": {},
   "source": [
    "I want a rule that looks in front or behind of a PER entity. If that token is in the name list and is not tagged as an entity, I want it to be appended to our list. If the token is de, el or la (single or plural), I want it to move to the nex token. "
   ]
  },
  {
   "cell_type": "code",
   "execution_count": 288,
   "metadata": {},
   "outputs": [],
   "source": [
    "nexttopers = []\n",
    "for doc,context in docs:\n",
    "    for ent in doc.ents:\n",
    "        if ent.label_=='PER':\n",
    "            try:\n",
    "                i = 1\n",
    "                a = doc[ent.start-i]\n",
    "                while a.text.lower() == 'de' or a.text.lower() =='del' or a.text.lower() == 'la'or a.text == 'el' or a.text == 'los' or a.text == 'las':\n",
    "                    i = i+1\n",
    "                    a = doc[ent.start-i]\n",
    "                if (a.ent_iob==2) and ((a.text.lower() in acceptednames) or (a.text.lower() in DBEnames)):\n",
    "                    nexttopers.append(a.text)\n",
    "            except: \n",
    "                pass\n",
    "            try:\n",
    "                i = 0\n",
    "                b = doc[ent.end+i]\n",
    "                while b.text.lower() == 'de' or b.text.lower() == 'del' or b.text.lower() == 'la'or b.text == 'el' or b.text == 'los' or b.text == 'las':\n",
    "                    i = i+1\n",
    "                    b = doc[ent.end+i]\n",
    "                if (b.ent_iob==2) and ((b.text.lower() in acceptednames)or (b.text.lower() in DBEnames)):\n",
    "                    nexttopers.append(b.text)\n",
    "            except:\n",
    "                pass"
   ]
  },
  {
   "cell_type": "code",
   "execution_count": 289,
   "metadata": {},
   "outputs": [
    {
     "data": {
      "text/plain": [
       "838"
      ]
     },
     "execution_count": 289,
     "metadata": {},
     "output_type": "execute_result"
    }
   ],
   "source": [
    "len(nexttopers)"
   ]
  },
  {
   "cell_type": "code",
   "execution_count": 290,
   "metadata": {},
   "outputs": [
    {
     "data": {
      "text/plain": [
       "251"
      ]
     },
     "execution_count": 290,
     "metadata": {},
     "output_type": "execute_result"
    }
   ],
   "source": [
    "len(set(nexttopers))"
   ]
  },
  {
   "cell_type": "code",
   "execution_count": 291,
   "metadata": {
    "collapsed": true,
    "jupyter": {
     "outputs_hidden": true
    }
   },
   "outputs": [
    {
     "name": "stdout",
     "output_type": "stream",
     "text": [
      "{'della', 'dos', 'maeso', 'mozo', 'hidalgo', 'marques', 'matos', 'clavijo', 'peinado', 'casas', 'barrio', 'caja', 'corro', 'blanco', 'sobrino', 'vida', 'coronel', 'alcantara', 'Fernando', 'jesus', 'hombre', 'Jeronimo', 'catalina', 'menor', 'serrano', 'vea', 'quadrado', 'Pero', 'vargas', 'comino', 'tristan', 'tercero', 'haya', 'ballestero', 'sotomayor', 'Conde', 'Cantero', 'aleman', 'guerrero', 'restan', 'solar', 'Clemencia', 'ferrero', 'farfan', 'espadero', 'quero', 'cosa', 'texedor', 'carta', 'diez', 'pinto', 'fuentes', 'leal', 'Niño', 'Duque', 'juan', 'dias', 'acosta', 'nieto', 'fraile', 'Dios', 'banda', 'maldonado', 'barba', 'Ledesma', 'viñas', 'hijas', 'mayor', 'joven', 'albear', 'alexos', 'chamorro', 'trigo', 'ginoves', 'foi', 'duque', 'Bueno', 'teresa', 'segundo', 'verdad', 'carpintero', 'estrada', 'negro', 'reyna', 'dorado', 'Marcos', 'arias', 'fernandez', 'torre', 'costa', 'contador', 'placido', 'toma', 'torquemada', 'cuentas', 'centeno', 'cid', 'monesterio', 'LEAL', 'bueno', 'toledano', 'jerez', 'aso', 'montañes', 'salgado', 'encima', 'frances', 'Nieto', 'corte', 'moro', 'hurtado', 'Rodriguez', 'camino', 'francisco', 'martin', 'espinosa', 'cogolludo', 'linage', 'puga', 'alderete', 'thomas', 'caballero', 'suero', 'Puerta', 'cantero', 'maria', 'ahumada', 'ceron', 'carrasco', 'moran', 'casado', 'camara', 'viejo', 'conde', 'vico', 'portero', 'caro', 'niño', 'villa', 'giron', 'oro', 'correa', 'gallego', 'chantre', 'coto', 'Sevilla', 'castroverde', 'tello', 'abad', 'sea', 'manco', 'vides', 'pareja', 'cabeza', 'falconete', 'guarda', 'camacho', 'hornero', 'tapia', 'agustin', 'flandes', 'nieta', 'mercado', 'garnica', 'domingo', 'hernan', 'obligado', 'Hernan', 'corral', 'portugues', 'doblas', 'sacristan', 'madera', 'von', 'abarca', 'sastre', 'peon', 'pero', 'Rico', 'hermoso', 'cortes', 'Sa', 'beata', 'melgarejo', 'herrero', 'porras', 'Linaje', 'calafate', 'urban', 'garcia', 'texada', 'labrador', 'andres', 'berastegui', 'segunda', 'armas', 'criado', 'aguirre', 'artes', 'calero', 'campo', 'andino', 'palacios', 'gragera', 'sillero', 'pere', 'cerero', 'iglesia', 'justa', 'sa', 'valor', 'bravo', 'vuelta', 'ortega', 'pastor', 'barbero', 'machuca', 'rico', 'Medina', 'Albo', 'orta', 'tamariz', 'hoz', 'gracia', 'tablada', 'ayala', 'justicia', 'delgado', 'alcayde', 'blanca', 'Abad', 'capilla', 'duran', 'bocanegra', 'tornero', 'tome', 'coronado', 'hera', 'cotan', 'tirado', 'cavallero', 'mas', 'fernandes', 'cañero', 'cordero', 'rua', 'milanes', 'geronimo', 'bargas', 'tienda', 'patron'}\n"
     ]
    }
   ],
   "source": [
    "print(set(nexttopers))"
   ]
  },
  {
   "cell_type": "markdown",
   "metadata": {},
   "source": [
    "According to this rule, 838 modifications could be made, from 251 distinct tokens."
   ]
  },
  {
   "cell_type": "code",
   "execution_count": 260,
   "metadata": {},
   "outputs": [],
   "source": [
    "peopleshort = []\n",
    "\n",
    "for doc,context in docs:\n",
    "    for ent in doc.ents:\n",
    "        if ent.label_=='PER':\n",
    "            try:\n",
    "                i = 1\n",
    "                a = doc[ent.start-i]\n",
    "                while a.text.lower() == 'de' or a.text.lower() =='del' or a.text.lower() == 'la'or a.text.lower() == 'el' or a.text.lower() == 'los' or a.text.lower() == 'las':\n",
    "                    i = i+1\n",
    "                    a = doc[ent.start-i]\n",
    "                if (a.ent_iob==2) and ((a.text.lower() in acceptednames) or (a.text.lower() in DBEnames)):\n",
    "                    h = context['id']\n",
    "                    b = ent.text\n",
    "                    c = ent.start\n",
    "                    d = ent.end\n",
    "                    e = a.i\n",
    "                    f = a.text\n",
    "                    g = ent.label_\n",
    "                    entry = [h, b, c, d, e, f,g]\n",
    "                    peopleshort.append(entry)\n",
    "            except: \n",
    "                pass\n",
    "            try:\n",
    "                i = 0\n",
    "                b = doc[ent.end+i]\n",
    "                while b.text.lower() == 'de' or b.text.lower() == 'del' or b.text.lower() == 'la'or b.text.lower() == 'el' or b.text.lower() == 'los' or b.text.lower() == 'las':\n",
    "                    i = i+1\n",
    "                    b = doc[ent.end+i]\n",
    "                if (b.ent_iob==2) and ((b.text.lower() in acceptednames)or (b.text.lower() in DBEnames)):\n",
    "                    a = context['id']\n",
    "                    h = ent.text\n",
    "                    c = ent.start\n",
    "                    d = ent.end\n",
    "                    e = b.i\n",
    "                    f = b.text\n",
    "                    g=ent.label_\n",
    "                    entry = [a, h, c, d, e, f,g]\n",
    "                    peopleshort.append(entry)\n",
    "            except:\n",
    "                pass"
   ]
  },
  {
   "cell_type": "code",
   "execution_count": 261,
   "metadata": {},
   "outputs": [
    {
     "data": {
      "text/plain": [
       "1154"
      ]
     },
     "execution_count": 261,
     "metadata": {},
     "output_type": "execute_result"
    }
   ],
   "source": [
    "len(peopleshort)"
   ]
  },
  {
   "cell_type": "code",
   "execution_count": 262,
   "metadata": {},
   "outputs": [],
   "source": [
    "peopleshort = pd.DataFrame(peopleshort, columns = ['docid','string','start','end','tokenloc','tokentext','entlabel'])"
   ]
  },
  {
   "cell_type": "code",
   "execution_count": 263,
   "metadata": {},
   "outputs": [
    {
     "data": {
      "text/html": [
       "<div>\n",
       "<style scoped>\n",
       "    .dataframe tbody tr th:only-of-type {\n",
       "        vertical-align: middle;\n",
       "    }\n",
       "\n",
       "    .dataframe tbody tr th {\n",
       "        vertical-align: top;\n",
       "    }\n",
       "\n",
       "    .dataframe thead th {\n",
       "        text-align: right;\n",
       "    }\n",
       "</style>\n",
       "<table border=\"1\" class=\"dataframe\">\n",
       "  <thead>\n",
       "    <tr style=\"text-align: right;\">\n",
       "      <th></th>\n",
       "      <th>docid</th>\n",
       "      <th>string</th>\n",
       "      <th>start</th>\n",
       "      <th>end</th>\n",
       "      <th>tokenloc</th>\n",
       "      <th>tokentext</th>\n",
       "      <th>entlabel</th>\n",
       "    </tr>\n",
       "  </thead>\n",
       "  <tbody>\n",
       "    <tr>\n",
       "      <th>0</th>\n",
       "      <td>50</td>\n",
       "      <td>Cristobal garcia</td>\n",
       "      <td>6</td>\n",
       "      <td>8</td>\n",
       "      <td>8</td>\n",
       "      <td>cantero</td>\n",
       "      <td>PER</td>\n",
       "    </tr>\n",
       "    <tr>\n",
       "      <th>1</th>\n",
       "      <td>56</td>\n",
       "      <td>garcia fustanero</td>\n",
       "      <td>23</td>\n",
       "      <td>25</td>\n",
       "      <td>22</td>\n",
       "      <td>pero</td>\n",
       "      <td>PER</td>\n",
       "    </tr>\n",
       "    <tr>\n",
       "      <th>2</th>\n",
       "      <td>59</td>\n",
       "      <td>Pedro Blascoen</td>\n",
       "      <td>2476</td>\n",
       "      <td>2478</td>\n",
       "      <td>2478</td>\n",
       "      <td>Sevilla</td>\n",
       "      <td>PER</td>\n",
       "    </tr>\n",
       "    <tr>\n",
       "      <th>3</th>\n",
       "      <td>101</td>\n",
       "      <td>nicolas jurate</td>\n",
       "      <td>163</td>\n",
       "      <td>165</td>\n",
       "      <td>165</td>\n",
       "      <td>dos</td>\n",
       "      <td>PER</td>\n",
       "    </tr>\n",
       "    <tr>\n",
       "      <th>4</th>\n",
       "      <td>106</td>\n",
       "      <td>niculao de leon</td>\n",
       "      <td>0</td>\n",
       "      <td>3</td>\n",
       "      <td>3</td>\n",
       "      <td>frances</td>\n",
       "      <td>PER</td>\n",
       "    </tr>\n",
       "  </tbody>\n",
       "</table>\n",
       "</div>"
      ],
      "text/plain": [
       "   docid            string  start   end  tokenloc tokentext entlabel\n",
       "0     50  Cristobal garcia      6     8         8   cantero      PER\n",
       "1     56  garcia fustanero     23    25        22      pero      PER\n",
       "2     59    Pedro Blascoen   2476  2478      2478   Sevilla      PER\n",
       "3    101    nicolas jurate    163   165       165       dos      PER\n",
       "4    106   niculao de leon      0     3         3   frances      PER"
      ]
     },
     "execution_count": 263,
     "metadata": {},
     "output_type": "execute_result"
    }
   ],
   "source": [
    "peopleshort.head()"
   ]
  },
  {
   "cell_type": "code",
   "execution_count": 264,
   "metadata": {},
   "outputs": [],
   "source": [
    "peopleshort['edit_short']=''"
   ]
  },
  {
   "cell_type": "markdown",
   "metadata": {},
   "source": [
    "This should be enough to loop through our labels and edit them, as we did previously in Data Cleaning 2. And the number of tags is small enough that we do not need to filter things out. "
   ]
  },
  {
   "cell_type": "code",
   "execution_count": 292,
   "metadata": {},
   "outputs": [
    {
     "name": "stdout",
     "output_type": "stream",
     "text": [
      "231\n",
      "Marcos de medina 1279 1282\n",
      "Escribano 1282\n"
     ]
    },
    {
     "data": {
      "text/html": [
       "<span class=\"tex2jax_ignore\"><div class=\"entities\" style=\"line-height: 2.5; direction: ltr\">\n",
       "<mark class=\"entity\" style=\"background: #ddd; padding: 0.45em 0.6em; margin: 0 0.25em; line-height: 1; border-radius: 0.35em;\">\n",
       "    Marcos de medina\n",
       "    <span style=\"font-size: 0.8em; font-weight: bold; line-height: 1; border-radius: 0.35em; text-transform: uppercase; vertical-align: middle; margin-left: 0.5rem\">PER</span>\n",
       "</mark>\n",
       " Escribano publico de la dicha villa de \n",
       "<mark class=\"entity\" style=\"background: #ff9561; padding: 0.45em 0.6em; margin: 0 0.25em; line-height: 1; border-radius: 0.35em;\">\n",
       "    Alcala de los\n",
       "    <span style=\"font-size: 0.8em; font-weight: bold; line-height: 1; border-radius: 0.35em; text-transform: uppercase; vertical-align: middle; margin-left: 0.5rem\">LOC</span>\n",
       "</mark>\n",
       " </div></span>"
      ],
      "text/plain": [
       "<IPython.core.display.HTML object>"
      ]
     },
     "metadata": {},
     "output_type": "display_data"
    },
    {
     "ename": "KeyboardInterrupt",
     "evalue": "",
     "output_type": "error",
     "traceback": [
      "\u001b[0;31m---------------------------------------------------------------------------\u001b[0m",
      "\u001b[0;31mKeyboardInterrupt\u001b[0m                         Traceback (most recent call last)",
      "\u001b[0;32m~/opt/anaconda3/lib/python3.7/site-packages/ipykernel/kernelbase.py\u001b[0m in \u001b[0;36m_input_request\u001b[0;34m(self, prompt, ident, parent, password)\u001b[0m\n\u001b[1;32m    883\u001b[0m             \u001b[0;32mtry\u001b[0m\u001b[0;34m:\u001b[0m\u001b[0;34m\u001b[0m\u001b[0;34m\u001b[0m\u001b[0m\n\u001b[0;32m--> 884\u001b[0;31m                 \u001b[0mident\u001b[0m\u001b[0;34m,\u001b[0m \u001b[0mreply\u001b[0m \u001b[0;34m=\u001b[0m \u001b[0mself\u001b[0m\u001b[0;34m.\u001b[0m\u001b[0msession\u001b[0m\u001b[0;34m.\u001b[0m\u001b[0mrecv\u001b[0m\u001b[0;34m(\u001b[0m\u001b[0mself\u001b[0m\u001b[0;34m.\u001b[0m\u001b[0mstdin_socket\u001b[0m\u001b[0;34m,\u001b[0m \u001b[0;36m0\u001b[0m\u001b[0;34m)\u001b[0m\u001b[0;34m\u001b[0m\u001b[0;34m\u001b[0m\u001b[0m\n\u001b[0m\u001b[1;32m    885\u001b[0m             \u001b[0;32mexcept\u001b[0m \u001b[0mException\u001b[0m\u001b[0;34m:\u001b[0m\u001b[0;34m\u001b[0m\u001b[0;34m\u001b[0m\u001b[0m\n",
      "\u001b[0;32m~/opt/anaconda3/lib/python3.7/site-packages/jupyter_client/session.py\u001b[0m in \u001b[0;36mrecv\u001b[0;34m(self, socket, mode, content, copy)\u001b[0m\n\u001b[1;32m    802\u001b[0m         \u001b[0;32mtry\u001b[0m\u001b[0;34m:\u001b[0m\u001b[0;34m\u001b[0m\u001b[0;34m\u001b[0m\u001b[0m\n\u001b[0;32m--> 803\u001b[0;31m             \u001b[0mmsg_list\u001b[0m \u001b[0;34m=\u001b[0m \u001b[0msocket\u001b[0m\u001b[0;34m.\u001b[0m\u001b[0mrecv_multipart\u001b[0m\u001b[0;34m(\u001b[0m\u001b[0mmode\u001b[0m\u001b[0;34m,\u001b[0m \u001b[0mcopy\u001b[0m\u001b[0;34m=\u001b[0m\u001b[0mcopy\u001b[0m\u001b[0;34m)\u001b[0m\u001b[0;34m\u001b[0m\u001b[0;34m\u001b[0m\u001b[0m\n\u001b[0m\u001b[1;32m    804\u001b[0m         \u001b[0;32mexcept\u001b[0m \u001b[0mzmq\u001b[0m\u001b[0;34m.\u001b[0m\u001b[0mZMQError\u001b[0m \u001b[0;32mas\u001b[0m \u001b[0me\u001b[0m\u001b[0;34m:\u001b[0m\u001b[0;34m\u001b[0m\u001b[0;34m\u001b[0m\u001b[0m\n",
      "\u001b[0;32m~/opt/anaconda3/lib/python3.7/site-packages/zmq/sugar/socket.py\u001b[0m in \u001b[0;36mrecv_multipart\u001b[0;34m(self, flags, copy, track)\u001b[0m\n\u001b[1;32m    474\u001b[0m         \"\"\"\n\u001b[0;32m--> 475\u001b[0;31m         \u001b[0mparts\u001b[0m \u001b[0;34m=\u001b[0m \u001b[0;34m[\u001b[0m\u001b[0mself\u001b[0m\u001b[0;34m.\u001b[0m\u001b[0mrecv\u001b[0m\u001b[0;34m(\u001b[0m\u001b[0mflags\u001b[0m\u001b[0;34m,\u001b[0m \u001b[0mcopy\u001b[0m\u001b[0;34m=\u001b[0m\u001b[0mcopy\u001b[0m\u001b[0;34m,\u001b[0m \u001b[0mtrack\u001b[0m\u001b[0;34m=\u001b[0m\u001b[0mtrack\u001b[0m\u001b[0;34m)\u001b[0m\u001b[0;34m]\u001b[0m\u001b[0;34m\u001b[0m\u001b[0;34m\u001b[0m\u001b[0m\n\u001b[0m\u001b[1;32m    476\u001b[0m         \u001b[0;31m# have first part already, only loop while more to receive\u001b[0m\u001b[0;34m\u001b[0m\u001b[0;34m\u001b[0m\u001b[0;34m\u001b[0m\u001b[0m\n",
      "\u001b[0;32mzmq/backend/cython/socket.pyx\u001b[0m in \u001b[0;36mzmq.backend.cython.socket.Socket.recv\u001b[0;34m()\u001b[0m\n",
      "\u001b[0;32mzmq/backend/cython/socket.pyx\u001b[0m in \u001b[0;36mzmq.backend.cython.socket.Socket.recv\u001b[0;34m()\u001b[0m\n",
      "\u001b[0;32mzmq/backend/cython/socket.pyx\u001b[0m in \u001b[0;36mzmq.backend.cython.socket._recv_copy\u001b[0;34m()\u001b[0m\n",
      "\u001b[0;32m~/opt/anaconda3/lib/python3.7/site-packages/zmq/backend/cython/checkrc.pxd\u001b[0m in \u001b[0;36mzmq.backend.cython.checkrc._check_rc\u001b[0;34m()\u001b[0m\n",
      "\u001b[0;31mKeyboardInterrupt\u001b[0m: ",
      "\nDuring handling of the above exception, another exception occurred:\n",
      "\u001b[0;31mKeyboardInterrupt\u001b[0m                         Traceback (most recent call last)",
      "\u001b[0;32m<ipython-input-292-147a0737aac2>\u001b[0m in \u001b[0;36m<module>\u001b[0;34m\u001b[0m\n\u001b[1;32m     13\u001b[0m             \u001b[0;32mif\u001b[0m \u001b[0mdoc\u001b[0m\u001b[0;34m[\u001b[0m\u001b[0;36m1\u001b[0m\u001b[0;34m]\u001b[0m\u001b[0;34m[\u001b[0m\u001b[0;34m'id'\u001b[0m\u001b[0;34m]\u001b[0m \u001b[0;34m==\u001b[0m \u001b[0mdocid\u001b[0m\u001b[0;34m:\u001b[0m\u001b[0;34m\u001b[0m\u001b[0;34m\u001b[0m\u001b[0m\n\u001b[1;32m     14\u001b[0m                 \u001b[0mdisplacy\u001b[0m\u001b[0;34m.\u001b[0m\u001b[0mrender\u001b[0m\u001b[0;34m(\u001b[0m\u001b[0mdoc\u001b[0m\u001b[0;34m[\u001b[0m\u001b[0;36m0\u001b[0m\u001b[0;34m]\u001b[0m\u001b[0;34m[\u001b[0m\u001b[0mstrstart\u001b[0m\u001b[0;34m:\u001b[0m\u001b[0mstrend\u001b[0m\u001b[0;34m]\u001b[0m\u001b[0;34m,\u001b[0m\u001b[0mstyle\u001b[0m\u001b[0;34m=\u001b[0m\u001b[0;34m'ent'\u001b[0m\u001b[0;34m,\u001b[0m\u001b[0mjupyter\u001b[0m\u001b[0;34m=\u001b[0m\u001b[0;32mTrue\u001b[0m\u001b[0;34m)\u001b[0m\u001b[0;34m\u001b[0m\u001b[0;34m\u001b[0m\u001b[0m\n\u001b[0;32m---> 15\u001b[0;31m                 \u001b[0mpeopleshort\u001b[0m\u001b[0;34m.\u001b[0m\u001b[0mloc\u001b[0m\u001b[0;34m[\u001b[0m\u001b[0mindex\u001b[0m\u001b[0;34m,\u001b[0m \u001b[0;34m'edit_short'\u001b[0m\u001b[0;34m]\u001b[0m\u001b[0;34m=\u001b[0m\u001b[0minput\u001b[0m\u001b[0;34m(\u001b[0m\u001b[0;34m'Edit?'\u001b[0m\u001b[0;34m)\u001b[0m\u001b[0;34m\u001b[0m\u001b[0;34m\u001b[0m\u001b[0m\n\u001b[0m\u001b[1;32m     16\u001b[0m \u001b[0;34m\u001b[0m\u001b[0m\n\u001b[1;32m     17\u001b[0m                 \u001b[0;32mif\u001b[0m \u001b[0mpeopleshort\u001b[0m\u001b[0;34m.\u001b[0m\u001b[0mloc\u001b[0m\u001b[0;34m[\u001b[0m\u001b[0mindex\u001b[0m\u001b[0;34m,\u001b[0m \u001b[0;34m'edit_short'\u001b[0m\u001b[0;34m]\u001b[0m\u001b[0;34m==\u001b[0m\u001b[0;34m'X'\u001b[0m\u001b[0;34m:\u001b[0m\u001b[0;34m\u001b[0m\u001b[0;34m\u001b[0m\u001b[0m\n",
      "\u001b[0;32m~/opt/anaconda3/lib/python3.7/site-packages/ipykernel/kernelbase.py\u001b[0m in \u001b[0;36mraw_input\u001b[0;34m(self, prompt)\u001b[0m\n\u001b[1;32m    857\u001b[0m             \u001b[0mself\u001b[0m\u001b[0;34m.\u001b[0m\u001b[0m_parent_ident\u001b[0m\u001b[0;34m,\u001b[0m\u001b[0;34m\u001b[0m\u001b[0;34m\u001b[0m\u001b[0m\n\u001b[1;32m    858\u001b[0m             \u001b[0mself\u001b[0m\u001b[0;34m.\u001b[0m\u001b[0m_parent_header\u001b[0m\u001b[0;34m,\u001b[0m\u001b[0;34m\u001b[0m\u001b[0;34m\u001b[0m\u001b[0m\n\u001b[0;32m--> 859\u001b[0;31m             \u001b[0mpassword\u001b[0m\u001b[0;34m=\u001b[0m\u001b[0;32mFalse\u001b[0m\u001b[0;34m,\u001b[0m\u001b[0;34m\u001b[0m\u001b[0;34m\u001b[0m\u001b[0m\n\u001b[0m\u001b[1;32m    860\u001b[0m         )\n\u001b[1;32m    861\u001b[0m \u001b[0;34m\u001b[0m\u001b[0m\n",
      "\u001b[0;32m~/opt/anaconda3/lib/python3.7/site-packages/ipykernel/kernelbase.py\u001b[0m in \u001b[0;36m_input_request\u001b[0;34m(self, prompt, ident, parent, password)\u001b[0m\n\u001b[1;32m    887\u001b[0m             \u001b[0;32mexcept\u001b[0m \u001b[0mKeyboardInterrupt\u001b[0m\u001b[0;34m:\u001b[0m\u001b[0;34m\u001b[0m\u001b[0;34m\u001b[0m\u001b[0m\n\u001b[1;32m    888\u001b[0m                 \u001b[0;31m# re-raise KeyboardInterrupt, to truncate traceback\u001b[0m\u001b[0;34m\u001b[0m\u001b[0;34m\u001b[0m\u001b[0;34m\u001b[0m\u001b[0m\n\u001b[0;32m--> 889\u001b[0;31m                 \u001b[0;32mraise\u001b[0m \u001b[0mKeyboardInterrupt\u001b[0m\u001b[0;34m\u001b[0m\u001b[0;34m\u001b[0m\u001b[0m\n\u001b[0m\u001b[1;32m    890\u001b[0m             \u001b[0;32melse\u001b[0m\u001b[0;34m:\u001b[0m\u001b[0;34m\u001b[0m\u001b[0;34m\u001b[0m\u001b[0m\n\u001b[1;32m    891\u001b[0m                 \u001b[0;32mbreak\u001b[0m\u001b[0;34m\u001b[0m\u001b[0;34m\u001b[0m\u001b[0m\n",
      "\u001b[0;31mKeyboardInterrupt\u001b[0m: "
     ]
    }
   ],
   "source": [
    "count = 0\n",
    "for (index, row) in peopleshort.iterrows():\n",
    "    if row['edit_short']=='':\n",
    "        count=count+1\n",
    "        print(count)\n",
    "        print(row['string'],row['start'],row['end'])\n",
    "        print(row['tokentext'], row['tokenloc'])\n",
    "        docid = row['docid']\n",
    "        strstart = min([int(row['start']), int(row['tokenloc'])])\n",
    "        strend = max([int(row['end']), int(row['tokenloc'])]) + 10\n",
    "        \n",
    "        for doc in docs:\n",
    "            if doc[1]['id'] == docid:      \n",
    "                displacy.render(doc[0][strstart:strend],style='ent',jupyter=True)\n",
    "                peopleshort.loc[index, 'edit_short']=input('Edit?')\n",
    "                \n",
    "                if peopleshort.loc[index, 'edit_short']=='X':\n",
    "                        for doc in docs:\n",
    "                            if doc[1]['id'] == docid:\n",
    "                                displacy.render(doc[0],style='ent',jupyter=True)\n",
    "                                peopleshort.loc[index,'edit_short']=input('Edit?')\n",
    "                clear_output(wait=True)"
   ]
  },
  {
   "cell_type": "code",
   "execution_count": 294,
   "metadata": {},
   "outputs": [],
   "source": [
    "peopleshort = peopleshort[peopleshort['tokentext']!='Escribano']"
   ]
  },
  {
   "cell_type": "code",
   "execution_count": 295,
   "metadata": {},
   "outputs": [
    {
     "data": {
      "text/html": [
       "<div>\n",
       "<style scoped>\n",
       "    .dataframe tbody tr th:only-of-type {\n",
       "        vertical-align: middle;\n",
       "    }\n",
       "\n",
       "    .dataframe tbody tr th {\n",
       "        vertical-align: top;\n",
       "    }\n",
       "\n",
       "    .dataframe thead th {\n",
       "        text-align: right;\n",
       "    }\n",
       "</style>\n",
       "<table border=\"1\" class=\"dataframe\">\n",
       "  <thead>\n",
       "    <tr style=\"text-align: right;\">\n",
       "      <th></th>\n",
       "      <th>docid</th>\n",
       "      <th>string</th>\n",
       "      <th>start</th>\n",
       "      <th>end</th>\n",
       "      <th>tokenloc</th>\n",
       "      <th>tokentext</th>\n",
       "      <th>entlabel</th>\n",
       "      <th>edit_short</th>\n",
       "    </tr>\n",
       "  </thead>\n",
       "  <tbody>\n",
       "    <tr>\n",
       "      <th>0</th>\n",
       "      <td>50</td>\n",
       "      <td>Cristobal garcia</td>\n",
       "      <td>6</td>\n",
       "      <td>8</td>\n",
       "      <td>8</td>\n",
       "      <td>cantero</td>\n",
       "      <td>PER</td>\n",
       "      <td>0</td>\n",
       "    </tr>\n",
       "    <tr>\n",
       "      <th>1</th>\n",
       "      <td>56</td>\n",
       "      <td>garcia fustanero</td>\n",
       "      <td>23</td>\n",
       "      <td>25</td>\n",
       "      <td>22</td>\n",
       "      <td>pero</td>\n",
       "      <td>PER</td>\n",
       "      <td>1</td>\n",
       "    </tr>\n",
       "    <tr>\n",
       "      <th>2</th>\n",
       "      <td>59</td>\n",
       "      <td>Pedro Blascoen</td>\n",
       "      <td>2476</td>\n",
       "      <td>2478</td>\n",
       "      <td>2478</td>\n",
       "      <td>Sevilla</td>\n",
       "      <td>PER</td>\n",
       "      <td>0</td>\n",
       "    </tr>\n",
       "    <tr>\n",
       "      <th>3</th>\n",
       "      <td>101</td>\n",
       "      <td>nicolas jurate</td>\n",
       "      <td>163</td>\n",
       "      <td>165</td>\n",
       "      <td>165</td>\n",
       "      <td>dos</td>\n",
       "      <td>PER</td>\n",
       "      <td>0</td>\n",
       "    </tr>\n",
       "    <tr>\n",
       "      <th>4</th>\n",
       "      <td>106</td>\n",
       "      <td>niculao de leon</td>\n",
       "      <td>0</td>\n",
       "      <td>3</td>\n",
       "      <td>3</td>\n",
       "      <td>frances</td>\n",
       "      <td>PER</td>\n",
       "      <td>0</td>\n",
       "    </tr>\n",
       "    <tr>\n",
       "      <th>...</th>\n",
       "      <td>...</td>\n",
       "      <td>...</td>\n",
       "      <td>...</td>\n",
       "      <td>...</td>\n",
       "      <td>...</td>\n",
       "      <td>...</td>\n",
       "      <td>...</td>\n",
       "      <td>...</td>\n",
       "    </tr>\n",
       "    <tr>\n",
       "      <th>1148</th>\n",
       "      <td>8577</td>\n",
       "      <td>DIEGO DÍAZ</td>\n",
       "      <td>255</td>\n",
       "      <td>257</td>\n",
       "      <td>254</td>\n",
       "      <td>oro</td>\n",
       "      <td>PER</td>\n",
       "      <td></td>\n",
       "    </tr>\n",
       "    <tr>\n",
       "      <th>1149</th>\n",
       "      <td>8577</td>\n",
       "      <td>FRANCISCO MANUEL [SOLORZANO</td>\n",
       "      <td>290</td>\n",
       "      <td>294</td>\n",
       "      <td>289</td>\n",
       "      <td>oro</td>\n",
       "      <td>PER</td>\n",
       "      <td></td>\n",
       "    </tr>\n",
       "    <tr>\n",
       "      <th>1150</th>\n",
       "      <td>8577</td>\n",
       "      <td>JOSEPH MERINO</td>\n",
       "      <td>513</td>\n",
       "      <td>515</td>\n",
       "      <td>512</td>\n",
       "      <td>oro</td>\n",
       "      <td>PER</td>\n",
       "      <td></td>\n",
       "    </tr>\n",
       "    <tr>\n",
       "      <th>1151</th>\n",
       "      <td>8578</td>\n",
       "      <td>LUIS ANTONIO NAVARRO</td>\n",
       "      <td>25</td>\n",
       "      <td>28</td>\n",
       "      <td>29</td>\n",
       "      <td>menor</td>\n",
       "      <td>PER</td>\n",
       "      <td></td>\n",
       "    </tr>\n",
       "    <tr>\n",
       "      <th>1153</th>\n",
       "      <td>8603</td>\n",
       "      <td>BARTOLOMÉ MURILLO</td>\n",
       "      <td>12</td>\n",
       "      <td>14</td>\n",
       "      <td>10</td>\n",
       "      <td>niño</td>\n",
       "      <td>PER</td>\n",
       "      <td></td>\n",
       "    </tr>\n",
       "  </tbody>\n",
       "</table>\n",
       "<p>838 rows × 8 columns</p>\n",
       "</div>"
      ],
      "text/plain": [
       "      docid                       string  start   end  tokenloc tokentext  \\\n",
       "0        50             Cristobal garcia      6     8         8   cantero   \n",
       "1        56             garcia fustanero     23    25        22      pero   \n",
       "2        59               Pedro Blascoen   2476  2478      2478   Sevilla   \n",
       "3       101               nicolas jurate    163   165       165       dos   \n",
       "4       106              niculao de leon      0     3         3   frances   \n",
       "...     ...                          ...    ...   ...       ...       ...   \n",
       "1148   8577                   DIEGO DÍAZ    255   257       254       oro   \n",
       "1149   8577  FRANCISCO MANUEL [SOLORZANO    290   294       289       oro   \n",
       "1150   8577                JOSEPH MERINO    513   515       512       oro   \n",
       "1151   8578         LUIS ANTONIO NAVARRO     25    28        29     menor   \n",
       "1153   8603            BARTOLOMÉ MURILLO     12    14        10      niño   \n",
       "\n",
       "     entlabel edit_short  \n",
       "0         PER          0  \n",
       "1         PER          1  \n",
       "2         PER          0  \n",
       "3         PER          0  \n",
       "4         PER          0  \n",
       "...       ...        ...  \n",
       "1148      PER             \n",
       "1149      PER             \n",
       "1150      PER             \n",
       "1151      PER             \n",
       "1153      PER             \n",
       "\n",
       "[838 rows x 8 columns]"
      ]
     },
     "execution_count": 295,
     "metadata": {},
     "output_type": "execute_result"
    }
   ],
   "source": [
    "peopleshort"
   ]
  },
  {
   "cell_type": "code",
   "execution_count": 296,
   "metadata": {},
   "outputs": [
    {
     "data": {
      "text/html": [
       "<div>\n",
       "<style scoped>\n",
       "    .dataframe tbody tr th:only-of-type {\n",
       "        vertical-align: middle;\n",
       "    }\n",
       "\n",
       "    .dataframe tbody tr th {\n",
       "        vertical-align: top;\n",
       "    }\n",
       "\n",
       "    .dataframe thead th {\n",
       "        text-align: right;\n",
       "    }\n",
       "</style>\n",
       "<table border=\"1\" class=\"dataframe\">\n",
       "  <thead>\n",
       "    <tr style=\"text-align: right;\">\n",
       "      <th></th>\n",
       "      <th>docid</th>\n",
       "      <th>string</th>\n",
       "      <th>start</th>\n",
       "      <th>end</th>\n",
       "      <th>tokenloc</th>\n",
       "      <th>tokentext</th>\n",
       "      <th>entlabel</th>\n",
       "    </tr>\n",
       "    <tr>\n",
       "      <th>edit_short</th>\n",
       "      <th></th>\n",
       "      <th></th>\n",
       "      <th></th>\n",
       "      <th></th>\n",
       "      <th></th>\n",
       "      <th></th>\n",
       "      <th></th>\n",
       "    </tr>\n",
       "  </thead>\n",
       "  <tbody>\n",
       "    <tr>\n",
       "      <th></th>\n",
       "      <td>550</td>\n",
       "      <td>550</td>\n",
       "      <td>550</td>\n",
       "      <td>550</td>\n",
       "      <td>550</td>\n",
       "      <td>550</td>\n",
       "      <td>550</td>\n",
       "    </tr>\n",
       "    <tr>\n",
       "      <th>0</th>\n",
       "      <td>179</td>\n",
       "      <td>179</td>\n",
       "      <td>179</td>\n",
       "      <td>179</td>\n",
       "      <td>179</td>\n",
       "      <td>179</td>\n",
       "      <td>179</td>\n",
       "    </tr>\n",
       "    <tr>\n",
       "      <th>1</th>\n",
       "      <td>104</td>\n",
       "      <td>104</td>\n",
       "      <td>104</td>\n",
       "      <td>104</td>\n",
       "      <td>104</td>\n",
       "      <td>104</td>\n",
       "      <td>104</td>\n",
       "    </tr>\n",
       "    <tr>\n",
       "      <th>o</th>\n",
       "      <td>5</td>\n",
       "      <td>5</td>\n",
       "      <td>5</td>\n",
       "      <td>5</td>\n",
       "      <td>5</td>\n",
       "      <td>5</td>\n",
       "      <td>5</td>\n",
       "    </tr>\n",
       "  </tbody>\n",
       "</table>\n",
       "</div>"
      ],
      "text/plain": [
       "            docid  string  start  end  tokenloc  tokentext  entlabel\n",
       "edit_short                                                          \n",
       "              550     550    550  550       550        550       550\n",
       "0             179     179    179  179       179        179       179\n",
       "1             104     104    104  104       104        104       104\n",
       "o               5       5      5    5         5          5         5"
      ]
     },
     "execution_count": 296,
     "metadata": {},
     "output_type": "execute_result"
    }
   ],
   "source": [
    "peopleshort.groupby('edit_short').count()"
   ]
  },
  {
   "cell_type": "code",
   "execution_count": null,
   "metadata": {},
   "outputs": [],
   "source": [
    "maestre\n",
    "fray\n",
    "nombre\n",
    "jurado\n",
    "notario\n",
    "vicario\n",
    "mercader\n",
    "---\n",
    "cantero\n",
    "escribano"
   ]
  },
  {
   "cell_type": "code",
   "execution_count": 298,
   "metadata": {},
   "outputs": [],
   "source": [
    "peopleshort.to_csv('Files_Cleaning3/PERS_tag_clean3_strat1.csv')"
   ]
  },
  {
   "cell_type": "code",
   "execution_count": null,
   "metadata": {},
   "outputs": [],
   "source": []
  }
 ],
 "metadata": {
  "kernelspec": {
   "display_name": "Python 3",
   "language": "python",
   "name": "python3"
  },
  "language_info": {
   "codemirror_mode": {
    "name": "ipython",
    "version": 3
   },
   "file_extension": ".py",
   "mimetype": "text/x-python",
   "name": "python",
   "nbconvert_exporter": "python",
   "pygments_lexer": "ipython3",
   "version": "3.7.6"
  }
 },
 "nbformat": 4,
 "nbformat_minor": 4
}
