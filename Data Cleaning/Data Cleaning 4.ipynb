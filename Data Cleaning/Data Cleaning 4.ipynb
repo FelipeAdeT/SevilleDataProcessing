{
 "cells": [
  {
   "cell_type": "markdown",
   "metadata": {},
   "source": [
    "# Data Cleaning 4: Untagged PER Entities\n",
    "\n",
    "Strategy 1: Exact Matches\n",
    "\n",
    "Strategy 2: Fuzzy Matches"
   ]
  },
  {
   "cell_type": "code",
   "execution_count": 2,
   "metadata": {},
   "outputs": [],
   "source": [
    "from IPython.display import clear_output\n",
    "import spacy\n",
    "from spacy import displacy\n",
    "\n",
    "import pickle"
   ]
  },
  {
   "cell_type": "code",
   "execution_count": 3,
   "metadata": {},
   "outputs": [],
   "source": [
    "import pandas as pd"
   ]
  },
  {
   "cell_type": "code",
   "execution_count": 4,
   "metadata": {},
   "outputs": [],
   "source": [
    "file = open(\"Files_Cleaning3/NER_data_Cleaned3.p\", 'rb')\n",
    "docs = pickle.load(file)"
   ]
  },
  {
   "cell_type": "markdown",
   "metadata": {},
   "source": [
    "# Exact Matching to Confirmed Names"
   ]
  },
  {
   "cell_type": "markdown",
   "metadata": {},
   "source": [
    "Let's generate a list of PER entity strings:"
   ]
  },
  {
   "cell_type": "code",
   "execution_count": 143,
   "metadata": {},
   "outputs": [],
   "source": [
    "peoplestrings =[]\n",
    "for doc, context in docs:\n",
    "    for ent in doc.ents:\n",
    "        if ent.label_=='PER':\n",
    "            peoplestrings.append(ent.text)         "
   ]
  },
  {
   "cell_type": "code",
   "execution_count": 144,
   "metadata": {},
   "outputs": [
    {
     "data": {
      "text/plain": [
       "32339"
      ]
     },
     "execution_count": 144,
     "metadata": {},
     "output_type": "execute_result"
    }
   ],
   "source": [
    "len(peoplestrings)"
   ]
  },
  {
   "cell_type": "code",
   "execution_count": 145,
   "metadata": {},
   "outputs": [],
   "source": [
    "peoplestrings = [string.lower() for string in peoplestrings]"
   ]
  },
  {
   "cell_type": "code",
   "execution_count": 146,
   "metadata": {},
   "outputs": [
    {
     "data": {
      "text/plain": [
       "12805"
      ]
     },
     "execution_count": 146,
     "metadata": {},
     "output_type": "execute_result"
    }
   ],
   "source": [
    "len(set(peoplestrings))"
   ]
  },
  {
   "cell_type": "code",
   "execution_count": 147,
   "metadata": {},
   "outputs": [],
   "source": [
    "peoplestrings = list(set(peoplestrings))"
   ]
  },
  {
   "cell_type": "code",
   "execution_count": 11,
   "metadata": {},
   "outputs": [
    {
     "data": {
      "text/plain": [
       "' Pago de'"
      ]
     },
     "execution_count": 11,
     "metadata": {},
     "output_type": "execute_result"
    }
   ],
   "source": [
    "untaggedtext"
   ]
  },
  {
   "cell_type": "code",
   "execution_count": 12,
   "metadata": {},
   "outputs": [
    {
     "data": {
      "text/plain": [
       "['fernando', 'de', 'ledesma']"
      ]
     },
     "execution_count": 12,
     "metadata": {},
     "output_type": "execute_result"
    }
   ],
   "source": [
    "strlist"
   ]
  },
  {
   "cell_type": "code",
   "execution_count": 13,
   "metadata": {},
   "outputs": [
    {
     "data": {
      "text/plain": [
       "['Pago', 'de']"
      ]
     },
     "execution_count": 13,
     "metadata": {},
     "output_type": "execute_result"
    }
   ],
   "source": [
    "untaggedtokens"
   ]
  },
  {
   "cell_type": "code",
   "execution_count": 14,
   "metadata": {},
   "outputs": [
    {
     "data": {
      "text/plain": [
       "'de'"
      ]
     },
     "execution_count": 14,
     "metadata": {},
     "output_type": "execute_result"
    }
   ],
   "source": [
    "untaggedtokens[start+b]"
   ]
  },
  {
   "cell_type": "code",
   "execution_count": 15,
   "metadata": {},
   "outputs": [
    {
     "data": {
      "text/plain": [
       "0"
      ]
     },
     "execution_count": 15,
     "metadata": {},
     "output_type": "execute_result"
    }
   ],
   "source": [
    "b"
   ]
  },
  {
   "cell_type": "code",
   "execution_count": 16,
   "metadata": {},
   "outputs": [
    {
     "data": {
      "text/plain": [
       "''"
      ]
     },
     "execution_count": 16,
     "metadata": {},
     "output_type": "execute_result"
    }
   ],
   "source": [
    "span"
   ]
  },
  {
   "cell_type": "code",
   "execution_count": null,
   "metadata": {},
   "outputs": [],
   "source": [
    "entry"
   ]
  },
  {
   "cell_type": "code",
   "execution_count": null,
   "metadata": {},
   "outputs": [],
   "source": [
    "untaggedPERS = []\n",
    "\n",
    "for doc, context in docs:\n",
    "    ents = list(doc.ents)\n",
    "    enttexts = []\n",
    "    for ent in ents:\n",
    "        enttexts.append(ent.text)\n",
    "        untaggedtext = doc.text.replace(ent.text,\" \",1) #replace the entity span once with a blank\n",
    "    for string in peoplestrings:\n",
    "        strlist = string.split()\n",
    "        try:\n",
    "            untaggedtokens= untaggedtext.split()\n",
    "            for i in range(len(untaggedtokens)):\n",
    "                start = i\n",
    "                b=0\n",
    "                while (b<len(strlist)) and (untaggedtokens[start+b].lower() == strlist[b].lower()):\n",
    "                    b= b+1\n",
    "        except:\n",
    "            pass\n",
    "        end = start + b\n",
    "        span = ' '.join(untaggedtokens[start:end])\n",
    "        if (b !=0) and (span.lower() == string.lower()):\n",
    "            docid = context['id']\n",
    "            entry = [docid, string, span]\n",
    "            untaggedPERS.append(entry)\n",
    "            b=0\n",
    "    print(context['id'])\n",
    "    clear_output(wait=True)\n",
    "        \n",
    "#        if (string.lower() in doc.text.lower()) and (string.lower() not in enttexts):\n",
    " #           string = str(string)\n",
    "  #          docid = context['id']\n",
    "   #         entry = [docid, string]\n",
    "    #        untaggedPERS.append(entry)"
   ]
  },
  {
   "cell_type": "code",
   "execution_count": 148,
   "metadata": {},
   "outputs": [
    {
     "name": "stdout",
     "output_type": "stream",
     "text": [
      "8607\n"
     ]
    }
   ],
   "source": [
    "untaggedPERS = []\n",
    "\n",
    "for doc, context in docs:\n",
    "    untaggedtext = ''\n",
    "    for token in doc:\n",
    "        if token.ent_iob==2:\n",
    "            untaggedtext = untaggedtext + \" \" + token.text\n",
    "    for string in peoplestrings:\n",
    "        b=0\n",
    "        strlist = string.split()\n",
    "        try:\n",
    "            untaggedtokens= untaggedtext.split()\n",
    "            for i in range(len(untaggedtokens)):\n",
    "                start = i\n",
    "                b=0\n",
    "                while (b<=len(strlist)) and (untaggedtokens[start+b].lower() == strlist[b].lower()):\n",
    "                    b= b+1\n",
    "        except:\n",
    "            pass\n",
    "        end = start + b\n",
    "        span = ' '.join(untaggedtokens[start:end])\n",
    "        if (b !=0) and (len(range(start,end)) == len(strlist)):\n",
    "            docid = context['id']\n",
    "            entry = [docid, string, span, start, end]\n",
    "            untaggedPERS.append(entry)\n",
    "    print(context['id'])\n",
    "    clear_output(wait=True)"
   ]
  },
  {
   "cell_type": "code",
   "execution_count": 40,
   "metadata": {},
   "outputs": [
    {
     "data": {
      "text/plain": [
       "[]"
      ]
     },
     "execution_count": 40,
     "metadata": {},
     "output_type": "execute_result"
    }
   ],
   "source": [
    "untaggedtokens[start:end]"
   ]
  },
  {
   "cell_type": "code",
   "execution_count": 29,
   "metadata": {},
   "outputs": [
    {
     "data": {
      "text/plain": [
       "range(0, 2)"
      ]
     },
     "execution_count": 29,
     "metadata": {},
     "output_type": "execute_result"
    }
   ],
   "source": [
    "range(len(untaggedtokens))"
   ]
  },
  {
   "cell_type": "code",
   "execution_count": 27,
   "metadata": {},
   "outputs": [
    {
     "data": {
      "text/plain": [
       "''"
      ]
     },
     "execution_count": 27,
     "metadata": {},
     "output_type": "execute_result"
    }
   ],
   "source": [
    "span"
   ]
  },
  {
   "cell_type": "code",
   "execution_count": 17,
   "metadata": {},
   "outputs": [
    {
     "data": {
      "text/plain": [
       "['fernando', 'de', 'ledesma']"
      ]
     },
     "execution_count": 17,
     "metadata": {},
     "output_type": "execute_result"
    }
   ],
   "source": [
    "strlist"
   ]
  },
  {
   "cell_type": "code",
   "execution_count": 18,
   "metadata": {},
   "outputs": [
    {
     "data": {
      "text/plain": [
       "3"
      ]
     },
     "execution_count": 18,
     "metadata": {},
     "output_type": "execute_result"
    }
   ],
   "source": [
    "len(strlist)"
   ]
  },
  {
   "cell_type": "code",
   "execution_count": null,
   "metadata": {},
   "outputs": [],
   "source": [
    "len(docs)"
   ]
  },
  {
   "cell_type": "code",
   "execution_count": 38,
   "metadata": {},
   "outputs": [
    {
     "data": {
      "text/plain": [
       "{'id': 100}"
      ]
     },
     "execution_count": 38,
     "metadata": {},
     "output_type": "execute_result"
    }
   ],
   "source": [
    "docs[99][1]"
   ]
  },
  {
   "cell_type": "code",
   "execution_count": 39,
   "metadata": {},
   "outputs": [
    {
     "data": {
      "text/html": [
       "<span class=\"tex2jax_ignore\"><div class=\"entities\" style=\"line-height: 2.5; direction: ltr\">\n",
       "<mark class=\"entity\" style=\"background: #ddd; padding: 0.45em 0.6em; margin: 0 0.25em; line-height: 1; border-radius: 0.35em;\">\n",
       "    niculao jurate\n",
       "    <span style=\"font-size: 0.8em; font-weight: bold; line-height: 1; border-radius: 0.35em; text-transform: uppercase; vertical-align: middle; margin-left: 0.5rem\">PER</span>\n",
       "</mark>\n",
       " maestro de fazer imajenes.. otorgo e conosco que fago pabto e postura... con vos \n",
       "<mark class=\"entity\" style=\"background: #ddd; padding: 0.45em 0.6em; margin: 0 0.25em; line-height: 1; border-radius: 0.35em;\">\n",
       "    bartolome de ortega\n",
       "    <span style=\"font-size: 0.8em; font-weight: bold; line-height: 1; border-radius: 0.35em; text-transform: uppercase; vertical-align: middle; margin-left: 0.5rem\">PER</span>\n",
       "</mark>\n",
       " entallador... en tal manera que yo sea tenudo e obligado... de vos fazer ...de oy dia de la fecha de esta carta en dos meses... tres imajenes de bulto de madera de castaño huecas dando e que vos el dicho \n",
       "<mark class=\"entity\" style=\"background: #ddd; padding: 0.45em 0.6em; margin: 0 0.25em; line-height: 1; border-radius: 0.35em;\">\n",
       "    bartolome de ortega\n",
       "    <span style=\"font-size: 0.8em; font-weight: bold; line-height: 1; border-radius: 0.35em; text-transform: uppercase; vertical-align: middle; margin-left: 0.5rem\">PER</span>\n",
       "</mark>\n",
       " me deis la madera conviniente para ello e an de ser las dichas tres imagenes un cristo de cuatro palmos e una maria e un san juan de a tres palmos e medio cada una... e que me deis por la hechura de ellas \n",
       "<mark class=\"entity\" style=\"background: #ddd; padding: 0.45em 0.6em; margin: 0 0.25em; line-height: 1; border-radius: 0.35em;\">\n",
       "    doze ducados de oro\n",
       "    <span style=\"font-size: 0.8em; font-weight: bold; line-height: 1; border-radius: 0.35em; text-transform: uppercase; vertical-align: middle; margin-left: 0.5rem\">MON</span>\n",
       "</mark>\n",
       "...</div></span>"
      ],
      "text/plain": [
       "<IPython.core.display.HTML object>"
      ]
     },
     "metadata": {},
     "output_type": "display_data"
    }
   ],
   "source": [
    "displacy.render(docs[99][0], style ='ent')"
   ]
  },
  {
   "cell_type": "code",
   "execution_count": null,
   "metadata": {},
   "outputs": [],
   "source": [
    "#Need to remove duplicates with capitalization variations. Need to make sure spans are not double counted."
   ]
  },
  {
   "cell_type": "code",
   "execution_count": 149,
   "metadata": {},
   "outputs": [
    {
     "data": {
      "text/plain": [
       "2476"
      ]
     },
     "execution_count": 149,
     "metadata": {},
     "output_type": "execute_result"
    }
   ],
   "source": [
    "len(untaggedPERS)"
   ]
  },
  {
   "cell_type": "code",
   "execution_count": 150,
   "metadata": {},
   "outputs": [],
   "source": [
    "untaggedPERS_df = pd.DataFrame(untaggedPERS, columns = ['docid','match','string','start','end'])"
   ]
  },
  {
   "cell_type": "code",
   "execution_count": 151,
   "metadata": {},
   "outputs": [
    {
     "data": {
      "text/html": [
       "<div>\n",
       "<style scoped>\n",
       "    .dataframe tbody tr th:only-of-type {\n",
       "        vertical-align: middle;\n",
       "    }\n",
       "\n",
       "    .dataframe tbody tr th {\n",
       "        vertical-align: top;\n",
       "    }\n",
       "\n",
       "    .dataframe thead th {\n",
       "        text-align: right;\n",
       "    }\n",
       "</style>\n",
       "<table border=\"1\" class=\"dataframe\">\n",
       "  <thead>\n",
       "    <tr style=\"text-align: right;\">\n",
       "      <th></th>\n",
       "      <th>docid</th>\n",
       "      <th>match</th>\n",
       "      <th>string</th>\n",
       "      <th>start</th>\n",
       "      <th>end</th>\n",
       "    </tr>\n",
       "  </thead>\n",
       "  <tbody>\n",
       "    <tr>\n",
       "      <th>0</th>\n",
       "      <td>2</td>\n",
       "      <td>costa</td>\n",
       "      <td>costa</td>\n",
       "      <td>62</td>\n",
       "      <td>63</td>\n",
       "    </tr>\n",
       "    <tr>\n",
       "      <th>1</th>\n",
       "      <td>52</td>\n",
       "      <td>costa</td>\n",
       "      <td>costa</td>\n",
       "      <td>1030</td>\n",
       "      <td>1031</td>\n",
       "    </tr>\n",
       "    <tr>\n",
       "      <th>2</th>\n",
       "      <td>55</td>\n",
       "      <td>costa</td>\n",
       "      <td>costa</td>\n",
       "      <td>1004</td>\n",
       "      <td>1005</td>\n",
       "    </tr>\n",
       "    <tr>\n",
       "      <th>3</th>\n",
       "      <td>82</td>\n",
       "      <td>costa</td>\n",
       "      <td>costa</td>\n",
       "      <td>269</td>\n",
       "      <td>270</td>\n",
       "    </tr>\n",
       "    <tr>\n",
       "      <th>4</th>\n",
       "      <td>85</td>\n",
       "      <td>juan</td>\n",
       "      <td>juan</td>\n",
       "      <td>11</td>\n",
       "      <td>12</td>\n",
       "    </tr>\n",
       "    <tr>\n",
       "      <th>...</th>\n",
       "      <td>...</td>\n",
       "      <td>...</td>\n",
       "      <td>...</td>\n",
       "      <td>...</td>\n",
       "      <td>...</td>\n",
       "    </tr>\n",
       "    <tr>\n",
       "      <th>2471</th>\n",
       "      <td>8513</td>\n",
       "      <td>juan de la</td>\n",
       "      <td>Juan de la</td>\n",
       "      <td>3</td>\n",
       "      <td>6</td>\n",
       "    </tr>\n",
       "    <tr>\n",
       "      <th>2472</th>\n",
       "      <td>8513</td>\n",
       "      <td>juan de la palma</td>\n",
       "      <td>Juan de la Palma</td>\n",
       "      <td>3</td>\n",
       "      <td>7</td>\n",
       "    </tr>\n",
       "    <tr>\n",
       "      <th>2473</th>\n",
       "      <td>8536</td>\n",
       "      <td>corral</td>\n",
       "      <td>corral</td>\n",
       "      <td>36</td>\n",
       "      <td>37</td>\n",
       "    </tr>\n",
       "    <tr>\n",
       "      <th>2474</th>\n",
       "      <td>8552</td>\n",
       "      <td>miguel</td>\n",
       "      <td>Miguel</td>\n",
       "      <td>687</td>\n",
       "      <td>688</td>\n",
       "    </tr>\n",
       "    <tr>\n",
       "      <th>2475</th>\n",
       "      <td>8562</td>\n",
       "      <td>rubio</td>\n",
       "      <td>rubio</td>\n",
       "      <td>33</td>\n",
       "      <td>34</td>\n",
       "    </tr>\n",
       "  </tbody>\n",
       "</table>\n",
       "<p>2476 rows × 5 columns</p>\n",
       "</div>"
      ],
      "text/plain": [
       "      docid             match            string  start   end\n",
       "0         2             costa             costa     62    63\n",
       "1        52             costa             costa   1030  1031\n",
       "2        55             costa             costa   1004  1005\n",
       "3        82             costa             costa    269   270\n",
       "4        85              juan              juan     11    12\n",
       "...     ...               ...               ...    ...   ...\n",
       "2471   8513        juan de la        Juan de la      3     6\n",
       "2472   8513  juan de la palma  Juan de la Palma      3     7\n",
       "2473   8536            corral            corral     36    37\n",
       "2474   8552            miguel            Miguel    687   688\n",
       "2475   8562             rubio             rubio     33    34\n",
       "\n",
       "[2476 rows x 5 columns]"
      ]
     },
     "execution_count": 151,
     "metadata": {},
     "output_type": "execute_result"
    }
   ],
   "source": [
    "untaggedPERS_df"
   ]
  },
  {
   "cell_type": "code",
   "execution_count": 152,
   "metadata": {},
   "outputs": [],
   "source": [
    "untaggedPERS_df.to_csv('Files_Cleaning4/untaggedPERstrings_strat1.csv')"
   ]
  },
  {
   "cell_type": "code",
   "execution_count": 153,
   "metadata": {},
   "outputs": [
    {
     "data": {
      "text/html": [
       "<div>\n",
       "<style scoped>\n",
       "    .dataframe tbody tr th:only-of-type {\n",
       "        vertical-align: middle;\n",
       "    }\n",
       "\n",
       "    .dataframe tbody tr th {\n",
       "        vertical-align: top;\n",
       "    }\n",
       "\n",
       "    .dataframe thead th {\n",
       "        text-align: right;\n",
       "    }\n",
       "</style>\n",
       "<table border=\"1\" class=\"dataframe\">\n",
       "  <thead>\n",
       "    <tr style=\"text-align: right;\">\n",
       "      <th></th>\n",
       "      <th>docid</th>\n",
       "      <th>match</th>\n",
       "      <th>string</th>\n",
       "      <th>start</th>\n",
       "      <th>end</th>\n",
       "    </tr>\n",
       "  </thead>\n",
       "  <tbody>\n",
       "    <tr>\n",
       "      <th>0</th>\n",
       "      <td>2</td>\n",
       "      <td>costa</td>\n",
       "      <td>costa</td>\n",
       "      <td>62</td>\n",
       "      <td>63</td>\n",
       "    </tr>\n",
       "    <tr>\n",
       "      <th>1</th>\n",
       "      <td>52</td>\n",
       "      <td>costa</td>\n",
       "      <td>costa</td>\n",
       "      <td>1030</td>\n",
       "      <td>1031</td>\n",
       "    </tr>\n",
       "    <tr>\n",
       "      <th>2</th>\n",
       "      <td>55</td>\n",
       "      <td>costa</td>\n",
       "      <td>costa</td>\n",
       "      <td>1004</td>\n",
       "      <td>1005</td>\n",
       "    </tr>\n",
       "    <tr>\n",
       "      <th>3</th>\n",
       "      <td>82</td>\n",
       "      <td>costa</td>\n",
       "      <td>costa</td>\n",
       "      <td>269</td>\n",
       "      <td>270</td>\n",
       "    </tr>\n",
       "    <tr>\n",
       "      <th>4</th>\n",
       "      <td>85</td>\n",
       "      <td>juan</td>\n",
       "      <td>juan</td>\n",
       "      <td>11</td>\n",
       "      <td>12</td>\n",
       "    </tr>\n",
       "    <tr>\n",
       "      <th>...</th>\n",
       "      <td>...</td>\n",
       "      <td>...</td>\n",
       "      <td>...</td>\n",
       "      <td>...</td>\n",
       "      <td>...</td>\n",
       "    </tr>\n",
       "    <tr>\n",
       "      <th>2471</th>\n",
       "      <td>8513</td>\n",
       "      <td>juan de la</td>\n",
       "      <td>Juan de la</td>\n",
       "      <td>3</td>\n",
       "      <td>6</td>\n",
       "    </tr>\n",
       "    <tr>\n",
       "      <th>2472</th>\n",
       "      <td>8513</td>\n",
       "      <td>juan de la palma</td>\n",
       "      <td>Juan de la Palma</td>\n",
       "      <td>3</td>\n",
       "      <td>7</td>\n",
       "    </tr>\n",
       "    <tr>\n",
       "      <th>2473</th>\n",
       "      <td>8536</td>\n",
       "      <td>corral</td>\n",
       "      <td>corral</td>\n",
       "      <td>36</td>\n",
       "      <td>37</td>\n",
       "    </tr>\n",
       "    <tr>\n",
       "      <th>2474</th>\n",
       "      <td>8552</td>\n",
       "      <td>miguel</td>\n",
       "      <td>Miguel</td>\n",
       "      <td>687</td>\n",
       "      <td>688</td>\n",
       "    </tr>\n",
       "    <tr>\n",
       "      <th>2475</th>\n",
       "      <td>8562</td>\n",
       "      <td>rubio</td>\n",
       "      <td>rubio</td>\n",
       "      <td>33</td>\n",
       "      <td>34</td>\n",
       "    </tr>\n",
       "  </tbody>\n",
       "</table>\n",
       "<p>2476 rows × 5 columns</p>\n",
       "</div>"
      ],
      "text/plain": [
       "      docid             match            string  start   end\n",
       "0         2             costa             costa     62    63\n",
       "1        52             costa             costa   1030  1031\n",
       "2        55             costa             costa   1004  1005\n",
       "3        82             costa             costa    269   270\n",
       "4        85              juan              juan     11    12\n",
       "...     ...               ...               ...    ...   ...\n",
       "2471   8513        juan de la        Juan de la      3     6\n",
       "2472   8513  juan de la palma  Juan de la Palma      3     7\n",
       "2473   8536            corral            corral     36    37\n",
       "2474   8552            miguel            Miguel    687   688\n",
       "2475   8562             rubio             rubio     33    34\n",
       "\n",
       "[2476 rows x 5 columns]"
      ]
     },
     "execution_count": 153,
     "metadata": {},
     "output_type": "execute_result"
    }
   ],
   "source": [
    "untaggedPERS_df[untaggedPERS_df['string']!='de']"
   ]
  },
  {
   "cell_type": "code",
   "execution_count": 154,
   "metadata": {},
   "outputs": [],
   "source": [
    "untaggedPERstrings = pd.DataFrame(untaggedPERS_df['string'].value_counts())"
   ]
  },
  {
   "cell_type": "code",
   "execution_count": 155,
   "metadata": {},
   "outputs": [],
   "source": [
    "untaggedPERstrings.to_csv('Files_Cleaning4/untaggedPERstrings_strat1_unique.csv')"
   ]
  },
  {
   "cell_type": "code",
   "execution_count": 156,
   "metadata": {},
   "outputs": [
    {
     "data": {
      "text/html": [
       "<div>\n",
       "<style scoped>\n",
       "    .dataframe tbody tr th:only-of-type {\n",
       "        vertical-align: middle;\n",
       "    }\n",
       "\n",
       "    .dataframe tbody tr th {\n",
       "        vertical-align: top;\n",
       "    }\n",
       "\n",
       "    .dataframe thead th {\n",
       "        text-align: right;\n",
       "    }\n",
       "</style>\n",
       "<table border=\"1\" class=\"dataframe\">\n",
       "  <thead>\n",
       "    <tr style=\"text-align: right;\">\n",
       "      <th></th>\n",
       "      <th>string</th>\n",
       "    </tr>\n",
       "  </thead>\n",
       "  <tbody>\n",
       "    <tr>\n",
       "      <th>juan bautista</th>\n",
       "      <td>35</td>\n",
       "    </tr>\n",
       "    <tr>\n",
       "      <th>señor prouisor</th>\n",
       "      <td>24</td>\n",
       "    </tr>\n",
       "    <tr>\n",
       "      <th>juan baptista</th>\n",
       "      <td>17</td>\n",
       "    </tr>\n",
       "    <tr>\n",
       "      <th>Juan Bautista</th>\n",
       "      <td>15</td>\n",
       "    </tr>\n",
       "    <tr>\n",
       "      <th>francisco de</th>\n",
       "      <td>13</td>\n",
       "    </tr>\n",
       "    <tr>\n",
       "      <th>...</th>\n",
       "      <td>...</td>\n",
       "    </tr>\n",
       "    <tr>\n",
       "      <th>geronimo belasques</th>\n",
       "      <td>1</td>\n",
       "    </tr>\n",
       "    <tr>\n",
       "      <th>justa rufina</th>\n",
       "      <td>1</td>\n",
       "    </tr>\n",
       "    <tr>\n",
       "      <th>Geronima de çamudio</th>\n",
       "      <td>1</td>\n",
       "    </tr>\n",
       "    <tr>\n",
       "      <th>Diego de Alcala</th>\n",
       "      <td>1</td>\n",
       "    </tr>\n",
       "    <tr>\n",
       "      <th>hernan Ruys</th>\n",
       "      <td>1</td>\n",
       "    </tr>\n",
       "  </tbody>\n",
       "</table>\n",
       "<p>147 rows × 1 columns</p>\n",
       "</div>"
      ],
      "text/plain": [
       "                     string\n",
       "juan bautista            35\n",
       "señor prouisor           24\n",
       "juan baptista            17\n",
       "Juan Bautista            15\n",
       "francisco de             13\n",
       "...                     ...\n",
       "geronimo belasques        1\n",
       "justa rufina              1\n",
       "Geronima de çamudio       1\n",
       "Diego de Alcala           1\n",
       "hernan Ruys               1\n",
       "\n",
       "[147 rows x 1 columns]"
      ]
     },
     "execution_count": 156,
     "metadata": {},
     "output_type": "execute_result"
    }
   ],
   "source": [
    "untaggedPERstrings[untaggedPERstrings.index.str.contains(' ')]"
   ]
  },
  {
   "cell_type": "markdown",
   "metadata": {},
   "source": [
    "Looking at the contents of this DataFrame in the .csv file, we have our work cut out for us. But we can remove matches with the strings \"de\", \"costa\", and \"de la\"."
   ]
  },
  {
   "cell_type": "code",
   "execution_count": 157,
   "metadata": {},
   "outputs": [],
   "source": [
    "untaggedPERS_df = untaggedPERS_df[(untaggedPERS_df['string']!='de') & (untaggedPERS_df['string']!='de la') & (untaggedPERS_df['string']!='costa')]"
   ]
  },
  {
   "cell_type": "code",
   "execution_count": 158,
   "metadata": {},
   "outputs": [
    {
     "data": {
      "text/plain": [
       "2042"
      ]
     },
     "execution_count": 158,
     "metadata": {},
     "output_type": "execute_result"
    }
   ],
   "source": [
    "len(untaggedPERS_df)"
   ]
  },
  {
   "cell_type": "code",
   "execution_count": 160,
   "metadata": {},
   "outputs": [
    {
     "name": "stderr",
     "output_type": "stream",
     "text": [
      "/Users/Felipe/opt/anaconda3/lib/python3.7/site-packages/ipykernel_launcher.py:1: SettingWithCopyWarning: \n",
      "A value is trying to be set on a copy of a slice from a DataFrame.\n",
      "Try using .loc[row_indexer,col_indexer] = value instead\n",
      "\n",
      "See the caveats in the documentation: https://pandas.pydata.org/pandas-docs/stable/user_guide/indexing.html#returning-a-view-versus-a-copy\n",
      "  \"\"\"Entry point for launching an IPython kernel.\n",
      "/Users/Felipe/opt/anaconda3/lib/python3.7/site-packages/ipykernel_launcher.py:2: SettingWithCopyWarning: \n",
      "A value is trying to be set on a copy of a slice from a DataFrame.\n",
      "Try using .loc[row_indexer,col_indexer] = value instead\n",
      "\n",
      "See the caveats in the documentation: https://pandas.pydata.org/pandas-docs/stable/user_guide/indexing.html#returning-a-view-versus-a-copy\n",
      "  \n",
      "/Users/Felipe/opt/anaconda3/lib/python3.7/site-packages/ipykernel_launcher.py:3: SettingWithCopyWarning: \n",
      "A value is trying to be set on a copy of a slice from a DataFrame.\n",
      "Try using .loc[row_indexer,col_indexer] = value instead\n",
      "\n",
      "See the caveats in the documentation: https://pandas.pydata.org/pandas-docs/stable/user_guide/indexing.html#returning-a-view-versus-a-copy\n",
      "  This is separate from the ipykernel package so we can avoid doing imports until\n",
      "/Users/Felipe/opt/anaconda3/lib/python3.7/site-packages/ipykernel_launcher.py:4: SettingWithCopyWarning: \n",
      "A value is trying to be set on a copy of a slice from a DataFrame.\n",
      "Try using .loc[row_indexer,col_indexer] = value instead\n",
      "\n",
      "See the caveats in the documentation: https://pandas.pydata.org/pandas-docs/stable/user_guide/indexing.html#returning-a-view-versus-a-copy\n",
      "  after removing the cwd from sys.path.\n"
     ]
    }
   ],
   "source": [
    "untaggedPERS_df['addentity']=''\n",
    "untaggedPERS_df['entstart']=''\n",
    "untaggedPERS_df['entend']=''\n",
    "untaggedPERS_df['label']=''"
   ]
  },
  {
   "cell_type": "code",
   "execution_count": 161,
   "metadata": {},
   "outputs": [
    {
     "data": {
      "text/html": [
       "<div>\n",
       "<style scoped>\n",
       "    .dataframe tbody tr th:only-of-type {\n",
       "        vertical-align: middle;\n",
       "    }\n",
       "\n",
       "    .dataframe tbody tr th {\n",
       "        vertical-align: top;\n",
       "    }\n",
       "\n",
       "    .dataframe thead th {\n",
       "        text-align: right;\n",
       "    }\n",
       "</style>\n",
       "<table border=\"1\" class=\"dataframe\">\n",
       "  <thead>\n",
       "    <tr style=\"text-align: right;\">\n",
       "      <th></th>\n",
       "      <th>docid</th>\n",
       "      <th>match</th>\n",
       "      <th>string</th>\n",
       "      <th>start</th>\n",
       "      <th>end</th>\n",
       "      <th>addentity</th>\n",
       "      <th>label</th>\n",
       "      <th>entstart</th>\n",
       "      <th>entend</th>\n",
       "    </tr>\n",
       "  </thead>\n",
       "  <tbody>\n",
       "    <tr>\n",
       "      <th>4</th>\n",
       "      <td>85</td>\n",
       "      <td>juan</td>\n",
       "      <td>juan</td>\n",
       "      <td>11</td>\n",
       "      <td>12</td>\n",
       "      <td></td>\n",
       "      <td></td>\n",
       "      <td></td>\n",
       "      <td></td>\n",
       "    </tr>\n",
       "    <tr>\n",
       "      <th>5</th>\n",
       "      <td>85</td>\n",
       "      <td>juan\\n</td>\n",
       "      <td>juan</td>\n",
       "      <td>11</td>\n",
       "      <td>12</td>\n",
       "      <td></td>\n",
       "      <td></td>\n",
       "      <td></td>\n",
       "      <td></td>\n",
       "    </tr>\n",
       "    <tr>\n",
       "      <th>6</th>\n",
       "      <td>85</td>\n",
       "      <td>juan de</td>\n",
       "      <td>juan de</td>\n",
       "      <td>11</td>\n",
       "      <td>13</td>\n",
       "      <td></td>\n",
       "      <td></td>\n",
       "      <td></td>\n",
       "      <td></td>\n",
       "    </tr>\n",
       "    <tr>\n",
       "      <th>7</th>\n",
       "      <td>85</td>\n",
       "      <td>señor prouisor</td>\n",
       "      <td>señor prouisor</td>\n",
       "      <td>23</td>\n",
       "      <td>25</td>\n",
       "      <td></td>\n",
       "      <td></td>\n",
       "      <td></td>\n",
       "      <td></td>\n",
       "    </tr>\n",
       "    <tr>\n",
       "      <th>8</th>\n",
       "      <td>85</td>\n",
       "      <td>juan de la</td>\n",
       "      <td>juan de la</td>\n",
       "      <td>11</td>\n",
       "      <td>14</td>\n",
       "      <td></td>\n",
       "      <td></td>\n",
       "      <td></td>\n",
       "      <td></td>\n",
       "    </tr>\n",
       "  </tbody>\n",
       "</table>\n",
       "</div>"
      ],
      "text/plain": [
       "   docid           match          string  start  end addentity label entstart  \\\n",
       "4     85            juan            juan     11   12                            \n",
       "5     85          juan\\n            juan     11   12                            \n",
       "6     85         juan de         juan de     11   13                            \n",
       "7     85  señor prouisor  señor prouisor     23   25                            \n",
       "8     85      juan de la      juan de la     11   14                            \n",
       "\n",
       "  entend  \n",
       "4         \n",
       "5         \n",
       "6         \n",
       "7         \n",
       "8         "
      ]
     },
     "execution_count": 161,
     "metadata": {},
     "output_type": "execute_result"
    }
   ],
   "source": [
    "untaggedPERS_df.head()"
   ]
  },
  {
   "cell_type": "markdown",
   "metadata": {},
   "source": [
    "Some potential entities have matched multiple entity strings. We need to take the longest spans and keep those. To do this, we sort on docid, start, and end, in descending order, so the longest spans are first (ascending = False). Then, we use  df.drop_duplicates with keep =  first."
   ]
  },
  {
   "cell_type": "code",
   "execution_count": 176,
   "metadata": {},
   "outputs": [],
   "source": [
    "untaggedPERS_df = untaggedPERS_df.sort_values(['docid','start','end'], ascending = False).drop_duplicates(['docid','start'], keep = 'first')"
   ]
  },
  {
   "cell_type": "code",
   "execution_count": 177,
   "metadata": {},
   "outputs": [
    {
     "data": {
      "text/html": [
       "<div>\n",
       "<style scoped>\n",
       "    .dataframe tbody tr th:only-of-type {\n",
       "        vertical-align: middle;\n",
       "    }\n",
       "\n",
       "    .dataframe tbody tr th {\n",
       "        vertical-align: top;\n",
       "    }\n",
       "\n",
       "    .dataframe thead th {\n",
       "        text-align: right;\n",
       "    }\n",
       "</style>\n",
       "<table border=\"1\" class=\"dataframe\">\n",
       "  <thead>\n",
       "    <tr style=\"text-align: right;\">\n",
       "      <th></th>\n",
       "      <th>docid</th>\n",
       "      <th>match</th>\n",
       "      <th>string</th>\n",
       "      <th>start</th>\n",
       "      <th>end</th>\n",
       "      <th>addentity</th>\n",
       "      <th>label</th>\n",
       "      <th>entstart</th>\n",
       "      <th>entend</th>\n",
       "    </tr>\n",
       "  </thead>\n",
       "  <tbody>\n",
       "    <tr>\n",
       "      <th>2475</th>\n",
       "      <td>8562</td>\n",
       "      <td>rubio</td>\n",
       "      <td>rubio</td>\n",
       "      <td>33</td>\n",
       "      <td>34</td>\n",
       "      <td></td>\n",
       "      <td></td>\n",
       "      <td></td>\n",
       "      <td></td>\n",
       "    </tr>\n",
       "    <tr>\n",
       "      <th>2474</th>\n",
       "      <td>8552</td>\n",
       "      <td>miguel</td>\n",
       "      <td>Miguel</td>\n",
       "      <td>687</td>\n",
       "      <td>688</td>\n",
       "      <td></td>\n",
       "      <td></td>\n",
       "      <td></td>\n",
       "      <td></td>\n",
       "    </tr>\n",
       "    <tr>\n",
       "      <th>2473</th>\n",
       "      <td>8536</td>\n",
       "      <td>corral</td>\n",
       "      <td>corral</td>\n",
       "      <td>36</td>\n",
       "      <td>37</td>\n",
       "      <td></td>\n",
       "      <td></td>\n",
       "      <td></td>\n",
       "      <td></td>\n",
       "    </tr>\n",
       "    <tr>\n",
       "      <th>2472</th>\n",
       "      <td>8513</td>\n",
       "      <td>juan de la palma</td>\n",
       "      <td>Juan de la Palma</td>\n",
       "      <td>3</td>\n",
       "      <td>7</td>\n",
       "      <td></td>\n",
       "      <td></td>\n",
       "      <td></td>\n",
       "      <td></td>\n",
       "    </tr>\n",
       "    <tr>\n",
       "      <th>2466</th>\n",
       "      <td>8507</td>\n",
       "      <td>bautista</td>\n",
       "      <td>Bautista</td>\n",
       "      <td>73</td>\n",
       "      <td>74</td>\n",
       "      <td></td>\n",
       "      <td></td>\n",
       "      <td></td>\n",
       "      <td></td>\n",
       "    </tr>\n",
       "    <tr>\n",
       "      <th>...</th>\n",
       "      <td>...</td>\n",
       "      <td>...</td>\n",
       "      <td>...</td>\n",
       "      <td>...</td>\n",
       "      <td>...</td>\n",
       "      <td>...</td>\n",
       "      <td>...</td>\n",
       "      <td>...</td>\n",
       "      <td>...</td>\n",
       "    </tr>\n",
       "    <tr>\n",
       "      <th>15</th>\n",
       "      <td>100</td>\n",
       "      <td>maria</td>\n",
       "      <td>maria</td>\n",
       "      <td>82</td>\n",
       "      <td>83</td>\n",
       "      <td></td>\n",
       "      <td></td>\n",
       "      <td></td>\n",
       "      <td></td>\n",
       "    </tr>\n",
       "    <tr>\n",
       "      <th>12</th>\n",
       "      <td>95</td>\n",
       "      <td>ana</td>\n",
       "      <td>ana</td>\n",
       "      <td>55</td>\n",
       "      <td>56</td>\n",
       "      <td></td>\n",
       "      <td></td>\n",
       "      <td></td>\n",
       "      <td></td>\n",
       "    </tr>\n",
       "    <tr>\n",
       "      <th>11</th>\n",
       "      <td>93</td>\n",
       "      <td>roque</td>\n",
       "      <td>roque</td>\n",
       "      <td>48</td>\n",
       "      <td>49</td>\n",
       "      <td></td>\n",
       "      <td></td>\n",
       "      <td></td>\n",
       "      <td></td>\n",
       "    </tr>\n",
       "    <tr>\n",
       "      <th>7</th>\n",
       "      <td>85</td>\n",
       "      <td>señor prouisor</td>\n",
       "      <td>señor prouisor</td>\n",
       "      <td>23</td>\n",
       "      <td>25</td>\n",
       "      <td></td>\n",
       "      <td></td>\n",
       "      <td></td>\n",
       "      <td></td>\n",
       "    </tr>\n",
       "    <tr>\n",
       "      <th>9</th>\n",
       "      <td>85</td>\n",
       "      <td>juan de la palma</td>\n",
       "      <td>juan de la palma</td>\n",
       "      <td>11</td>\n",
       "      <td>15</td>\n",
       "      <td></td>\n",
       "      <td></td>\n",
       "      <td></td>\n",
       "      <td></td>\n",
       "    </tr>\n",
       "  </tbody>\n",
       "</table>\n",
       "<p>1624 rows × 9 columns</p>\n",
       "</div>"
      ],
      "text/plain": [
       "      docid             match            string  start  end addentity label  \\\n",
       "2475   8562             rubio             rubio     33   34                   \n",
       "2474   8552            miguel            Miguel    687  688                   \n",
       "2473   8536            corral            corral     36   37                   \n",
       "2472   8513  juan de la palma  Juan de la Palma      3    7                   \n",
       "2466   8507          bautista          Bautista     73   74                   \n",
       "...     ...               ...               ...    ...  ...       ...   ...   \n",
       "15      100             maria             maria     82   83                   \n",
       "12       95               ana               ana     55   56                   \n",
       "11       93             roque             roque     48   49                   \n",
       "7        85    señor prouisor    señor prouisor     23   25                   \n",
       "9        85  juan de la palma  juan de la palma     11   15                   \n",
       "\n",
       "     entstart entend  \n",
       "2475                  \n",
       "2474                  \n",
       "2473                  \n",
       "2472                  \n",
       "2466                  \n",
       "...       ...    ...  \n",
       "15                    \n",
       "12                    \n",
       "11                    \n",
       "7                     \n",
       "9                     \n",
       "\n",
       "[1624 rows x 9 columns]"
      ]
     },
     "execution_count": 177,
     "metadata": {},
     "output_type": "execute_result"
    }
   ],
   "source": [
    "untaggedPERS_df"
   ]
  },
  {
   "cell_type": "markdown",
   "metadata": {},
   "source": [
    "That leaves 1,624 potentially untagged PER entities to look at. "
   ]
  },
  {
   "cell_type": "code",
   "execution_count": 178,
   "metadata": {},
   "outputs": [],
   "source": [
    "untaggedPERS_df.to_csv('Files_Cleaning4/untaggedPERstrings_strat1_clean.csv')"
   ]
  },
  {
   "cell_type": "code",
   "execution_count": 187,
   "metadata": {},
   "outputs": [],
   "source": [
    "import pandas\n",
    "untaggedPERS_df = pd.read_csv('Files_Cleaning4/untaggedPERstrings_strat1_manual.csv')"
   ]
  },
  {
   "cell_type": "code",
   "execution_count": 191,
   "metadata": {},
   "outputs": [],
   "source": [
    "untaggedPERS_df = untaggedPERS_df.fillna('')"
   ]
  },
  {
   "cell_type": "code",
   "execution_count": 190,
   "metadata": {},
   "outputs": [],
   "source": [
    "count = 0\n",
    "for (index, row) in untaggedPERS_df.iterrows():\n",
    "    if row['addentity']==:\n",
    "        count=count+1\n",
    "        print(count)\n",
    "        print(row['string'], row['match'])\n",
    "        docid = row['docid']\n",
    "        if ' ' in row['string']:\n",
    "            strlist = row['string'].split()\n",
    "        else: \n",
    "            strlist = [row['string']]\n",
    "        for doc, context in docs:\n",
    "            if context['id'] == docid: \n",
    "                for token in doc:\n",
    "                    b=0\n",
    "                    if token.ent_iob == 2 and token.text.lower()==strlist[0].lower():\n",
    "                        start = token.i\n",
    "                        while (b<len(strlist)) and (str(doc[start+b].text).lower() == strlist[b].lower()):\n",
    "                            b= b+1\n",
    "                        end = start + b\n",
    "                        span = doc[start:end]\n",
    "                        print(span)\n",
    "                        if (b !=0) and (len(range(start,end)) == len(strlist)):\n",
    "                            try:\n",
    "                                displacy.render(doc[start-5:end+5],style='ent',jupyter=True)\n",
    "                            except:\n",
    "                                displacy.render(doc[start:end+5],style='ent',jupyter=True)\n",
    "                            untaggedPERS_df.loc[index, 'addentity']=input('Add?')\n",
    "                        clear_output(wait=True)"
   ]
  },
  {
   "cell_type": "markdown",
   "metadata": {},
   "source": [
    "Note: in this notebook I am only marking PER entities as 1. Some of these entities are clearly LOC entities, but these will be better found with LOC strings. "
   ]
  },
  {
   "cell_type": "code",
   "execution_count": 98,
   "metadata": {},
   "outputs": [
    {
     "data": {
      "text/plain": [
       "'pintor'"
      ]
     },
     "execution_count": 98,
     "metadata": {},
     "output_type": "execute_result"
    }
   ],
   "source": [
    "doc[start+b].text.lower()"
   ]
  },
  {
   "cell_type": "code",
   "execution_count": 192,
   "metadata": {},
   "outputs": [
    {
     "data": {
      "text/html": [
       "<div>\n",
       "<style scoped>\n",
       "    .dataframe tbody tr th:only-of-type {\n",
       "        vertical-align: middle;\n",
       "    }\n",
       "\n",
       "    .dataframe tbody tr th {\n",
       "        vertical-align: top;\n",
       "    }\n",
       "\n",
       "    .dataframe thead th {\n",
       "        text-align: right;\n",
       "    }\n",
       "</style>\n",
       "<table border=\"1\" class=\"dataframe\">\n",
       "  <thead>\n",
       "    <tr style=\"text-align: right;\">\n",
       "      <th></th>\n",
       "      <th>Unnamed: 0</th>\n",
       "      <th>docid</th>\n",
       "      <th>match</th>\n",
       "      <th>string</th>\n",
       "      <th>start</th>\n",
       "      <th>end</th>\n",
       "      <th>label</th>\n",
       "      <th>entstart</th>\n",
       "      <th>entend</th>\n",
       "    </tr>\n",
       "    <tr>\n",
       "      <th>addentity</th>\n",
       "      <th></th>\n",
       "      <th></th>\n",
       "      <th></th>\n",
       "      <th></th>\n",
       "      <th></th>\n",
       "      <th></th>\n",
       "      <th></th>\n",
       "      <th></th>\n",
       "      <th></th>\n",
       "    </tr>\n",
       "  </thead>\n",
       "  <tbody>\n",
       "    <tr>\n",
       "      <th></th>\n",
       "      <td>1188</td>\n",
       "      <td>1188</td>\n",
       "      <td>1188</td>\n",
       "      <td>1188</td>\n",
       "      <td>1188</td>\n",
       "      <td>1188</td>\n",
       "      <td>1188</td>\n",
       "      <td>1188</td>\n",
       "      <td>1188</td>\n",
       "    </tr>\n",
       "    <tr>\n",
       "      <th>0</th>\n",
       "      <td>378</td>\n",
       "      <td>378</td>\n",
       "      <td>378</td>\n",
       "      <td>378</td>\n",
       "      <td>378</td>\n",
       "      <td>378</td>\n",
       "      <td>378</td>\n",
       "      <td>378</td>\n",
       "      <td>378</td>\n",
       "    </tr>\n",
       "    <tr>\n",
       "      <th>1</th>\n",
       "      <td>53</td>\n",
       "      <td>53</td>\n",
       "      <td>53</td>\n",
       "      <td>53</td>\n",
       "      <td>53</td>\n",
       "      <td>53</td>\n",
       "      <td>53</td>\n",
       "      <td>53</td>\n",
       "      <td>53</td>\n",
       "    </tr>\n",
       "    <tr>\n",
       "      <th>len</th>\n",
       "      <td>5</td>\n",
       "      <td>5</td>\n",
       "      <td>5</td>\n",
       "      <td>5</td>\n",
       "      <td>5</td>\n",
       "      <td>5</td>\n",
       "      <td>5</td>\n",
       "      <td>5</td>\n",
       "      <td>5</td>\n",
       "    </tr>\n",
       "  </tbody>\n",
       "</table>\n",
       "</div>"
      ],
      "text/plain": [
       "           Unnamed: 0  docid  match  string  start   end  label  entstart  \\\n",
       "addentity                                                                   \n",
       "                 1188   1188   1188    1188   1188  1188   1188      1188   \n",
       "0                 378    378    378     378    378   378    378       378   \n",
       "1                  53     53     53      53     53    53     53        53   \n",
       "len                 5      5      5       5      5     5      5         5   \n",
       "\n",
       "           entend  \n",
       "addentity          \n",
       "             1188  \n",
       "0             378  \n",
       "1              53  \n",
       "len             5  "
      ]
     },
     "execution_count": 192,
     "metadata": {},
     "output_type": "execute_result"
    }
   ],
   "source": [
    "untaggedPERS_df.groupby('addentity').count()"
   ]
  },
  {
   "cell_type": "code",
   "execution_count": 184,
   "metadata": {},
   "outputs": [],
   "source": [
    "untaggedPERS_df.to_csv('Files_Cleaning4/untaggedPERstrings_strat1_manual.csv')"
   ]
  },
  {
   "cell_type": "code",
   "execution_count": null,
   "metadata": {},
   "outputs": [],
   "source": []
  }
 ],
 "metadata": {
  "kernelspec": {
   "display_name": "Python 3",
   "language": "python",
   "name": "python3"
  },
  "language_info": {
   "codemirror_mode": {
    "name": "ipython",
    "version": 3
   },
   "file_extension": ".py",
   "mimetype": "text/x-python",
   "name": "python",
   "nbconvert_exporter": "python",
   "pygments_lexer": "ipython3",
   "version": "3.7.6"
  }
 },
 "nbformat": 4,
 "nbformat_minor": 4
}
