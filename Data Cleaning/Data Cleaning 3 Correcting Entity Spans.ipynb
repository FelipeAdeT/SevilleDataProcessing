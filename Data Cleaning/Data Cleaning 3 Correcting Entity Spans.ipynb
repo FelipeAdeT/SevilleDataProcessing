{
 "cells": [
  {
   "cell_type": "markdown",
   "metadata": {},
   "source": [
    "# Data Cleaning 3: Correcting Entity Spans (short)\n",
    "\n",
    "Search for tokens to the left and right of a tagged person that appear in the entity list and the name lists and have not been tagged as entities. We can import the spacy docs, each token should have an entity tag = 0. "
   ]
  },
  {
   "cell_type": "code",
   "execution_count": 1,
   "metadata": {},
   "outputs": [],
   "source": [
    "from IPython.display import clear_output\n",
    "import spacy\n",
    "from spacy import displacy\n",
    "\n",
    "import pickle"
   ]
  },
  {
   "cell_type": "code",
   "execution_count": 2,
   "metadata": {},
   "outputs": [],
   "source": [
    "import pandas as pd"
   ]
  },
  {
   "cell_type": "code",
   "execution_count": 3,
   "metadata": {},
   "outputs": [],
   "source": [
    "file = open(\"Files_Cleaning2/NER_data_Cleaned22.p\", 'rb')\n",
    "docs = pickle.load(file)"
   ]
  },
  {
   "cell_type": "markdown",
   "metadata": {},
   "source": [
    "Let's import the file with the list of tokens appearing in our 3 lists, manually checked for dubious options, and filter those out. "
   ]
  },
  {
   "cell_type": "code",
   "execution_count": 4,
   "metadata": {},
   "outputs": [],
   "source": [
    "names = pd.read_excel(\"Files_Cleaning2/EntityTokensinKFLNamelists_manual_check.xlsx\")"
   ]
  },
  {
   "cell_type": "code",
   "execution_count": 8,
   "metadata": {},
   "outputs": [
    {
     "data": {
      "text/html": [
       "<div>\n",
       "<style scoped>\n",
       "    .dataframe tbody tr th:only-of-type {\n",
       "        vertical-align: middle;\n",
       "    }\n",
       "\n",
       "    .dataframe tbody tr th {\n",
       "        vertical-align: top;\n",
       "    }\n",
       "\n",
       "    .dataframe thead th {\n",
       "        text-align: right;\n",
       "    }\n",
       "</style>\n",
       "<table border=\"1\" class=\"dataframe\">\n",
       "  <thead>\n",
       "    <tr style=\"text-align: right;\">\n",
       "      <th></th>\n",
       "      <th>token</th>\n",
       "    </tr>\n",
       "    <tr>\n",
       "      <th>check</th>\n",
       "      <th></th>\n",
       "    </tr>\n",
       "  </thead>\n",
       "  <tbody>\n",
       "    <tr>\n",
       "      <th>1.0</th>\n",
       "      <td>311</td>\n",
       "    </tr>\n",
       "    <tr>\n",
       "      <th>0</th>\n",
       "      <td>1617</td>\n",
       "    </tr>\n",
       "  </tbody>\n",
       "</table>\n",
       "</div>"
      ],
      "text/plain": [
       "       token\n",
       "check       \n",
       "1.0      311\n",
       "0       1617"
      ]
     },
     "execution_count": 8,
     "metadata": {},
     "output_type": "execute_result"
    }
   ],
   "source": [
    "names.fillna('0').groupby('check').count()"
   ]
  },
  {
   "cell_type": "code",
   "execution_count": 6,
   "metadata": {},
   "outputs": [],
   "source": [
    "acceptednames = names.loc[names['check']!=1,'token'].tolist()"
   ]
  },
  {
   "cell_type": "code",
   "execution_count": 9,
   "metadata": {},
   "outputs": [],
   "source": [
    "acceptednames = list(set(acceptednames))"
   ]
  },
  {
   "cell_type": "code",
   "execution_count": 10,
   "metadata": {},
   "outputs": [
    {
     "data": {
      "text/plain": [
       "1617"
      ]
     },
     "execution_count": 10,
     "metadata": {},
     "output_type": "execute_result"
    }
   ],
   "source": [
    "len(acceptednames)"
   ]
  },
  {
   "cell_type": "markdown",
   "metadata": {},
   "source": [
    "We can also add tokens from our name lists that did not appear in our tagged tokens, but might be elsewhere in the documents."
   ]
  },
  {
   "cell_type": "code",
   "execution_count": 11,
   "metadata": {},
   "outputs": [],
   "source": [
    "fnames = open(\"DBE_Names/firstnames.txt\", 'r')\n",
    "lnames = open(\"DBE_Names/lastnames.txt\",'r')"
   ]
  },
  {
   "cell_type": "code",
   "execution_count": 12,
   "metadata": {},
   "outputs": [],
   "source": [
    "DBEnames = []\n",
    "\n",
    "for line in fnames:\n",
    "    DBEnames.append(line.rstrip('\\n'))\n",
    "    \n",
    "for line in lnames:\n",
    "    DBEnames.append(line.rstrip('\\n'))"
   ]
  },
  {
   "cell_type": "code",
   "execution_count": 13,
   "metadata": {},
   "outputs": [],
   "source": [
    "DBEnames = set(DBEnames)"
   ]
  },
  {
   "cell_type": "code",
   "execution_count": 14,
   "metadata": {},
   "outputs": [
    {
     "data": {
      "text/plain": [
       "10005"
      ]
     },
     "execution_count": 14,
     "metadata": {},
     "output_type": "execute_result"
    }
   ],
   "source": [
    "len(DBEnames)"
   ]
  },
  {
   "cell_type": "markdown",
   "metadata": {},
   "source": [
    "Iterating through the rows, we found some tokens that are not necessary in these lists. We'll remove them:\n",
    "maestro\n",
    "licenciado\n",
    "bachiller\n",
    "maestre\n",
    "fray\n",
    "nombre\n",
    "jurado\n",
    "notario\n",
    "vicario\n",
    "mercader\n",
    "escribano"
   ]
  },
  {
   "cell_type": "code",
   "execution_count": 15,
   "metadata": {},
   "outputs": [
    {
     "data": {
      "text/plain": [
       "True"
      ]
     },
     "execution_count": 15,
     "metadata": {},
     "output_type": "execute_result"
    }
   ],
   "source": [
    "'maestro' in DBEnames"
   ]
  },
  {
   "cell_type": "code",
   "execution_count": 16,
   "metadata": {},
   "outputs": [
    {
     "data": {
      "text/plain": [
       "True"
      ]
     },
     "execution_count": 16,
     "metadata": {},
     "output_type": "execute_result"
    }
   ],
   "source": [
    "'licenciado' in DBEnames"
   ]
  },
  {
   "cell_type": "code",
   "execution_count": 17,
   "metadata": {},
   "outputs": [
    {
     "data": {
      "text/plain": [
       "True"
      ]
     },
     "execution_count": 17,
     "metadata": {},
     "output_type": "execute_result"
    }
   ],
   "source": [
    "'bachiller' in DBEnames"
   ]
  },
  {
   "cell_type": "code",
   "execution_count": 18,
   "metadata": {},
   "outputs": [
    {
     "data": {
      "text/plain": [
       "True"
      ]
     },
     "execution_count": 18,
     "metadata": {},
     "output_type": "execute_result"
    }
   ],
   "source": [
    "'maestre' in DBEnames"
   ]
  },
  {
   "cell_type": "code",
   "execution_count": 19,
   "metadata": {},
   "outputs": [
    {
     "data": {
      "text/plain": [
       "True"
      ]
     },
     "execution_count": 19,
     "metadata": {},
     "output_type": "execute_result"
    }
   ],
   "source": [
    "'fray' in DBEnames"
   ]
  },
  {
   "cell_type": "code",
   "execution_count": 20,
   "metadata": {},
   "outputs": [
    {
     "data": {
      "text/plain": [
       "True"
      ]
     },
     "execution_count": 20,
     "metadata": {},
     "output_type": "execute_result"
    }
   ],
   "source": [
    "'nombre' in DBEnames"
   ]
  },
  {
   "cell_type": "code",
   "execution_count": 21,
   "metadata": {},
   "outputs": [
    {
     "data": {
      "text/plain": [
       "True"
      ]
     },
     "execution_count": 21,
     "metadata": {},
     "output_type": "execute_result"
    }
   ],
   "source": [
    "'jurado' in DBEnames"
   ]
  },
  {
   "cell_type": "code",
   "execution_count": 22,
   "metadata": {},
   "outputs": [
    {
     "data": {
      "text/plain": [
       "True"
      ]
     },
     "execution_count": 22,
     "metadata": {},
     "output_type": "execute_result"
    }
   ],
   "source": [
    "'notario' in DBEnames"
   ]
  },
  {
   "cell_type": "code",
   "execution_count": 23,
   "metadata": {},
   "outputs": [
    {
     "data": {
      "text/plain": [
       "True"
      ]
     },
     "execution_count": 23,
     "metadata": {},
     "output_type": "execute_result"
    }
   ],
   "source": [
    "'vicario' in DBEnames"
   ]
  },
  {
   "cell_type": "code",
   "execution_count": 24,
   "metadata": {},
   "outputs": [
    {
     "data": {
      "text/plain": [
       "True"
      ]
     },
     "execution_count": 24,
     "metadata": {},
     "output_type": "execute_result"
    }
   ],
   "source": [
    "'mercader' in DBEnames"
   ]
  },
  {
   "cell_type": "code",
   "execution_count": 25,
   "metadata": {},
   "outputs": [
    {
     "data": {
      "text/plain": [
       "True"
      ]
     },
     "execution_count": 25,
     "metadata": {},
     "output_type": "execute_result"
    }
   ],
   "source": [
    "'escribano' in DBEnames"
   ]
  },
  {
   "cell_type": "code",
   "execution_count": 26,
   "metadata": {},
   "outputs": [],
   "source": [
    "DBEnames.remove('maestro')"
   ]
  },
  {
   "cell_type": "code",
   "execution_count": 27,
   "metadata": {},
   "outputs": [],
   "source": [
    "DBEnames.remove('licenciado')\n",
    "DBEnames.remove('bachiller')"
   ]
  },
  {
   "cell_type": "code",
   "execution_count": 28,
   "metadata": {},
   "outputs": [],
   "source": [
    "DBEnames.remove('maestre')\n",
    "DBEnames.remove('fray')\n",
    "DBEnames.remove('nombre')\n",
    "DBEnames.remove('jurado')\n",
    "DBEnames.remove('notario')\n",
    "DBEnames.remove('vicario')\n",
    "DBEnames.remove('mercader')"
   ]
  },
  {
   "cell_type": "code",
   "execution_count": 29,
   "metadata": {},
   "outputs": [],
   "source": [
    "DBEnames.remove('escribano')"
   ]
  },
  {
   "cell_type": "markdown",
   "metadata": {},
   "source": [
    "Let's look at the tokens that appear in the DBE list but do not form part of any entity (token.ent_iob is 2). "
   ]
  },
  {
   "cell_type": "code",
   "execution_count": 30,
   "metadata": {},
   "outputs": [],
   "source": [
    "untagged = []\n",
    "for doc,context in docs:\n",
    "    for token in doc:\n",
    "        if (token.ent_iob==2) and ((token.text.lower() in DBEnames)):\n",
    "            untagged.append(token.text)"
   ]
  },
  {
   "cell_type": "code",
   "execution_count": 31,
   "metadata": {},
   "outputs": [
    {
     "data": {
      "text/plain": [
       "79780"
      ]
     },
     "execution_count": 31,
     "metadata": {},
     "output_type": "execute_result"
    }
   ],
   "source": [
    "len(untagged)"
   ]
  },
  {
   "cell_type": "code",
   "execution_count": 32,
   "metadata": {
    "collapsed": true,
    "jupyter": {
     "outputs_hidden": true
    }
   },
   "outputs": [
    {
     "name": "stdout",
     "output_type": "stream",
     "text": [
      "{'vera', 'bejar', 'labrador', 'hijas', 'campo', 'estada', 'salvador', 'Chaves', 'osuna', 'Hospital', 'peru', 'Ignacio', 'vuelta', 'bassa', 'oleo', 'Hombre', 'Jesus', 'romero', 'crespo', 'balduque', 'iglesias', 'obligado', 'horno', 'andino', 'provecho', 'balle', 'macia', 'batista', 'sota', 'coronel', 'linage', 'regla', 'Morales', 'angeles', 'negro', 'phelipe', 'balmazeda', 'Segunda', 'treviño', 'Rico', 'Corte', 'dominico', 'escriba', 'garcia', 'Monteros', 'sobrino', 'Yermo', 'Batista', 'celada', 'castellanos', 'tornos', 'llanas', 'juan', 'maeda', 'sillero', 'raso', 'Tome', 'Restan', 'Jacob', 'coll', 'plaza', 'peon', 'linaza', 'Villanueva', 'salcedo', 'remesal', 'pared', 'ursula', 'Aldana', 'laurencio', 'Amparo', 'eliseo', 'tizon', 'Justa', 'criado', 'Ramo', 'castillejo', 'mina', 'limpias', 'plata', 'CARTA', 'gallego', 'Perez', 'lara', 'Carta', 'gato', 'purificacion', 'Junta', 'cuentas', 'palomares', 'benegas', 'monasterio', 'rueda', 'rincon', 'camacho', 'Perea', 'rosa', 'anunciacion', 'barrera', 'matis', 'Esperanza', 'ventura', 'blancas', 'Oviedo', 'rato', 'gozar', 'flores', 'conrado', 'gragera', 'bassas', 'falconete', 'herrero', 'baranda', 'pardo', 'Justicia', 'Rodrigues', 'tomasa', 'tomas', 'Pablo', 'mira', 'fierro', 'arroyo', 'aguilar', 'bermejo', 'hernan', 'anna', 'PLATA', 'alas', 'marzo', 'PERO', 'Austria', 'rosas', 'Alvaro', 'antequera', 'hurtado', 'parada', 'alli', 'moldes', 'piedad', 'castellar', 'alameda', 'frutos', 'chico', 'marta', 'simon', 'Bruno', 'gavilan', 'jardin', 'bartolomeo', 'Puente', 'Ribas', 'Flecha', 'ladron', 'Reyes', 'baca', 'ponce', 'guevara', 'gallegos', 'toro', 'lucia', 'anejo', 'bolos', 'molina', 'navajas', 'sese', 'della', 'Piscina', 'Gutierrez', 'Hernan', 'Angel', 'blanco', 'diego', 'buenaventura', 'pes', 'sierpe', 'terreros', 'barbero', 'dehesa', 'pedroso', 'valor', 'quiñones', 'gusta', 'bodega', 'gines', 'llamas', 'acha', 'cavallero', 'concepcion', 'Cuesta', 'toma', 'pino', 'mancebo', 'corral', 'verdes', 'rua', 'saco', 'carlos', 'polo', 'fuente', 'cabeza', 'Diego', 'fuertes', 'beata', 'vaca', 'page', 'paula', 'Clemencia', 'Mesa', 'David', 'hernando', 'bailo', 'sas', 'encarnacion', 'quadra', 'contador', 'Alonso', 'quero', 'Olivares', 'franco', 'pablo', 'Rafael', 'mayor', 'Concha', 'Pino', 'Ramon', 'guerra', 'Pinos', 'tadeo', 'cansino', 'fajardo', 'Solano', 'elias', 'Leyes', 'Coronado', 'melchior', 'Monte', 'beatriz', 'toscano', 'lucas', 'riba', 'olivar', 'trinidad', 'falcon', 'alamin', 'moneda', 'honorio', 'barreda', 'cerro', 'verdad', 'niño', 'nieto', 'Margarita', 'Ronda', 'aguila', 'martel', 'corro', 'pimentel', 'coronado', 'cadena', 'mor', 'Carvajal', 'montagudo', 'cajes', 'garnica', 'Cristobal', 'Armas', 'Baptista', 'lopes', 'Alvarez', 'carpintero', 'deu', 'lista', 'coto', 'rea', 'portal', 'tienda', 'malo', 'barco', 'Paez', 'abad', 'caldero', 'pares', 'villafuerte', 'jesus', 'Vega', 'piedra', 'Espinosa', 'portales', 'Barbero', 'millan', 'orozco', 'Delgado', 'cortada', 'posada', 'montesdoca', 'pilares', 'bela', 'Fuentes', 'Toma', 'fuerte', 'huerta', 'Bandera', 'pinos', 'cameros', 'Velasco', 'terrero', 'peñafiel', 'Costa', 'duque', 'Guillermo', 'geronimo', 'quintero', 'alba', 'solera', 'Clemente', 'jacome', 'yañez', 'bocanegra', 'montañes', 'martines', 'Cid', 'cogolludo', 'margarita', 'espinosa', 'gracia', 'becerra', 'atanasio', 'Rosas', 'Carranza', 'cesar', 'casco', 'villa', 'caldera', 'laguna', 'perea', 'restan', 'correa', 'Sa', 'cuevas', 'mariana', 'Teresa', 'arco', 'Piedra', 'Leal', 'pedro', 'archidona', 'benitez', 'capilla', 'Lucas', 'Eliseo', 'delgado', 'tallada', 'Oliva', 'padilla', 'Rio', 'postigo', 'muro', 'eminente', 'Pan', 'vida', 'espejo', 'girona', 'Esteban', 'casto', 'cueva', 'francisco', 'antonio', 'visitacion', 'castañeda', 'cotan', 'Campo', 'liñan', 'fusta', 'Roque', 'matas', 'laso', 'urban', 'bellon', 'Regla', 'celda', 'cantera', 'Reyna', 'Contador', 'huici', 'junta', 'sea', 'Holgado', 'solar', 'gomez', 'gorriti', 'barbara', 'llorente', 'FERNANDO', 'Andres', 'Sea', 'moguer', 'fraile', 'castillo', 'vela', 'portillo', 'geronima', 'casas', 'escala', 'Viejo', 'alderete', 'corrales', 'Cortes', 'cardenas', 'casillas', 'pio', 'blas', 'clara', 'Sas', 'vieja', 'catalina', 'Martin', 'Cabañas', 'Joseph', 'poyo', 'peco', 'manco', 'hermenegildo', 'Enriquez', 'leonor', 'mercedes', 'LUCAS', 'josef', 'dallo', 'Sevilla', 'Padua', 'seso', 'espino', 'ley', 'Puerta', 'ubeda', 'nicolas', 'Fuente', 'monte', 'portes', 'tornero', 'armengol', 'armero', 'salgado', 'amador', 'Benedicto', 'vivo', 'alexos', 'quinto', 'albornoz', 'calero', 'cabrera', 'quirino', 'Guarda', 'texada', 'comino', 'peñas', 'monesterio', 'Mayo', 'Sala', 'MORILLO', 'pilar', 'laurel', 'Maeda', 'Polonia', 'moro', 'fregenal', 'gabriel', 'canales', 'Joachim', 'santana', 'Bueno', 'Mar', 'encima', 'pasqual', 'jordan', 'Rivera', 'Salvador', 'Medina', 'placido', 'josep', 'Atocha', 'Azcona', 'napoles', 'segundo', 'pinto', 'faria', 'cañero', 'moli', 'Lugo', 'argote', 'santisteban', 'cabra', 'holanda', 'prudencio', 'ahumada', 'recalde', 'tosca', 'Rosa', 'farina', 'salado', 'Javier', 'marino', 'cano', 'amarilla', 'magaña', 'Benito', 'carta', 'sacramento', 'tello', 'sotomayor', 'Hamete', 'granado', 'Aguilar', 'Oro', 'magdalena', 'cuadrado', 'vacas', 'marina', 'amparo', 'Iglesia', 'Paulo', 'Feria', 'Redondo', 'felipe', 'ferrero', 'evangelista', 'costa', 'anton', 'seneca', 'des', 'cantero', 'ribadeneira', 'ayala', 'fuero', 'Sacre', 'Cepeda', 'isla', 'prieto', 'angelo', 'morillo', 'candelaria', 'ferran', 'mesas', 'naves', 'pulido', 'fernandes', 'justicia', 'tome', 'sobrado', 'toledano', 'guadalupe', 'alta', 'grado', 'rubio', 'melgarejo', 'hierro', 'mañara', 'cuerda', 'Isidro', 'damian', 'luz', 'armando', 'riesco', 'Vicenta', 'ramo', 'arze', 'Caballos', 'Diaz', 'menor', 'porteria', 'vides', 'red', 'Enrique', 'redonda', 'oliba', 'leyes', 'Jacome', 'paulo', 'guarda', 'marchena', 'novia', 'redondo', 'ginoves', 'alcoba', 'Piedad', 'izquierdo', 'vargas', 'fanegas', 'Granda', 'jerez', 'torres', 'salinas', 'Segundo', 'Artes', 'cañas', 'encinas', 'teodomiro', 'juanes', 'olalla', 'Campofrio', 'Cuevas', 'castroverde', 'sa', 'Mayor', 'puerta', 'Salazar', 'calafate', 'jacinto', 'martir', 'Vitoria', 'calabazas', 'per', 'camara', 'sesma', 'subira', 'centeno', 'granada', 'paz', 'Monserrat', 'doblas', 'Francisco', 'Cuentas', 'soto', 'buelta', 'casado', 'pacheco', 'guardia', 'Santiago', 'angela', 'pastor', 'factor', 'palacios', 'Maria', 'almendras', 'capaz', 'oreja', 'Figueroa', 'feria', 'aguirre', 'Vicente', 'pontones', 'cristo', 'LEAL', 'paredes', 'barrio', 'Moises', 'picado', 'berastegui', 'dueñas', 'baez', 'Anunciacion', 'joseph', 'CAMPO', 'corona', 'marfil', 'mas', 'maria', 'cordon', 'maximiliano', 'mateo', 'Arenales', 'Luis', 'enzinas', 'cedo', 'rozas', 'bes', 'cumplido', 'thomas', 'Cabezas', 'Dios', 'Gonzalez', 'espina', 'madera', 'solares', 'corpus', 'Felipa', 'verde', 'talon', 'artes', 'santiago', 'Ramos', 'utrera', 'ramos', 'Preciado', 'baustista', 'minjares', 'pereira', 'carnero', 'Encarnacion', 'Pero', 'arostegui', 'ballestero', 'bartolome', 'milanes', 'viejo', 'palacio', 'bacio', 'mate', 'mendes', 'Roldan', 'Duque', 'JUAN', 'igual', 'Niño', 'Flandes', 'Dulce', 'maeso', 'estrella', 'dato', 'ARTEAGA', 'leyba', 'jara', 'arteaga', 'marroquin', 'ribera', 'Damian', 'hermoso', 'FRANCISCO', 'sola', 'portugues', 'verdugo', 'alberto', 'Casilda', 'resta', 'serapio', 'chantre', 'pascual', 'junco', 'risco', 'teresa', 'busto', 'bernarda', 'Castillejo', 'justo', 'Panes', 'claros', 'diz', 'arcangel', 'suarez', 'alonso', 'Ruiz', 'Granada', 'luis', 'quadrado', 'ortega', 'hamete', 'Carpio', 'hoyos', 'corta', 'cid', 'varas', 'chacon', 'reina', 'victoria', 'Apostol', 'jusepe', 'Mejorada', 'pazo', 'cabezas', 'Torres', 'paño', 'ropero', 'portero', 'Reina', 'Justiniano', 'onofre', 'losa', 'Ledesma', 'Leandro', 'Solis', 'muros', 'dolores', 'sala', 'remedios', 'serafin', 'esperanza', 'orta', 'lazaro', 'blanca', 'Peña', 'plana', 'francia', 'caballos', 'Jordan', 'nieves', 'aso', 'torquemada', 'espada', 'campana', 'olivares', 'Vuelta', 'Miguel', 'ros', 'angel', 'real', 'romanos', 'cubillana', 'patron', 'aquino', 'torre', 'gregorio', 'poma', 'mayoral', 'Monsalve', 'alcazar', 'pato', 'rio', 'Busto', 'figueroa', 'carrero', 'Rodriguez', 'carton', 'segui', 'carpio', 'du', 'carrasco', 'poza', 'Santana', 'puga', 'Abad', 'Niebla', 'cristiano', 'perfecto', 'marco', 'elena', 'rallo', 'girolamo', 'Bautista', 'Nazareno', 'martin', 'felice', 'nueva', 'perlas', 'caballeria', 'Jose', 'castro', 'espiritu', 'bote', 'Plata', 'Dos', 'cayo', 'dios', 'bona', 'Mariana', 'damas', 'Sebastian', 'Vieja', 'salvo', 'alamo', 'valenzuela', 'machuca', 'seva', 'Francia', 'Armada', 'Amor', 'olanda', 'Musa', 'rosado', 'Elias', 'vega', 'ARELLANO', 'camino', 'haya', 'santisima', 'pareja', 'Gales', 'vivas', 'Paula', 'nuñez', 'concha', 'Aguirre', 'parado', 'baeza', 'isidro', 'ybarra', 'Jacinto', 'barba', 'Flores', 'amor', 'medina', 'Vargas', 'Lara', 'peres', 'grande', 'arias', 'padua', 'coma', 'custodio', 'cabo', 'molinas', 'prado', 'Carmen', 'baptista', 'jesu', 'higuera', 'puebla', 'matheo', 'cerero', 'miguel', 'carrera', 'aguiar', 'mantilla', 'luisa', 'viñas', 'diamante', 'caxa', 'gradilla', 'Esquivel', 'verano', 'Vico', 'clemencia', 'hoz', 'salas', 'justa', 'halcon', 'buey', 'baltazar', 'serrano', 'Custodio', 'molinos', 'cabello', 'ana', 'romano', 'arcos', 'marques', 'clavijo', 'serena', 'cobertores', 'tejada', 'asta', 'Castillo', 'ribas', 'nebreda', 'vandera', 'pradilla', 'La', 'moran', 'tablada', 'lissa', 'socorro', 'austria', 'angulo', 'oliva', 'canela', 'vea', 'domingo', 'peral', 'tercero', 'sayas', 'cuyas', 'sanabria', 'Clara', 'castaño', 'dorado', 'coria', 'francos', 'sastre', 'clemente', 'Jacobo', 'Salamanca', 'montesa', 'mesa', 'Carcel', 'cala', 'sisa', 'ramales', 'Abraham', 'Julio', 'bernardo', 'segunda', 'lanas', 'carmen', 'carro', 'Cabeza', 'capa', 'pinelo', 'Pozo', 'Anna', 'arnao', 'rasa', 'aceites', 'adan', 'rebolledo', 'Magdalena', 'Loyola', 'pazos', 'pecado', 'tristan', 'virrey', 'dionisio', 'aspas', 'lima', 'Felipe', 'puerto', 'tejero', 'Onofre', 'alva', 'dulce', 'Ovejas', 'Banda', 'vizcaino', 'andrea', 'Alberto', 'Visitacion', 'justiniano', 'robledo', 'baños', 'heredia', 'lorenzo', 'pico', 'Chacon', 'rosario', 'bravo', 'bernabe', 'Gregorio', 'asturias', 'Guardia', 'montes', 'yuso', 'sebil', 'Moro', 'escalada', 'Remedios', 'reyna', 'llave', 'Monasterio', 'mora', 'espadero', 'la', 'Encima', 'linden', 'chamorro', 'apostoles', 'peña', 'Letamendi', 'triana', 'vara', 'puertas', 'cantos', 'techo', 'sierra', 'Rosario', 'barra', 'bernardino', 'trigo', 'Rivas', 'daban', 'pozo', 'Pastor', 'Phelipe', 'duro', 'cortina', 'marca', 'vicente', 'hipolito', 'suero', 'Angeles', 'luna', 'quadros', 'abreu', 'Coca', 'Castañeda', 'buy', 'Sevillano', 'mozo', 'capillas', 'leal', 'Juanes', 'Gabriel', 'peñaranda', 'armada', 'MURILLO', 'Mas', 'barca', 'topa', 'milan', 'Gracia', 'texedor', 'piedras', 'romana', 'Juan', 'fuensalida', 'faber', 'caro', 'amigo', 'do', 'Gato', 'allende', 'cordero', 'Simon', 'naval', 'campos', 'navas', 'roque', 'Cosme', 'amado', 'moron', 'Mora', 'jaspe', 'Antonio', 'tapia', 'vico', 'demaria', 'Ana', 'Puga', 'Vida', 'ormigon', 'ortiz', 'aldonza', 'manera', 'Pacheco', 'Jeronimo', 'Resta', 'parra', 'encalada', 'estefania', 'tamariz', 'reta', 'villarrubia', 'granados', 'Marcos', 'reyes', 'fernandez', 'cuellar', 'leandro', 'pulgar', 'Primo', 'nolasco', 'pison', 'santaren', 'alos', 'Romanos', 'Guevara', 'alcayde', 'pita', 'jorge', 'salido', 'Agreda', 'carcel', 'estopiñan', 'diez', 'mayo', 'marmol', 'cuesta', 'Baños', 'Monesterio', 'bargas', 'abarca', 'Bernardo', 'barrionuevo', 'Avila', 'piñon', 'vicuña', 'Cristo', 'benito', 'espiga', 'leonis', 'fernando', 'xavier', 'chinchon', 'Cano', 'cerda', 'Domingo', 'caballero', 'obrador', 'moros', 'andres', 'iglesia', 'caja', 'hidalgo', 'cazalla', 'nazareno', 'anda', 'Rita', 'primo', 'pagan', 'Rojo', 'Hermosa', 'sidonia', 'valle', 'cabañas', 'acosta', 'flecha', 'viga', 'Liñan', 'joven', 'carranza', 'monteagudo', 'Crispin', 'Lechuga', 'Conde', 'jamete', 'Aguas', 'Ruis', 'consolacion', 'escoto', 'mar', 'Casas', 'Espada', 'suelto', 'muñecas', 'bautista', 'parrales', 'Espina', 'vergara', 'Isabel', 'trigueros', 'ferrer', 'Albo', 'arellano', 'testera', 'troyano', 'cordova', 'aras', 'Francisca', 'Susana', 'Redonda', 'aguas', 'patricio', 'calis', 'boquete', 'baso', 'julio', 'hazen', 'alamos', 'Obligado', 'Fernando', 'alcantara', 'escaño', 'pavon', 'cuero', 'Palma', 'azuaga', 'plano', 'aleman', 'malagon', 'basta', 'fuentes', 'Portugal', 'banda', 'Saeta', 'peinado', 'Luisa', 'Nieto', 'michel', 'calvo', 'jose', 'duran', 'contreras', 'fita', 'leonardo', 'porto', 'dos', 'brabante', 'costas', 'puente', 'freses', 'Malagon', 'arguello', 'carnicero', 'MORENO', 'Evangelista', 'Laureano', 'toral', 'Alameda', 'Carlos', 'Dorado', 'ines', 'Catarina', 'talavera', 'Caso', 'ruis', 'hornero', 'Paz', 'apostol', 'paterna', 'Santisima', 'hermosa', 'Santisteban', 'montaña', 'Vela', 'flandes', 'mal', 'Borja', 'millares', 'matos', 'Pedro', 'cancela', 'lis', 'canto', 'Ribera', 'Romana', 'herreros', 'hoyo', 'matias', 'Manzanos', 'Pimentel', 'Cecilia', 'morales', 'pero', 'Marina', 'Daniel', 'olmos', 'Quinto', 'Caballero', 'lebrija', 'pecador', 'bacas', 'casta', 'cantillo', 'pan', 'caula', 'ceron', 'francisca', 'agustin', 'Gallego', 'villacastin', 'herrera', 'Nueva', 'caño', 'Corpus', 'casos', 'rico', 'palma', 'moreno', 'baro', 'Trinidad', 'abello', 'vasco', 'bruno', 'panes', 'moya', 'polonia', 'texeda', 'cosa', 'Antequera', 'sales', 'Romero', 'Lista', 'sacristan', 'giron', 'aroche', 'loyola', 'linaje', 'estrada', 'costales', 'Soto', 'balanza', 'lopez', 'leon', 'lindo', 'pere', 'hospital', 'carbon', 'labrada', 'ovejas', 'Villa', 'Geronima', 'vermondo', 'bueno', 'conde', 'foi', 'baga', 'baltasar', 'corte', 'rodrigo', 'monge', 'alfonso', 'escuderos', 'van', 'coçar', 'Real', 'maldonado', 'oro', 'llano', 'mathe', 'ambrosio', 'GUERRA', 'monto', 'ayllon', 'Robles', 'palos', 'juste', 'enjuta', 'guzman', 'Lorenzo', 'corrientes', 'farfan', 'alexo', 'chica', 'Cantero', 'coco', 'cesare', 'caxon', 'santillan', 'gala', 'crisostomo', 'Linaje', 'isabel', 'Josef', 'estupiñan', 'gil', 'brea', 'Bernardino', 'tirado', 'hombre', 'Concepcion', 'lana', 'asuncion', 'petronila', 'mejorada', 'giraldo', 'diaz', 'canal', 'bello', 'escudero', 'varillas', 'meneses', 'vallados', 'escriva', 'monserrate', 'capuz', 'albear', 'beato', 'bustos', 'franscisco', 'marcos', 'Alfonso', 'gonçalo', 'hera', 'porras', 'llanos', 'arenas', 'Catalina', 'lossa', 'castilla', 'frances', 'armas', 'mercado', 'Cuerda', 'bandera', 'bailon', 'guerrero', 'flor', 'escalera', 'von', 'hortigas', 'segura', 'Marques', 'Capilla', 'joan', 'acuña', 'Valle', 'montano', 'catalan', 'cortes', 'Gallo', 'Henrique', 'lerma', 'caso', 'Sacramento', 'cean', 'Vermondo', 'balbuena'}\n"
     ]
    }
   ],
   "source": [
    "print(set(untagged))"
   ]
  },
  {
   "cell_type": "code",
   "execution_count": 33,
   "metadata": {},
   "outputs": [
    {
     "data": {
      "text/plain": [
       "1464"
      ]
     },
     "execution_count": 33,
     "metadata": {},
     "output_type": "execute_result"
    }
   ],
   "source": [
    "len(set(untagged))"
   ]
  },
  {
   "cell_type": "markdown",
   "metadata": {},
   "source": [
    "It would be wise to review this list of 1,478 tokens manually to determine which are names for sure and which are dubious. But first, let's see how many of these matches (DBE and acceptednames) happen adjacent to a PER entity (before or after) to see which spans we have to edit."
   ]
  },
  {
   "cell_type": "markdown",
   "metadata": {},
   "source": [
    "# Strategy 1: Exact Matching in Lists"
   ]
  },
  {
   "cell_type": "code",
   "execution_count": 34,
   "metadata": {},
   "outputs": [
    {
     "data": {
      "text/plain": [
       "martin"
      ]
     },
     "execution_count": 34,
     "metadata": {},
     "output_type": "execute_result"
    }
   ],
   "source": [
    "docs[0][0][1]"
   ]
  },
  {
   "cell_type": "markdown",
   "metadata": {},
   "source": [
    "I want a rule that looks in front or behind of a PER entity. If that token is in the name list and is not tagged as an entity, I want it to be appended to our list. If the token is de, el or la (single or plural), I want it to move to the nex token. "
   ]
  },
  {
   "cell_type": "code",
   "execution_count": 35,
   "metadata": {},
   "outputs": [],
   "source": [
    "nexttopers = []\n",
    "for doc,context in docs:\n",
    "    for ent in doc.ents:\n",
    "        if ent.label_=='PER':\n",
    "            try:\n",
    "                i = 1\n",
    "                a = doc[ent.start-i]\n",
    "                while a.text.lower() == 'de' or a.text.lower() =='del' or a.text.lower() == 'la'or a.text == 'el' or a.text == 'los' or a.text == 'las' or a.text == 'y':\n",
    "                    i = i+1\n",
    "                    a = doc[ent.start-i]\n",
    "                if (a.ent_iob==2) and ((a.text.lower() in acceptednames) or (a.text.lower() in DBEnames)):\n",
    "                    nexttopers.append(a.text)\n",
    "            except: \n",
    "                pass\n",
    "            try:\n",
    "                i = 0\n",
    "                b = doc[ent.end+i]\n",
    "                while b.text.lower() == 'de' or b.text.lower() == 'del' or b.text.lower() == 'la'or b.text == 'el' or b.text == 'los' or b.text == 'las' or b.text == 'y':\n",
    "                    i = i+1\n",
    "                    b = doc[ent.end+i]\n",
    "                if (b.ent_iob==2) and ((b.text.lower() in acceptednames)or (b.text.lower() in DBEnames)):\n",
    "                    nexttopers.append(b.text)\n",
    "            except:\n",
    "                pass"
   ]
  },
  {
   "cell_type": "code",
   "execution_count": 36,
   "metadata": {},
   "outputs": [
    {
     "data": {
      "text/plain": [
       "971"
      ]
     },
     "execution_count": 36,
     "metadata": {},
     "output_type": "execute_result"
    }
   ],
   "source": [
    "len(nexttopers)"
   ]
  },
  {
   "cell_type": "code",
   "execution_count": 37,
   "metadata": {},
   "outputs": [
    {
     "data": {
      "text/plain": [
       "298"
      ]
     },
     "execution_count": 37,
     "metadata": {},
     "output_type": "execute_result"
    }
   ],
   "source": [
    "len(set(nexttopers))"
   ]
  },
  {
   "cell_type": "code",
   "execution_count": 38,
   "metadata": {},
   "outputs": [
    {
     "name": "stdout",
     "output_type": "stream",
     "text": [
      "{'capilla', 'costa', 'sa', 'cordero', 'Esquivel', 'delgado', 'matos', 'calero', 'cantero', 'maldonado', 'carrasco', 'abad', 'oro', 'ayala', 'labrador', 'Conde', 'puga', 'hijas', 'campo', 'bravo', 'villafuerte', 'hoz', 'Nisa', 'Abad', 'jesus', 'cavallero', 'texada', 'calafate', 'justa', 'toma', 'camacho', 'Vega', 'corral', 'hermoso', 'vida', 'camara', 'Chaves', 'serrano', 'guzman', 'portugues', 'comino', 'centeno', 'rua', 'vuelta', 'tapia', 'monesterio', 'farfan', 'ana', 'vico', 'Cantero', 'marques', 'Sala', 'doblas', 'chantre', 'francisco', 'cabeza', 'clavijo', 'beata', 'martin', 'maeso', 'cotan', 'moro', 'obligado', 'reyna', 'pero', 'fernandes', 'gragera', 'justicia', 'tome', 'andino', 'Clemencia', 'casado', 'teresa', 'Albo', 'balle', 'toledano', 'Jeronimo', 'espadero', 'crisostomo', 'moran', 'Linaje', 'tablada', 'pastor', 'herrero', 'Bueno', 'urban', 'falconete', 'melgarejo', 'linage', 'tamariz', 'palacios', 'coronel', 'encima', 'ceron', 'contador', 'vea', 'quero', 'aguirre', 'Marcos', 'domingo', 'agustin', 'negro', 'Medina', 'placido', 'fernandez', 'LEAL', 'cuellar', 'barrio', 'berastegui', 'Bandera', 'Azcona', 'tercero', 'chamorro', 'segundo', 'tirado', 'herrera', 'hombre', 'Rico', 'pinto', 'mayor', 'machuca', 'quadrado', 'ortega', 'hernan', 'mas', 'cañero', 'sea', 'garcia', 'maria', 'Velasco', 'cid', 'solar', 'Lugo', 'dorado', 'sobrino', 'Fernando', 'rico', 'cuentas', 'sastre', 'ahumada', 'alcantara', 'fraile', 'clemente', 'alcayde', 'hurtado', 'Mejorada', 'thomas', 'geronima', 'duque', 'menor', 'Dios', 'Gonzalez', 'casas', 'diez', 'juan', 'vides', 'madera', 'geronimo', 'camino', 'alderete', 'ropero', 'portero', 'trigo', 'sillero', 'haya', 'bargas', 'aleman', 'pareja', 'abarca', 'fuentes', 'magaña', 'dias', 'albear', 'Tome', 'Ledesma', 'lucas', 'banda', 'peinado', 'artes', 'segunda', 'guarda', 'carta', 'nieta', 'cosa', 'Aguirre', 'Nieto', 'peon', 'suero', 'bocanegra', 'catalina', 'montañes', 'sacristan', 'hera', 'Pero', 'tello', 'giron', 'alamin', 'duran', 'porras', 'mozo', 'orta', 'manco', 'contreras', 'arostegui', 'blanca', 'cogolludo', 'barba', 'ballestero', 'ginoves', 'Aldana', 'castilla', 'milanes', 'leal', 'gracia', 'dos', 'frances', 'espinosa', 'viejo', 'verdad', 'costas', 'armas', 'carnicero', 'caballero', 'mercado', 'niño', 'vargas', 'nieto', 'sotomayor', 'Evangelista', 'Justa', 'Sevilla', 'criado', 'martel', 'estrada', 'arias', 'corro', 'iglesia', 'andres', 'coronado', 'guerrero', 'caja', 'hidalgo', 'von', 'jerez', 'aso', 'texedor', 'tristan', 'torquemada', 'pere', 'plata', 'Puerta', 'Duque', 'garnica', 'campana', 'della', 'magdalena', 'gallego', 'acuña', 'Hernan', 'real', 'blanco', 'patron', 'lopes', 'ruis', 'carpintero', 'villa', 'bueno', 'cortes', 'hornero', 'conde', 'foi', 'cerero', 'valle', 'torre', 'restan', 'deu', 'corte', 'acosta', 'caro', 'barbero', 'correa', 'Monsalve', 'Sa', 'coto', 'Niño', 'tornero', 'salgado', 'joven', 'valor', 'flandes', 'Busto', 'ferrero', 'viñas', 'pedro', 'tienda', 'alexos', 'Rodriguez', 'castroverde'}\n"
     ]
    }
   ],
   "source": [
    "print(set(nexttopers))"
   ]
  },
  {
   "cell_type": "markdown",
   "metadata": {},
   "source": [
    "According to this rule, 971 modifications could be made, from 298 distinct tokens."
   ]
  },
  {
   "cell_type": "code",
   "execution_count": 39,
   "metadata": {},
   "outputs": [],
   "source": [
    "peopleshort = []\n",
    "\n",
    "for doc,context in docs:\n",
    "    for ent in doc.ents:\n",
    "        if ent.label_=='PER':\n",
    "            try:\n",
    "                i = 1\n",
    "                a = doc[ent.start-i]\n",
    "                while a.text.lower() == 'de' or a.text.lower() =='del' or a.text.lower() == 'la'or a.text.lower() == 'el' or a.text.lower() == 'los' or a.text.lower() == 'las' or a.text.lower()=='y':\n",
    "                    i = i+1\n",
    "                    a = doc[ent.start-i]\n",
    "                if (a.ent_iob==2) and ((a.text.lower() in acceptednames) or (a.text.lower() in DBEnames)):\n",
    "                    h = context['id']\n",
    "                    b = ent.text\n",
    "                    c = ent.start\n",
    "                    d = ent.end\n",
    "                    e = a.i\n",
    "                    f = a.text\n",
    "                    g = ent.label_\n",
    "                    entry = [h, b, c, d, e, f,g]\n",
    "                    peopleshort.append(entry)\n",
    "            except: \n",
    "                pass\n",
    "            try:\n",
    "                i = 0\n",
    "                b = doc[ent.end+i]\n",
    "                while b.text.lower() == 'de' or b.text.lower() == 'del' or b.text.lower() == 'la'or b.text.lower() == 'el' or b.text.lower() == 'los' or b.text.lower() == 'las' or b.text.lower()=='y':\n",
    "                    i = i+1\n",
    "                    b = doc[ent.end+i]\n",
    "                if (b.ent_iob==2) and ((b.text.lower() in acceptednames)or (b.text.lower() in DBEnames)):\n",
    "                    a = context['id']\n",
    "                    h = ent.text\n",
    "                    c = ent.start\n",
    "                    d = ent.end\n",
    "                    e = b.i\n",
    "                    f = b.text\n",
    "                    g=ent.label_\n",
    "                    entry = [a, h, c, d, e, f,g]\n",
    "                    peopleshort.append(entry)\n",
    "            except:\n",
    "                pass"
   ]
  },
  {
   "cell_type": "code",
   "execution_count": 40,
   "metadata": {},
   "outputs": [
    {
     "data": {
      "text/plain": [
       "971"
      ]
     },
     "execution_count": 40,
     "metadata": {},
     "output_type": "execute_result"
    }
   ],
   "source": [
    "len(peopleshort)"
   ]
  },
  {
   "cell_type": "code",
   "execution_count": 41,
   "metadata": {},
   "outputs": [],
   "source": [
    "peopleshort = pd.DataFrame(peopleshort, columns = ['docid','string','start','end','tokenloc','tokentext','entlabel'])"
   ]
  },
  {
   "cell_type": "code",
   "execution_count": 42,
   "metadata": {},
   "outputs": [
    {
     "data": {
      "text/html": [
       "<div>\n",
       "<style scoped>\n",
       "    .dataframe tbody tr th:only-of-type {\n",
       "        vertical-align: middle;\n",
       "    }\n",
       "\n",
       "    .dataframe tbody tr th {\n",
       "        vertical-align: top;\n",
       "    }\n",
       "\n",
       "    .dataframe thead th {\n",
       "        text-align: right;\n",
       "    }\n",
       "</style>\n",
       "<table border=\"1\" class=\"dataframe\">\n",
       "  <thead>\n",
       "    <tr style=\"text-align: right;\">\n",
       "      <th></th>\n",
       "      <th>docid</th>\n",
       "      <th>string</th>\n",
       "      <th>start</th>\n",
       "      <th>end</th>\n",
       "      <th>tokenloc</th>\n",
       "      <th>tokentext</th>\n",
       "      <th>entlabel</th>\n",
       "    </tr>\n",
       "  </thead>\n",
       "  <tbody>\n",
       "    <tr>\n",
       "      <th>0</th>\n",
       "      <td>50</td>\n",
       "      <td>Cristobal garcia</td>\n",
       "      <td>6</td>\n",
       "      <td>8</td>\n",
       "      <td>8</td>\n",
       "      <td>cantero</td>\n",
       "      <td>PER</td>\n",
       "    </tr>\n",
       "    <tr>\n",
       "      <th>1</th>\n",
       "      <td>56</td>\n",
       "      <td>garcia fustanero</td>\n",
       "      <td>23</td>\n",
       "      <td>25</td>\n",
       "      <td>22</td>\n",
       "      <td>pero</td>\n",
       "      <td>PER</td>\n",
       "    </tr>\n",
       "    <tr>\n",
       "      <th>2</th>\n",
       "      <td>59</td>\n",
       "      <td>Pedro Blascoen</td>\n",
       "      <td>2476</td>\n",
       "      <td>2478</td>\n",
       "      <td>2478</td>\n",
       "      <td>Sevilla</td>\n",
       "      <td>PER</td>\n",
       "    </tr>\n",
       "    <tr>\n",
       "      <th>3</th>\n",
       "      <td>101</td>\n",
       "      <td>nicolas jurate</td>\n",
       "      <td>163</td>\n",
       "      <td>165</td>\n",
       "      <td>165</td>\n",
       "      <td>dos</td>\n",
       "      <td>PER</td>\n",
       "    </tr>\n",
       "    <tr>\n",
       "      <th>4</th>\n",
       "      <td>106</td>\n",
       "      <td>niculao de leon</td>\n",
       "      <td>0</td>\n",
       "      <td>3</td>\n",
       "      <td>3</td>\n",
       "      <td>frances</td>\n",
       "      <td>PER</td>\n",
       "    </tr>\n",
       "  </tbody>\n",
       "</table>\n",
       "</div>"
      ],
      "text/plain": [
       "   docid            string  start   end  tokenloc tokentext entlabel\n",
       "0     50  Cristobal garcia      6     8         8   cantero      PER\n",
       "1     56  garcia fustanero     23    25        22      pero      PER\n",
       "2     59    Pedro Blascoen   2476  2478      2478   Sevilla      PER\n",
       "3    101    nicolas jurate    163   165       165       dos      PER\n",
       "4    106   niculao de leon      0     3         3   frances      PER"
      ]
     },
     "execution_count": 42,
     "metadata": {},
     "output_type": "execute_result"
    }
   ],
   "source": [
    "peopleshort.head()"
   ]
  },
  {
   "cell_type": "code",
   "execution_count": 43,
   "metadata": {},
   "outputs": [],
   "source": [
    "peopleshort['edit_short']=''"
   ]
  },
  {
   "cell_type": "markdown",
   "metadata": {},
   "source": [
    "This should be enough to loop through our labels and edit them, as we did previously in Data Cleaning 2. And the number of tags is small enough that we do not need to filter things out. "
   ]
  },
  {
   "cell_type": "code",
   "execution_count": 56,
   "metadata": {},
   "outputs": [
    {
     "name": "stdout",
     "output_type": "stream",
     "text": [
      "2\n",
      "DIEGO AMBROSIO 14 16\n",
      "menor 16\n"
     ]
    },
    {
     "data": {
      "text/html": [
       "<span class=\"tex2jax_ignore\"><div class=\"entities\" style=\"line-height: 2.5; direction: ltr\">\n",
       "<mark class=\"entity\" style=\"background: #ddd; padding: 0.45em 0.6em; margin: 0 0.25em; line-height: 1; border-radius: 0.35em;\">\n",
       "    DIEGO AMBROSIO\n",
       "    <span style=\"font-size: 0.8em; font-weight: bold; line-height: 1; border-radius: 0.35em; text-transform: uppercase; vertical-align: middle; margin-left: 0.5rem\">PER</span>\n",
       "</mark>\n",
       " menor hijo de \n",
       "<mark class=\"entity\" style=\"background: #ddd; padding: 0.45em 0.6em; margin: 0 0.25em; line-height: 1; border-radius: 0.35em;\">\n",
       "    Francisco Sánchez Pizarra\n",
       "    <span style=\"font-size: 0.8em; font-weight: bold; line-height: 1; border-radius: 0.35em; text-transform: uppercase; vertical-align: middle; margin-left: 0.5rem\">PER</span>\n",
       "</mark>\n",
       " y digo que el </div></span>"
      ],
      "text/plain": [
       "<IPython.core.display.HTML object>"
      ]
     },
     "metadata": {},
     "output_type": "display_data"
    },
    {
     "name": "stdin",
     "output_type": "stream",
     "text": [
      "Edit? 0\n"
     ]
    }
   ],
   "source": [
    " count = 0\n",
    "for (index, row) in peopleshort.iterrows():\n",
    "    if row['edit_short']=='':\n",
    "        count=count+1\n",
    "        print(count)\n",
    "        print(row['string'],row['start'],row['end'])\n",
    "        print(row['tokentext'], row['tokenloc'])\n",
    "        docid = row['docid']\n",
    "        strstart = min([int(row['start']), int(row['tokenloc'])])\n",
    "        strend = max([int(row['end']), int(row['tokenloc'])]) + 10\n",
    "        \n",
    "        for doc in docs:\n",
    "            if doc[1]['id'] == docid:      \n",
    "                displacy.render(doc[0][strstart:strend],style='ent',jupyter=True)\n",
    "                peopleshort.loc[index, 'edit_short']=input('Edit?')\n",
    "                \n",
    "                if peopleshort.loc[index, 'edit_short']=='X':\n",
    "                        for doc in docs:\n",
    "                            if doc[1]['id'] == docid:\n",
    "                                displacy.render(doc[0],style='ent',jupyter=True)\n",
    "                                peopleshort.loc[index,'edit_short']=input('Edit?')\n",
    "                clear_output(wait=True)"
   ]
  },
  {
   "cell_type": "code",
   "execution_count": null,
   "metadata": {},
   "outputs": [],
   "source": [
    "peopleshort"
   ]
  },
  {
   "cell_type": "code",
   "execution_count": 57,
   "metadata": {},
   "outputs": [
    {
     "data": {
      "text/html": [
       "<div>\n",
       "<style scoped>\n",
       "    .dataframe tbody tr th:only-of-type {\n",
       "        vertical-align: middle;\n",
       "    }\n",
       "\n",
       "    .dataframe tbody tr th {\n",
       "        vertical-align: top;\n",
       "    }\n",
       "\n",
       "    .dataframe thead th {\n",
       "        text-align: right;\n",
       "    }\n",
       "</style>\n",
       "<table border=\"1\" class=\"dataframe\">\n",
       "  <thead>\n",
       "    <tr style=\"text-align: right;\">\n",
       "      <th></th>\n",
       "      <th>docid</th>\n",
       "      <th>string</th>\n",
       "      <th>start</th>\n",
       "      <th>end</th>\n",
       "      <th>tokenloc</th>\n",
       "      <th>tokentext</th>\n",
       "      <th>entlabel</th>\n",
       "    </tr>\n",
       "    <tr>\n",
       "      <th>edit_short</th>\n",
       "      <th></th>\n",
       "      <th></th>\n",
       "      <th></th>\n",
       "      <th></th>\n",
       "      <th></th>\n",
       "      <th></th>\n",
       "      <th></th>\n",
       "    </tr>\n",
       "  </thead>\n",
       "  <tbody>\n",
       "    <tr>\n",
       "      <th>0</th>\n",
       "      <td>686</td>\n",
       "      <td>686</td>\n",
       "      <td>686</td>\n",
       "      <td>686</td>\n",
       "      <td>686</td>\n",
       "      <td>686</td>\n",
       "      <td>686</td>\n",
       "    </tr>\n",
       "    <tr>\n",
       "      <th>1</th>\n",
       "      <td>262</td>\n",
       "      <td>262</td>\n",
       "      <td>262</td>\n",
       "      <td>262</td>\n",
       "      <td>262</td>\n",
       "      <td>262</td>\n",
       "      <td>262</td>\n",
       "    </tr>\n",
       "    <tr>\n",
       "      <th>L</th>\n",
       "      <td>1</td>\n",
       "      <td>1</td>\n",
       "      <td>1</td>\n",
       "      <td>1</td>\n",
       "      <td>1</td>\n",
       "      <td>1</td>\n",
       "      <td>1</td>\n",
       "    </tr>\n",
       "    <tr>\n",
       "      <th>R</th>\n",
       "      <td>7</td>\n",
       "      <td>7</td>\n",
       "      <td>7</td>\n",
       "      <td>7</td>\n",
       "      <td>7</td>\n",
       "      <td>7</td>\n",
       "      <td>7</td>\n",
       "    </tr>\n",
       "    <tr>\n",
       "      <th>o</th>\n",
       "      <td>15</td>\n",
       "      <td>15</td>\n",
       "      <td>15</td>\n",
       "      <td>15</td>\n",
       "      <td>15</td>\n",
       "      <td>15</td>\n",
       "      <td>15</td>\n",
       "    </tr>\n",
       "  </tbody>\n",
       "</table>\n",
       "</div>"
      ],
      "text/plain": [
       "            docid  string  start  end  tokenloc  tokentext  entlabel\n",
       "edit_short                                                          \n",
       "0             686     686    686  686       686        686       686\n",
       "1             262     262    262  262       262        262       262\n",
       "L               1       1      1    1         1          1         1\n",
       "R               7       7      7    7         7          7         7\n",
       "o              15      15     15   15        15         15        15"
      ]
     },
     "execution_count": 57,
     "metadata": {},
     "output_type": "execute_result"
    }
   ],
   "source": [
    "peopleshort.groupby('edit_short').count()"
   ]
  },
  {
   "cell_type": "markdown",
   "metadata": {},
   "source": [
    "Above: of the tags identified for checking, 686 are correct, 262 must be edited for length, one must be reclassified as a location, 7 must be removed and 15 have another problem (multiple tags or mis-tokenization)."
   ]
  },
  {
   "cell_type": "code",
   "execution_count": 58,
   "metadata": {},
   "outputs": [],
   "source": [
    "peopleshort.to_csv('Files_Cleaning3/PERS_tag_clean3_strat1.csv')"
   ]
  },
  {
   "cell_type": "markdown",
   "metadata": {},
   "source": [
    "# Strategy 2: Fuzzy Matching to Lists\n",
    "\n",
    "Let's do the same thing, but with tokens that approximately match names in our lists."
   ]
  },
  {
   "cell_type": "code",
   "execution_count": 59,
   "metadata": {},
   "outputs": [],
   "source": [
    "from fuzzywuzzy import fuzz\n",
    "from fuzzywuzzy import process"
   ]
  },
  {
   "cell_type": "code",
   "execution_count": 60,
   "metadata": {},
   "outputs": [],
   "source": [
    "tokens = pd.DataFrame()\n",
    "tokens['token']=''\n",
    "tokens['score']=''\n",
    "tokens['match']=''"
   ]
  },
  {
   "cell_type": "code",
   "execution_count": 61,
   "metadata": {},
   "outputs": [],
   "source": [
    "untagged = []\n",
    "for doc,context in docs:\n",
    "    for token in doc:\n",
    "        if (token.ent_iob==2):\n",
    "            untagged.append(token.text)"
   ]
  },
  {
   "cell_type": "code",
   "execution_count": 62,
   "metadata": {},
   "outputs": [],
   "source": [
    "untagged = set(untagged)"
   ]
  },
  {
   "cell_type": "code",
   "execution_count": 63,
   "metadata": {},
   "outputs": [
    {
     "data": {
      "text/plain": [
       "31748"
      ]
     },
     "execution_count": 63,
     "metadata": {},
     "output_type": "execute_result"
    }
   ],
   "source": [
    "len(untagged)"
   ]
  },
  {
   "cell_type": "code",
   "execution_count": 64,
   "metadata": {},
   "outputs": [],
   "source": [
    "for token in untagged:\n",
    "    tokens= tokens.append({'token':token}, ignore_index=True)"
   ]
  },
  {
   "cell_type": "code",
   "execution_count": 65,
   "metadata": {},
   "outputs": [
    {
     "data": {
      "text/plain": [
       "31748"
      ]
     },
     "execution_count": 65,
     "metadata": {},
     "output_type": "execute_result"
    }
   ],
   "source": [
    "len(tokens)"
   ]
  },
  {
   "cell_type": "code",
   "execution_count": 66,
   "metadata": {},
   "outputs": [],
   "source": [
    "tokens = tokens.replace(to_replace='None', value='')"
   ]
  },
  {
   "cell_type": "code",
   "execution_count": 69,
   "metadata": {},
   "outputs": [
    {
     "data": {
      "text/html": [
       "<div>\n",
       "<style scoped>\n",
       "    .dataframe tbody tr th:only-of-type {\n",
       "        vertical-align: middle;\n",
       "    }\n",
       "\n",
       "    .dataframe tbody tr th {\n",
       "        vertical-align: top;\n",
       "    }\n",
       "\n",
       "    .dataframe thead th {\n",
       "        text-align: right;\n",
       "    }\n",
       "</style>\n",
       "<table border=\"1\" class=\"dataframe\">\n",
       "  <thead>\n",
       "    <tr style=\"text-align: right;\">\n",
       "      <th></th>\n",
       "      <th>token</th>\n",
       "      <th>score</th>\n",
       "      <th>match</th>\n",
       "    </tr>\n",
       "  </thead>\n",
       "  <tbody>\n",
       "    <tr>\n",
       "      <th>0</th>\n",
       "      <td>sucedido</td>\n",
       "      <td>NaN</td>\n",
       "      <td>NaN</td>\n",
       "    </tr>\n",
       "    <tr>\n",
       "      <th>1</th>\n",
       "      <td>yeruas</td>\n",
       "      <td>NaN</td>\n",
       "      <td>NaN</td>\n",
       "    </tr>\n",
       "    <tr>\n",
       "      <th>2</th>\n",
       "      <td>enojosa</td>\n",
       "      <td>NaN</td>\n",
       "      <td>NaN</td>\n",
       "    </tr>\n",
       "    <tr>\n",
       "      <th>3</th>\n",
       "      <td>brazado</td>\n",
       "      <td>NaN</td>\n",
       "      <td>NaN</td>\n",
       "    </tr>\n",
       "    <tr>\n",
       "      <th>4</th>\n",
       "      <td>italianas</td>\n",
       "      <td>NaN</td>\n",
       "      <td>NaN</td>\n",
       "    </tr>\n",
       "  </tbody>\n",
       "</table>\n",
       "</div>"
      ],
      "text/plain": [
       "       token score match\n",
       "0   sucedido   NaN   NaN\n",
       "1     yeruas   NaN   NaN\n",
       "2    enojosa   NaN   NaN\n",
       "3    brazado   NaN   NaN\n",
       "4  italianas   NaN   NaN"
      ]
     },
     "execution_count": 69,
     "metadata": {},
     "output_type": "execute_result"
    }
   ],
   "source": [
    "tokens.head()"
   ]
  },
  {
   "cell_type": "markdown",
   "metadata": {},
   "source": [
    "The function below, taken from Data Cleaning 1, chooses the maximum fuzzy match for each token."
   ]
  },
  {
   "cell_type": "code",
   "execution_count": 67,
   "metadata": {},
   "outputs": [],
   "source": [
    "def fuzzmax(string,names):\n",
    "        string = str(string).lower()\n",
    "        result = list(map(lambda a: fuzz.token_sort_ratio(string,a),names))\n",
    "        return [max(result),names[result.index(max(result))]]"
   ]
  },
  {
   "cell_type": "code",
   "execution_count": 71,
   "metadata": {},
   "outputs": [],
   "source": [
    "names = list(set(acceptednames +list(DBEnames)))"
   ]
  },
  {
   "cell_type": "code",
   "execution_count": 72,
   "metadata": {},
   "outputs": [
    {
     "data": {
      "text/plain": [
       "10192"
      ]
     },
     "execution_count": 72,
     "metadata": {},
     "output_type": "execute_result"
    }
   ],
   "source": [
    "len(names)"
   ]
  },
  {
   "cell_type": "code",
   "execution_count": 74,
   "metadata": {},
   "outputs": [],
   "source": [
    "tokens['score'] = tokens.apply(lambda x: fuzzmax(x['token'], names), axis = 1)"
   ]
  },
  {
   "cell_type": "code",
   "execution_count": 75,
   "metadata": {},
   "outputs": [
    {
     "data": {
      "text/html": [
       "<div>\n",
       "<style scoped>\n",
       "    .dataframe tbody tr th:only-of-type {\n",
       "        vertical-align: middle;\n",
       "    }\n",
       "\n",
       "    .dataframe tbody tr th {\n",
       "        vertical-align: top;\n",
       "    }\n",
       "\n",
       "    .dataframe thead th {\n",
       "        text-align: right;\n",
       "    }\n",
       "</style>\n",
       "<table border=\"1\" class=\"dataframe\">\n",
       "  <thead>\n",
       "    <tr style=\"text-align: right;\">\n",
       "      <th></th>\n",
       "      <th>token</th>\n",
       "      <th>score</th>\n",
       "      <th>match</th>\n",
       "    </tr>\n",
       "  </thead>\n",
       "  <tbody>\n",
       "    <tr>\n",
       "      <th>0</th>\n",
       "      <td>sucedido</td>\n",
       "      <td>[80, saucedo]</td>\n",
       "      <td>NaN</td>\n",
       "    </tr>\n",
       "    <tr>\n",
       "      <th>1</th>\n",
       "      <td>yeruas</td>\n",
       "      <td>[77, payeras]</td>\n",
       "      <td>NaN</td>\n",
       "    </tr>\n",
       "    <tr>\n",
       "      <th>2</th>\n",
       "      <td>enojosa</td>\n",
       "      <td>[80, hinojosa]</td>\n",
       "      <td>NaN</td>\n",
       "    </tr>\n",
       "    <tr>\n",
       "      <th>3</th>\n",
       "      <td>brazado</td>\n",
       "      <td>[80, bazcardo]</td>\n",
       "      <td>NaN</td>\n",
       "    </tr>\n",
       "    <tr>\n",
       "      <th>4</th>\n",
       "      <td>italianas</td>\n",
       "      <td>[75, albiñana]</td>\n",
       "      <td>NaN</td>\n",
       "    </tr>\n",
       "  </tbody>\n",
       "</table>\n",
       "</div>"
      ],
      "text/plain": [
       "       token           score match\n",
       "0   sucedido   [80, saucedo]   NaN\n",
       "1     yeruas   [77, payeras]   NaN\n",
       "2    enojosa  [80, hinojosa]   NaN\n",
       "3    brazado  [80, bazcardo]   NaN\n",
       "4  italianas  [75, albiñana]   NaN"
      ]
     },
     "execution_count": 75,
     "metadata": {},
     "output_type": "execute_result"
    }
   ],
   "source": [
    "tokens.head()"
   ]
  },
  {
   "cell_type": "code",
   "execution_count": 76,
   "metadata": {},
   "outputs": [],
   "source": [
    "tokens['match']=tokens.apply(lambda x: x['score'][1],axis=1)"
   ]
  },
  {
   "cell_type": "code",
   "execution_count": 77,
   "metadata": {},
   "outputs": [],
   "source": [
    "tokens['score']=tokens.apply(lambda x: x['score'][0], axis=1)"
   ]
  },
  {
   "cell_type": "code",
   "execution_count": 78,
   "metadata": {},
   "outputs": [
    {
     "data": {
      "text/html": [
       "<div>\n",
       "<style scoped>\n",
       "    .dataframe tbody tr th:only-of-type {\n",
       "        vertical-align: middle;\n",
       "    }\n",
       "\n",
       "    .dataframe tbody tr th {\n",
       "        vertical-align: top;\n",
       "    }\n",
       "\n",
       "    .dataframe thead th {\n",
       "        text-align: right;\n",
       "    }\n",
       "</style>\n",
       "<table border=\"1\" class=\"dataframe\">\n",
       "  <thead>\n",
       "    <tr style=\"text-align: right;\">\n",
       "      <th></th>\n",
       "      <th>token</th>\n",
       "      <th>score</th>\n",
       "      <th>match</th>\n",
       "    </tr>\n",
       "  </thead>\n",
       "  <tbody>\n",
       "    <tr>\n",
       "      <th>0</th>\n",
       "      <td>sucedido</td>\n",
       "      <td>80</td>\n",
       "      <td>saucedo</td>\n",
       "    </tr>\n",
       "    <tr>\n",
       "      <th>1</th>\n",
       "      <td>yeruas</td>\n",
       "      <td>77</td>\n",
       "      <td>payeras</td>\n",
       "    </tr>\n",
       "    <tr>\n",
       "      <th>2</th>\n",
       "      <td>enojosa</td>\n",
       "      <td>80</td>\n",
       "      <td>hinojosa</td>\n",
       "    </tr>\n",
       "    <tr>\n",
       "      <th>3</th>\n",
       "      <td>brazado</td>\n",
       "      <td>80</td>\n",
       "      <td>bazcardo</td>\n",
       "    </tr>\n",
       "    <tr>\n",
       "      <th>4</th>\n",
       "      <td>italianas</td>\n",
       "      <td>75</td>\n",
       "      <td>albiñana</td>\n",
       "    </tr>\n",
       "  </tbody>\n",
       "</table>\n",
       "</div>"
      ],
      "text/plain": [
       "       token  score     match\n",
       "0   sucedido     80   saucedo\n",
       "1     yeruas     77   payeras\n",
       "2    enojosa     80  hinojosa\n",
       "3    brazado     80  bazcardo\n",
       "4  italianas     75  albiñana"
      ]
     },
     "execution_count": 78,
     "metadata": {},
     "output_type": "execute_result"
    }
   ],
   "source": [
    "tokens.head()"
   ]
  },
  {
   "cell_type": "code",
   "execution_count": 79,
   "metadata": {},
   "outputs": [
    {
     "data": {
      "text/plain": [
       "31748"
      ]
     },
     "execution_count": 79,
     "metadata": {},
     "output_type": "execute_result"
    }
   ],
   "source": [
    "len(tokens)"
   ]
  },
  {
   "cell_type": "code",
   "execution_count": 80,
   "metadata": {},
   "outputs": [],
   "source": [
    "tokens.to_csv('Files_Cleaning3/untagged_token_match_scores.csv')"
   ]
  },
  {
   "cell_type": "code",
   "execution_count": 81,
   "metadata": {},
   "outputs": [],
   "source": [
    "tokens.set_index('token', inplace=True)"
   ]
  },
  {
   "cell_type": "code",
   "execution_count": 82,
   "metadata": {},
   "outputs": [
    {
     "data": {
      "text/html": [
       "<div>\n",
       "<style scoped>\n",
       "    .dataframe tbody tr th:only-of-type {\n",
       "        vertical-align: middle;\n",
       "    }\n",
       "\n",
       "    .dataframe tbody tr th {\n",
       "        vertical-align: top;\n",
       "    }\n",
       "\n",
       "    .dataframe thead th {\n",
       "        text-align: right;\n",
       "    }\n",
       "</style>\n",
       "<table border=\"1\" class=\"dataframe\">\n",
       "  <thead>\n",
       "    <tr style=\"text-align: right;\">\n",
       "      <th></th>\n",
       "      <th>score</th>\n",
       "      <th>match</th>\n",
       "    </tr>\n",
       "    <tr>\n",
       "      <th>token</th>\n",
       "      <th></th>\n",
       "      <th></th>\n",
       "    </tr>\n",
       "  </thead>\n",
       "  <tbody>\n",
       "    <tr>\n",
       "      <th>despejo</th>\n",
       "      <td>92</td>\n",
       "      <td>espejo</td>\n",
       "    </tr>\n",
       "    <tr>\n",
       "      <th>vigas</th>\n",
       "      <td>91</td>\n",
       "      <td>viegas</td>\n",
       "    </tr>\n",
       "    <tr>\n",
       "      <th>calabaza</th>\n",
       "      <td>94</td>\n",
       "      <td>calabazas</td>\n",
       "    </tr>\n",
       "    <tr>\n",
       "      <th>pasadas</th>\n",
       "      <td>93</td>\n",
       "      <td>passadas</td>\n",
       "    </tr>\n",
       "    <tr>\n",
       "      <th>colla</th>\n",
       "      <td>91</td>\n",
       "      <td>coalla</td>\n",
       "    </tr>\n",
       "    <tr>\n",
       "      <th>...</th>\n",
       "      <td>...</td>\n",
       "      <td>...</td>\n",
       "    </tr>\n",
       "    <tr>\n",
       "      <th>villacreses</th>\n",
       "      <td>91</td>\n",
       "      <td>villacreces</td>\n",
       "    </tr>\n",
       "    <tr>\n",
       "      <th>barias</th>\n",
       "      <td>91</td>\n",
       "      <td>briñas</td>\n",
       "    </tr>\n",
       "    <tr>\n",
       "      <th>honda</th>\n",
       "      <td>91</td>\n",
       "      <td>hondal</td>\n",
       "    </tr>\n",
       "    <tr>\n",
       "      <th>abraça</th>\n",
       "      <td>91</td>\n",
       "      <td>abraha</td>\n",
       "    </tr>\n",
       "    <tr>\n",
       "      <th>perita</th>\n",
       "      <td>91</td>\n",
       "      <td>peria</td>\n",
       "    </tr>\n",
       "  </tbody>\n",
       "</table>\n",
       "<p>1615 rows × 2 columns</p>\n",
       "</div>"
      ],
      "text/plain": [
       "             score        match\n",
       "token                          \n",
       "despejo         92       espejo\n",
       "vigas           91       viegas\n",
       "calabaza        94    calabazas\n",
       "pasadas         93     passadas\n",
       "colla           91       coalla\n",
       "...            ...          ...\n",
       "villacreses     91  villacreces\n",
       "barias          91       briñas\n",
       "honda           91       hondal\n",
       "abraça          91       abraha\n",
       "perita          91        peria\n",
       "\n",
       "[1615 rows x 2 columns]"
      ]
     },
     "execution_count": 82,
     "metadata": {},
     "output_type": "execute_result"
    }
   ],
   "source": [
    "tokens.loc[(tokens['score']>90)&(tokens['score']<100)]"
   ]
  },
  {
   "cell_type": "code",
   "execution_count": null,
   "metadata": {},
   "outputs": [],
   "source": []
  }
 ],
 "metadata": {
  "kernelspec": {
   "display_name": "Python 3",
   "language": "python",
   "name": "python3"
  },
  "language_info": {
   "codemirror_mode": {
    "name": "ipython",
    "version": 3
   },
   "file_extension": ".py",
   "mimetype": "text/x-python",
   "name": "python",
   "nbconvert_exporter": "python",
   "pygments_lexer": "ipython3",
   "version": "3.7.6"
  }
 },
 "nbformat": 4,
 "nbformat_minor": 4
}
