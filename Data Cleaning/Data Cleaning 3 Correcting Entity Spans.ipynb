{
 "cells": [
  {
   "cell_type": "markdown",
   "metadata": {},
   "source": [
    "# Data Cleaning 3: Correcting Entity Spans (short)\n",
    "\n",
    "Search for tokens to the left and right of a tagged person that appear in the entity list and the name lists and have not been tagged as entities. We can import the spacy docs, each token should have an entity tag = 0. "
   ]
  },
  {
   "cell_type": "code",
   "execution_count": 2,
   "metadata": {},
   "outputs": [],
   "source": [
    "from IPython.display import clear_output\n",
    "import spacy\n",
    "from spacy import displacy\n",
    "\n",
    "import pickle"
   ]
  },
  {
   "cell_type": "code",
   "execution_count": 3,
   "metadata": {},
   "outputs": [],
   "source": [
    "import pandas as pd"
   ]
  },
  {
   "cell_type": "code",
   "execution_count": 4,
   "metadata": {},
   "outputs": [],
   "source": [
    "file = open(\"Files_Cleaning2/NER_data_Cleaned22.p\", 'rb')\n",
    "docs = pickle.load(file)"
   ]
  },
  {
   "cell_type": "markdown",
   "metadata": {},
   "source": [
    "Let's import the file with the list of tokens appearing in our 3 lists, manually checked for dubious options, and filter those out. "
   ]
  },
  {
   "cell_type": "code",
   "execution_count": 4,
   "metadata": {},
   "outputs": [],
   "source": [
    "names = pd.read_excel(\"Files_Cleaning2/EntityTokensinKFLNamelists_manual_check.xlsx\")"
   ]
  },
  {
   "cell_type": "code",
   "execution_count": 8,
   "metadata": {},
   "outputs": [
    {
     "data": {
      "text/html": [
       "<div>\n",
       "<style scoped>\n",
       "    .dataframe tbody tr th:only-of-type {\n",
       "        vertical-align: middle;\n",
       "    }\n",
       "\n",
       "    .dataframe tbody tr th {\n",
       "        vertical-align: top;\n",
       "    }\n",
       "\n",
       "    .dataframe thead th {\n",
       "        text-align: right;\n",
       "    }\n",
       "</style>\n",
       "<table border=\"1\" class=\"dataframe\">\n",
       "  <thead>\n",
       "    <tr style=\"text-align: right;\">\n",
       "      <th></th>\n",
       "      <th>token</th>\n",
       "    </tr>\n",
       "    <tr>\n",
       "      <th>check</th>\n",
       "      <th></th>\n",
       "    </tr>\n",
       "  </thead>\n",
       "  <tbody>\n",
       "    <tr>\n",
       "      <th>1.0</th>\n",
       "      <td>311</td>\n",
       "    </tr>\n",
       "    <tr>\n",
       "      <th>0</th>\n",
       "      <td>1617</td>\n",
       "    </tr>\n",
       "  </tbody>\n",
       "</table>\n",
       "</div>"
      ],
      "text/plain": [
       "       token\n",
       "check       \n",
       "1.0      311\n",
       "0       1617"
      ]
     },
     "execution_count": 8,
     "metadata": {},
     "output_type": "execute_result"
    }
   ],
   "source": [
    "names.fillna('0').groupby('check').count()"
   ]
  },
  {
   "cell_type": "code",
   "execution_count": 6,
   "metadata": {},
   "outputs": [],
   "source": [
    "acceptednames = names.loc[names['check']!=1,'token'].tolist()"
   ]
  },
  {
   "cell_type": "code",
   "execution_count": 9,
   "metadata": {},
   "outputs": [],
   "source": [
    "acceptednames = list(set(acceptednames))"
   ]
  },
  {
   "cell_type": "code",
   "execution_count": 10,
   "metadata": {},
   "outputs": [
    {
     "data": {
      "text/plain": [
       "1617"
      ]
     },
     "execution_count": 10,
     "metadata": {},
     "output_type": "execute_result"
    }
   ],
   "source": [
    "len(acceptednames)"
   ]
  },
  {
   "cell_type": "markdown",
   "metadata": {},
   "source": [
    "We can also add tokens from our name lists that did not appear in our tagged tokens, but might be elsewhere in the documents."
   ]
  },
  {
   "cell_type": "code",
   "execution_count": 11,
   "metadata": {},
   "outputs": [],
   "source": [
    "fnames = open(\"DBE_Names/firstnames.txt\", 'r')\n",
    "lnames = open(\"DBE_Names/lastnames.txt\",'r')"
   ]
  },
  {
   "cell_type": "code",
   "execution_count": 12,
   "metadata": {},
   "outputs": [],
   "source": [
    "DBEnames = []\n",
    "\n",
    "for line in fnames:\n",
    "    DBEnames.append(line.rstrip('\\n'))\n",
    "    \n",
    "for line in lnames:\n",
    "    DBEnames.append(line.rstrip('\\n'))"
   ]
  },
  {
   "cell_type": "code",
   "execution_count": 13,
   "metadata": {},
   "outputs": [],
   "source": [
    "DBEnames = set(DBEnames)"
   ]
  },
  {
   "cell_type": "code",
   "execution_count": 14,
   "metadata": {},
   "outputs": [
    {
     "data": {
      "text/plain": [
       "10005"
      ]
     },
     "execution_count": 14,
     "metadata": {},
     "output_type": "execute_result"
    }
   ],
   "source": [
    "len(DBEnames)"
   ]
  },
  {
   "cell_type": "markdown",
   "metadata": {},
   "source": [
    "Iterating through the rows, we found some tokens that are not necessary in these lists. We'll remove them:\n",
    "maestro\n",
    "licenciado\n",
    "bachiller\n",
    "maestre\n",
    "fray\n",
    "nombre\n",
    "jurado\n",
    "notario\n",
    "vicario\n",
    "mercader\n",
    "escribano"
   ]
  },
  {
   "cell_type": "code",
   "execution_count": 15,
   "metadata": {},
   "outputs": [
    {
     "data": {
      "text/plain": [
       "True"
      ]
     },
     "execution_count": 15,
     "metadata": {},
     "output_type": "execute_result"
    }
   ],
   "source": [
    "'maestro' in DBEnames"
   ]
  },
  {
   "cell_type": "code",
   "execution_count": 16,
   "metadata": {},
   "outputs": [
    {
     "data": {
      "text/plain": [
       "True"
      ]
     },
     "execution_count": 16,
     "metadata": {},
     "output_type": "execute_result"
    }
   ],
   "source": [
    "'licenciado' in DBEnames"
   ]
  },
  {
   "cell_type": "code",
   "execution_count": 17,
   "metadata": {},
   "outputs": [
    {
     "data": {
      "text/plain": [
       "True"
      ]
     },
     "execution_count": 17,
     "metadata": {},
     "output_type": "execute_result"
    }
   ],
   "source": [
    "'bachiller' in DBEnames"
   ]
  },
  {
   "cell_type": "code",
   "execution_count": 18,
   "metadata": {},
   "outputs": [
    {
     "data": {
      "text/plain": [
       "True"
      ]
     },
     "execution_count": 18,
     "metadata": {},
     "output_type": "execute_result"
    }
   ],
   "source": [
    "'maestre' in DBEnames"
   ]
  },
  {
   "cell_type": "code",
   "execution_count": 19,
   "metadata": {},
   "outputs": [
    {
     "data": {
      "text/plain": [
       "True"
      ]
     },
     "execution_count": 19,
     "metadata": {},
     "output_type": "execute_result"
    }
   ],
   "source": [
    "'fray' in DBEnames"
   ]
  },
  {
   "cell_type": "code",
   "execution_count": 20,
   "metadata": {},
   "outputs": [
    {
     "data": {
      "text/plain": [
       "True"
      ]
     },
     "execution_count": 20,
     "metadata": {},
     "output_type": "execute_result"
    }
   ],
   "source": [
    "'nombre' in DBEnames"
   ]
  },
  {
   "cell_type": "code",
   "execution_count": 21,
   "metadata": {},
   "outputs": [
    {
     "data": {
      "text/plain": [
       "True"
      ]
     },
     "execution_count": 21,
     "metadata": {},
     "output_type": "execute_result"
    }
   ],
   "source": [
    "'jurado' in DBEnames"
   ]
  },
  {
   "cell_type": "code",
   "execution_count": 22,
   "metadata": {},
   "outputs": [
    {
     "data": {
      "text/plain": [
       "True"
      ]
     },
     "execution_count": 22,
     "metadata": {},
     "output_type": "execute_result"
    }
   ],
   "source": [
    "'notario' in DBEnames"
   ]
  },
  {
   "cell_type": "code",
   "execution_count": 23,
   "metadata": {},
   "outputs": [
    {
     "data": {
      "text/plain": [
       "True"
      ]
     },
     "execution_count": 23,
     "metadata": {},
     "output_type": "execute_result"
    }
   ],
   "source": [
    "'vicario' in DBEnames"
   ]
  },
  {
   "cell_type": "code",
   "execution_count": 24,
   "metadata": {},
   "outputs": [
    {
     "data": {
      "text/plain": [
       "True"
      ]
     },
     "execution_count": 24,
     "metadata": {},
     "output_type": "execute_result"
    }
   ],
   "source": [
    "'mercader' in DBEnames"
   ]
  },
  {
   "cell_type": "code",
   "execution_count": 25,
   "metadata": {},
   "outputs": [
    {
     "data": {
      "text/plain": [
       "True"
      ]
     },
     "execution_count": 25,
     "metadata": {},
     "output_type": "execute_result"
    }
   ],
   "source": [
    "'escribano' in DBEnames"
   ]
  },
  {
   "cell_type": "code",
   "execution_count": 26,
   "metadata": {},
   "outputs": [],
   "source": [
    "DBEnames.remove('maestro')"
   ]
  },
  {
   "cell_type": "code",
   "execution_count": 27,
   "metadata": {},
   "outputs": [],
   "source": [
    "DBEnames.remove('licenciado')\n",
    "DBEnames.remove('bachiller')"
   ]
  },
  {
   "cell_type": "code",
   "execution_count": 28,
   "metadata": {},
   "outputs": [],
   "source": [
    "DBEnames.remove('maestre')\n",
    "DBEnames.remove('fray')\n",
    "DBEnames.remove('nombre')\n",
    "DBEnames.remove('jurado')\n",
    "DBEnames.remove('notario')\n",
    "DBEnames.remove('vicario')\n",
    "DBEnames.remove('mercader')"
   ]
  },
  {
   "cell_type": "code",
   "execution_count": 29,
   "metadata": {},
   "outputs": [],
   "source": [
    "DBEnames.remove('escribano')"
   ]
  },
  {
   "cell_type": "markdown",
   "metadata": {},
   "source": [
    "Let's look at the tokens that appear in the DBE list but do not form part of any entity (token.ent_iob is 2). "
   ]
  },
  {
   "cell_type": "code",
   "execution_count": 30,
   "metadata": {},
   "outputs": [],
   "source": [
    "untagged = []\n",
    "for doc,context in docs:\n",
    "    for token in doc:\n",
    "        if (token.ent_iob==2) and ((token.text.lower() in DBEnames)):\n",
    "            untagged.append(token.text)"
   ]
  },
  {
   "cell_type": "code",
   "execution_count": 31,
   "metadata": {},
   "outputs": [
    {
     "data": {
      "text/plain": [
       "79780"
      ]
     },
     "execution_count": 31,
     "metadata": {},
     "output_type": "execute_result"
    }
   ],
   "source": [
    "len(untagged)"
   ]
  },
  {
   "cell_type": "code",
   "execution_count": 32,
   "metadata": {
    "collapsed": true,
    "jupyter": {
     "outputs_hidden": true
    }
   },
   "outputs": [
    {
     "name": "stdout",
     "output_type": "stream",
     "text": [
      "{'vera', 'bejar', 'labrador', 'hijas', 'campo', 'estada', 'salvador', 'Chaves', 'osuna', 'Hospital', 'peru', 'Ignacio', 'vuelta', 'bassa', 'oleo', 'Hombre', 'Jesus', 'romero', 'crespo', 'balduque', 'iglesias', 'obligado', 'horno', 'andino', 'provecho', 'balle', 'macia', 'batista', 'sota', 'coronel', 'linage', 'regla', 'Morales', 'angeles', 'negro', 'phelipe', 'balmazeda', 'Segunda', 'treviño', 'Rico', 'Corte', 'dominico', 'escriba', 'garcia', 'Monteros', 'sobrino', 'Yermo', 'Batista', 'celada', 'castellanos', 'tornos', 'llanas', 'juan', 'maeda', 'sillero', 'raso', 'Tome', 'Restan', 'Jacob', 'coll', 'plaza', 'peon', 'linaza', 'Villanueva', 'salcedo', 'remesal', 'pared', 'ursula', 'Aldana', 'laurencio', 'Amparo', 'eliseo', 'tizon', 'Justa', 'criado', 'Ramo', 'castillejo', 'mina', 'limpias', 'plata', 'CARTA', 'gallego', 'Perez', 'lara', 'Carta', 'gato', 'purificacion', 'Junta', 'cuentas', 'palomares', 'benegas', 'monasterio', 'rueda', 'rincon', 'camacho', 'Perea', 'rosa', 'anunciacion', 'barrera', 'matis', 'Esperanza', 'ventura', 'blancas', 'Oviedo', 'rato', 'gozar', 'flores', 'conrado', 'gragera', 'bassas', 'falconete', 'herrero', 'baranda', 'pardo', 'Justicia', 'Rodrigues', 'tomasa', 'tomas', 'Pablo', 'mira', 'fierro', 'arroyo', 'aguilar', 'bermejo', 'hernan', 'anna', 'PLATA', 'alas', 'marzo', 'PERO', 'Austria', 'rosas', 'Alvaro', 'antequera', 'hurtado', 'parada', 'alli', 'moldes', 'piedad', 'castellar', 'alameda', 'frutos', 'chico', 'marta', 'simon', 'Bruno', 'gavilan', 'jardin', 'bartolomeo', 'Puente', 'Ribas', 'Flecha', 'ladron', 'Reyes', 'baca', 'ponce', 'guevara', 'gallegos', 'toro', 'lucia', 'anejo', 'bolos', 'molina', 'navajas', 'sese', 'della', 'Piscina', 'Gutierrez', 'Hernan', 'Angel', 'blanco', 'diego', 'buenaventura', 'pes', 'sierpe', 'terreros', 'barbero', 'dehesa', 'pedroso', 'valor', 'quiñones', 'gusta', 'bodega', 'gines', 'llamas', 'acha', 'cavallero', 'concepcion', 'Cuesta', 'toma', 'pino', 'mancebo', 'corral', 'verdes', 'rua', 'saco', 'carlos', 'polo', 'fuente', 'cabeza', 'Diego', 'fuertes', 'beata', 'vaca', 'page', 'paula', 'Clemencia', 'Mesa', 'David', 'hernando', 'bailo', 'sas', 'encarnacion', 'quadra', 'contador', 'Alonso', 'quero', 'Olivares', 'franco', 'pablo', 'Rafael', 'mayor', 'Concha', 'Pino', 'Ramon', 'guerra', 'Pinos', 'tadeo', 'cansino', 'fajardo', 'Solano', 'elias', 'Leyes', 'Coronado', 'melchior', 'Monte', 'beatriz', 'toscano', 'lucas', 'riba', 'olivar', 'trinidad', 'falcon', 'alamin', 'moneda', 'honorio', 'barreda', 'cerro', 'verdad', 'niño', 'nieto', 'Margarita', 'Ronda', 'aguila', 'martel', 'corro', 'pimentel', 'coronado', 'cadena', 'mor', 'Carvajal', 'montagudo', 'cajes', 'garnica', 'Cristobal', 'Armas', 'Baptista', 'lopes', 'Alvarez', 'carpintero', 'deu', 'lista', 'coto', 'rea', 'portal', 'tienda', 'malo', 'barco', 'Paez', 'abad', 'caldero', 'pares', 'villafuerte', 'jesus', 'Vega', 'piedra', 'Espinosa', 'portales', 'Barbero', 'millan', 'orozco', 'Delgado', 'cortada', 'posada', 'montesdoca', 'pilares', 'bela', 'Fuentes', 'Toma', 'fuerte', 'huerta', 'Bandera', 'pinos', 'cameros', 'Velasco', 'terrero', 'peñafiel', 'Costa', 'duque', 'Guillermo', 'geronimo', 'quintero', 'alba', 'solera', 'Clemente', 'jacome', 'yañez', 'bocanegra', 'montañes', 'martines', 'Cid', 'cogolludo', 'margarita', 'espinosa', 'gracia', 'becerra', 'atanasio', 'Rosas', 'Carranza', 'cesar', 'casco', 'villa', 'caldera', 'laguna', 'perea', 'restan', 'correa', 'Sa', 'cuevas', 'mariana', 'Teresa', 'arco', 'Piedra', 'Leal', 'pedro', 'archidona', 'benitez', 'capilla', 'Lucas', 'Eliseo', 'delgado', 'tallada', 'Oliva', 'padilla', 'Rio', 'postigo', 'muro', 'eminente', 'Pan', 'vida', 'espejo', 'girona', 'Esteban', 'casto', 'cueva', 'francisco', 'antonio', 'visitacion', 'castañeda', 'cotan', 'Campo', 'liñan', 'fusta', 'Roque', 'matas', 'laso', 'urban', 'bellon', 'Regla', 'celda', 'cantera', 'Reyna', 'Contador', 'huici', 'junta', 'sea', 'Holgado', 'solar', 'gomez', 'gorriti', 'barbara', 'llorente', 'FERNANDO', 'Andres', 'Sea', 'moguer', 'fraile', 'castillo', 'vela', 'portillo', 'geronima', 'casas', 'escala', 'Viejo', 'alderete', 'corrales', 'Cortes', 'cardenas', 'casillas', 'pio', 'blas', 'clara', 'Sas', 'vieja', 'catalina', 'Martin', 'Cabañas', 'Joseph', 'poyo', 'peco', 'manco', 'hermenegildo', 'Enriquez', 'leonor', 'mercedes', 'LUCAS', 'josef', 'dallo', 'Sevilla', 'Padua', 'seso', 'espino', 'ley', 'Puerta', 'ubeda', 'nicolas', 'Fuente', 'monte', 'portes', 'tornero', 'armengol', 'armero', 'salgado', 'amador', 'Benedicto', 'vivo', 'alexos', 'quinto', 'albornoz', 'calero', 'cabrera', 'quirino', 'Guarda', 'texada', 'comino', 'peñas', 'monesterio', 'Mayo', 'Sala', 'MORILLO', 'pilar', 'laurel', 'Maeda', 'Polonia', 'moro', 'fregenal', 'gabriel', 'canales', 'Joachim', 'santana', 'Bueno', 'Mar', 'encima', 'pasqual', 'jordan', 'Rivera', 'Salvador', 'Medina', 'placido', 'josep', 'Atocha', 'Azcona', 'napoles', 'segundo', 'pinto', 'faria', 'cañero', 'moli', 'Lugo', 'argote', 'santisteban', 'cabra', 'holanda', 'prudencio', 'ahumada', 'recalde', 'tosca', 'Rosa', 'farina', 'salado', 'Javier', 'marino', 'cano', 'amarilla', 'magaña', 'Benito', 'carta', 'sacramento', 'tello', 'sotomayor', 'Hamete', 'granado', 'Aguilar', 'Oro', 'magdalena', 'cuadrado', 'vacas', 'marina', 'amparo', 'Iglesia', 'Paulo', 'Feria', 'Redondo', 'felipe', 'ferrero', 'evangelista', 'costa', 'anton', 'seneca', 'des', 'cantero', 'ribadeneira', 'ayala', 'fuero', 'Sacre', 'Cepeda', 'isla', 'prieto', 'angelo', 'morillo', 'candelaria', 'ferran', 'mesas', 'naves', 'pulido', 'fernandes', 'justicia', 'tome', 'sobrado', 'toledano', 'guadalupe', 'alta', 'grado', 'rubio', 'melgarejo', 'hierro', 'mañara', 'cuerda', 'Isidro', 'damian', 'luz', 'armando', 'riesco', 'Vicenta', 'ramo', 'arze', 'Caballos', 'Diaz', 'menor', 'porteria', 'vides', 'red', 'Enrique', 'redonda', 'oliba', 'leyes', 'Jacome', 'paulo', 'guarda', 'marchena', 'novia', 'redondo', 'ginoves', 'alcoba', 'Piedad', 'izquierdo', 'vargas', 'fanegas', 'Granda', 'jerez', 'torres', 'salinas', 'Segundo', 'Artes', 'cañas', 'encinas', 'teodomiro', 'juanes', 'olalla', 'Campofrio', 'Cuevas', 'castroverde', 'sa', 'Mayor', 'puerta', 'Salazar', 'calafate', 'jacinto', 'martir', 'Vitoria', 'calabazas', 'per', 'camara', 'sesma', 'subira', 'centeno', 'granada', 'paz', 'Monserrat', 'doblas', 'Francisco', 'Cuentas', 'soto', 'buelta', 'casado', 'pacheco', 'guardia', 'Santiago', 'angela', 'pastor', 'factor', 'palacios', 'Maria', 'almendras', 'capaz', 'oreja', 'Figueroa', 'feria', 'aguirre', 'Vicente', 'pontones', 'cristo', 'LEAL', 'paredes', 'barrio', 'Moises', 'picado', 'berastegui', 'dueñas', 'baez', 'Anunciacion', 'joseph', 'CAMPO', 'corona', 'marfil', 'mas', 'maria', 'cordon', 'maximiliano', 'mateo', 'Arenales', 'Luis', 'enzinas', 'cedo', 'rozas', 'bes', 'cumplido', 'thomas', 'Cabezas', 'Dios', 'Gonzalez', 'espina', 'madera', 'solares', 'corpus', 'Felipa', 'verde', 'talon', 'artes', 'santiago', 'Ramos', 'utrera', 'ramos', 'Preciado', 'baustista', 'minjares', 'pereira', 'carnero', 'Encarnacion', 'Pero', 'arostegui', 'ballestero', 'bartolome', 'milanes', 'viejo', 'palacio', 'bacio', 'mate', 'mendes', 'Roldan', 'Duque', 'JUAN', 'igual', 'Niño', 'Flandes', 'Dulce', 'maeso', 'estrella', 'dato', 'ARTEAGA', 'leyba', 'jara', 'arteaga', 'marroquin', 'ribera', 'Damian', 'hermoso', 'FRANCISCO', 'sola', 'portugues', 'verdugo', 'alberto', 'Casilda', 'resta', 'serapio', 'chantre', 'pascual', 'junco', 'risco', 'teresa', 'busto', 'bernarda', 'Castillejo', 'justo', 'Panes', 'claros', 'diz', 'arcangel', 'suarez', 'alonso', 'Ruiz', 'Granada', 'luis', 'quadrado', 'ortega', 'hamete', 'Carpio', 'hoyos', 'corta', 'cid', 'varas', 'chacon', 'reina', 'victoria', 'Apostol', 'jusepe', 'Mejorada', 'pazo', 'cabezas', 'Torres', 'paño', 'ropero', 'portero', 'Reina', 'Justiniano', 'onofre', 'losa', 'Ledesma', 'Leandro', 'Solis', 'muros', 'dolores', 'sala', 'remedios', 'serafin', 'esperanza', 'orta', 'lazaro', 'blanca', 'Peña', 'plana', 'francia', 'caballos', 'Jordan', 'nieves', 'aso', 'torquemada', 'espada', 'campana', 'olivares', 'Vuelta', 'Miguel', 'ros', 'angel', 'real', 'romanos', 'cubillana', 'patron', 'aquino', 'torre', 'gregorio', 'poma', 'mayoral', 'Monsalve', 'alcazar', 'pato', 'rio', 'Busto', 'figueroa', 'carrero', 'Rodriguez', 'carton', 'segui', 'carpio', 'du', 'carrasco', 'poza', 'Santana', 'puga', 'Abad', 'Niebla', 'cristiano', 'perfecto', 'marco', 'elena', 'rallo', 'girolamo', 'Bautista', 'Nazareno', 'martin', 'felice', 'nueva', 'perlas', 'caballeria', 'Jose', 'castro', 'espiritu', 'bote', 'Plata', 'Dos', 'cayo', 'dios', 'bona', 'Mariana', 'damas', 'Sebastian', 'Vieja', 'salvo', 'alamo', 'valenzuela', 'machuca', 'seva', 'Francia', 'Armada', 'Amor', 'olanda', 'Musa', 'rosado', 'Elias', 'vega', 'ARELLANO', 'camino', 'haya', 'santisima', 'pareja', 'Gales', 'vivas', 'Paula', 'nuñez', 'concha', 'Aguirre', 'parado', 'baeza', 'isidro', 'ybarra', 'Jacinto', 'barba', 'Flores', 'amor', 'medina', 'Vargas', 'Lara', 'peres', 'grande', 'arias', 'padua', 'coma', 'custodio', 'cabo', 'molinas', 'prado', 'Carmen', 'baptista', 'jesu', 'higuera', 'puebla', 'matheo', 'cerero', 'miguel', 'carrera', 'aguiar', 'mantilla', 'luisa', 'viñas', 'diamante', 'caxa', 'gradilla', 'Esquivel', 'verano', 'Vico', 'clemencia', 'hoz', 'salas', 'justa', 'halcon', 'buey', 'baltazar', 'serrano', 'Custodio', 'molinos', 'cabello', 'ana', 'romano', 'arcos', 'marques', 'clavijo', 'serena', 'cobertores', 'tejada', 'asta', 'Castillo', 'ribas', 'nebreda', 'vandera', 'pradilla', 'La', 'moran', 'tablada', 'lissa', 'socorro', 'austria', 'angulo', 'oliva', 'canela', 'vea', 'domingo', 'peral', 'tercero', 'sayas', 'cuyas', 'sanabria', 'Clara', 'castaño', 'dorado', 'coria', 'francos', 'sastre', 'clemente', 'Jacobo', 'Salamanca', 'montesa', 'mesa', 'Carcel', 'cala', 'sisa', 'ramales', 'Abraham', 'Julio', 'bernardo', 'segunda', 'lanas', 'carmen', 'carro', 'Cabeza', 'capa', 'pinelo', 'Pozo', 'Anna', 'arnao', 'rasa', 'aceites', 'adan', 'rebolledo', 'Magdalena', 'Loyola', 'pazos', 'pecado', 'tristan', 'virrey', 'dionisio', 'aspas', 'lima', 'Felipe', 'puerto', 'tejero', 'Onofre', 'alva', 'dulce', 'Ovejas', 'Banda', 'vizcaino', 'andrea', 'Alberto', 'Visitacion', 'justiniano', 'robledo', 'baños', 'heredia', 'lorenzo', 'pico', 'Chacon', 'rosario', 'bravo', 'bernabe', 'Gregorio', 'asturias', 'Guardia', 'montes', 'yuso', 'sebil', 'Moro', 'escalada', 'Remedios', 'reyna', 'llave', 'Monasterio', 'mora', 'espadero', 'la', 'Encima', 'linden', 'chamorro', 'apostoles', 'peña', 'Letamendi', 'triana', 'vara', 'puertas', 'cantos', 'techo', 'sierra', 'Rosario', 'barra', 'bernardino', 'trigo', 'Rivas', 'daban', 'pozo', 'Pastor', 'Phelipe', 'duro', 'cortina', 'marca', 'vicente', 'hipolito', 'suero', 'Angeles', 'luna', 'quadros', 'abreu', 'Coca', 'Castañeda', 'buy', 'Sevillano', 'mozo', 'capillas', 'leal', 'Juanes', 'Gabriel', 'peñaranda', 'armada', 'MURILLO', 'Mas', 'barca', 'topa', 'milan', 'Gracia', 'texedor', 'piedras', 'romana', 'Juan', 'fuensalida', 'faber', 'caro', 'amigo', 'do', 'Gato', 'allende', 'cordero', 'Simon', 'naval', 'campos', 'navas', 'roque', 'Cosme', 'amado', 'moron', 'Mora', 'jaspe', 'Antonio', 'tapia', 'vico', 'demaria', 'Ana', 'Puga', 'Vida', 'ormigon', 'ortiz', 'aldonza', 'manera', 'Pacheco', 'Jeronimo', 'Resta', 'parra', 'encalada', 'estefania', 'tamariz', 'reta', 'villarrubia', 'granados', 'Marcos', 'reyes', 'fernandez', 'cuellar', 'leandro', 'pulgar', 'Primo', 'nolasco', 'pison', 'santaren', 'alos', 'Romanos', 'Guevara', 'alcayde', 'pita', 'jorge', 'salido', 'Agreda', 'carcel', 'estopiñan', 'diez', 'mayo', 'marmol', 'cuesta', 'Baños', 'Monesterio', 'bargas', 'abarca', 'Bernardo', 'barrionuevo', 'Avila', 'piñon', 'vicuña', 'Cristo', 'benito', 'espiga', 'leonis', 'fernando', 'xavier', 'chinchon', 'Cano', 'cerda', 'Domingo', 'caballero', 'obrador', 'moros', 'andres', 'iglesia', 'caja', 'hidalgo', 'cazalla', 'nazareno', 'anda', 'Rita', 'primo', 'pagan', 'Rojo', 'Hermosa', 'sidonia', 'valle', 'cabañas', 'acosta', 'flecha', 'viga', 'Liñan', 'joven', 'carranza', 'monteagudo', 'Crispin', 'Lechuga', 'Conde', 'jamete', 'Aguas', 'Ruis', 'consolacion', 'escoto', 'mar', 'Casas', 'Espada', 'suelto', 'muñecas', 'bautista', 'parrales', 'Espina', 'vergara', 'Isabel', 'trigueros', 'ferrer', 'Albo', 'arellano', 'testera', 'troyano', 'cordova', 'aras', 'Francisca', 'Susana', 'Redonda', 'aguas', 'patricio', 'calis', 'boquete', 'baso', 'julio', 'hazen', 'alamos', 'Obligado', 'Fernando', 'alcantara', 'escaño', 'pavon', 'cuero', 'Palma', 'azuaga', 'plano', 'aleman', 'malagon', 'basta', 'fuentes', 'Portugal', 'banda', 'Saeta', 'peinado', 'Luisa', 'Nieto', 'michel', 'calvo', 'jose', 'duran', 'contreras', 'fita', 'leonardo', 'porto', 'dos', 'brabante', 'costas', 'puente', 'freses', 'Malagon', 'arguello', 'carnicero', 'MORENO', 'Evangelista', 'Laureano', 'toral', 'Alameda', 'Carlos', 'Dorado', 'ines', 'Catarina', 'talavera', 'Caso', 'ruis', 'hornero', 'Paz', 'apostol', 'paterna', 'Santisima', 'hermosa', 'Santisteban', 'montaña', 'Vela', 'flandes', 'mal', 'Borja', 'millares', 'matos', 'Pedro', 'cancela', 'lis', 'canto', 'Ribera', 'Romana', 'herreros', 'hoyo', 'matias', 'Manzanos', 'Pimentel', 'Cecilia', 'morales', 'pero', 'Marina', 'Daniel', 'olmos', 'Quinto', 'Caballero', 'lebrija', 'pecador', 'bacas', 'casta', 'cantillo', 'pan', 'caula', 'ceron', 'francisca', 'agustin', 'Gallego', 'villacastin', 'herrera', 'Nueva', 'caño', 'Corpus', 'casos', 'rico', 'palma', 'moreno', 'baro', 'Trinidad', 'abello', 'vasco', 'bruno', 'panes', 'moya', 'polonia', 'texeda', 'cosa', 'Antequera', 'sales', 'Romero', 'Lista', 'sacristan', 'giron', 'aroche', 'loyola', 'linaje', 'estrada', 'costales', 'Soto', 'balanza', 'lopez', 'leon', 'lindo', 'pere', 'hospital', 'carbon', 'labrada', 'ovejas', 'Villa', 'Geronima', 'vermondo', 'bueno', 'conde', 'foi', 'baga', 'baltasar', 'corte', 'rodrigo', 'monge', 'alfonso', 'escuderos', 'van', 'coçar', 'Real', 'maldonado', 'oro', 'llano', 'mathe', 'ambrosio', 'GUERRA', 'monto', 'ayllon', 'Robles', 'palos', 'juste', 'enjuta', 'guzman', 'Lorenzo', 'corrientes', 'farfan', 'alexo', 'chica', 'Cantero', 'coco', 'cesare', 'caxon', 'santillan', 'gala', 'crisostomo', 'Linaje', 'isabel', 'Josef', 'estupiñan', 'gil', 'brea', 'Bernardino', 'tirado', 'hombre', 'Concepcion', 'lana', 'asuncion', 'petronila', 'mejorada', 'giraldo', 'diaz', 'canal', 'bello', 'escudero', 'varillas', 'meneses', 'vallados', 'escriva', 'monserrate', 'capuz', 'albear', 'beato', 'bustos', 'franscisco', 'marcos', 'Alfonso', 'gonçalo', 'hera', 'porras', 'llanos', 'arenas', 'Catalina', 'lossa', 'castilla', 'frances', 'armas', 'mercado', 'Cuerda', 'bandera', 'bailon', 'guerrero', 'flor', 'escalera', 'von', 'hortigas', 'segura', 'Marques', 'Capilla', 'joan', 'acuña', 'Valle', 'montano', 'catalan', 'cortes', 'Gallo', 'Henrique', 'lerma', 'caso', 'Sacramento', 'cean', 'Vermondo', 'balbuena'}\n"
     ]
    }
   ],
   "source": [
    "print(set(untagged))"
   ]
  },
  {
   "cell_type": "code",
   "execution_count": 33,
   "metadata": {},
   "outputs": [
    {
     "data": {
      "text/plain": [
       "1464"
      ]
     },
     "execution_count": 33,
     "metadata": {},
     "output_type": "execute_result"
    }
   ],
   "source": [
    "len(set(untagged))"
   ]
  },
  {
   "cell_type": "markdown",
   "metadata": {},
   "source": [
    "It would be wise to review this list of 1,478 tokens manually to determine which are names for sure and which are dubious. But first, let's see how many of these matches (DBE and acceptednames) happen adjacent to a PER entity (before or after) to see which spans we have to edit."
   ]
  },
  {
   "cell_type": "markdown",
   "metadata": {},
   "source": [
    "# Strategy 1: Exact Matching in Lists"
   ]
  },
  {
   "cell_type": "code",
   "execution_count": 34,
   "metadata": {},
   "outputs": [
    {
     "data": {
      "text/plain": [
       "martin"
      ]
     },
     "execution_count": 34,
     "metadata": {},
     "output_type": "execute_result"
    }
   ],
   "source": [
    "docs[0][0][1]"
   ]
  },
  {
   "cell_type": "markdown",
   "metadata": {},
   "source": [
    "I want a rule that looks in front or behind of a PER entity. If that token is in the name list and is not tagged as an entity, I want it to be appended to our list. If the token is de, el or la (single or plural), I want it to move to the nex token. "
   ]
  },
  {
   "cell_type": "code",
   "execution_count": 35,
   "metadata": {},
   "outputs": [],
   "source": [
    "nexttopers = []\n",
    "for doc,context in docs:\n",
    "    for ent in doc.ents:\n",
    "        if ent.label_=='PER':\n",
    "            try:\n",
    "                i = 1\n",
    "                a = doc[ent.start-i]\n",
    "                while a.text.lower() == 'de' or a.text.lower() =='del' or a.text.lower() == 'la'or a.text == 'el' or a.text == 'los' or a.text == 'las' or a.text == 'y':\n",
    "                    i = i+1\n",
    "                    a = doc[ent.start-i]\n",
    "                if (a.ent_iob==2) and ((a.text.lower() in acceptednames) or (a.text.lower() in DBEnames)):\n",
    "                    nexttopers.append(a.text)\n",
    "            except: \n",
    "                pass\n",
    "            try:\n",
    "                i = 0\n",
    "                b = doc[ent.end+i]\n",
    "                while b.text.lower() == 'de' or b.text.lower() == 'del' or b.text.lower() == 'la'or b.text == 'el' or b.text == 'los' or b.text == 'las' or b.text == 'y':\n",
    "                    i = i+1\n",
    "                    b = doc[ent.end+i]\n",
    "                if (b.ent_iob==2) and ((b.text.lower() in acceptednames)or (b.text.lower() in DBEnames)):\n",
    "                    nexttopers.append(b.text)\n",
    "            except:\n",
    "                pass"
   ]
  },
  {
   "cell_type": "code",
   "execution_count": 36,
   "metadata": {},
   "outputs": [
    {
     "data": {
      "text/plain": [
       "971"
      ]
     },
     "execution_count": 36,
     "metadata": {},
     "output_type": "execute_result"
    }
   ],
   "source": [
    "len(nexttopers)"
   ]
  },
  {
   "cell_type": "code",
   "execution_count": 37,
   "metadata": {},
   "outputs": [
    {
     "data": {
      "text/plain": [
       "298"
      ]
     },
     "execution_count": 37,
     "metadata": {},
     "output_type": "execute_result"
    }
   ],
   "source": [
    "len(set(nexttopers))"
   ]
  },
  {
   "cell_type": "code",
   "execution_count": 38,
   "metadata": {},
   "outputs": [
    {
     "name": "stdout",
     "output_type": "stream",
     "text": [
      "{'capilla', 'costa', 'sa', 'cordero', 'Esquivel', 'delgado', 'matos', 'calero', 'cantero', 'maldonado', 'carrasco', 'abad', 'oro', 'ayala', 'labrador', 'Conde', 'puga', 'hijas', 'campo', 'bravo', 'villafuerte', 'hoz', 'Nisa', 'Abad', 'jesus', 'cavallero', 'texada', 'calafate', 'justa', 'toma', 'camacho', 'Vega', 'corral', 'hermoso', 'vida', 'camara', 'Chaves', 'serrano', 'guzman', 'portugues', 'comino', 'centeno', 'rua', 'vuelta', 'tapia', 'monesterio', 'farfan', 'ana', 'vico', 'Cantero', 'marques', 'Sala', 'doblas', 'chantre', 'francisco', 'cabeza', 'clavijo', 'beata', 'martin', 'maeso', 'cotan', 'moro', 'obligado', 'reyna', 'pero', 'fernandes', 'gragera', 'justicia', 'tome', 'andino', 'Clemencia', 'casado', 'teresa', 'Albo', 'balle', 'toledano', 'Jeronimo', 'espadero', 'crisostomo', 'moran', 'Linaje', 'tablada', 'pastor', 'herrero', 'Bueno', 'urban', 'falconete', 'melgarejo', 'linage', 'tamariz', 'palacios', 'coronel', 'encima', 'ceron', 'contador', 'vea', 'quero', 'aguirre', 'Marcos', 'domingo', 'agustin', 'negro', 'Medina', 'placido', 'fernandez', 'LEAL', 'cuellar', 'barrio', 'berastegui', 'Bandera', 'Azcona', 'tercero', 'chamorro', 'segundo', 'tirado', 'herrera', 'hombre', 'Rico', 'pinto', 'mayor', 'machuca', 'quadrado', 'ortega', 'hernan', 'mas', 'cañero', 'sea', 'garcia', 'maria', 'Velasco', 'cid', 'solar', 'Lugo', 'dorado', 'sobrino', 'Fernando', 'rico', 'cuentas', 'sastre', 'ahumada', 'alcantara', 'fraile', 'clemente', 'alcayde', 'hurtado', 'Mejorada', 'thomas', 'geronima', 'duque', 'menor', 'Dios', 'Gonzalez', 'casas', 'diez', 'juan', 'vides', 'madera', 'geronimo', 'camino', 'alderete', 'ropero', 'portero', 'trigo', 'sillero', 'haya', 'bargas', 'aleman', 'pareja', 'abarca', 'fuentes', 'magaña', 'dias', 'albear', 'Tome', 'Ledesma', 'lucas', 'banda', 'peinado', 'artes', 'segunda', 'guarda', 'carta', 'nieta', 'cosa', 'Aguirre', 'Nieto', 'peon', 'suero', 'bocanegra', 'catalina', 'montañes', 'sacristan', 'hera', 'Pero', 'tello', 'giron', 'alamin', 'duran', 'porras', 'mozo', 'orta', 'manco', 'contreras', 'arostegui', 'blanca', 'cogolludo', 'barba', 'ballestero', 'ginoves', 'Aldana', 'castilla', 'milanes', 'leal', 'gracia', 'dos', 'frances', 'espinosa', 'viejo', 'verdad', 'costas', 'armas', 'carnicero', 'caballero', 'mercado', 'niño', 'vargas', 'nieto', 'sotomayor', 'Evangelista', 'Justa', 'Sevilla', 'criado', 'martel', 'estrada', 'arias', 'corro', 'iglesia', 'andres', 'coronado', 'guerrero', 'caja', 'hidalgo', 'von', 'jerez', 'aso', 'texedor', 'tristan', 'torquemada', 'pere', 'plata', 'Puerta', 'Duque', 'garnica', 'campana', 'della', 'magdalena', 'gallego', 'acuña', 'Hernan', 'real', 'blanco', 'patron', 'lopes', 'ruis', 'carpintero', 'villa', 'bueno', 'cortes', 'hornero', 'conde', 'foi', 'cerero', 'valle', 'torre', 'restan', 'deu', 'corte', 'acosta', 'caro', 'barbero', 'correa', 'Monsalve', 'Sa', 'coto', 'Niño', 'tornero', 'salgado', 'joven', 'valor', 'flandes', 'Busto', 'ferrero', 'viñas', 'pedro', 'tienda', 'alexos', 'Rodriguez', 'castroverde'}\n"
     ]
    }
   ],
   "source": [
    "print(set(nexttopers))"
   ]
  },
  {
   "cell_type": "markdown",
   "metadata": {},
   "source": [
    "According to this rule, 971 modifications could be made, from 298 distinct tokens."
   ]
  },
  {
   "cell_type": "code",
   "execution_count": 39,
   "metadata": {},
   "outputs": [],
   "source": [
    "peopleshort = []\n",
    "\n",
    "for doc,context in docs:\n",
    "    for ent in doc.ents:\n",
    "        if ent.label_=='PER':\n",
    "            try:\n",
    "                i = 1\n",
    "                a = doc[ent.start-i]\n",
    "                while a.text.lower() == 'de' or a.text.lower() =='del' or a.text.lower() == 'la'or a.text.lower() == 'el' or a.text.lower() == 'los' or a.text.lower() == 'las' or a.text.lower()=='y':\n",
    "                    i = i+1\n",
    "                    a = doc[ent.start-i]\n",
    "                if (a.ent_iob==2) and ((a.text.lower() in acceptednames) or (a.text.lower() in DBEnames)):\n",
    "                    h = context['id']\n",
    "                    b = ent.text\n",
    "                    c = ent.start\n",
    "                    d = ent.end\n",
    "                    e = a.i\n",
    "                    f = a.text\n",
    "                    g = ent.label_\n",
    "                    entry = [h, b, c, d, e, f,g]\n",
    "                    peopleshort.append(entry)\n",
    "            except: \n",
    "                pass\n",
    "            try:\n",
    "                i = 0\n",
    "                b = doc[ent.end+i]\n",
    "                while b.text.lower() == 'de' or b.text.lower() == 'del' or b.text.lower() == 'la'or b.text.lower() == 'el' or b.text.lower() == 'los' or b.text.lower() == 'las' or b.text.lower()=='y':\n",
    "                    i = i+1\n",
    "                    b = doc[ent.end+i]\n",
    "                if (b.ent_iob==2) and ((b.text.lower() in acceptednames)or (b.text.lower() in DBEnames)):\n",
    "                    a = context['id']\n",
    "                    h = ent.text\n",
    "                    c = ent.start\n",
    "                    d = ent.end\n",
    "                    e = b.i\n",
    "                    f = b.text\n",
    "                    g=ent.label_\n",
    "                    entry = [a, h, c, d, e, f,g]\n",
    "                    peopleshort.append(entry)\n",
    "            except:\n",
    "                pass"
   ]
  },
  {
   "cell_type": "code",
   "execution_count": 40,
   "metadata": {},
   "outputs": [
    {
     "data": {
      "text/plain": [
       "971"
      ]
     },
     "execution_count": 40,
     "metadata": {},
     "output_type": "execute_result"
    }
   ],
   "source": [
    "len(peopleshort)"
   ]
  },
  {
   "cell_type": "code",
   "execution_count": 41,
   "metadata": {},
   "outputs": [],
   "source": [
    "peopleshort = pd.DataFrame(peopleshort, columns = ['docid','string','start','end','tokenloc','tokentext','entlabel'])"
   ]
  },
  {
   "cell_type": "code",
   "execution_count": 42,
   "metadata": {},
   "outputs": [
    {
     "data": {
      "text/html": [
       "<div>\n",
       "<style scoped>\n",
       "    .dataframe tbody tr th:only-of-type {\n",
       "        vertical-align: middle;\n",
       "    }\n",
       "\n",
       "    .dataframe tbody tr th {\n",
       "        vertical-align: top;\n",
       "    }\n",
       "\n",
       "    .dataframe thead th {\n",
       "        text-align: right;\n",
       "    }\n",
       "</style>\n",
       "<table border=\"1\" class=\"dataframe\">\n",
       "  <thead>\n",
       "    <tr style=\"text-align: right;\">\n",
       "      <th></th>\n",
       "      <th>docid</th>\n",
       "      <th>string</th>\n",
       "      <th>start</th>\n",
       "      <th>end</th>\n",
       "      <th>tokenloc</th>\n",
       "      <th>tokentext</th>\n",
       "      <th>entlabel</th>\n",
       "    </tr>\n",
       "  </thead>\n",
       "  <tbody>\n",
       "    <tr>\n",
       "      <th>0</th>\n",
       "      <td>50</td>\n",
       "      <td>Cristobal garcia</td>\n",
       "      <td>6</td>\n",
       "      <td>8</td>\n",
       "      <td>8</td>\n",
       "      <td>cantero</td>\n",
       "      <td>PER</td>\n",
       "    </tr>\n",
       "    <tr>\n",
       "      <th>1</th>\n",
       "      <td>56</td>\n",
       "      <td>garcia fustanero</td>\n",
       "      <td>23</td>\n",
       "      <td>25</td>\n",
       "      <td>22</td>\n",
       "      <td>pero</td>\n",
       "      <td>PER</td>\n",
       "    </tr>\n",
       "    <tr>\n",
       "      <th>2</th>\n",
       "      <td>59</td>\n",
       "      <td>Pedro Blascoen</td>\n",
       "      <td>2476</td>\n",
       "      <td>2478</td>\n",
       "      <td>2478</td>\n",
       "      <td>Sevilla</td>\n",
       "      <td>PER</td>\n",
       "    </tr>\n",
       "    <tr>\n",
       "      <th>3</th>\n",
       "      <td>101</td>\n",
       "      <td>nicolas jurate</td>\n",
       "      <td>163</td>\n",
       "      <td>165</td>\n",
       "      <td>165</td>\n",
       "      <td>dos</td>\n",
       "      <td>PER</td>\n",
       "    </tr>\n",
       "    <tr>\n",
       "      <th>4</th>\n",
       "      <td>106</td>\n",
       "      <td>niculao de leon</td>\n",
       "      <td>0</td>\n",
       "      <td>3</td>\n",
       "      <td>3</td>\n",
       "      <td>frances</td>\n",
       "      <td>PER</td>\n",
       "    </tr>\n",
       "  </tbody>\n",
       "</table>\n",
       "</div>"
      ],
      "text/plain": [
       "   docid            string  start   end  tokenloc tokentext entlabel\n",
       "0     50  Cristobal garcia      6     8         8   cantero      PER\n",
       "1     56  garcia fustanero     23    25        22      pero      PER\n",
       "2     59    Pedro Blascoen   2476  2478      2478   Sevilla      PER\n",
       "3    101    nicolas jurate    163   165       165       dos      PER\n",
       "4    106   niculao de leon      0     3         3   frances      PER"
      ]
     },
     "execution_count": 42,
     "metadata": {},
     "output_type": "execute_result"
    }
   ],
   "source": [
    "peopleshort.head()"
   ]
  },
  {
   "cell_type": "code",
   "execution_count": 43,
   "metadata": {},
   "outputs": [],
   "source": [
    "peopleshort['edit_short']=''"
   ]
  },
  {
   "cell_type": "markdown",
   "metadata": {},
   "source": [
    "This should be enough to loop through our labels and edit them, as we did previously in Data Cleaning 2. And the number of tags is small enough that we do not need to filter things out. "
   ]
  },
  {
   "cell_type": "code",
   "execution_count": 56,
   "metadata": {},
   "outputs": [
    {
     "name": "stdout",
     "output_type": "stream",
     "text": [
      "2\n",
      "DIEGO AMBROSIO 14 16\n",
      "menor 16\n"
     ]
    },
    {
     "data": {
      "text/html": [
       "<span class=\"tex2jax_ignore\"><div class=\"entities\" style=\"line-height: 2.5; direction: ltr\">\n",
       "<mark class=\"entity\" style=\"background: #ddd; padding: 0.45em 0.6em; margin: 0 0.25em; line-height: 1; border-radius: 0.35em;\">\n",
       "    DIEGO AMBROSIO\n",
       "    <span style=\"font-size: 0.8em; font-weight: bold; line-height: 1; border-radius: 0.35em; text-transform: uppercase; vertical-align: middle; margin-left: 0.5rem\">PER</span>\n",
       "</mark>\n",
       " menor hijo de \n",
       "<mark class=\"entity\" style=\"background: #ddd; padding: 0.45em 0.6em; margin: 0 0.25em; line-height: 1; border-radius: 0.35em;\">\n",
       "    Francisco Sánchez Pizarra\n",
       "    <span style=\"font-size: 0.8em; font-weight: bold; line-height: 1; border-radius: 0.35em; text-transform: uppercase; vertical-align: middle; margin-left: 0.5rem\">PER</span>\n",
       "</mark>\n",
       " y digo que el </div></span>"
      ],
      "text/plain": [
       "<IPython.core.display.HTML object>"
      ]
     },
     "metadata": {},
     "output_type": "display_data"
    },
    {
     "name": "stdin",
     "output_type": "stream",
     "text": [
      "Edit? 0\n"
     ]
    }
   ],
   "source": [
    "count = 0\n",
    "for (index, row) in peopleshort.iterrows():\n",
    "    if row['edit_short']=='':\n",
    "        count=count+1\n",
    "        print(count)\n",
    "        print(row['string'],row['start'],row['end'])\n",
    "        print(row['tokentext'], row['tokenloc'])\n",
    "        docid = row['docid']\n",
    "        strstart = min([int(row['start']), int(row['tokenloc'])])\n",
    "        strend = max([int(row['end']), int(row['tokenloc'])]) + 10\n",
    "        \n",
    "        for doc in docs:\n",
    "            if doc[1]['id'] == docid:      \n",
    "                displacy.render(doc[0][strstart:strend],style='ent',jupyter=True)\n",
    "                peopleshort.loc[index, 'edit_short']=input('Edit?')\n",
    "                \n",
    "                if peopleshort.loc[index, 'edit_short']=='X':\n",
    "                        for doc in docs:\n",
    "                            if doc[1]['id'] == docid:\n",
    "                                displacy.render(doc[0],style='ent',jupyter=True)\n",
    "                                peopleshort.loc[index,'edit_short']=input('Edit?')\n",
    "                clear_output(wait=True)"
   ]
  },
  {
   "cell_type": "code",
   "execution_count": null,
   "metadata": {},
   "outputs": [],
   "source": [
    "peopleshort"
   ]
  },
  {
   "cell_type": "code",
   "execution_count": 363,
   "metadata": {},
   "outputs": [
    {
     "data": {
      "text/html": [
       "<div>\n",
       "<style scoped>\n",
       "    .dataframe tbody tr th:only-of-type {\n",
       "        vertical-align: middle;\n",
       "    }\n",
       "\n",
       "    .dataframe tbody tr th {\n",
       "        vertical-align: top;\n",
       "    }\n",
       "\n",
       "    .dataframe thead th {\n",
       "        text-align: right;\n",
       "    }\n",
       "</style>\n",
       "<table border=\"1\" class=\"dataframe\">\n",
       "  <thead>\n",
       "    <tr style=\"text-align: right;\">\n",
       "      <th></th>\n",
       "      <th>Unnamed: 0</th>\n",
       "      <th>docid</th>\n",
       "      <th>string</th>\n",
       "      <th>start</th>\n",
       "      <th>end</th>\n",
       "      <th>tokenloc</th>\n",
       "      <th>tokentext</th>\n",
       "      <th>entlabel</th>\n",
       "      <th>newstart</th>\n",
       "      <th>newend</th>\n",
       "    </tr>\n",
       "    <tr>\n",
       "      <th>edit_short</th>\n",
       "      <th></th>\n",
       "      <th></th>\n",
       "      <th></th>\n",
       "      <th></th>\n",
       "      <th></th>\n",
       "      <th></th>\n",
       "      <th></th>\n",
       "      <th></th>\n",
       "      <th></th>\n",
       "      <th></th>\n",
       "    </tr>\n",
       "  </thead>\n",
       "  <tbody>\n",
       "    <tr>\n",
       "      <th>0</th>\n",
       "      <td>686</td>\n",
       "      <td>686</td>\n",
       "      <td>686</td>\n",
       "      <td>686</td>\n",
       "      <td>686</td>\n",
       "      <td>686</td>\n",
       "      <td>686</td>\n",
       "      <td>686</td>\n",
       "      <td>686</td>\n",
       "      <td>686</td>\n",
       "    </tr>\n",
       "    <tr>\n",
       "      <th>1</th>\n",
       "      <td>262</td>\n",
       "      <td>262</td>\n",
       "      <td>262</td>\n",
       "      <td>262</td>\n",
       "      <td>262</td>\n",
       "      <td>262</td>\n",
       "      <td>262</td>\n",
       "      <td>262</td>\n",
       "      <td>262</td>\n",
       "      <td>262</td>\n",
       "    </tr>\n",
       "    <tr>\n",
       "      <th>L</th>\n",
       "      <td>1</td>\n",
       "      <td>1</td>\n",
       "      <td>1</td>\n",
       "      <td>1</td>\n",
       "      <td>1</td>\n",
       "      <td>1</td>\n",
       "      <td>1</td>\n",
       "      <td>1</td>\n",
       "      <td>1</td>\n",
       "      <td>1</td>\n",
       "    </tr>\n",
       "    <tr>\n",
       "      <th>R</th>\n",
       "      <td>7</td>\n",
       "      <td>7</td>\n",
       "      <td>7</td>\n",
       "      <td>7</td>\n",
       "      <td>7</td>\n",
       "      <td>7</td>\n",
       "      <td>7</td>\n",
       "      <td>7</td>\n",
       "      <td>7</td>\n",
       "      <td>7</td>\n",
       "    </tr>\n",
       "    <tr>\n",
       "      <th>o</th>\n",
       "      <td>15</td>\n",
       "      <td>15</td>\n",
       "      <td>15</td>\n",
       "      <td>15</td>\n",
       "      <td>15</td>\n",
       "      <td>15</td>\n",
       "      <td>15</td>\n",
       "      <td>15</td>\n",
       "      <td>15</td>\n",
       "      <td>15</td>\n",
       "    </tr>\n",
       "  </tbody>\n",
       "</table>\n",
       "</div>"
      ],
      "text/plain": [
       "            Unnamed: 0  docid  string  start  end  tokenloc  tokentext  \\\n",
       "edit_short                                                               \n",
       "0                  686    686     686    686  686       686        686   \n",
       "1                  262    262     262    262  262       262        262   \n",
       "L                    1      1       1      1    1         1          1   \n",
       "R                    7      7       7      7    7         7          7   \n",
       "o                   15     15      15     15   15        15         15   \n",
       "\n",
       "            entlabel  newstart  newend  \n",
       "edit_short                              \n",
       "0                686       686     686  \n",
       "1                262       262     262  \n",
       "L                  1         1       1  \n",
       "R                  7         7       7  \n",
       "o                 15        15      15  "
      ]
     },
     "execution_count": 363,
     "metadata": {},
     "output_type": "execute_result"
    }
   ],
   "source": [
    "peopleshort.fillna('').groupby('edit_short').count()"
   ]
  },
  {
   "cell_type": "markdown",
   "metadata": {},
   "source": [
    "Above: of the tags identified for checking, 686 are correct, 262 must be edited for length, one must be reclassified as a location, 7 must be removed and 15 have another problem (multiple tags or mis-tokenization)."
   ]
  },
  {
   "cell_type": "code",
   "execution_count": 58,
   "metadata": {},
   "outputs": [],
   "source": [
    "peopleshort.to_csv('Files_Cleaning3/PERS_tag_clean3_strat1.csv')"
   ]
  },
  {
   "cell_type": "markdown",
   "metadata": {},
   "source": [
    "# Strategy 2: Fuzzy Matching to Lists\n",
    "\n",
    "Let's do the same thing, but with tokens that approximately match names in our lists."
   ]
  },
  {
   "cell_type": "code",
   "execution_count": 59,
   "metadata": {},
   "outputs": [],
   "source": [
    "from fuzzywuzzy import fuzz\n",
    "from fuzzywuzzy import process"
   ]
  },
  {
   "cell_type": "code",
   "execution_count": 60,
   "metadata": {},
   "outputs": [],
   "source": [
    "tokens = pd.DataFrame()\n",
    "tokens['token']=''\n",
    "tokens['score']=''\n",
    "tokens['match']=''"
   ]
  },
  {
   "cell_type": "code",
   "execution_count": 61,
   "metadata": {},
   "outputs": [],
   "source": [
    "untagged = []\n",
    "for doc,context in docs:\n",
    "    for token in doc:\n",
    "        if (token.ent_iob==2):\n",
    "            untagged.append(token.text)"
   ]
  },
  {
   "cell_type": "code",
   "execution_count": 62,
   "metadata": {},
   "outputs": [],
   "source": [
    "untagged = set(untagged)"
   ]
  },
  {
   "cell_type": "code",
   "execution_count": 63,
   "metadata": {},
   "outputs": [
    {
     "data": {
      "text/plain": [
       "31748"
      ]
     },
     "execution_count": 63,
     "metadata": {},
     "output_type": "execute_result"
    }
   ],
   "source": [
    "len(untagged)"
   ]
  },
  {
   "cell_type": "code",
   "execution_count": 64,
   "metadata": {},
   "outputs": [],
   "source": [
    "for token in untagged:\n",
    "    tokens= tokens.append({'token':token}, ignore_index=True)"
   ]
  },
  {
   "cell_type": "code",
   "execution_count": 65,
   "metadata": {},
   "outputs": [
    {
     "data": {
      "text/plain": [
       "31748"
      ]
     },
     "execution_count": 65,
     "metadata": {},
     "output_type": "execute_result"
    }
   ],
   "source": [
    "len(tokens)"
   ]
  },
  {
   "cell_type": "code",
   "execution_count": 66,
   "metadata": {},
   "outputs": [],
   "source": [
    "tokens = tokens.replace(to_replace='None', value='')"
   ]
  },
  {
   "cell_type": "code",
   "execution_count": 69,
   "metadata": {},
   "outputs": [
    {
     "data": {
      "text/html": [
       "<div>\n",
       "<style scoped>\n",
       "    .dataframe tbody tr th:only-of-type {\n",
       "        vertical-align: middle;\n",
       "    }\n",
       "\n",
       "    .dataframe tbody tr th {\n",
       "        vertical-align: top;\n",
       "    }\n",
       "\n",
       "    .dataframe thead th {\n",
       "        text-align: right;\n",
       "    }\n",
       "</style>\n",
       "<table border=\"1\" class=\"dataframe\">\n",
       "  <thead>\n",
       "    <tr style=\"text-align: right;\">\n",
       "      <th></th>\n",
       "      <th>token</th>\n",
       "      <th>score</th>\n",
       "      <th>match</th>\n",
       "    </tr>\n",
       "  </thead>\n",
       "  <tbody>\n",
       "    <tr>\n",
       "      <th>0</th>\n",
       "      <td>sucedido</td>\n",
       "      <td>NaN</td>\n",
       "      <td>NaN</td>\n",
       "    </tr>\n",
       "    <tr>\n",
       "      <th>1</th>\n",
       "      <td>yeruas</td>\n",
       "      <td>NaN</td>\n",
       "      <td>NaN</td>\n",
       "    </tr>\n",
       "    <tr>\n",
       "      <th>2</th>\n",
       "      <td>enojosa</td>\n",
       "      <td>NaN</td>\n",
       "      <td>NaN</td>\n",
       "    </tr>\n",
       "    <tr>\n",
       "      <th>3</th>\n",
       "      <td>brazado</td>\n",
       "      <td>NaN</td>\n",
       "      <td>NaN</td>\n",
       "    </tr>\n",
       "    <tr>\n",
       "      <th>4</th>\n",
       "      <td>italianas</td>\n",
       "      <td>NaN</td>\n",
       "      <td>NaN</td>\n",
       "    </tr>\n",
       "  </tbody>\n",
       "</table>\n",
       "</div>"
      ],
      "text/plain": [
       "       token score match\n",
       "0   sucedido   NaN   NaN\n",
       "1     yeruas   NaN   NaN\n",
       "2    enojosa   NaN   NaN\n",
       "3    brazado   NaN   NaN\n",
       "4  italianas   NaN   NaN"
      ]
     },
     "execution_count": 69,
     "metadata": {},
     "output_type": "execute_result"
    }
   ],
   "source": [
    "tokens.head()"
   ]
  },
  {
   "cell_type": "markdown",
   "metadata": {},
   "source": [
    "The function below, taken from Data Cleaning 1, chooses the maximum fuzzy match for each token."
   ]
  },
  {
   "cell_type": "code",
   "execution_count": 67,
   "metadata": {},
   "outputs": [],
   "source": [
    "def fuzzmax(string,names):\n",
    "        string = str(string).lower()\n",
    "        result = list(map(lambda a: fuzz.token_sort_ratio(string,a),names))\n",
    "        return [max(result),names[result.index(max(result))]]"
   ]
  },
  {
   "cell_type": "code",
   "execution_count": 71,
   "metadata": {},
   "outputs": [],
   "source": [
    "names = list(set(acceptednames +list(DBEnames)))"
   ]
  },
  {
   "cell_type": "code",
   "execution_count": 72,
   "metadata": {},
   "outputs": [
    {
     "data": {
      "text/plain": [
       "10192"
      ]
     },
     "execution_count": 72,
     "metadata": {},
     "output_type": "execute_result"
    }
   ],
   "source": [
    "len(names)"
   ]
  },
  {
   "cell_type": "code",
   "execution_count": 74,
   "metadata": {},
   "outputs": [],
   "source": [
    "tokens['score'] = tokens.apply(lambda x: fuzzmax(x['token'], names), axis = 1)"
   ]
  },
  {
   "cell_type": "code",
   "execution_count": 75,
   "metadata": {},
   "outputs": [
    {
     "data": {
      "text/html": [
       "<div>\n",
       "<style scoped>\n",
       "    .dataframe tbody tr th:only-of-type {\n",
       "        vertical-align: middle;\n",
       "    }\n",
       "\n",
       "    .dataframe tbody tr th {\n",
       "        vertical-align: top;\n",
       "    }\n",
       "\n",
       "    .dataframe thead th {\n",
       "        text-align: right;\n",
       "    }\n",
       "</style>\n",
       "<table border=\"1\" class=\"dataframe\">\n",
       "  <thead>\n",
       "    <tr style=\"text-align: right;\">\n",
       "      <th></th>\n",
       "      <th>token</th>\n",
       "      <th>score</th>\n",
       "      <th>match</th>\n",
       "    </tr>\n",
       "  </thead>\n",
       "  <tbody>\n",
       "    <tr>\n",
       "      <th>0</th>\n",
       "      <td>sucedido</td>\n",
       "      <td>[80, saucedo]</td>\n",
       "      <td>NaN</td>\n",
       "    </tr>\n",
       "    <tr>\n",
       "      <th>1</th>\n",
       "      <td>yeruas</td>\n",
       "      <td>[77, payeras]</td>\n",
       "      <td>NaN</td>\n",
       "    </tr>\n",
       "    <tr>\n",
       "      <th>2</th>\n",
       "      <td>enojosa</td>\n",
       "      <td>[80, hinojosa]</td>\n",
       "      <td>NaN</td>\n",
       "    </tr>\n",
       "    <tr>\n",
       "      <th>3</th>\n",
       "      <td>brazado</td>\n",
       "      <td>[80, bazcardo]</td>\n",
       "      <td>NaN</td>\n",
       "    </tr>\n",
       "    <tr>\n",
       "      <th>4</th>\n",
       "      <td>italianas</td>\n",
       "      <td>[75, albiñana]</td>\n",
       "      <td>NaN</td>\n",
       "    </tr>\n",
       "  </tbody>\n",
       "</table>\n",
       "</div>"
      ],
      "text/plain": [
       "       token           score match\n",
       "0   sucedido   [80, saucedo]   NaN\n",
       "1     yeruas   [77, payeras]   NaN\n",
       "2    enojosa  [80, hinojosa]   NaN\n",
       "3    brazado  [80, bazcardo]   NaN\n",
       "4  italianas  [75, albiñana]   NaN"
      ]
     },
     "execution_count": 75,
     "metadata": {},
     "output_type": "execute_result"
    }
   ],
   "source": [
    "tokens.head()"
   ]
  },
  {
   "cell_type": "code",
   "execution_count": 76,
   "metadata": {},
   "outputs": [],
   "source": [
    "tokens['match']=tokens.apply(lambda x: x['score'][1],axis=1)"
   ]
  },
  {
   "cell_type": "code",
   "execution_count": 77,
   "metadata": {},
   "outputs": [],
   "source": [
    "tokens['score']=tokens.apply(lambda x: x['score'][0], axis=1)"
   ]
  },
  {
   "cell_type": "code",
   "execution_count": 78,
   "metadata": {},
   "outputs": [
    {
     "data": {
      "text/html": [
       "<div>\n",
       "<style scoped>\n",
       "    .dataframe tbody tr th:only-of-type {\n",
       "        vertical-align: middle;\n",
       "    }\n",
       "\n",
       "    .dataframe tbody tr th {\n",
       "        vertical-align: top;\n",
       "    }\n",
       "\n",
       "    .dataframe thead th {\n",
       "        text-align: right;\n",
       "    }\n",
       "</style>\n",
       "<table border=\"1\" class=\"dataframe\">\n",
       "  <thead>\n",
       "    <tr style=\"text-align: right;\">\n",
       "      <th></th>\n",
       "      <th>token</th>\n",
       "      <th>score</th>\n",
       "      <th>match</th>\n",
       "    </tr>\n",
       "  </thead>\n",
       "  <tbody>\n",
       "    <tr>\n",
       "      <th>0</th>\n",
       "      <td>sucedido</td>\n",
       "      <td>80</td>\n",
       "      <td>saucedo</td>\n",
       "    </tr>\n",
       "    <tr>\n",
       "      <th>1</th>\n",
       "      <td>yeruas</td>\n",
       "      <td>77</td>\n",
       "      <td>payeras</td>\n",
       "    </tr>\n",
       "    <tr>\n",
       "      <th>2</th>\n",
       "      <td>enojosa</td>\n",
       "      <td>80</td>\n",
       "      <td>hinojosa</td>\n",
       "    </tr>\n",
       "    <tr>\n",
       "      <th>3</th>\n",
       "      <td>brazado</td>\n",
       "      <td>80</td>\n",
       "      <td>bazcardo</td>\n",
       "    </tr>\n",
       "    <tr>\n",
       "      <th>4</th>\n",
       "      <td>italianas</td>\n",
       "      <td>75</td>\n",
       "      <td>albiñana</td>\n",
       "    </tr>\n",
       "  </tbody>\n",
       "</table>\n",
       "</div>"
      ],
      "text/plain": [
       "       token  score     match\n",
       "0   sucedido     80   saucedo\n",
       "1     yeruas     77   payeras\n",
       "2    enojosa     80  hinojosa\n",
       "3    brazado     80  bazcardo\n",
       "4  italianas     75  albiñana"
      ]
     },
     "execution_count": 78,
     "metadata": {},
     "output_type": "execute_result"
    }
   ],
   "source": [
    "tokens.head()"
   ]
  },
  {
   "cell_type": "code",
   "execution_count": 79,
   "metadata": {},
   "outputs": [
    {
     "data": {
      "text/plain": [
       "31748"
      ]
     },
     "execution_count": 79,
     "metadata": {},
     "output_type": "execute_result"
    }
   ],
   "source": [
    "len(tokens)"
   ]
  },
  {
   "cell_type": "code",
   "execution_count": 80,
   "metadata": {},
   "outputs": [],
   "source": [
    "tokens.to_csv('Files_Cleaning3/untagged_token_match_scores.csv')"
   ]
  },
  {
   "cell_type": "code",
   "execution_count": 81,
   "metadata": {},
   "outputs": [],
   "source": [
    "tokens.set_index('token', inplace=True)"
   ]
  },
  {
   "cell_type": "code",
   "execution_count": 84,
   "metadata": {},
   "outputs": [],
   "source": [
    "tokens90 = tokens.loc[(tokens['score']>90)&(tokens['score']<100)]"
   ]
  },
  {
   "cell_type": "code",
   "execution_count": 85,
   "metadata": {},
   "outputs": [
    {
     "data": {
      "text/html": [
       "<div>\n",
       "<style scoped>\n",
       "    .dataframe tbody tr th:only-of-type {\n",
       "        vertical-align: middle;\n",
       "    }\n",
       "\n",
       "    .dataframe tbody tr th {\n",
       "        vertical-align: top;\n",
       "    }\n",
       "\n",
       "    .dataframe thead th {\n",
       "        text-align: right;\n",
       "    }\n",
       "</style>\n",
       "<table border=\"1\" class=\"dataframe\">\n",
       "  <thead>\n",
       "    <tr style=\"text-align: right;\">\n",
       "      <th></th>\n",
       "      <th>score</th>\n",
       "      <th>match</th>\n",
       "    </tr>\n",
       "    <tr>\n",
       "      <th>token</th>\n",
       "      <th></th>\n",
       "      <th></th>\n",
       "    </tr>\n",
       "  </thead>\n",
       "  <tbody>\n",
       "    <tr>\n",
       "      <th>despejo</th>\n",
       "      <td>92</td>\n",
       "      <td>espejo</td>\n",
       "    </tr>\n",
       "    <tr>\n",
       "      <th>vigas</th>\n",
       "      <td>91</td>\n",
       "      <td>viegas</td>\n",
       "    </tr>\n",
       "    <tr>\n",
       "      <th>calabaza</th>\n",
       "      <td>94</td>\n",
       "      <td>calabazas</td>\n",
       "    </tr>\n",
       "    <tr>\n",
       "      <th>pasadas</th>\n",
       "      <td>93</td>\n",
       "      <td>passadas</td>\n",
       "    </tr>\n",
       "    <tr>\n",
       "      <th>colla</th>\n",
       "      <td>91</td>\n",
       "      <td>coalla</td>\n",
       "    </tr>\n",
       "    <tr>\n",
       "      <th>...</th>\n",
       "      <td>...</td>\n",
       "      <td>...</td>\n",
       "    </tr>\n",
       "    <tr>\n",
       "      <th>villacreses</th>\n",
       "      <td>91</td>\n",
       "      <td>villacreces</td>\n",
       "    </tr>\n",
       "    <tr>\n",
       "      <th>barias</th>\n",
       "      <td>91</td>\n",
       "      <td>briñas</td>\n",
       "    </tr>\n",
       "    <tr>\n",
       "      <th>honda</th>\n",
       "      <td>91</td>\n",
       "      <td>hondal</td>\n",
       "    </tr>\n",
       "    <tr>\n",
       "      <th>abraça</th>\n",
       "      <td>91</td>\n",
       "      <td>abraha</td>\n",
       "    </tr>\n",
       "    <tr>\n",
       "      <th>perita</th>\n",
       "      <td>91</td>\n",
       "      <td>peria</td>\n",
       "    </tr>\n",
       "  </tbody>\n",
       "</table>\n",
       "<p>1615 rows × 2 columns</p>\n",
       "</div>"
      ],
      "text/plain": [
       "             score        match\n",
       "token                          \n",
       "despejo         92       espejo\n",
       "vigas           91       viegas\n",
       "calabaza        94    calabazas\n",
       "pasadas         93     passadas\n",
       "colla           91       coalla\n",
       "...            ...          ...\n",
       "villacreses     91  villacreces\n",
       "barias          91       briñas\n",
       "honda           91       hondal\n",
       "abraça          91       abraha\n",
       "perita          91        peria\n",
       "\n",
       "[1615 rows x 2 columns]"
      ]
     },
     "execution_count": 85,
     "metadata": {},
     "output_type": "execute_result"
    }
   ],
   "source": [
    "tokens90"
   ]
  },
  {
   "cell_type": "code",
   "execution_count": 94,
   "metadata": {},
   "outputs": [],
   "source": [
    "tokens90 = tokens90.drop(index='pintor')"
   ]
  },
  {
   "cell_type": "code",
   "execution_count": 98,
   "metadata": {},
   "outputs": [],
   "source": [
    "tokens90 = tokens90.drop(index='dorador')\n",
    "tokens90 = tokens90.drop(index='pintar')\n",
    "tokens90 = tokens90.drop(index='frayle')"
   ]
  },
  {
   "cell_type": "code",
   "execution_count": 102,
   "metadata": {},
   "outputs": [],
   "source": [
    "tokens90 = tokens90.drop(index='marido')\n",
    "tokens90 = tokens90.drop(index='esclava')\n",
    "tokens90 = tokens90.drop(index='vecino')"
   ]
  },
  {
   "cell_type": "code",
   "execution_count": 109,
   "metadata": {},
   "outputs": [],
   "source": [
    "tokens90 = tokens90.drop(index='vecina')"
   ]
  },
  {
   "cell_type": "code",
   "execution_count": 114,
   "metadata": {},
   "outputs": [
    {
     "ename": "KeyError",
     "evalue": "\"['hija'] not found in axis\"",
     "output_type": "error",
     "traceback": [
      "\u001b[0;31m---------------------------------------------------------------------------\u001b[0m",
      "\u001b[0;31mKeyError\u001b[0m                                  Traceback (most recent call last)",
      "\u001b[0;32m<ipython-input-114-d7ba65cba1cc>\u001b[0m in \u001b[0;36m<module>\u001b[0;34m\u001b[0m\n\u001b[1;32m      1\u001b[0m \u001b[0mtokens90\u001b[0m \u001b[0;34m=\u001b[0m \u001b[0mtokens90\u001b[0m\u001b[0;34m.\u001b[0m\u001b[0mdrop\u001b[0m\u001b[0;34m(\u001b[0m\u001b[0mindex\u001b[0m\u001b[0;34m=\u001b[0m\u001b[0;34m'hijos'\u001b[0m\u001b[0;34m)\u001b[0m\u001b[0;34m\u001b[0m\u001b[0;34m\u001b[0m\u001b[0m\n\u001b[0;32m----> 2\u001b[0;31m \u001b[0mtokens90\u001b[0m \u001b[0;34m=\u001b[0m \u001b[0mtokens90\u001b[0m\u001b[0;34m.\u001b[0m\u001b[0mdrop\u001b[0m\u001b[0;34m(\u001b[0m\u001b[0mindex\u001b[0m\u001b[0;34m=\u001b[0m\u001b[0;34m'hija'\u001b[0m\u001b[0;34m)\u001b[0m\u001b[0;34m\u001b[0m\u001b[0;34m\u001b[0m\u001b[0m\n\u001b[0m",
      "\u001b[0;32m~/opt/anaconda3/lib/python3.7/site-packages/pandas/core/frame.py\u001b[0m in \u001b[0;36mdrop\u001b[0;34m(self, labels, axis, index, columns, level, inplace, errors)\u001b[0m\n\u001b[1;32m   3995\u001b[0m             \u001b[0mlevel\u001b[0m\u001b[0;34m=\u001b[0m\u001b[0mlevel\u001b[0m\u001b[0;34m,\u001b[0m\u001b[0;34m\u001b[0m\u001b[0;34m\u001b[0m\u001b[0m\n\u001b[1;32m   3996\u001b[0m             \u001b[0minplace\u001b[0m\u001b[0;34m=\u001b[0m\u001b[0minplace\u001b[0m\u001b[0;34m,\u001b[0m\u001b[0;34m\u001b[0m\u001b[0;34m\u001b[0m\u001b[0m\n\u001b[0;32m-> 3997\u001b[0;31m             \u001b[0merrors\u001b[0m\u001b[0;34m=\u001b[0m\u001b[0merrors\u001b[0m\u001b[0;34m,\u001b[0m\u001b[0;34m\u001b[0m\u001b[0;34m\u001b[0m\u001b[0m\n\u001b[0m\u001b[1;32m   3998\u001b[0m         )\n\u001b[1;32m   3999\u001b[0m \u001b[0;34m\u001b[0m\u001b[0m\n",
      "\u001b[0;32m~/opt/anaconda3/lib/python3.7/site-packages/pandas/core/generic.py\u001b[0m in \u001b[0;36mdrop\u001b[0;34m(self, labels, axis, index, columns, level, inplace, errors)\u001b[0m\n\u001b[1;32m   3934\u001b[0m         \u001b[0;32mfor\u001b[0m \u001b[0maxis\u001b[0m\u001b[0;34m,\u001b[0m \u001b[0mlabels\u001b[0m \u001b[0;32min\u001b[0m \u001b[0maxes\u001b[0m\u001b[0;34m.\u001b[0m\u001b[0mitems\u001b[0m\u001b[0;34m(\u001b[0m\u001b[0;34m)\u001b[0m\u001b[0;34m:\u001b[0m\u001b[0;34m\u001b[0m\u001b[0;34m\u001b[0m\u001b[0m\n\u001b[1;32m   3935\u001b[0m             \u001b[0;32mif\u001b[0m \u001b[0mlabels\u001b[0m \u001b[0;32mis\u001b[0m \u001b[0;32mnot\u001b[0m \u001b[0;32mNone\u001b[0m\u001b[0;34m:\u001b[0m\u001b[0;34m\u001b[0m\u001b[0;34m\u001b[0m\u001b[0m\n\u001b[0;32m-> 3936\u001b[0;31m                 \u001b[0mobj\u001b[0m \u001b[0;34m=\u001b[0m \u001b[0mobj\u001b[0m\u001b[0;34m.\u001b[0m\u001b[0m_drop_axis\u001b[0m\u001b[0;34m(\u001b[0m\u001b[0mlabels\u001b[0m\u001b[0;34m,\u001b[0m \u001b[0maxis\u001b[0m\u001b[0;34m,\u001b[0m \u001b[0mlevel\u001b[0m\u001b[0;34m=\u001b[0m\u001b[0mlevel\u001b[0m\u001b[0;34m,\u001b[0m \u001b[0merrors\u001b[0m\u001b[0;34m=\u001b[0m\u001b[0merrors\u001b[0m\u001b[0;34m)\u001b[0m\u001b[0;34m\u001b[0m\u001b[0;34m\u001b[0m\u001b[0m\n\u001b[0m\u001b[1;32m   3937\u001b[0m \u001b[0;34m\u001b[0m\u001b[0m\n\u001b[1;32m   3938\u001b[0m         \u001b[0;32mif\u001b[0m \u001b[0minplace\u001b[0m\u001b[0;34m:\u001b[0m\u001b[0;34m\u001b[0m\u001b[0;34m\u001b[0m\u001b[0m\n",
      "\u001b[0;32m~/opt/anaconda3/lib/python3.7/site-packages/pandas/core/generic.py\u001b[0m in \u001b[0;36m_drop_axis\u001b[0;34m(self, labels, axis, level, errors)\u001b[0m\n\u001b[1;32m   3968\u001b[0m                 \u001b[0mnew_axis\u001b[0m \u001b[0;34m=\u001b[0m \u001b[0maxis\u001b[0m\u001b[0;34m.\u001b[0m\u001b[0mdrop\u001b[0m\u001b[0;34m(\u001b[0m\u001b[0mlabels\u001b[0m\u001b[0;34m,\u001b[0m \u001b[0mlevel\u001b[0m\u001b[0;34m=\u001b[0m\u001b[0mlevel\u001b[0m\u001b[0;34m,\u001b[0m \u001b[0merrors\u001b[0m\u001b[0;34m=\u001b[0m\u001b[0merrors\u001b[0m\u001b[0;34m)\u001b[0m\u001b[0;34m\u001b[0m\u001b[0;34m\u001b[0m\u001b[0m\n\u001b[1;32m   3969\u001b[0m             \u001b[0;32melse\u001b[0m\u001b[0;34m:\u001b[0m\u001b[0;34m\u001b[0m\u001b[0;34m\u001b[0m\u001b[0m\n\u001b[0;32m-> 3970\u001b[0;31m                 \u001b[0mnew_axis\u001b[0m \u001b[0;34m=\u001b[0m \u001b[0maxis\u001b[0m\u001b[0;34m.\u001b[0m\u001b[0mdrop\u001b[0m\u001b[0;34m(\u001b[0m\u001b[0mlabels\u001b[0m\u001b[0;34m,\u001b[0m \u001b[0merrors\u001b[0m\u001b[0;34m=\u001b[0m\u001b[0merrors\u001b[0m\u001b[0;34m)\u001b[0m\u001b[0;34m\u001b[0m\u001b[0;34m\u001b[0m\u001b[0m\n\u001b[0m\u001b[1;32m   3971\u001b[0m             \u001b[0mresult\u001b[0m \u001b[0;34m=\u001b[0m \u001b[0mself\u001b[0m\u001b[0;34m.\u001b[0m\u001b[0mreindex\u001b[0m\u001b[0;34m(\u001b[0m\u001b[0;34m**\u001b[0m\u001b[0;34m{\u001b[0m\u001b[0maxis_name\u001b[0m\u001b[0;34m:\u001b[0m \u001b[0mnew_axis\u001b[0m\u001b[0;34m}\u001b[0m\u001b[0;34m)\u001b[0m\u001b[0;34m\u001b[0m\u001b[0;34m\u001b[0m\u001b[0m\n\u001b[1;32m   3972\u001b[0m \u001b[0;34m\u001b[0m\u001b[0m\n",
      "\u001b[0;32m~/opt/anaconda3/lib/python3.7/site-packages/pandas/core/indexes/base.py\u001b[0m in \u001b[0;36mdrop\u001b[0;34m(self, labels, errors)\u001b[0m\n\u001b[1;32m   5016\u001b[0m         \u001b[0;32mif\u001b[0m \u001b[0mmask\u001b[0m\u001b[0;34m.\u001b[0m\u001b[0many\u001b[0m\u001b[0;34m(\u001b[0m\u001b[0;34m)\u001b[0m\u001b[0;34m:\u001b[0m\u001b[0;34m\u001b[0m\u001b[0;34m\u001b[0m\u001b[0m\n\u001b[1;32m   5017\u001b[0m             \u001b[0;32mif\u001b[0m \u001b[0merrors\u001b[0m \u001b[0;34m!=\u001b[0m \u001b[0;34m\"ignore\"\u001b[0m\u001b[0;34m:\u001b[0m\u001b[0;34m\u001b[0m\u001b[0;34m\u001b[0m\u001b[0m\n\u001b[0;32m-> 5018\u001b[0;31m                 \u001b[0;32mraise\u001b[0m \u001b[0mKeyError\u001b[0m\u001b[0;34m(\u001b[0m\u001b[0;34mf\"{labels[mask]} not found in axis\"\u001b[0m\u001b[0;34m)\u001b[0m\u001b[0;34m\u001b[0m\u001b[0;34m\u001b[0m\u001b[0m\n\u001b[0m\u001b[1;32m   5019\u001b[0m             \u001b[0mindexer\u001b[0m \u001b[0;34m=\u001b[0m \u001b[0mindexer\u001b[0m\u001b[0;34m[\u001b[0m\u001b[0;34m~\u001b[0m\u001b[0mmask\u001b[0m\u001b[0;34m]\u001b[0m\u001b[0;34m\u001b[0m\u001b[0;34m\u001b[0m\u001b[0m\n\u001b[1;32m   5020\u001b[0m         \u001b[0;32mreturn\u001b[0m \u001b[0mself\u001b[0m\u001b[0;34m.\u001b[0m\u001b[0mdelete\u001b[0m\u001b[0;34m(\u001b[0m\u001b[0mindexer\u001b[0m\u001b[0;34m)\u001b[0m\u001b[0;34m\u001b[0m\u001b[0;34m\u001b[0m\u001b[0m\n",
      "\u001b[0;31mKeyError\u001b[0m: \"['hija'] not found in axis\""
     ]
    }
   ],
   "source": [
    "tokens90 = tokens90.drop(index='hijos')"
   ]
  },
  {
   "cell_type": "code",
   "execution_count": 115,
   "metadata": {},
   "outputs": [],
   "source": [
    "peopleshortfuzz = []\n",
    "\n",
    "for doc,context in docs:\n",
    "    for ent in doc.ents:\n",
    "        if ent.label_=='PER':\n",
    "            try:\n",
    "                i = 1\n",
    "                a = doc[ent.start-i]\n",
    "                while a.text.lower() == 'de' or a.text.lower() =='del' or a.text.lower() == 'la'or a.text.lower() == 'el' or a.text.lower() == 'los' or a.text.lower() == 'las' or a.text.lower()=='y':\n",
    "                    i = i+1\n",
    "                    a = doc[ent.start-i]\n",
    "                if (a.ent_iob==2) and (a.text.lower() in tokens90.index):\n",
    "                    h = context['id']\n",
    "                    b = ent.text\n",
    "                    c = ent.start\n",
    "                    d = ent.end\n",
    "                    e = a.i\n",
    "                    f = a.text\n",
    "                    g = ent.label_\n",
    "                    entry = [h, b, c, d, e, f,g]\n",
    "                    peopleshortfuzz.append(entry)\n",
    "            except: \n",
    "                pass\n",
    "            try:\n",
    "                i = 0\n",
    "                b = doc[ent.end+i]\n",
    "                while b.text.lower() == 'de' or b.text.lower() == 'del' or b.text.lower() == 'la'or b.text.lower() == 'el' or b.text.lower() == 'los' or b.text.lower() == 'las' or b.text.lower()=='y':\n",
    "                    i = i+1\n",
    "                    b = doc[ent.end+i]\n",
    "                if (b.ent_iob==2) and (b.text.lower() in tokens90.index):\n",
    "                    a = context['id']\n",
    "                    h = ent.text\n",
    "                    c = ent.start\n",
    "                    d = ent.end\n",
    "                    e = b.i\n",
    "                    f = b.text\n",
    "                    g=ent.label_\n",
    "                    entry = [a, h, c, d, e, f,g]\n",
    "                    peopleshortfuzz.append(entry)\n",
    "            except:\n",
    "                pass"
   ]
  },
  {
   "cell_type": "code",
   "execution_count": 116,
   "metadata": {},
   "outputs": [
    {
     "data": {
      "text/plain": [
       "583"
      ]
     },
     "execution_count": 116,
     "metadata": {},
     "output_type": "execute_result"
    }
   ],
   "source": [
    "len(peopleshortfuzz)"
   ]
  },
  {
   "cell_type": "code",
   "execution_count": 117,
   "metadata": {},
   "outputs": [
    {
     "data": {
      "text/plain": [
       "[[22, 'Miguel de Gainza', 29, 32, 28, 'fueron', 'PER'],\n",
       " [49, 'Cristobal', 2, 3, 1, 'maestre', 'PER'],\n",
       " [49, 'luis sanches', 969, 971, 968, 'canteria', 'PER'],\n",
       " [49, 'juan fernandes', 981, 983, 984, 'maestre', 'PER'],\n",
       " [49, 'Cristobal', 985, 986, 984, 'maestre', 'PER'],\n",
       " [49, 'Cristobal', 1007, 1008, 1006, 'maestre', 'PER'],\n",
       " [110, 'Andres', 6, 7, 5, 'maestre', 'PER'],\n",
       " [112, 'Cristobal', 15, 16, 16, 'darcos', 'PER'],\n",
       " [132, 'Pedro de Campaña', 3, 6, 2, 'maestre', 'PER'],\n",
       " [139, 'nufrio de ortega', 281, 284, 285, 'cuarta', 'PER'],\n",
       " [139, 'bartolome de ortega', 359, 362, 363, 'cuarta', 'PER'],\n",
       " [172, 'diego de la barrera', 36, 40, 35, 'cuanto', 'PER'],\n",
       " [201, 'Juan barva', 33, 35, 35, 'cabeça', 'PER'],\n",
       " [221, 'francisco pavon', 67, 69, 69, 'maestre', 'PER'],\n",
       " [227, 'juan gonzales', 53, 55, 52, 'padrino', 'PER'],\n",
       " [229, 'Manuel de Artiaga y Salcedo', 84, 89, 83, 'padrino', 'PER'],\n",
       " [232, 'Manuel de Artiaga y Alua', 76, 81, 75, 'padrino', 'PER'],\n",
       " [256, 'Andres de Ibarburu y Galdona', 39, 44, 44, 'maestre', 'PER'],\n",
       " [276, 'martin del rio', 80, 83, 83, 'capellan', 'PER'],\n",
       " [292, 'luis de vilches', 49, 52, 52, 'ajuste', 'PER'],\n",
       " [313, 'Diego de Alcala', 139, 142, 142, 'estas', 'PER'],\n",
       " [367, 'Rodriguez', 339, 340, 337, 'cuenta', 'PER'],\n",
       " [383, 'Melchor Moreno', 361, 363, 359, 'almas', 'PER'],\n",
       " [463, 'Pedro Sanchez de Alcala', 45, 49, 44, 'padres', 'PER'],\n",
       " [552, 'alonso de leon', 738, 741, 737, 'braza', 'PER'],\n",
       " [552, 'pedro de vargas', 756, 759, 755, 'braza', 'PER'],\n",
       " [639, 'Pedro', 21, 22, 20, 'maestre', 'PER'],\n",
       " [675, 'Bernabe belazquez', 721, 723, 723, 'despinosa', 'PER'],\n",
       " [675, 'Andres de ocampo', 724, 727, 723, 'despinosa', 'PER'],\n",
       " [715, 'Juan de useda', 7, 10, 10, 'castroberde', 'PER'],\n",
       " [734, 'nufra de Jesus y alfaro', 54, 59, 59, 'freyla', 'PER'],\n",
       " [847, 'Maria Ruiz', 9, 11, 8, 'pariente', 'PER'],\n",
       " [875, 'alonso fernandes', 1, 3, 3, 'viñero', 'PER'],\n",
       " [897, 'niculas', 27, 28, 26, 'maestre', 'PER'],\n",
       " [903, 'anton sanches', 79, 81, 81, 'suegro', 'PER'],\n",
       " [918, 'rodrigo alvarez', 107, 109, 109, 'manda', 'PER'],\n",
       " [951, 'pedro delgado', 291, 293, 293, 'estaua', 'PER'],\n",
       " [962, 'Miguel de Gainza', 1773, 1776, 1771, 'espadas', 'PER'],\n",
       " [966, 'cosme de sorribas', 1, 4, 4, 'regero', 'PER'],\n",
       " [976, 'graviel', 2, 3, 1, 'maestre', 'PER'],\n",
       " [997, 'lorenzo de castellanos', 267, 270, 271, 'cuerpo', 'PER'],\n",
       " [1003, 'medel ?', 6, 8, 8, 'despinosa', 'PER'],\n",
       " [1011, 'juan de salmeron', 86, 89, 89, 'preso', 'PER'],\n",
       " [1014, 'pedro del castillo', 3505, 3508, 3508, 'criados', 'PER'],\n",
       " [1023, 'grabiel del balle', 322, 325, 327, 'media', 'PER'],\n",
       " [1027, 'andres de obiedo', 322, 325, 325, 'antes', 'PER'],\n",
       " [1029, 'baltasar de rribera', 136, 139, 139, 'segun', 'PER'],\n",
       " [1049, 'diego de herrera', 633, 636, 632, 'feliphe', 'PER'],\n",
       " [1066, 'juan rrodrigues', 366, 368, 368, 'segun', 'PER'],\n",
       " [1066, 'juan rrodrigues', 427, 429, 429, 'segun', 'PER'],\n",
       " [1069, 'alonso martinez', 1928, 1930, 1930, 'corre', 'PER'],\n",
       " [1074, 'Pedro Natera', 39, 41, 37, 'cobrar', 'PER'],\n",
       " [1074, 'Pedro Natera', 39, 41, 41, 'varias', 'PER'],\n",
       " [1082, 'pedro de aranguibel', 86, 89, 85, 'maestre', 'PER'],\n",
       " [1084, 'antonio de jesus', 68, 71, 71, 'guardian', 'PER'],\n",
       " [1100, 'geronimo martin', 29, 31, 28, 'preso', 'PER'],\n",
       " [1124, 'Rodrigo Alonso', 316, 318, 314, 'suelo', 'PER'],\n",
       " [1124, 'Francisco', 376, 377, 378, 'aguador', 'PER'],\n",
       " [1138, 'Francisco de Carmona', 1099, 1102, 1098, 'benga', 'PER'],\n",
       " [1149, 'Juan Bautista Judice', 43, 46, 42, 'sigue', 'PER'],\n",
       " [1192, 'andres de Ocampo', 7262, 7265, 7266, 'obreros', 'PER'],\n",
       " [1199, 'balbuena', 152, 153, 151, 'ffernando', 'PER'],\n",
       " [1199, 'Villacreces', 427, 428, 426, 'ffernando', 'PER'],\n",
       " [1205, 'Alonso de escovedo colombres', 17, 21, 21, 'fueron', 'PER'],\n",
       " [1208, 'diego gomez de ortega', 27, 31, 25, 'recibo', 'PER'],\n",
       " [1211, 'juan lopez de bozmediado', 700, 704, 705, 'traer', 'PER'],\n",
       " [1216, 'manuel lorenzo', 2053, 2055, 2052, 'contado', 'PER'],\n",
       " [1239, 'antonio perez', 1198, 1200, 1197, 'razon', 'PER'],\n",
       " [1239, 'agustin Zojo', 1630, 1632, 1633, 'quiero', 'PER'],\n",
       " [1305, 'niculoso pisano', 7, 9, 9, 'ollero', 'PER'],\n",
       " [1316, 'francisco lopez', 22, 24, 24, 'maestre', 'PER'],\n",
       " [1328, 'beatriz de çuñiga y belasco', 27, 32, 32, 'marquesa', 'PER'],\n",
       " [1328, 'beatriz de çuñiga', 1576, 1579, 1580, 'belasco', 'PER'],\n",
       " [1355, 'beatriz de zuñiga', 26, 29, 30, 'belasco', 'PER'],\n",
       " [1355, 'juan de ouiedo', 1227, 1230, 1225, 'marquesa', 'PER'],\n",
       " [1380, 'pablo legote', 287, 289, 290, 'segun', 'PER'],\n",
       " [1391, 'felipe de riuas', 312, 315, 315, 'luego', 'PER'],\n",
       " [1407, 'francisco antonio xixon', 45, 48, 44, 'llama', 'PER'],\n",
       " [1413, 'juan de la pasion', 18, 22, 22, 'sacritan', 'PER'],\n",
       " [1425, 'francisco galiano', 1106, 1108, 1108, 'montan', 'PER'],\n",
       " [1429, 'juan martinez montañes', 81, 84, 79, 'reciuo', 'PER'],\n",
       " [1431, 'Bernardino Rodriguez', 1077, 1079, 1079, 'manda', 'PER'],\n",
       " [1438, 'francisco pacheco', 1703, 1705, 1701, 'fueron', 'PER'],\n",
       " [1466, 'francisco de herrera', 358, 361, 361, 'fueron', 'PER'],\n",
       " [1466, 'blas martin siluestre luis del balle', 811, 817, 817, 'segun', 'PER'],\n",
       " [1466, 'francisco de herrera', 904, 907, 907, 'porque', 'PER'],\n",
       " [1483, 'luis fernandes de cordoba', 84, 88, 89, 'consejo', 'PER'],\n",
       " [1520, 'aparysio martyn', 79, 81, 77, 'cobrar', 'PER'],\n",
       " [1521, 'xpoual de trugillo', 101, 104, 104, 'fueron', 'PER'],\n",
       " [1521, 'juan bautista', 177, 179, 181, 'madalena', 'PER'],\n",
       " [1523, 'alonso de ortega', 61, 64, 60, 'cuanto', 'PER'],\n",
       " [1523, 'fernando de aldana', 731, 734, 734, 'estan', 'PER'],\n",
       " [1531, 'xpoval muñoz', 7, 9, 9, 'maestre', 'PER'],\n",
       " [1591, 'miguel', 40, 41, 39, 'maestre', 'PER'],\n",
       " [1591, 'miguel', 75, 76, 74, 'maestre', 'PER'],\n",
       " [1591, 'miguel', 139, 140, 138, 'maestre', 'PER'],\n",
       " [1591, 'miguel', 177, 178, 176, 'maestre', 'PER'],\n",
       " [1610, 'Juan Valtanel', 1, 3, 0, 'Maestre', 'PER'],\n",
       " [1620, 'Francisco de Ortega', 69, 72, 68, 'padres', 'PER'],\n",
       " [1666, 'miguel de loxa', 58, 61, 61, 'arquero', 'PER'],\n",
       " [1666, 'francisco de ocanpo', 423, 426, 426, 'porque', 'PER'],\n",
       " [1671, 'martin maldonado', 122, 124, 124, 'fecha', 'PER'],\n",
       " [1680, 'juan martines montañes', 167, 170, 171, 'estas', 'PER'],\n",
       " [1696, 'Andres Cansino', 1044, 1046, 1043, 'figura', 'PER'],\n",
       " [1708, 'Francisco Dionisio de Ribas', 55, 59, 54, 'firma', 'PER'],\n",
       " [1722, 'juana de florez', 32, 35, 35, 'ambos', 'PER'],\n",
       " [1723, 'catalina muñoz', 70, 72, 68, 'latonero', 'PER'],\n",
       " [1724, 'alonso ramirez', 203, 205, 208, 'personas', 'PER'],\n",
       " [1738, 'luis venegas de figueroa', 160, 164, 164, 'capellan', 'PER'],\n",
       " [1755, 'jorge fernandes', 682, 684, 684, 'luego', 'PER'],\n",
       " [1755, 'de la madera', 708, 711, 707, 'criste', 'PER'],\n",
       " [1758, 'juan guiralte', 1090, 1092, 1092, 'porque', 'PER'],\n",
       " [1777, 'Pedro Perez', 5, 7, 4, 'suegro', 'PER'],\n",
       " [1808, 'Catalina de Flores', 8, 11, 7, 'cuñada', 'PER'],\n",
       " [1816, 'vicente de perea', 1534, 1537, 1532, 'suegro', 'PER'],\n",
       " [1826, 'Maria de San Joseph', 30, 34, 29, 'Madres', 'PER'],\n",
       " [1830, 'Juan de uceda', 7, 10, 10, 'castroberde', 'PER'],\n",
       " [1854, 'marco', 8, 9, 7, 'maestre', 'PER'],\n",
       " [1903, 'diego rrodriguez', 37, 39, 39, 'guardian', 'PER'],\n",
       " [1955, 'Leon de Ayala', 98, 101, 101, 'manda', 'PER'],\n",
       " [1967, 'dancart', 5, 6, 4, 'maestre', 'PER'],\n",
       " [2057, 'juan tomas', 2, 4, 4, 'despindola', 'PER'],\n",
       " [2060, 'francisco florentin', 3, 5, 2, 'maestre', 'PER'],\n",
       " [2061, 'francisco florentin', 3, 5, 2, 'maestre', 'PER'],\n",
       " [2062, 'francisco florentin', 28, 30, 27, 'maestre', 'PER'],\n",
       " [2064, 'francisco florentin', 3, 5, 2, 'maestre', 'PER'],\n",
       " [2070, 'jacome losero', 20, 22, 19, 'maestre', 'PER'],\n",
       " [2071, 'andres carpintero', 3, 5, 2, 'maestre', 'PER'],\n",
       " [2074, 'garcia fernandes', 7, 9, 9, 'porque', 'PER'],\n",
       " [2128, 'catalina de aviles', 311, 314, 314, 'antes', 'PER'],\n",
       " [2141, 'Juan de Soto y Rueda', 16, 21, 21, 'capellan', 'PER'],\n",
       " [2145, 'ana lopez', 33, 35, 35, 'fueron', 'PER'],\n",
       " [2147, 'ysabel ruys', 35, 37, 37, 'fueron', 'PER'],\n",
       " [2152, 'leonor rodriguez', 30, 32, 32, 'fueron', 'PER'],\n",
       " [2157, 'Jorge fernandes', 7, 9, 9, 'fueron', 'PER'],\n",
       " [2169, 'ysabel fernandes', 12, 14, 14, 'fueron', 'PER'],\n",
       " [2170, 'juan sanchez', 26, 28, 29, 'lloreynte', 'PER'],\n",
       " [2175, 'maria bernandes', 12, 14, 14, 'fueron', 'PER'],\n",
       " [2177, 'Gonzalo', 8, 9, 6, 'padrino', 'PER'],\n",
       " [2178, 'Francisco', 3, 4, 1, 'padrino', 'PER'],\n",
       " [2180, 'Leonor', 9, 10, 7, 'padrino', 'PER'],\n",
       " [2181, 'miguell', 8, 9, 7, 'maestre', 'PER'],\n",
       " [2181, 'juana fernandes', 12, 14, 14, 'fueron', 'PER'],\n",
       " [2181, 'esteuan', 17, 18, 16, 'maestre', 'PER'],\n",
       " [2181, 'catalina gomez', 23, 25, 26, 'maestre', 'PER'],\n",
       " [2181, 'niculas', 27, 28, 26, 'maestre', 'PER'],\n",
       " [2182, 'Ana', 9, 10, 7, 'padrino', 'PER'],\n",
       " [2187, 'Pablos Legot', 1235, 1237, 1237, 'segun', 'PER'],\n",
       " [2191, 'Señor Prouisor', 46, 48, 44, 'Señoria', 'PER'],\n",
       " [2193, 'Juo de roela', 28, 31, 31, 'capellan', 'PER'],\n",
       " [2198, 'Joan de roelas', 6, 9, 5, 'Licendo', 'PER'],\n",
       " [2203,\n",
       "  'Nicolas de Vergara Baptista Vazquez',\n",
       "  1341,\n",
       "  1346,\n",
       "  1340,\n",
       "  'covarruvias',\n",
       "  'PER'],\n",
       " [2204, 'Bautista Vazquez', 8, 10, 7, 'viejoy', 'PER'],\n",
       " [2204, 'Alejo Lopez', 171, 173, 173, 'mercador', 'PER'],\n",
       " [2239, 'Benuenuto', 2122, 2123, 2123, 'trata', 'PER'],\n",
       " [2307, 'franco pacheco', 1272, 1274, 1274, 'quiero', 'PER'],\n",
       " [2322, 'Juan Martinez Montañes', 127, 130, 130, 'abian', 'PER'],\n",
       " [2344, 'catalina de billegas', 333, 336, 336, 'luego', 'PER'],\n",
       " [2349, 'Catalina de fandoual', 109, 112, 113, 'luego', 'PER'],\n",
       " [2351, 'Martinez Montañes', 6, 8, 5, 'padrino', 'PER'],\n",
       " [2352, 'ynes de alava', 76, 79, 80, 'luego', 'PER'],\n",
       " [2356, 'Martinez Montañes', 5, 7, 4, 'figura', 'PER'],\n",
       " [2356, 'Martinez Montañes', 5, 7, 8, 'padrino', 'PER'],\n",
       " [2357, 'Martinez Montañes', 6, 8, 5, 'padrino', 'PER'],\n",
       " [2358, 'diego de salcedo', 29, 32, 27, 'cabeça', 'PER'],\n",
       " [2359, 'Martinez Montañes', 8, 10, 11, 'padrino', 'PER'],\n",
       " [2361, 'Alonso fernandez de Mora', 24, 28, 22, 'fueron', 'PER'],\n",
       " [2365, 'manuel francisco muñoz', 7, 10, 10, 'maestre', 'PER'],\n",
       " [2377, 'antonio de la fuente', 40, 44, 38, 'cobrar', 'PER'],\n",
       " [2387, 'urfula de rribera', 0, 3, 77, 'hijos-', 'PER'],\n",
       " [2391, 'andres rrodrigues', 16, 18, 18, 'tirador', 'PER'],\n",
       " [2399, 'alonso cano', 0, 2, 38, 'bornes', 'PER'],\n",
       " [2400, 'alonso cano', 0, 2, 44, 'maderas', 'PER'],\n",
       " [2401, 'juan bautista de uzeda', 13, 17, 17, 'castroberde', 'PER'],\n",
       " [2403, 'Mendoza Rios', 118, 120, 117, 'llama', 'PER'],\n",
       " [2470, 'juan nieto', 21, 23, 19, 'obligados', 'PER'],\n",
       " [2478, 'domingo gonçales', 0, 2, 120, 'meses', 'PER'],\n",
       " [2489, 'Miguel Guelles', 8, 10, 7, 'figura', 'PER'],\n",
       " [2496, 'Vicente hernandes', 717, 719, 720, 'figuras', 'PER'],\n",
       " [2496, 'Vicente hernandes', 784, 786, 786, 'porque', 'PER'],\n",
       " [2502, 'francisco de herrera', 0, 3, 423, 'menos', 'PER'],\n",
       " [2507, 'nicolao griego', 22, 24, 24, 'patrono', 'PER'],\n",
       " [2529, 'martin moreno', 531, 533, 530, 'plazos', 'PER'],\n",
       " [2532, 'juan de peña', 119, 122, 122, 'porque', 'PER'],\n",
       " [2555, 'martin lopez', 44, 46, 42, 'cobrar', 'PER'],\n",
       " [2556, 'antonio lopez giron', 300, 303, 299, 'llama', 'PER'],\n",
       " [2556, 'alonso salguero', 593, 595, 592, 'llama', 'PER'],\n",
       " [2558, 'bernardo de rriuera', 74, 77, 77, 'alguazil', 'PER'],\n",
       " [2565, 'Ynes Alvarez de Saavedra', 17, 21, 21, 'fueron', 'PER'],\n",
       " [2566, 'nicolao griego', 68, 70, 66, 'figura', 'PER'],\n",
       " [2590, 'juan martines montañes', 21, 24, 25, 'porque', 'PER'],\n",
       " [2602, 'luis ortiz de bargas', 118, 122, 122, 'recibo', 'PER'],\n",
       " [2612, 'juan de rremesal', 343, 346, 342, 'porque', 'PER'],\n",
       " [2612, 'pablo legot', 347, 349, 349, 'estan', 'PER'],\n",
       " [2633, 'francisco de ocanpo', 0, 3, 3, 'felgera', 'PER'],\n",
       " [2680, 'blanca henrriquez', 27, 29, 29, 'marquesa', 'PER'],\n",
       " [2697, 'Cristobal perez', 40, 42, 38, 'cobrar', 'PER'],\n",
       " [2698, 'Sebastian martines botello', 41, 44, 39, 'cobrar', 'PER'],\n",
       " [2699, 'francisco pacheco', 0, 2, 2, 'patrono', 'PER'],\n",
       " [2708, 'mahomad paliar', 21, 23, 20, 'maestre', 'PER'],\n",
       " [2716, 'miguel adan', 461, 463, 460, 'porque', 'PER'],\n",
       " [2720, 'Maria', 389, 390, 388, 'nietos', 'PER'],\n",
       " [2733, 'juan de uzeda', 70, 73, 73, 'castroberde', 'PER'],\n",
       " [2751, 'juan de uzeda', 49, 52, 52, 'castroberde', 'PER'],\n",
       " [2765, 'alonso rramires', 97, 99, 100, 'luego', 'PER'],\n",
       " [2765, 'baltasar quintero', 101, 103, 100, 'luego', 'PER'],\n",
       " [2768, 'pedro de torres', 58, 61, 61, 'arrutia', 'PER'],\n",
       " [2778, 'Felipe de Rivas', 3, 6, 6, 'figura', 'PER'],\n",
       " [2791, 'rrodrigo ortiz de la barrera', 38, 43, 36, 'cobrar', 'PER'],\n",
       " [2815, 'Juan Lorenzo', 223, 225, 222, 'canteria', 'PER'],\n",
       " [2854, 'juan de ufeda', 63, 66, 66, 'castroberde', 'PER'],\n",
       " [2854, 'miguel gomes', 68, 70, 66, 'castroberde', 'PER'],\n",
       " [2862, 'juan de uzeda', 0, 3, 3, 'castroberde', 'PER'],\n",
       " [2863, 'juan de uzeda', 0, 3, 3, 'castroberde', 'PER'],\n",
       " [2864, 'juan de uzeda', 0, 3, 3, 'castroberde', 'PER'],\n",
       " [2865, 'juan de uzeda', 0, 3, 3, 'castroberde', 'PER'],\n",
       " [2866, 'juan de uzeda', 0, 3, 3, 'castroberde', 'PER'],\n",
       " [2868, 'juan de uzeda', 0, 3, 3, 'castrouerde', 'PER'],\n",
       " [2870, 'Joan de uceda', 0, 3, 3, 'castrouerde', 'PER'],\n",
       " [2871, 'juan de uzeda', 0, 3, 3, 'castroberde', 'PER'],\n",
       " [2871, 'alonfo cano', 136, 138, 138, 'porque', 'PER'],\n",
       " [2872, 'juan de uzeda', 0, 3, 3, 'castroberde', 'PER'],\n",
       " [2873, 'juan de uzeda', 0, 3, 3, 'castroberde', 'PER'],\n",
       " [2873, 'alonso cano', 146, 148, 144, 'suegro', 'PER'],\n",
       " [2874, 'juan bautista de uzeda', 0, 4, 4, 'castroberde', 'PER'],\n",
       " [2874, 'juan de uzeda', 19, 22, 22, 'castroberde', 'PER'],\n",
       " [2882, 'pedro calderon', 15, 17, 13, 'reciuo', 'PER'],\n",
       " [2883, 'francisco barela', 54, 56, 56, 'sigue', 'PER'],\n",
       " [2893, 'jusephe antonio', 0, 2, 3, 'trece', 'PER'],\n",
       " [2909, 'francisco pacheco', 38, 40, 37, 'patrono', 'PER'],\n",
       " [2910, 'geronimo velazquez', 95, 97, 98, 'buena', 'PER'],\n",
       " [2930, 'alonso briseño de herrera', 23, 27, 21, 'cobrar', 'PER'],\n",
       " [2952, 'francisco ruys', 23, 25, 25, 'regero', 'PER'],\n",
       " [2990, 'pedro moreno', 34, 36, 32, 'obligados', 'PER'],\n",
       " [2990, 'elbira maldonado', 360, 362, 362, 'porque', 'PER'],\n",
       " [3019, 'Alº fanchez Gordillo', 3, 6, 2, 'licendo', 'PER'],\n",
       " [3019, 'Catalina de fandoual', 92, 95, 96, 'luego', 'PER'],\n",
       " [3038, 'martin ssanchez', 166, 168, 168, 'capellan', 'PER'],\n",
       " [3046, 'S. M.', 15, 17, 18, 'personas', 'PER'],\n",
       " [3049, 'Gabriel Gomez', 74, 76, 77, 'luego', 'PER'],\n",
       " [3081, 'francisco de molina', 245, 248, 248, 'manda', 'PER'],\n",
       " [3082, 'juan rrodriguez de castro', 100, 104, 104, 'manda', 'PER'],\n",
       " [3100, 'diego de falzedo', 21, 24, 19, 'fuegro', 'PER'],\n",
       " [3101, 'diego de sauzedo', 22, 25, 20, 'suegro', 'PER'],\n",
       " [3109, 'juan del busto', 22, 25, 26, 'mendosa', 'PER'],\n",
       " [3117, 'luis de porras', 408, 411, 411, 'noriegas', 'PER'],\n",
       " [3117, 'lauriano pacheco', 1399, 1401, 1401, 'porque', 'PER'],\n",
       " [3122, 'fernando martin', 51, 53, 53, 'mascareña', 'PER'],\n",
       " [3131, 'francisco de ocampo', 87, 90, 86, 'porque', 'PER'],\n",
       " [3167, 'Amaro Vazquez', 1, 3, 0, 'Figura', 'PER'],\n",
       " [3219, 'martines montañes de Ufanqui', 3, 7, 2, 'ffernando', 'PER'],\n",
       " [3226, 'miguel adan', 22, 24, 20, 'fuegro', 'PER'],\n",
       " [3239, 'gaspar del aguila', 333, 336, 332, 'porque', 'PER'],\n",
       " [3266, 'rrodrigo nabarro', 45, 47, 47, 'correo', 'PER'],\n",
       " [3274, 'rroque de balduque', 151, 154, 150, 'porque', 'PER'],\n",
       " [3279, 'anton caluo', 61, 63, 60, 'porque', 'PER'],\n",
       " [3280, 'juan bautista', 89, 91, 91, 'porque', 'PER'],\n",
       " [3288, 'gaspar delgado', 153, 155, 152, 'barro', 'PER'],\n",
       " [3289, 'juan bernal de heredia', 13, 17, 17, 'escrib', 'PER'],\n",
       " [3326, 'juan bautista basquez', 202, 205, 206, 'cuerpo', 'PER'],\n",
       " [3326, 'gaspar nunez', 348, 350, 350, 'recibo', 'PER'],\n",
       " [3346, 'francisco armijo', 38, 40, 36, 'cobrar', 'PER'],\n",
       " [3358, 'mariana de uera', 268, 271, 271, 'porque', 'PER'],\n",
       " [3383, 'rrodrigo de santillan', 19, 22, 22, 'alguazil', 'PER'],\n",
       " [3404, 'juana de cuñiga', 119, 122, 122, 'marquesa', 'PER'],\n",
       " [3410, 'antonio del corro', 57, 60, 56, 'licendo', 'PER'],\n",
       " [3410, 'antonio del corro', 185, 188, 189, 'figura', 'PER'],\n",
       " [3416, 'Gaspar del Aguila', 4, 7, 3, 'fecha', 'PER'],\n",
       " [3418, 'bautista', 842, 843, 841, 'maestre', 'PER'],\n",
       " [3418, 'bautista', 1857, 1858, 1856, 'maestre', 'PER'],\n",
       " [3418, 'bautista', 2087, 2088, 2086, 'maestre', 'PER'],\n",
       " [3418, 'bautista', 2447, 2448, 2446, 'maestre', 'PER'],\n",
       " [3418, 'sancho martinez de leyba', 2763, 2767, 2768, 'contia', 'PER'],\n",
       " [3419, 'sancho martinez de leyba', 46, 50, 51, 'consejo', 'PER'],\n",
       " [3423, 'pedro de morga', 141, 144, 139, 'banco', 'PER'],\n",
       " [3427, 'pedro', 265, 266, 266, 'despinosa', 'PER'],\n",
       " [3444, 'juan de uillafranca', 30, 33, 28, 'cobrar', 'PER'],\n",
       " [3450, 'diego arias', 30, 32, 32, 'atalaya', 'PER'],\n",
       " [3451, 'miguel geronimo', 123, 125, 121, 'cobrar', 'PER'],\n",
       " [3463, 'juan bautista', 42, 44, 44, 'caseis', 'PER'],\n",
       " [3483, 'gaspar del aguila', 27, 30, 25, 'cobrar', 'PER'],\n",
       " [3484, 'Rodrigo albarez lobo', 47, 50, 45, 'cobrar', 'PER'],\n",
       " [3501, 'maria enrriques', 50, 52, 52, 'marquesa', 'PER'],\n",
       " [3501, 'pedro despinosa', 1164, 1166, 1166, 'banco', 'PER'],\n",
       " [3517, 'gome sapata', 85, 87, 88, 'consejo', 'PER'],\n",
       " [3519, 'beatriz de serbantes', 508, 511, 511, 'porque', 'PER'],\n",
       " [3519, 'beatriz de serbantes', 643, 646, 642, 'porque', 'PER'],\n",
       " [3521, 'catalina sanches', 14, 16, 17, 'alcaçar', 'PER'],\n",
       " [3524, 'juan sanches', 137, 139, 136, 'porque', 'PER'],\n",
       " [3530, 'pedro basquez', 32, 34, 30, 'cobrar', 'PER'],\n",
       " [3541, 'gines martin', 99, 101, 97, 'cobrar', 'PER'],\n",
       " [3569, 'pedro de canpaña', 1, 4, 0, 'maestre', 'PER'],\n",
       " [3570, 'pedro de canpaña', 1, 4, 0, 'maestre', 'PER'],\n",
       " [3571, 'pedro de canpania', 1, 4, 0, 'maestre', 'PER'],\n",
       " [3573, 'pedro de canpania', 1, 4, 0, 'maestre', 'PER'],\n",
       " [3580, 'pedro campaña', 15, 17, 14, 'maestre', 'PER'],\n",
       " [3580, 'pedro', 42, 43, 41, 'maestre', 'PER'],\n",
       " [3580, 'pedro', 42, 43, 44, 'porque', 'PER'],\n",
       " [3592, 'antonio belez de alcoger', 18, 22, 22, 'maioral', 'PER'],\n",
       " [3599, 'francisco hernandes', 31, 33, 33, 'casero', 'PER'],\n",
       " [3611, 'gaspar gutierres del Paramo', 38, 42, 42, 'porque', 'PER'],\n",
       " [3616, 'francisco rruyz', 116, 118, 115, 'españa', 'PER'],\n",
       " [3618, 'xpoval Ramires', 80, 82, 82, 'quiero', 'PER'],\n",
       " [3621, 'diego perez', 44, 46, 42, 'cobrar', 'PER'],\n",
       " [3631, 'Melchor Perez', 299, 301, 302, 'figura', 'PER'],\n",
       " [3639, 'mateo peres', 287, 289, 286, 'porque', 'PER'],\n",
       " [3640, 'diego de montoya', 370, 373, 368, 'cobrar', 'PER'],\n",
       " [3642, 'fernandez de mendosa', 392, 395, 390, 'heran', 'PER'],\n",
       " [3657, 'gaspar del aguila', 43, 46, 47, 'cuerpo', 'PER'],\n",
       " [3660, 'juan garcia', 10, 12, 8, 'recibo', 'PER'],\n",
       " [3677, 'gregorio bermudo', 24, 26, 22, 'cobrar', 'PER'],\n",
       " [3682, 'martin de avila', 31, 34, 29, 'cobrar', 'PER'],\n",
       " [3682, 'juan de saucedo', 69, 72, 72, 'estan', 'PER'],\n",
       " [3711, 'catalina', 9, 10, 10, 'destrada', 'PER'],\n",
       " [3723, 'pedro de morga', 140, 143, 138, 'banco', 'PER'],\n",
       " [3723, 'juan de arregui', 144, 147, 147, 'banco', 'PER'],\n",
       " [3731, 'juan merino', 4, 6, 6, 'despinosa', 'PER'],\n",
       " [3753, 'juan fernandes', 71, 73, 69, 'fueron', 'PER'],\n",
       " [3753, 'catalina', 75, 76, 76, 'destrada', 'PER'],\n",
       " [3753, 'juan merino', 276, 278, 278, 'despinosa', 'PER'],\n",
       " [3754, 'juan merino', 31, 33, 33, 'despinosa', 'PER'],\n",
       " [3767, 'luisa ordoñes', 193, 195, 192, 'porque', 'PER'],\n",
       " [3786, 'Arzobispo Mena', 34, 36, 32, 'mortales', 'PER'],\n",
       " [3789, 'ana de çuñiga', 1, 4, 4, 'marquesa', 'PER'],\n",
       " [3793, 'Jeronimo Hernandez', 456, 458, 454, 'llama', 'PER'],\n",
       " [3794, 'hernando hordoñez', 37, 39, 35, 'destrada', 'PER'],\n",
       " [3795, 'luisa ordoñez', 121, 123, 120, 'fecha', 'PER'],\n",
       " [3795, 'juan de aguilar', 457, 460, 461, 'luego', 'PER'],\n",
       " [3797, 'luisa ordoñez', 88, 90, 87, 'porque', 'PER'],\n",
       " [3799, 'juan', 30, 31, 28, 'cobrar', 'PER'],\n",
       " [3802, 'luisa ordoñez', 440, 442, 442, 'luego', 'PER'],\n",
       " [3814, 'geronima', 1, 2, 2, 'destrada', 'PER'],\n",
       " [3822, 'francisco rruis', 26, 28, 24, 'obligados', 'PER'],\n",
       " [3833, 'basco de perea', 11, 14, 9, 'obligados', 'PER'],\n",
       " [3835, 'antonia de sandobal', 114, 117, 117, 'porque', 'PER'],\n",
       " [3836, 'duque de medina', 13, 16, 11, 'cobrar', 'PER'],\n",
       " [3884, 'juan bautista', 32, 34, 34, 'despindola', 'PER'],\n",
       " [3889, 'diego lopez bueno', 53, 56, 52, 'firma', 'PER'],\n",
       " [3900, 'miguel cano', 55, 57, 54, 'luego', 'PER'],\n",
       " [3940, 'francisco morales', 26, 28, 28, 'capellan', 'PER'],\n",
       " [3949, 'juan batanes', 99, 101, 98, 'maestre', 'PER'],\n",
       " [3996, 'diego ponce', 15, 17, 17, 'escrib', 'PER'],\n",
       " [3996, 'geronimo hernandez', 213, 215, 212, 'luego', 'PER'],\n",
       " [4018, 'alonso caro', 109, 111, 111, 'cristin', 'PER'],\n",
       " [4022, 'pedro de lara', 41, 44, 44, 'guardian', 'PER'],\n",
       " [4027, 'beatris de belasco y suñiga', 11, 16, 16, 'marquesa', 'PER'],\n",
       " [4027, 'juan martinez montañes', 121, 124, 124, 'segun', 'PER'],\n",
       " [4041, 'diego de urbina', 45, 48, 43, 'cobrar', 'PER'],\n",
       " [4050, 'diego de los santos', 260, 264, 264, 'luego', 'PER'],\n",
       " [4078, 'juan tello', 21, 23, 19, 'cobrar', 'PER'],\n",
       " [4085, 'cosme lescano', 31, 33, 33, 'fecha', 'PER'],\n",
       " [4100, 'andres de ocanpo', 0, 3, 148, 'meses', 'PER'],\n",
       " [4103, 'xpobal gutierrez', 27, 29, 25, 'cobrar', 'PER'],\n",
       " [4126, 'francisco de ocanpo', 31, 34, 34, 'caseis', 'PER'],\n",
       " [4144, 'andres salcedo de cuerba', 29, 33, 34, 'consejo', 'PER'],\n",
       " [4148, 'luis ortiz de bargas', 1417, 1421, 1415, 'meses', 'PER'],\n",
       " [4157, 'miguel carton', 30, 32, 28, 'cobrar', 'PER'],\n",
       " [4169, 'juan de obiedo', 0, 3, 179, 'meses.-', 'PER'],\n",
       " [4174, 'alonso hernandez', 49, 51, 47, 'cobrar', 'PER'],\n",
       " [4181, 'geronima delgado', 37, 39, 41, 'billa', 'PER'],\n",
       " [4187, 'blanca enrriquez', 54, 56, 56, 'marquesa', 'PER'],\n",
       " [4202, 'juan garcia', 19, 21, 17, 'cobrar', 'PER'],\n",
       " [4220, 'pedro de musques', 25, 28, 23, 'cobrar', 'PER'],\n",
       " [4239, 'simon de pineda', 42, 45, 45, 'luego', 'PER'],\n",
       " [4239, 'diego de la torre', 125, 129, 123, 'fueron', 'PER'],\n",
       " [4246, 'diego de carmona', 0, 3, 3, 'arquero', 'PER'],\n",
       " [4255, 'martin de arratia', 23, 26, 26, 'guardian', 'PER'],\n",
       " [4261, 'juan de austria', 58, 61, 61, 'fecha', 'PER'],\n",
       " [4263, 'pedro', 178, 179, 179, 'armado', 'PER'],\n",
       " [4278, 'gaspar del aguila', 19, 22, 17, 'cobrar', 'PER'],\n",
       " [4296, 'baltasar', 148, 149, 149, 'baron', 'PER'],\n",
       " [4296, 'baltasar', 240, 241, 241, 'baron', 'PER'],\n",
       " [4296, 'baltasar', 260, 261, 261, 'baron', 'PER'],\n",
       " [4296, 'Baltasar Baron', 525, 527, 527, 'porque', 'PER'],\n",
       " [4296, 'Bartolome Muñoz', 555, 557, 554, 'menos', 'PER'],\n",
       " [4296, 'Juan Bautista Vazquez', 598, 601, 597, 'precio', 'PER'],\n",
       " [4304, 'pedro de morga', 44, 47, 47, 'banquero', 'PER'],\n",
       " [4319, 'juan bautista', 73, 75, 75, 'billalpando', 'PER'],\n",
       " [4329, 'juan de herrera', 43, 46, 41, 'cobrar', 'PER'],\n",
       " [4330, 'andres de ocanpo', 17, 20, 15, 'canteria', 'PER'],\n",
       " [4330, 'alonso de bandelbira', 79, 82, 83, 'precio', 'PER'],\n",
       " [4334, 'diego de alsedo', 86, 89, 89, 'porque', 'PER'],\n",
       " [4351, 'alonso arias alguazil', 9, 12, 14, 'uilla', 'PER'],\n",
       " [4387, 'lorenzo de montesdoca', 2, 5, 5, 'patrono', 'PER'],\n",
       " [4390, 'miguel de aguirre', 117, 120, 121, 'lienço', 'PER'],\n",
       " [4393, 'juan de uzeda', 3, 6, 6, 'castroberde', 'PER'],\n",
       " [4431, 'andres de la higuera', 10, 14, 14, 'alguazil', 'PER'],\n",
       " [4432, 'basco pereira', 4, 6, 2, 'salzedo', 'PER'],\n",
       " [4497, 'geronimo belasques', 168, 170, 167, 'cobrar', 'PER'],\n",
       " [4498, 'diego ramires', 45, 47, 47, 'escrib', 'PER'],\n",
       " [4502, 'juan sanchez moro', 23, 26, 21, 'cobrar', 'PER'],\n",
       " [4506, 'maria de rrojas', 1, 4, 4, 'recibo', 'PER'],\n",
       " [4507, 'ana de billegas', 188, 191, 191, 'porque', 'PER'],\n",
       " [4534, 'andres de ocanpo', 13, 16, 12, 'terceros', 'PER'],\n",
       " [4544, 'francisca de leon', 149, 152, 152, 'porque', 'PER'],\n",
       " [4544, 'gaspar de S. eliseo', 239, 243, 243, 'manda', 'PER'],\n",
       " [4549, 'rrodrigo de almansa', 22, 25, 20, 'cobrar', 'PER'],\n",
       " [4555, 'diego gomes de ortega', 0, 4, 4, 'capellan', 'PER'],\n",
       " [4562, 'catalina de sandobal', 65, 68, 69, 'luego', 'PER'],\n",
       " [4567, 'anton sanchez', 19, 21, 17, 'cobrar', 'PER'],\n",
       " [4568, 'felipe basquez de ureta', 38, 42, 36, 'cobrar', 'PER'],\n",
       " [4578, 'juan bta gonçales', 37, 40, 35, 'cobrar', 'PER'],\n",
       " [4583, 'juan bautista', 25, 27, 23, 'cobrar', 'PER'],\n",
       " [4607, 'alonso de nobela', 9, 12, 12, 'maestre', 'PER'],\n",
       " [4615, 'alonso fernandez de mora', 6, 10, 4, 'fueron', 'PER'],\n",
       " [4618, 'diego de saabedra faxardo', 9, 13, 14, 'consejo', 'PER'],\n",
       " [4625, 'Lusia', 81, 82, 82, 'damiano', 'PER'],\n",
       " [4673, 'Andrés de Lazo', 31, 34, 34, 'Destrada', 'PER'],\n",
       " [4727, 'Catalina de Vega', 98, 101, 101, 'fueron', 'PER'],\n",
       " [4752, 'Bernardo de Escalante', 41, 44, 40, 'padrino', 'PER'],\n",
       " [4753, 'Francisco de Arteaga', 24, 27, 22, 'paternos', 'PER'],\n",
       " [4864, 'MARTÍN DE ATIENZA', 0, 3, 6, 'carbón', 'PER'],\n",
       " [4923, 'Bartolomé de Puya', 36, 39, 34, 'cobrar', 'PER'],\n",
       " [4946, 'Juan de Monzón', 79, 82, 77, 'cobrar', 'PER'],\n",
       " [4967, 'DOMINGO ANTONIO BEJARANO', 17, 20, 16, 'cuanto', 'PER'],\n",
       " [4968, 'DOMINGO ANTONIO BEJARANO', 35, 38, 33, 'cobrar', 'PER'],\n",
       " [5036, 'Francisco Antonio de la Calle', 82, 87, 87, 'ambos', 'PER'],\n",
       " [5037, 'CARLOS FRANCISCO DE LA CALLE', 21, 26, 19, 'cuerpo', 'PER'],\n",
       " [5086, 'Antonio Vicente Bravo', 19, 22, 22, 'capellán', 'PER'],\n",
       " [5087, 'Antonio Vicente Bravo', 19, 22, 22, 'capellán', 'PER'],\n",
       " [5088, 'Antonio Vicente Bravo', 32, 35, 35, 'capellán', 'PER'],\n",
       " [5089, 'Antonio Vicente Bravo', 20, 23, 23, 'capellán', 'PER'],\n",
       " [5090, 'Antonio Vicente Bravo', 19, 22, 22, 'capellán', 'PER'],\n",
       " [5091, 'Antonio Vicente Bravo', 15, 18, 18, 'capellán', 'PER'],\n",
       " [5092, 'Antonio Vicente Bravo', 22, 25, 25, 'capellán', 'PER'],\n",
       " [5095, 'Antonio Vicente Bravo', 22, 25, 25, 'capellán', 'PER'],\n",
       " [5096, 'Antonio Vicente Bravo', 15, 18, 18, 'capellán', 'PER'],\n",
       " [5127, 'Bernardo Vicente de Morales', 484, 488, 489, 'cuenta', 'PER'],\n",
       " [5200, 'Antonia Guerido', 199, 201, 198, 'presto', 'PER'],\n",
       " [5288, 'BERNARDO SIMÓN DE PINEDA', 19, 23, 18, 'padrino', 'PER'],\n",
       " [5293, 'Pedro de Medina Valbuena', 19, 23, 18, 'padrino', 'PER'],\n",
       " [5304, 'ANDRÉS MONTERO', 24, 26, 23, 'padrino', 'PER'],\n",
       " [5315, 'Fernando Virabedra de Paz', 81, 85, 86, 'consejo', 'PER'],\n",
       " [5316, 'Antonio de Monsalve', 22, 25, 26, 'consejo', 'PER'],\n",
       " [5364, 'Antonio de Monsalve', 20, 23, 24, 'consejo', 'PER'],\n",
       " [5365, 'Antonio de Monsalve', 20, 23, 24, 'consejo', 'PER'],\n",
       " [5366, 'Femando Virabedra de Paz', 75, 79, 80, 'consejo', 'PER'],\n",
       " [5367, 'Antonio de Monsalve', 20, 23, 24, 'consejo', 'PER'],\n",
       " [5442, 'Fernando Jiménez Begaro', 71, 74, 69, 'cobrar', 'PER'],\n",
       " [5448, 'Pedro Rodríguez de la Natera', 98, 103, 96, 'cobrar', 'PER'],\n",
       " [5499, 'Jerónimo de Larda', 399, 402, 398, 'llama', 'PER'],\n",
       " [5528, 'ALONSO PÉREZ', 38, 40, 41, 'ahora', 'PER'],\n",
       " [5534, 'Luis Rodríguez', 13, 15, 11, 'obligador', 'PER'],\n",
       " [5585, 'BARTOLOMÉ FERNÁNDEZ DE LEÓN', 19, 23, 17, 'cobrar', 'PER'],\n",
       " [5586, 'BARTOLOMÉ ERNANDEZ', 0, 2, 5, 'media', 'PER'],\n",
       " [5610, 'Juan de Coltrera', 8, 11, 11, 'arquero', 'PER'],\n",
       " [5622, 'Tomasa de Espejo', 6, 9, 9, 'bendita', 'PER'],\n",
       " [5624, 'Tomasa de Espejo', 53, 56, 56, 'bendita', 'PER'],\n",
       " [5624, 'Tomasa', 127, 128, 128, 'bendita', 'PER'],\n",
       " [5637, 'BLAS DE ESCOBAR', 61, 64, 60, 'cuanto', 'PER'],\n",
       " [5642, 'Pedro Moreno', 39, 41, 37, 'obligados', 'PER'],\n",
       " [5642, 'Elvira Maldonado', 162, 164, 164, 'porque', 'PER'],\n",
       " [5707, 'Ciprion Coruchi', 166, 168, 168, 'zapatero', 'PER'],\n",
       " [5709, 'BARTOLOMÉ FRANCO DE LEÓN', 5, 9, 9, 'antes', 'PER'],\n",
       " [5790, 'DIEGO GARCÍA DE MELGAREJO', 0, 4, 5, 'cónsul', 'PER'],\n",
       " [5794, 'DIEGO GARCÍA DE MELGAREJO', 0, 4, 7, 'cónsul', 'PER'],\n",
       " [5795, 'DIEGO GARCÍA DE MELGAREJO', 0, 4, 5, 'cónsul', 'PER'],\n",
       " [5839, 'Pablo', 102, 103, 101, 'llama', 'PER'],\n",
       " [5839, 'Manuel Gande', 112, 114, 114, 'cajero', 'PER'],\n",
       " [5855, 'JUAN DE ARROYO', 16, 19, 14, 'cuerpo', 'PER'],\n",
       " [5880, 'JUAN DE VALDÉS', 70, 73, 73, 'apreciado', 'PER'],\n",
       " [5928, 'María Navaro', 45, 47, 47, 'fueron', 'PER'],\n",
       " [5974, 'Sebastián Fernández', 54, 56, 52, 'cobrar', 'PER'],\n",
       " [5976, 'Francisco García Falla', 156, 159, 159, 'recibo', 'PER'],\n",
       " [5980, 'Francisco García Falla', 279, 282, 283, 'precio', 'PER'],\n",
       " [5983, 'Antonio Gómez', 52, 54, 50, 'cobrar', 'PER'],\n",
       " [5986, 'Diego Gutiérrez', 103, 105, 105, 'ambos', 'PER'],\n",
       " [5989, 'Bartolomé', 9, 10, 10, '-faranco', 'PER'],\n",
       " [6060, 'Francisco Roesti', 43, 45, 42, 'padrino', 'PER'],\n",
       " [6083, 'Salvador de Cardenas', 39, 42, 38, 'padrino', 'PER'],\n",
       " [6148, 'PEDRO ROLDÁN', 19, 21, 18, 'padrino', 'PER'],\n",
       " [6150, 'PEDRO ROLDÁN', 18, 20, 17, 'padrino', 'PER'],\n",
       " [6174, 'Juan de Ledesma', 31, 34, 29, 'cobrar', 'PER'],\n",
       " [6183, 'Francisco Muñoz', 30, 32, 28, 'cobrar', 'PER'],\n",
       " [6269, 'Sebastián Camucho', 42, 44, 40, 'cobrar', 'PER'],\n",
       " [6304, 'PEDRO DE BORJA', 44, 47, 42, 'cobrar', 'PER'],\n",
       " [6329, 'Cristóbal del Campo', 36, 39, 34, 'cobrar', 'PER'],\n",
       " [6341, 'Atanacio Pasqual de Bobadilla', 16, 20, 21, 'consejo', 'PER'],\n",
       " [6342, 'Atanacio Pasqual de Bobadilla', 16, 20, 21, 'consejo', 'PER'],\n",
       " [6343, 'Francisco Benites', 44, 46, 42, 'cobrar', 'PER'],\n",
       " [6344, 'Atanacio Pasqual de Bobadilla', 16, 20, 21, 'consejo', 'PER'],\n",
       " [6345, 'Atanacio Pasqual de Bobadilla', 16, 20, 21, 'consejo', 'PER'],\n",
       " [6348, 'Atanacio Pasqual de Bobadilla', 16, 20, 21, 'consejo', 'PER'],\n",
       " [6352, 'Atanacio Pasqual de Bobadilla', 16, 20, 21, 'consejo', 'PER'],\n",
       " [6353, 'Atanacio Pasqual de Bobadilla', 16, 20, 21, 'consejo', 'PER'],\n",
       " [6356, 'Atanacio Pasqual de Bobadilla', 16, 20, 21, 'consejo', 'PER'],\n",
       " [6360, 'JUAN LÓPEZ CARRASCO', 15, 18, 13, 'cobrar', 'PER'],\n",
       " [6399, 'CARLOS DE ZARATE', 14, 17, 13, 'cuanto', 'PER'],\n",
       " [6411, 'Antonio de Sameta', 36, 39, 39, 'ambos', 'PER'],\n",
       " [6412, 'Martín de Sumeta', 42, 45, 45, 'ambos', 'PER'],\n",
       " [6444, 'Miguel de Ulanos', 136, 139, 135, 'suegro', 'PER'],\n",
       " [6444, 'Alonso de Castillo Rueda', 505, 509, 510, 'consejo', 'PER'],\n",
       " [6459, 'Miguel de Serrera', 0, 3, 3, 'sacristán', 'PER'],\n",
       " [6469, 'Andrés Martín', 62, 64, 60, 'cobrar', 'PER'],\n",
       " [6508, 'JUAN MARTÍNEZ DE GRADILLA', 0, 4, 5, 'cónsul', 'PER'],\n",
       " [6510, 'JUAN MARTÍNEZ DE GRADILLA', 0, 4, 5, 'cónsul', 'PER'],\n",
       " [6528, 'Andrea Sarebes de Uriano', 26, 30, 24, 'padres', 'PER'],\n",
       " [6529, 'Juan Jiménez de Montalbo y Sarabia', 24, 30, 31, 'consejo', 'PER'],\n",
       " [6530, 'Juan Jiménez de Montalbo y Sarabia', 24, 30, 31, 'consejo', 'PER'],\n",
       " [6629, 'Pedro de Medina Valbuena', 19, 23, 18, 'padrino', 'PER'],\n",
       " [6723, 'Niseforio de Meneses Ponce', 35, 39, 34, 'cuanto', 'PER'],\n",
       " [6725, 'Jerónimo de Chaves', 16, 19, 19, 'padrino', 'PER'],\n",
       " [6791, 'Isabel María', 17, 19, 16, 'cuanto', 'PER'],\n",
       " [6823, 'Luis de Granja', 42, 45, 40, 'cobrar', 'PER'],\n",
       " [6840, 'LUIS MUÑOZ', 0, 2, 8, 'beleta', 'PER'],\n",
       " [6854, 'José de Barrutia', 58, 61, 61, 'Maestre', 'PER'],\n",
       " [6854, 'José de Gurrumendi', 80, 83, 83, 'Maestre', 'PER'],\n",
       " [6855, 'José de Gurrumendi', 24, 27, 27, 'Maestre', 'PER'],\n",
       " [6867, 'José de Morales', 24, 27, 27, 'Maestre', 'PER'],\n",
       " [6867, 'Pedro de Chaves', 44, 47, 47, 'Maestre', 'PER'],\n",
       " [6892, 'Francisco Campos', 136, 138, 134, 'cobrar', 'PER'],\n",
       " [6923, 'Domingo de Leaegui', 10, 13, 8, 'cobrar', 'PER'],\n",
       " [6926, 'Miguel de Usarte', 40, 43, 39, 'padrino', 'PER'],\n",
       " [6995, 'Juan Santiago', 36, 38, 38, 'estaba', 'PER'],\n",
       " [7033, 'FRANCISCO TERRÓN', 191, 193, 194, 'paran', 'PER'],\n",
       " [7034, 'BARTOLOMÉ MURILLO', 16, 18, 14, 'cuerpo', 'PER'],\n",
       " [7035, 'BARTOLOMÉ MURILLO', 18, 20, 16, 'fueron', 'PER'],\n",
       " [7036, 'BARTOLOMÉ MURILLO', 18, 20, 16, 'fueron', 'PER'],\n",
       " [7039, 'Marcos de Aguilar', 176, 179, 175, 'estaba', 'PER'],\n",
       " [7096, 'Luis de Medina', 42, 45, 41, 'padrino', 'PER'],\n",
       " [7306, 'Gonzalo de Vargas', 38, 41, 36, 'cobrar', 'PER'],\n",
       " [7343, 'Miguel Ortiz', 22, 24, 20, 'cobrar', 'PER'],\n",
       " [7354, 'Juan de Ubrete', 59, 62, 62, 'arquero', 'PER'],\n",
       " [7355, 'Juan de Utrera', 40, 43, 43, 'arquero', 'PER'],\n",
       " [7360, 'ALONSO PÉREZ', 36, 38, 38, 'suegro', 'PER'],\n",
       " [7365, 'FELIPE MARTÍNEZ DE SOTO', 49, 53, 47, 'cobrar', 'PER'],\n",
       " [7371, 'JUAN FAJARDO', 41, 43, 39, 'cobrar', 'PER'],\n",
       " [7372, 'Pedro Pablo de Pereanes', 10, 14, 14, 'sacristán', 'PER'],\n",
       " [7411, 'Fernando Romano', 10, 12, 9, 'cuanto', 'PER'],\n",
       " [7412, 'Bernardo Antonio de Mesa', 10, 14, 9, 'cuanto', 'PER'],\n",
       " [7521, 'Antonio Romero', 32, 34, 30, 'cobrar', 'PER'],\n",
       " [7543, 'Joseph Romero', 27, 29, 26, 'cuanto', 'PER'],\n",
       " [7556, 'Bartolomé', 253, 254, 252, 'llama', 'PER'],\n",
       " [7560, 'JUAN BAUTISTA PRIETO', 19, 22, 17, 'fueron', 'PER'],\n",
       " [7588, 'GASPAR DE RIBAS', 24, 27, 22, 'cuerpo', 'PER'],\n",
       " [7704, 'JUAN LUIS DE ROJAS', 31, 35, 30, 'cuanto', 'PER'],\n",
       " [7826, 'CORNELIO SCHUTT', 0, 2, 3, 'cónsul', 'PER'],\n",
       " [7836, 'CORNELIO SCHUTT', 0, 2, 3, 'cónsul', 'PER'],\n",
       " [7837, 'CORNELIO SCHUTT', 0, 2, 3, 'cónsul', 'PER'],\n",
       " [7840, 'CORNELIO SCHUTT', 0, 2, 3, 'cónsul', 'PER'],\n",
       " [7841, 'CORNELIO SCHUTT', 0, 2, 3, 'cónsul', 'PER'],\n",
       " [7847, 'CORNELIO SCHUTT', 0, 2, 3, 'cónsul', 'PER'],\n",
       " [7852, 'CORNELIO SCHUTT', 0, 2, 3, 'cónsul', 'PER'],\n",
       " [7895, 'Laura de Narvaez', 86, 89, 89, 'ahora', 'PER'],\n",
       " [7905, 'Juan Fernández', 28, 30, 27, 'cuanto', 'PER'],\n",
       " [7912, 'María Manuela Suárez', 178, 181, 181, 'ambos', 'PER'],\n",
       " [7941, 'Agustín de Libera', 53, 56, 56, 'ambos', 'PER'],\n",
       " [7953, 'Matías de Tejada', 17, 20, 20, 'marinero', 'PER'],\n",
       " [7967, 'LUCAS DE VALDÉS', 24, 27, 23, 'padrino', 'PER'],\n",
       " [7973, 'JUAN DE VALDÉS', 23, 26, 22, 'padrino', 'PER'],\n",
       " [7980, 'JOSEPH DE RIBAS', 27, 30, 30, 'padrino', 'PER'],\n",
       " [7995, 'FERNANDO DE BARAONA', 31, 34, 30, 'padrino', 'PER'],\n",
       " [7996, 'Diego Pablo de Arana', 42, 46, 41, 'cuanto', 'PER'],\n",
       " [8005, 'Lorenzo de la Plata', 43, 47, 42, 'padrino', 'PER'],\n",
       " [8016, 'Fernando Rejón', 25, 27, 24, 'padrino', 'PER'],\n",
       " [8019, 'JUAN DE VALDÉS', 15, 18, 14, 'padrino', 'PER'],\n",
       " [8076, 'Pedro de Quiros', 51, 54, 49, 'Cámara', 'PER'],\n",
       " [8079, 'BERNARDO SIMÓN', 66, 68, 65, 'padrino', 'PER'],\n",
       " [8109, 'JUAN DE VALDÉS', 85, 88, 84, 'cuerpo', 'PER'],\n",
       " [8118, 'JUAN DE VALDÉS LEAL', 64, 68, 63, 'padrino', 'PER'],\n",
       " [8124, 'LUCAS DE VALDÉS', 25, 28, 24, 'padrino', 'PER'],\n",
       " [8134, 'JUAN DE BALDÉS', 19, 22, 18, 'figuras', 'PER'],\n",
       " [8138, 'FELIPE MARTINEZ', 10, 12, 8, 'aserta', 'PER'],\n",
       " [8157, 'Francisco de la Vega', 27, 31, 26, 'padrino', 'PER'],\n",
       " [8165, 'VALDÉS LEAL', 30, 32, 28, 'cuenta', 'PER'],\n",
       " [8186, 'FRANCISCO DE RIVAS', 62, 65, 65, 'ajusto', 'PER'],\n",
       " [8202, 'FRANCISCO DE RIBAS', 37, 40, 40, 'ajusto', 'PER'],\n",
       " [8268, 'Juan Jiménez', 27, 29, 25, 'cobrar', 'PER'],\n",
       " [8322, 'Luis de Roa', 29, 32, 28, 'llamdo', 'PER'],\n",
       " [8375, 'CARLOS DE ZARATE', 74, 77, 73, 'cuanto', 'PER'],\n",
       " [8462, 'ALONSO DE ZARATE', 10, 13, 9, 'cuanto', 'PER'],\n",
       " [8474, 'Fabian de Cabrera', 64, 67, 68, 'consejo', 'PER'],\n",
       " [8474, 'Diego Navarro de Mendoza', 75, 79, 80, 'consejo', 'PER'],\n",
       " [8503, 'ALFONSO MARTÍNEZ', 1302, 1304, 1304, 'ambos', 'PER'],\n",
       " [8504, 'JUAN FAMON', 231, 233, 229, 'grandes', 'PER'],\n",
       " [8510, 'TOMÁS CONTRERAS', 43, 45, 45, 'conocía', 'PER'],\n",
       " [8513, 'Conde de Arenales', 34, 37, 32, 'Padrino', 'PER'],\n",
       " [8513, 'ALONSO FAJARDO', 72, 74, 74, 'padrino', 'PER'],\n",
       " [8513, 'ALONSO FAJARDO', 83, 85, 85, 'padrino', 'PER'],\n",
       " [8518, 'Carlos de Chasaretta', 20, 23, 19, 'padrino', 'PER'],\n",
       " [8541, 'Jerónimo de Tordera', 16, 19, 15, 'padrino', 'PER'],\n",
       " [8551, 'Sebastián de Villanueva', 610, 613, 613, 'arquero', 'PER'],\n",
       " [8570, 'Pedro de Plata', 369, 372, 367, 'rosarios', 'PER']]"
      ]
     },
     "execution_count": 117,
     "metadata": {},
     "output_type": "execute_result"
    }
   ],
   "source": [
    "peopleshortfuzz"
   ]
  },
  {
   "cell_type": "code",
   "execution_count": 118,
   "metadata": {},
   "outputs": [],
   "source": [
    "peopleshortfuzz = pd.DataFrame(peopleshortfuzz, columns = ['docid','string','start','end','tokenloc','tokentext','entlabel'])"
   ]
  },
  {
   "cell_type": "code",
   "execution_count": 120,
   "metadata": {},
   "outputs": [],
   "source": [
    "peopleshortfuzz['edit_short']=''"
   ]
  },
  {
   "cell_type": "code",
   "execution_count": 121,
   "metadata": {},
   "outputs": [
    {
     "data": {
      "text/html": [
       "<div>\n",
       "<style scoped>\n",
       "    .dataframe tbody tr th:only-of-type {\n",
       "        vertical-align: middle;\n",
       "    }\n",
       "\n",
       "    .dataframe tbody tr th {\n",
       "        vertical-align: top;\n",
       "    }\n",
       "\n",
       "    .dataframe thead th {\n",
       "        text-align: right;\n",
       "    }\n",
       "</style>\n",
       "<table border=\"1\" class=\"dataframe\">\n",
       "  <thead>\n",
       "    <tr style=\"text-align: right;\">\n",
       "      <th></th>\n",
       "      <th>docid</th>\n",
       "      <th>string</th>\n",
       "      <th>start</th>\n",
       "      <th>end</th>\n",
       "      <th>tokenloc</th>\n",
       "      <th>tokentext</th>\n",
       "      <th>entlabel</th>\n",
       "      <th>edit_short</th>\n",
       "    </tr>\n",
       "  </thead>\n",
       "  <tbody>\n",
       "    <tr>\n",
       "      <th>0</th>\n",
       "      <td>22</td>\n",
       "      <td>Miguel de Gainza</td>\n",
       "      <td>29</td>\n",
       "      <td>32</td>\n",
       "      <td>28</td>\n",
       "      <td>fueron</td>\n",
       "      <td>PER</td>\n",
       "      <td></td>\n",
       "    </tr>\n",
       "    <tr>\n",
       "      <th>1</th>\n",
       "      <td>49</td>\n",
       "      <td>Cristobal</td>\n",
       "      <td>2</td>\n",
       "      <td>3</td>\n",
       "      <td>1</td>\n",
       "      <td>maestre</td>\n",
       "      <td>PER</td>\n",
       "      <td></td>\n",
       "    </tr>\n",
       "    <tr>\n",
       "      <th>2</th>\n",
       "      <td>49</td>\n",
       "      <td>luis sanches</td>\n",
       "      <td>969</td>\n",
       "      <td>971</td>\n",
       "      <td>968</td>\n",
       "      <td>canteria</td>\n",
       "      <td>PER</td>\n",
       "      <td></td>\n",
       "    </tr>\n",
       "    <tr>\n",
       "      <th>3</th>\n",
       "      <td>49</td>\n",
       "      <td>juan fernandes</td>\n",
       "      <td>981</td>\n",
       "      <td>983</td>\n",
       "      <td>984</td>\n",
       "      <td>maestre</td>\n",
       "      <td>PER</td>\n",
       "      <td></td>\n",
       "    </tr>\n",
       "    <tr>\n",
       "      <th>4</th>\n",
       "      <td>49</td>\n",
       "      <td>Cristobal</td>\n",
       "      <td>985</td>\n",
       "      <td>986</td>\n",
       "      <td>984</td>\n",
       "      <td>maestre</td>\n",
       "      <td>PER</td>\n",
       "      <td></td>\n",
       "    </tr>\n",
       "  </tbody>\n",
       "</table>\n",
       "</div>"
      ],
      "text/plain": [
       "   docid            string  start  end  tokenloc tokentext entlabel edit_short\n",
       "0     22  Miguel de Gainza     29   32        28    fueron      PER           \n",
       "1     49         Cristobal      2    3         1   maestre      PER           \n",
       "2     49      luis sanches    969  971       968  canteria      PER           \n",
       "3     49    juan fernandes    981  983       984   maestre      PER           \n",
       "4     49         Cristobal    985  986       984   maestre      PER           "
      ]
     },
     "execution_count": 121,
     "metadata": {},
     "output_type": "execute_result"
    }
   ],
   "source": [
    "peopleshortfuzz.head()"
   ]
  },
  {
   "cell_type": "code",
   "execution_count": 122,
   "metadata": {},
   "outputs": [
    {
     "name": "stdout",
     "output_type": "stream",
     "text": [
      "583\n",
      "Pedro de Plata 369 372\n",
      "rosarios 367\n"
     ]
    },
    {
     "data": {
      "text/html": [
       "<span class=\"tex2jax_ignore\"><div class=\"entities\" style=\"line-height: 2.5; direction: ltr\">rosarios y \n",
       "<mark class=\"entity\" style=\"background: #ddd; padding: 0.45em 0.6em; margin: 0 0.25em; line-height: 1; border-radius: 0.35em;\">\n",
       "    Pedro de Plata\n",
       "    <span style=\"font-size: 0.8em; font-weight: bold; line-height: 1; border-radius: 0.35em; text-transform: uppercase; vertical-align: middle; margin-left: 0.5rem\">PER</span>\n",
       "</mark>\n",
       " y \n",
       "<mark class=\"entity\" style=\"background: #ddd; padding: 0.45em 0.6em; margin: 0 0.25em; line-height: 1; border-radius: 0.35em;\">\n",
       "    Francisco de Morales\n",
       "    <span style=\"font-size: 0.8em; font-weight: bold; line-height: 1; border-radius: 0.35em; text-transform: uppercase; vertical-align: middle; margin-left: 0.5rem\">PER</span>\n",
       "</mark>\n",
       " maestros del dicho oficio, \n",
       "<mark class=\"entity\" style=\"background: #ff9561; padding: 0.45em 0.6em; margin: 0 0.25em; line-height: 1; border-radius: 0.35em;\">\n",
       "    Santa\n",
       "    <span style=\"font-size: 0.8em; font-weight: bold; line-height: 1; border-radius: 0.35em; text-transform: uppercase; vertical-align: middle; margin-left: 0.5rem\">LOC</span>\n",
       "</mark>\n",
       " </div></span>"
      ],
      "text/plain": [
       "<IPython.core.display.HTML object>"
      ]
     },
     "metadata": {},
     "output_type": "display_data"
    },
    {
     "name": "stdin",
     "output_type": "stream",
     "text": [
      "Edit? 0\n"
     ]
    }
   ],
   "source": [
    "count = 0\n",
    "for (index, row) in peopleshortfuzz.iterrows():\n",
    "    if row['edit_short']=='':\n",
    "        count=count+1\n",
    "        print(count)\n",
    "        print(row['string'],row['start'],row['end'])\n",
    "        print(row['tokentext'], row['tokenloc'])\n",
    "        docid = row['docid']\n",
    "        strstart = min([int(row['start']), int(row['tokenloc'])])\n",
    "        strend = max([int(row['end']), int(row['tokenloc'])]) + 10\n",
    "        \n",
    "        for doc in docs:\n",
    "            if doc[1]['id'] == docid:      \n",
    "                displacy.render(doc[0][strstart:strend],style='ent',jupyter=True)\n",
    "                peopleshortfuzz.loc[index, 'edit_short']=input('Edit?')\n",
    "                \n",
    "                if peopleshortfuzz.loc[index, 'edit_short']=='X':\n",
    "                        for doc in docs:\n",
    "                            if doc[1]['id'] == docid:\n",
    "                                displacy.render(doc[0],style='ent',jupyter=True)\n",
    "                                peopleshortfuzz.loc[index,'edit_short']=input('Edit?')\n",
    "                clear_output(wait=True)"
   ]
  },
  {
   "cell_type": "code",
   "execution_count": 362,
   "metadata": {},
   "outputs": [
    {
     "data": {
      "text/html": [
       "<div>\n",
       "<style scoped>\n",
       "    .dataframe tbody tr th:only-of-type {\n",
       "        vertical-align: middle;\n",
       "    }\n",
       "\n",
       "    .dataframe tbody tr th {\n",
       "        vertical-align: top;\n",
       "    }\n",
       "\n",
       "    .dataframe thead th {\n",
       "        text-align: right;\n",
       "    }\n",
       "</style>\n",
       "<table border=\"1\" class=\"dataframe\">\n",
       "  <thead>\n",
       "    <tr style=\"text-align: right;\">\n",
       "      <th></th>\n",
       "      <th>Unnamed: 0</th>\n",
       "      <th>docid</th>\n",
       "      <th>string</th>\n",
       "      <th>start</th>\n",
       "      <th>end</th>\n",
       "      <th>tokenloc</th>\n",
       "      <th>tokentext</th>\n",
       "      <th>entlabel</th>\n",
       "    </tr>\n",
       "    <tr>\n",
       "      <th>edit_short</th>\n",
       "      <th></th>\n",
       "      <th></th>\n",
       "      <th></th>\n",
       "      <th></th>\n",
       "      <th></th>\n",
       "      <th></th>\n",
       "      <th></th>\n",
       "      <th></th>\n",
       "    </tr>\n",
       "  </thead>\n",
       "  <tbody>\n",
       "    <tr>\n",
       "      <th>0</th>\n",
       "      <td>519</td>\n",
       "      <td>519</td>\n",
       "      <td>519</td>\n",
       "      <td>519</td>\n",
       "      <td>519</td>\n",
       "      <td>519</td>\n",
       "      <td>519</td>\n",
       "      <td>519</td>\n",
       "    </tr>\n",
       "    <tr>\n",
       "      <th>1</th>\n",
       "      <td>59</td>\n",
       "      <td>59</td>\n",
       "      <td>59</td>\n",
       "      <td>59</td>\n",
       "      <td>59</td>\n",
       "      <td>59</td>\n",
       "      <td>59</td>\n",
       "      <td>59</td>\n",
       "    </tr>\n",
       "    <tr>\n",
       "      <th>R</th>\n",
       "      <td>3</td>\n",
       "      <td>3</td>\n",
       "      <td>3</td>\n",
       "      <td>3</td>\n",
       "      <td>3</td>\n",
       "      <td>3</td>\n",
       "      <td>3</td>\n",
       "      <td>3</td>\n",
       "    </tr>\n",
       "    <tr>\n",
       "      <th>o</th>\n",
       "      <td>2</td>\n",
       "      <td>2</td>\n",
       "      <td>2</td>\n",
       "      <td>2</td>\n",
       "      <td>2</td>\n",
       "      <td>2</td>\n",
       "      <td>2</td>\n",
       "      <td>2</td>\n",
       "    </tr>\n",
       "  </tbody>\n",
       "</table>\n",
       "</div>"
      ],
      "text/plain": [
       "            Unnamed: 0  docid  string  start  end  tokenloc  tokentext  \\\n",
       "edit_short                                                               \n",
       "0                  519    519     519    519  519       519        519   \n",
       "1                   59     59      59     59   59        59         59   \n",
       "R                    3      3       3      3    3         3          3   \n",
       "o                    2      2       2      2    2         2          2   \n",
       "\n",
       "            entlabel  \n",
       "edit_short            \n",
       "0                519  \n",
       "1                 59  \n",
       "R                  3  \n",
       "o                  2  "
      ]
     },
     "execution_count": 362,
     "metadata": {},
     "output_type": "execute_result"
    }
   ],
   "source": [
    "peopleshortfuzz.fillna('').groupby('edit_short').count()"
   ]
  },
  {
   "cell_type": "code",
   "execution_count": 125,
   "metadata": {},
   "outputs": [],
   "source": [
    "peopleshortfuzz.to_csv('Files_Cleaning3/PERS_tag_clean3_strat2.csv')"
   ]
  },
  {
   "cell_type": "markdown",
   "metadata": {},
   "source": [
    "# Editing the spans\n",
    "\n",
    "By finding exact and fuzzy matches near PER entities, we found spans that need to be edited in our NER tags. Let's combine the information from both searches and mark the new start/end of the span to edit."
   ]
  },
  {
   "cell_type": "code",
   "execution_count": 357,
   "metadata": {},
   "outputs": [],
   "source": [
    "peopleshort = pd.read_csv('Files_Cleaning3/PERS_tag_clean3_strat1.csv')\n",
    "peopleshortfuzz = pd.read_csv('Files_Cleaning3/PERS_tag_clean3_strat2.csv')"
   ]
  },
  {
   "cell_type": "code",
   "execution_count": 364,
   "metadata": {},
   "outputs": [],
   "source": [
    "peopleshort = peopleshort.append(peopleshortfuzz)"
   ]
  },
  {
   "cell_type": "code",
   "execution_count": 365,
   "metadata": {},
   "outputs": [],
   "source": [
    "peopleshort['newstart']=''\n",
    "peopleshort['newend']=''"
   ]
  },
  {
   "cell_type": "code",
   "execution_count": 366,
   "metadata": {},
   "outputs": [
    {
     "data": {
      "text/html": [
       "<div>\n",
       "<style scoped>\n",
       "    .dataframe tbody tr th:only-of-type {\n",
       "        vertical-align: middle;\n",
       "    }\n",
       "\n",
       "    .dataframe tbody tr th {\n",
       "        vertical-align: top;\n",
       "    }\n",
       "\n",
       "    .dataframe thead th {\n",
       "        text-align: right;\n",
       "    }\n",
       "</style>\n",
       "<table border=\"1\" class=\"dataframe\">\n",
       "  <thead>\n",
       "    <tr style=\"text-align: right;\">\n",
       "      <th></th>\n",
       "      <th>Unnamed: 0</th>\n",
       "      <th>docid</th>\n",
       "      <th>string</th>\n",
       "      <th>start</th>\n",
       "      <th>end</th>\n",
       "      <th>tokenloc</th>\n",
       "      <th>tokentext</th>\n",
       "      <th>entlabel</th>\n",
       "      <th>newstart</th>\n",
       "      <th>newend</th>\n",
       "    </tr>\n",
       "    <tr>\n",
       "      <th>edit_short</th>\n",
       "      <th></th>\n",
       "      <th></th>\n",
       "      <th></th>\n",
       "      <th></th>\n",
       "      <th></th>\n",
       "      <th></th>\n",
       "      <th></th>\n",
       "      <th></th>\n",
       "      <th></th>\n",
       "      <th></th>\n",
       "    </tr>\n",
       "  </thead>\n",
       "  <tbody>\n",
       "    <tr>\n",
       "      <th>0</th>\n",
       "      <td>1205</td>\n",
       "      <td>1205</td>\n",
       "      <td>1205</td>\n",
       "      <td>1205</td>\n",
       "      <td>1205</td>\n",
       "      <td>1205</td>\n",
       "      <td>1205</td>\n",
       "      <td>1205</td>\n",
       "      <td>1205</td>\n",
       "      <td>1205</td>\n",
       "    </tr>\n",
       "    <tr>\n",
       "      <th>1</th>\n",
       "      <td>321</td>\n",
       "      <td>321</td>\n",
       "      <td>321</td>\n",
       "      <td>321</td>\n",
       "      <td>321</td>\n",
       "      <td>321</td>\n",
       "      <td>321</td>\n",
       "      <td>321</td>\n",
       "      <td>321</td>\n",
       "      <td>321</td>\n",
       "    </tr>\n",
       "    <tr>\n",
       "      <th>L</th>\n",
       "      <td>1</td>\n",
       "      <td>1</td>\n",
       "      <td>1</td>\n",
       "      <td>1</td>\n",
       "      <td>1</td>\n",
       "      <td>1</td>\n",
       "      <td>1</td>\n",
       "      <td>1</td>\n",
       "      <td>1</td>\n",
       "      <td>1</td>\n",
       "    </tr>\n",
       "    <tr>\n",
       "      <th>R</th>\n",
       "      <td>10</td>\n",
       "      <td>10</td>\n",
       "      <td>10</td>\n",
       "      <td>10</td>\n",
       "      <td>10</td>\n",
       "      <td>10</td>\n",
       "      <td>10</td>\n",
       "      <td>10</td>\n",
       "      <td>10</td>\n",
       "      <td>10</td>\n",
       "    </tr>\n",
       "    <tr>\n",
       "      <th>o</th>\n",
       "      <td>17</td>\n",
       "      <td>17</td>\n",
       "      <td>17</td>\n",
       "      <td>17</td>\n",
       "      <td>17</td>\n",
       "      <td>17</td>\n",
       "      <td>17</td>\n",
       "      <td>17</td>\n",
       "      <td>17</td>\n",
       "      <td>17</td>\n",
       "    </tr>\n",
       "  </tbody>\n",
       "</table>\n",
       "</div>"
      ],
      "text/plain": [
       "            Unnamed: 0  docid  string  start   end  tokenloc  tokentext  \\\n",
       "edit_short                                                                \n",
       "0                 1205   1205    1205   1205  1205      1205       1205   \n",
       "1                  321    321     321    321   321       321        321   \n",
       "L                    1      1       1      1     1         1          1   \n",
       "R                   10     10      10     10    10        10         10   \n",
       "o                   17     17      17     17    17        17         17   \n",
       "\n",
       "            entlabel  newstart  newend  \n",
       "edit_short                              \n",
       "0               1205      1205    1205  \n",
       "1                321       321     321  \n",
       "L                  1         1       1  \n",
       "R                 10        10      10  \n",
       "o                 17        17      17  "
      ]
     },
     "execution_count": 366,
     "metadata": {},
     "output_type": "execute_result"
    }
   ],
   "source": [
    "peopleshort.groupby('edit_short').count()"
   ]
  },
  {
   "cell_type": "code",
   "execution_count": 367,
   "metadata": {},
   "outputs": [
    {
     "name": "stdout",
     "output_type": "stream",
     "text": [
      "59\n",
      "Bartolomé 9 10\n"
     ]
    },
    {
     "data": {
      "text/html": [
       "<span class=\"tex2jax_ignore\"><div class=\"entities\" style=\"line-height: 2.5; direction: ltr\">\n",
       "<mark class=\"entity\" style=\"background: #ddd; padding: 0.45em 0.6em; margin: 0 0.25em; line-height: 1; border-radius: 0.35em;\">\n",
       "    Bartolomé\n",
       "    <span style=\"font-size: 0.8em; font-weight: bold; line-height: 1; border-radius: 0.35em; text-transform: uppercase; vertical-align: middle; margin-left: 0.5rem\">PER</span>\n",
       "</mark>\n",
       " -faranco en \n",
       "<mark class=\"entity\" style=\"background: #bfe1d9; padding: 0.45em 0.6em; margin: 0 0.25em; line-height: 1; border-radius: 0.35em;\">\n",
       "    junio 1709\n",
       "    <span style=\"font-size: 0.8em; font-weight: bold; line-height: 1; border-radius: 0.35em; text-transform: uppercase; vertical-align: middle; margin-left: 0.5rem\">DATE</span>\n",
       "</mark>\n",
       ", albacea los padres fray \n",
       "<mark class=\"entity\" style=\"background: #ddd; padding: 0.45em 0.6em; margin: 0 0.25em; line-height: 1; border-radius: 0.35em;\">\n",
       "    Juan\n",
       "    <span style=\"font-size: 0.8em; font-weight: bold; line-height: 1; border-radius: 0.35em; text-transform: uppercase; vertical-align: middle; margin-left: 0.5rem\">PER</span>\n",
       "</mark>\n",
       " </div></span>"
      ],
      "text/plain": [
       "<IPython.core.display.HTML object>"
      ]
     },
     "metadata": {},
     "output_type": "display_data"
    },
    {
     "name": "stdin",
     "output_type": "stream",
     "text": [
      "New start? \n",
      "New end? 11\n",
      "Edit_short? e\n"
     ]
    }
   ],
   "source": [
    "count = 0\n",
    "for (index, row) in peopleshortfuzz.iterrows():\n",
    "\n",
    "    if row['edit_short']=='1':\n",
    "        count=count+1\n",
    "        print(count)\n",
    "        print(row['string'],row['start'],row['end'])\n",
    "        \n",
    "        docid = row['docid']\n",
    "        strstart = min([int(row['start']), int(row['tokenloc'])])\n",
    "        strend = max([int(row['end']), int(row['tokenloc'])]) + 10\n",
    "        \n",
    "        for doc in docs:\n",
    "            if doc[1]['id'] == docid:      \n",
    "                displacy.render(doc[0][strstart:strend],style='ent',jupyter=True)\n",
    "                \n",
    "                a=input('New start?')\n",
    "                b=input('New end?')\n",
    "                d= input('Edit_short?')           \n",
    "                if d =='e':\n",
    "                    peopleshortfuzz.loc[index,'edit_short']='e'\n",
    "                    if a !='':\n",
    "                        peopleshortfuzz.loc[index, 'newstart']=a\n",
    "                    if b !='':\n",
    "                        peopleshortfuzz.loc[index,'newend']=b\n",
    "                else:\n",
    "                    peopleshortfuzz.loc[index,'edit_short']=d\n",
    "                    \n",
    "                clear_output(wait=True)"
   ]
  },
  {
   "cell_type": "code",
   "execution_count": 154,
   "metadata": {},
   "outputs": [
    {
     "name": "stdout",
     "output_type": "stream",
     "text": [
      "en presencia de mi pedro de almonacid escriuano publico de seuilla parescio luisa ordoñez biuda muger que fue de geronimo hernandez escultor difunto que sea en gloria vezina de seuilla en la collacion de san juan y dijo porque del dho su marido quedaron ciertos bienes y porque sean sauidos e conoscidos a las personas que a ellos touieren derecho que hazia e hizo inventario de los tales bienes que son los siguientes deudas que se quedaron debiendo y se deuen primeramente 1 600 ducados que deve la fabrica de la villa de lucena de rresto de los marauedis en que fue tasada la hechura de un rretablo que geronimo hernandez hizo para la yglesia de la dicha villa 150 ducados que deue la fabrica de la yglesia de sant nicolas de seuilla de rresto de los maravedis en que fue tassado el rretablo que geronimo hernandez hizo para la dha yglesia 100 ducados que deve el monasterio de sant leandro de rresto de los marauedis en que fue concertado el rretablo que geronimo hernandez hizo para la yglesia del dicho monesterio yten setenta y dos ducados que yo zedi a un platero que los cobrase del monasterio de sant leandro que los devia de mas de los cient ducados de la partida antes desta los quales le cedi para pagar 150 que mi marido deuia a pablo pere 70 ducados que cobre de antonio gallardo de la hechura de una ymagen con los quales acabe de pagar al dicho pablo perez yten la fabrica de sant andres de esta ziudad deue 180 ducados de rresto de los marauedis porque se conzerto el rretablo que geronimo hernandez hizo para la dicha yglesia 466 ducados que deue el monasterio de nuestra señora santa maria de las dueñas desta zibdad de rresto de los marauedis porque se concerto el rretablo que mi marido estaba obligado a hazer para la yglesia del dicho monasterio y estos ducados son del postrero terzio y destos marauedis yo luisa ordopez tengo de costear e pagar la hechura de la ymagineria del rretablo que falta por hazer y lo que costare asentallo yten 60 ducados que deue el monasterio de sant francisco de el monte de rresto de los marauedis porque se taso el rretablo que mi marido hizo en la yglesia de el dicho monesterio de la villa de marchena 150 ducados que deue la fabrica de la yglesia de la zibdad de arcos en que se tasso la obra que dexo hecha mi marido del rretablo que se hace para la yglesia de la dicha villa yten las casas de nuestra morada que son en la collacion de sant juan en la calleja de los moros (hoy se llama de Jeronimo Hernandez) sobre las quales se pagan veinte ducados de tributo perpetuo cada un año Sigue el inventario de ropas y muebles; copiaremos algunas partidas: una esclaua negra nonbrada francisca y dos hijos de la susodha nonbrados francisco y pedro una cama de madera de talla una caja de cedro y un cofre de flandes y dos arcas pequeñas una copa y una caldera grande de cobre y un acetril y un almirez y quatro esteras de esparto yten sesenta libros grandes e pequeños de toscano y latin trescientos y cinquenta papeles de estanpas dos docenas de modelos de yesso y otras dos docenas de cera-quatro bancos en que trabajan los oficiales del arte de escultor tres sierras y quatro garlopas y una docena de cepillos y tres barletes dos docenas de hierros de talla y un herramental todo esto es herramienta del dicho arte de escultor quatro candiles dos asadores dos candeleros de azofar y una bela del patio de la cassa Deudas que quedo debiendo mi marido 150 ducados al dicho pablo perez los quales yo tengo pagados los marauedis que se deuen a quatro officiales que trabajaron con mi marido en el arte de escultor e por no estar pagados ni hecha la quenta no se saue lo que es- cien rreales que se deven al administrador de los niños de la doctrina desta ziudad que tiene una taza de plata en prendas dellos 26 rreales que se deben a un bordador 24 rreales a un pintor y 16 rreales a un clerigo y algunas de estas deudas estan declaradas en el testamento del dicho mi marido.\n"
     ]
    }
   ],
   "source": [
    "# To double check some items\n",
    "for doc,context in docs:\n",
    "    if \"pablo pere\" in doc.text:\n",
    "        print(doc.text)"
   ]
  },
  {
   "cell_type": "code",
   "execution_count": 374,
   "metadata": {},
   "outputs": [
    {
     "data": {
      "text/html": [
       "<div>\n",
       "<style scoped>\n",
       "    .dataframe tbody tr th:only-of-type {\n",
       "        vertical-align: middle;\n",
       "    }\n",
       "\n",
       "    .dataframe tbody tr th {\n",
       "        vertical-align: top;\n",
       "    }\n",
       "\n",
       "    .dataframe thead th {\n",
       "        text-align: right;\n",
       "    }\n",
       "</style>\n",
       "<table border=\"1\" class=\"dataframe\">\n",
       "  <thead>\n",
       "    <tr style=\"text-align: right;\">\n",
       "      <th></th>\n",
       "      <th>Unnamed: 0</th>\n",
       "      <th>Unnamed: 0.1</th>\n",
       "      <th>docid</th>\n",
       "      <th>string</th>\n",
       "      <th>start</th>\n",
       "      <th>end</th>\n",
       "      <th>tokenloc</th>\n",
       "      <th>tokentext</th>\n",
       "      <th>entlabel</th>\n",
       "      <th>newstart</th>\n",
       "      <th>newend</th>\n",
       "    </tr>\n",
       "    <tr>\n",
       "      <th>edit_short</th>\n",
       "      <th></th>\n",
       "      <th></th>\n",
       "      <th></th>\n",
       "      <th></th>\n",
       "      <th></th>\n",
       "      <th></th>\n",
       "      <th></th>\n",
       "      <th></th>\n",
       "      <th></th>\n",
       "      <th></th>\n",
       "      <th></th>\n",
       "    </tr>\n",
       "  </thead>\n",
       "  <tbody>\n",
       "    <tr>\n",
       "      <th>0</th>\n",
       "      <td>1208</td>\n",
       "      <td>686</td>\n",
       "      <td>1208</td>\n",
       "      <td>1208</td>\n",
       "      <td>1208</td>\n",
       "      <td>1208</td>\n",
       "      <td>1208</td>\n",
       "      <td>1208</td>\n",
       "      <td>1208</td>\n",
       "      <td>0</td>\n",
       "      <td>0</td>\n",
       "    </tr>\n",
       "    <tr>\n",
       "      <th>L</th>\n",
       "      <td>1</td>\n",
       "      <td>1</td>\n",
       "      <td>1</td>\n",
       "      <td>1</td>\n",
       "      <td>1</td>\n",
       "      <td>1</td>\n",
       "      <td>1</td>\n",
       "      <td>1</td>\n",
       "      <td>1</td>\n",
       "      <td>0</td>\n",
       "      <td>0</td>\n",
       "    </tr>\n",
       "    <tr>\n",
       "      <th>R</th>\n",
       "      <td>10</td>\n",
       "      <td>7</td>\n",
       "      <td>10</td>\n",
       "      <td>10</td>\n",
       "      <td>10</td>\n",
       "      <td>10</td>\n",
       "      <td>10</td>\n",
       "      <td>10</td>\n",
       "      <td>10</td>\n",
       "      <td>0</td>\n",
       "      <td>0</td>\n",
       "    </tr>\n",
       "    <tr>\n",
       "      <th>e</th>\n",
       "      <td>317</td>\n",
       "      <td>261</td>\n",
       "      <td>317</td>\n",
       "      <td>317</td>\n",
       "      <td>317</td>\n",
       "      <td>317</td>\n",
       "      <td>317</td>\n",
       "      <td>317</td>\n",
       "      <td>317</td>\n",
       "      <td>29</td>\n",
       "      <td>288</td>\n",
       "    </tr>\n",
       "    <tr>\n",
       "      <th>o</th>\n",
       "      <td>16</td>\n",
       "      <td>14</td>\n",
       "      <td>16</td>\n",
       "      <td>16</td>\n",
       "      <td>16</td>\n",
       "      <td>16</td>\n",
       "      <td>16</td>\n",
       "      <td>16</td>\n",
       "      <td>16</td>\n",
       "      <td>0</td>\n",
       "      <td>0</td>\n",
       "    </tr>\n",
       "  </tbody>\n",
       "</table>\n",
       "</div>"
      ],
      "text/plain": [
       "            Unnamed: 0  Unnamed: 0.1  docid  string  start   end  tokenloc  \\\n",
       "edit_short                                                                   \n",
       "0                 1208           686   1208    1208   1208  1208      1208   \n",
       "L                    1             1      1       1      1     1         1   \n",
       "R                   10             7     10      10     10    10        10   \n",
       "e                  317           261    317     317    317   317       317   \n",
       "o                   16            14     16      16     16    16        16   \n",
       "\n",
       "            tokentext  entlabel  newstart  newend  \n",
       "edit_short                                         \n",
       "0                1208      1208         0       0  \n",
       "L                   1         1         0       0  \n",
       "R                  10        10         0       0  \n",
       "e                 317       317        29     288  \n",
       "o                  16        16         0       0  "
      ]
     },
     "execution_count": 374,
     "metadata": {},
     "output_type": "execute_result"
    }
   ],
   "source": [
    "peopleshort.groupby('edit_short').count()"
   ]
  },
  {
   "cell_type": "code",
   "execution_count": 195,
   "metadata": {},
   "outputs": [],
   "source": [
    "peopleshort.loc[1,'newstart']='22'"
   ]
  },
  {
   "cell_type": "code",
   "execution_count": 373,
   "metadata": {},
   "outputs": [],
   "source": [
    "peopleshort.to_csv('Files_Cleaning3/PERS_tag_clean3_manual')"
   ]
  },
  {
   "cell_type": "markdown",
   "metadata": {},
   "source": [
    "# Applying the changes to Spacy Docs"
   ]
  },
  {
   "cell_type": "markdown",
   "metadata": {},
   "source": [
    "The first thing to do is  those marked as 0, as we do not need to change them."
   ]
  },
  {
   "cell_type": "code",
   "execution_count": 5,
   "metadata": {},
   "outputs": [],
   "source": [
    "peopleshort = pd.read_csv('Files_Cleaning3/PERS_tag_clean3_manual')"
   ]
  },
  {
   "cell_type": "code",
   "execution_count": 6,
   "metadata": {},
   "outputs": [],
   "source": [
    "edits = peopleshort[peopleshort['edit_short']!='0']"
   ]
  },
  {
   "cell_type": "code",
   "execution_count": 7,
   "metadata": {},
   "outputs": [
    {
     "name": "stderr",
     "output_type": "stream",
     "text": [
      "/Users/Felipe/opt/anaconda3/lib/python3.7/site-packages/pandas/core/indexing.py:965: SettingWithCopyWarning: \n",
      "A value is trying to be set on a copy of a slice from a DataFrame.\n",
      "Try using .loc[row_indexer,col_indexer] = value instead\n",
      "\n",
      "See the caveats in the documentation: https://pandas.pydata.org/pandas-docs/stable/user_guide/indexing.html#returning-a-view-versus-a-copy\n",
      "  self.obj[item] = s\n"
     ]
    }
   ],
   "source": [
    "edits.loc[(edits['edit_short']=='L'),'entlabel']='LOC'"
   ]
  },
  {
   "cell_type": "code",
   "execution_count": 8,
   "metadata": {},
   "outputs": [
    {
     "data": {
      "text/html": [
       "<div>\n",
       "<style scoped>\n",
       "    .dataframe tbody tr th:only-of-type {\n",
       "        vertical-align: middle;\n",
       "    }\n",
       "\n",
       "    .dataframe tbody tr th {\n",
       "        vertical-align: top;\n",
       "    }\n",
       "\n",
       "    .dataframe thead th {\n",
       "        text-align: right;\n",
       "    }\n",
       "</style>\n",
       "<table border=\"1\" class=\"dataframe\">\n",
       "  <thead>\n",
       "    <tr style=\"text-align: right;\">\n",
       "      <th></th>\n",
       "      <th>Unnamed: 0</th>\n",
       "      <th>Unnamed: 0.1</th>\n",
       "      <th>Unnamed: 0.1.1</th>\n",
       "      <th>docid</th>\n",
       "      <th>string</th>\n",
       "      <th>start</th>\n",
       "      <th>end</th>\n",
       "      <th>tokenloc</th>\n",
       "      <th>tokentext</th>\n",
       "      <th>edit_short</th>\n",
       "      <th>newstart</th>\n",
       "      <th>newend</th>\n",
       "    </tr>\n",
       "    <tr>\n",
       "      <th>entlabel</th>\n",
       "      <th></th>\n",
       "      <th></th>\n",
       "      <th></th>\n",
       "      <th></th>\n",
       "      <th></th>\n",
       "      <th></th>\n",
       "      <th></th>\n",
       "      <th></th>\n",
       "      <th></th>\n",
       "      <th></th>\n",
       "      <th></th>\n",
       "      <th></th>\n",
       "    </tr>\n",
       "  </thead>\n",
       "  <tbody>\n",
       "    <tr>\n",
       "      <th>LOC</th>\n",
       "      <td>1</td>\n",
       "      <td>1</td>\n",
       "      <td>1</td>\n",
       "      <td>1</td>\n",
       "      <td>1</td>\n",
       "      <td>1</td>\n",
       "      <td>1</td>\n",
       "      <td>1</td>\n",
       "      <td>1</td>\n",
       "      <td>1</td>\n",
       "      <td>0</td>\n",
       "      <td>0</td>\n",
       "    </tr>\n",
       "    <tr>\n",
       "      <th>PER</th>\n",
       "      <td>343</td>\n",
       "      <td>343</td>\n",
       "      <td>282</td>\n",
       "      <td>343</td>\n",
       "      <td>343</td>\n",
       "      <td>343</td>\n",
       "      <td>343</td>\n",
       "      <td>343</td>\n",
       "      <td>343</td>\n",
       "      <td>343</td>\n",
       "      <td>29</td>\n",
       "      <td>288</td>\n",
       "    </tr>\n",
       "  </tbody>\n",
       "</table>\n",
       "</div>"
      ],
      "text/plain": [
       "          Unnamed: 0  Unnamed: 0.1  Unnamed: 0.1.1  docid  string  start  end  \\\n",
       "entlabel                                                                        \n",
       "LOC                1             1               1      1       1      1    1   \n",
       "PER              343           343             282    343     343    343  343   \n",
       "\n",
       "          tokenloc  tokentext  edit_short  newstart  newend  \n",
       "entlabel                                                     \n",
       "LOC              1          1           1         0       0  \n",
       "PER            343        343         343        29     288  "
      ]
     },
     "execution_count": 8,
     "metadata": {},
     "output_type": "execute_result"
    }
   ],
   "source": [
    "edits.groupby('entlabel').count()"
   ]
  },
  {
   "cell_type": "code",
   "execution_count": 9,
   "metadata": {},
   "outputs": [],
   "source": [
    "edits = edits.fillna('')"
   ]
  },
  {
   "cell_type": "markdown",
   "metadata": {},
   "source": [
    "In the work below, we noticed that there were two duplicates. Let's edit this before it becomes a problem in subsequent work:"
   ]
  },
  {
   "cell_type": "code",
   "execution_count": 10,
   "metadata": {},
   "outputs": [
    {
     "data": {
      "text/html": [
       "<div>\n",
       "<style scoped>\n",
       "    .dataframe tbody tr th:only-of-type {\n",
       "        vertical-align: middle;\n",
       "    }\n",
       "\n",
       "    .dataframe tbody tr th {\n",
       "        vertical-align: top;\n",
       "    }\n",
       "\n",
       "    .dataframe thead th {\n",
       "        text-align: right;\n",
       "    }\n",
       "</style>\n",
       "<table border=\"1\" class=\"dataframe\">\n",
       "  <thead>\n",
       "    <tr style=\"text-align: right;\">\n",
       "      <th></th>\n",
       "      <th>Unnamed: 0</th>\n",
       "      <th>Unnamed: 0.1</th>\n",
       "      <th>Unnamed: 0.1.1</th>\n",
       "      <th>docid</th>\n",
       "      <th>string</th>\n",
       "      <th>start</th>\n",
       "      <th>end</th>\n",
       "      <th>tokenloc</th>\n",
       "      <th>tokentext</th>\n",
       "      <th>entlabel</th>\n",
       "      <th>edit_short</th>\n",
       "      <th>newstart</th>\n",
       "      <th>newend</th>\n",
       "    </tr>\n",
       "  </thead>\n",
       "  <tbody>\n",
       "  </tbody>\n",
       "</table>\n",
       "</div>"
      ],
      "text/plain": [
       "Empty DataFrame\n",
       "Columns: [Unnamed: 0, Unnamed: 0.1, Unnamed: 0.1.1, docid, string, start, end, tokenloc, tokentext, entlabel, edit_short, newstart, newend]\n",
       "Index: []"
      ]
     },
     "execution_count": 10,
     "metadata": {},
     "output_type": "execute_result"
    }
   ],
   "source": [
    "edits[edits.duplicated(subset=['docid','start','end'], keep = False)]"
   ]
  },
  {
   "cell_type": "markdown",
   "metadata": {},
   "source": [
    "We can drop the duplicates because the edits are the same."
   ]
  },
  {
   "cell_type": "code",
   "execution_count": 243,
   "metadata": {},
   "outputs": [],
   "source": [
    "peopleshort = peopleshort.drop(index=[283,389])"
   ]
  },
  {
   "cell_type": "code",
   "execution_count": 16,
   "metadata": {},
   "outputs": [
    {
     "data": {
      "text/html": [
       "<div>\n",
       "<style scoped>\n",
       "    .dataframe tbody tr th:only-of-type {\n",
       "        vertical-align: middle;\n",
       "    }\n",
       "\n",
       "    .dataframe tbody tr th {\n",
       "        vertical-align: top;\n",
       "    }\n",
       "\n",
       "    .dataframe thead th {\n",
       "        text-align: right;\n",
       "    }\n",
       "</style>\n",
       "<table border=\"1\" class=\"dataframe\">\n",
       "  <thead>\n",
       "    <tr style=\"text-align: right;\">\n",
       "      <th></th>\n",
       "      <th>Unnamed: 0</th>\n",
       "      <th>Unnamed: 0.1</th>\n",
       "      <th>Unnamed: 0.1.1</th>\n",
       "      <th>docid</th>\n",
       "      <th>string</th>\n",
       "      <th>start</th>\n",
       "      <th>end</th>\n",
       "      <th>tokenloc</th>\n",
       "      <th>tokentext</th>\n",
       "      <th>entlabel</th>\n",
       "      <th>edit_short</th>\n",
       "      <th>newstart</th>\n",
       "      <th>newend</th>\n",
       "    </tr>\n",
       "  </thead>\n",
       "  <tbody>\n",
       "    <tr>\n",
       "      <th>389</th>\n",
       "      <td>389</td>\n",
       "      <td>391</td>\n",
       "      <td>391.0</td>\n",
       "      <td>2617</td>\n",
       "      <td>bartolome muñoz</td>\n",
       "      <td>0</td>\n",
       "      <td>2</td>\n",
       "      <td>568</td>\n",
       "      <td>capilla</td>\n",
       "      <td>PER</td>\n",
       "      <td>0</td>\n",
       "      <td>NaN</td>\n",
       "      <td>NaN</td>\n",
       "    </tr>\n",
       "  </tbody>\n",
       "</table>\n",
       "</div>"
      ],
      "text/plain": [
       "     Unnamed: 0  Unnamed: 0.1  Unnamed: 0.1.1  docid           string  start  \\\n",
       "389         389           391           391.0   2617  bartolome muñoz      0   \n",
       "\n",
       "     end  tokenloc tokentext entlabel edit_short  newstart  newend  \n",
       "389    2       568   capilla      PER          0       NaN     NaN  "
      ]
     },
     "execution_count": 16,
     "metadata": {},
     "output_type": "execute_result"
    }
   ],
   "source": [
    "peopleshort[peopleshort.index == 389]"
   ]
  },
  {
   "cell_type": "code",
   "execution_count": 12,
   "metadata": {},
   "outputs": [],
   "source": [
    "edits.loc[edits['newstart']=='','newstart'] = edits['start']"
   ]
  },
  {
   "cell_type": "code",
   "execution_count": 13,
   "metadata": {},
   "outputs": [],
   "source": [
    "edits.loc[edits['newend']=='','newend'] = edits['end']"
   ]
  },
  {
   "cell_type": "code",
   "execution_count": 17,
   "metadata": {},
   "outputs": [
    {
     "data": {
      "text/html": [
       "<div>\n",
       "<style scoped>\n",
       "    .dataframe tbody tr th:only-of-type {\n",
       "        vertical-align: middle;\n",
       "    }\n",
       "\n",
       "    .dataframe tbody tr th {\n",
       "        vertical-align: top;\n",
       "    }\n",
       "\n",
       "    .dataframe thead th {\n",
       "        text-align: right;\n",
       "    }\n",
       "</style>\n",
       "<table border=\"1\" class=\"dataframe\">\n",
       "  <thead>\n",
       "    <tr style=\"text-align: right;\">\n",
       "      <th></th>\n",
       "      <th>Unnamed: 0</th>\n",
       "      <th>Unnamed: 0.1</th>\n",
       "      <th>Unnamed: 0.1.1</th>\n",
       "      <th>docid</th>\n",
       "      <th>string</th>\n",
       "      <th>start</th>\n",
       "      <th>end</th>\n",
       "      <th>tokenloc</th>\n",
       "      <th>tokentext</th>\n",
       "      <th>entlabel</th>\n",
       "      <th>edit_short</th>\n",
       "      <th>newstart</th>\n",
       "      <th>newend</th>\n",
       "    </tr>\n",
       "  </thead>\n",
       "  <tbody>\n",
       "    <tr>\n",
       "      <th>1</th>\n",
       "      <td>1</td>\n",
       "      <td>1</td>\n",
       "      <td>1</td>\n",
       "      <td>56</td>\n",
       "      <td>garcia fustanero</td>\n",
       "      <td>23</td>\n",
       "      <td>25</td>\n",
       "      <td>22</td>\n",
       "      <td>pero</td>\n",
       "      <td>PER</td>\n",
       "      <td>e</td>\n",
       "      <td>22</td>\n",
       "      <td>25</td>\n",
       "    </tr>\n",
       "    <tr>\n",
       "      <th>2</th>\n",
       "      <td>2</td>\n",
       "      <td>2</td>\n",
       "      <td>2</td>\n",
       "      <td>59</td>\n",
       "      <td>Pedro Blascoen</td>\n",
       "      <td>2476</td>\n",
       "      <td>2478</td>\n",
       "      <td>2478</td>\n",
       "      <td>Sevilla</td>\n",
       "      <td>PER</td>\n",
       "      <td>o</td>\n",
       "      <td>2476</td>\n",
       "      <td>2478</td>\n",
       "    </tr>\n",
       "    <tr>\n",
       "      <th>6</th>\n",
       "      <td>6</td>\n",
       "      <td>6</td>\n",
       "      <td>6</td>\n",
       "      <td>195</td>\n",
       "      <td>Fernandez de Guadalupe</td>\n",
       "      <td>1</td>\n",
       "      <td>4</td>\n",
       "      <td>0</td>\n",
       "      <td>Pero</td>\n",
       "      <td>PER</td>\n",
       "      <td>e</td>\n",
       "      <td>0</td>\n",
       "      <td>4</td>\n",
       "    </tr>\n",
       "    <tr>\n",
       "      <th>7</th>\n",
       "      <td>7</td>\n",
       "      <td>7</td>\n",
       "      <td>7</td>\n",
       "      <td>197</td>\n",
       "      <td>Fernandez de Guadalupe</td>\n",
       "      <td>1</td>\n",
       "      <td>4</td>\n",
       "      <td>0</td>\n",
       "      <td>Pero</td>\n",
       "      <td>PER</td>\n",
       "      <td>e</td>\n",
       "      <td>0</td>\n",
       "      <td>4</td>\n",
       "    </tr>\n",
       "    <tr>\n",
       "      <th>9</th>\n",
       "      <td>9</td>\n",
       "      <td>9</td>\n",
       "      <td>9</td>\n",
       "      <td>227</td>\n",
       "      <td>firmefecho ut supraxpobal</td>\n",
       "      <td>70</td>\n",
       "      <td>73</td>\n",
       "      <td>73</td>\n",
       "      <td>alcantara</td>\n",
       "      <td>PER</td>\n",
       "      <td>o</td>\n",
       "      <td>70</td>\n",
       "      <td>73</td>\n",
       "    </tr>\n",
       "    <tr>\n",
       "      <th>...</th>\n",
       "      <td>...</td>\n",
       "      <td>...</td>\n",
       "      <td>...</td>\n",
       "      <td>...</td>\n",
       "      <td>...</td>\n",
       "      <td>...</td>\n",
       "      <td>...</td>\n",
       "      <td>...</td>\n",
       "      <td>...</td>\n",
       "      <td>...</td>\n",
       "      <td>...</td>\n",
       "      <td>...</td>\n",
       "      <td>...</td>\n",
       "    </tr>\n",
       "    <tr>\n",
       "      <th>1346</th>\n",
       "      <td>377</td>\n",
       "      <td>377</td>\n",
       "      <td></td>\n",
       "      <td>4319</td>\n",
       "      <td>juan bautista</td>\n",
       "      <td>73</td>\n",
       "      <td>75</td>\n",
       "      <td>75</td>\n",
       "      <td>billalpando</td>\n",
       "      <td>PER</td>\n",
       "      <td>e</td>\n",
       "      <td>73</td>\n",
       "      <td>76</td>\n",
       "    </tr>\n",
       "    <tr>\n",
       "      <th>1354</th>\n",
       "      <td>385</td>\n",
       "      <td>385</td>\n",
       "      <td></td>\n",
       "      <td>4393</td>\n",
       "      <td>juan de uzeda</td>\n",
       "      <td>3</td>\n",
       "      <td>6</td>\n",
       "      <td>6</td>\n",
       "      <td>castroberde</td>\n",
       "      <td>PER</td>\n",
       "      <td>e</td>\n",
       "      <td>3</td>\n",
       "      <td>7</td>\n",
       "    </tr>\n",
       "    <tr>\n",
       "      <th>1375</th>\n",
       "      <td>406</td>\n",
       "      <td>406</td>\n",
       "      <td></td>\n",
       "      <td>4625</td>\n",
       "      <td>Lusia</td>\n",
       "      <td>81</td>\n",
       "      <td>82</td>\n",
       "      <td>82</td>\n",
       "      <td>damiano</td>\n",
       "      <td>PER</td>\n",
       "      <td>e</td>\n",
       "      <td>81</td>\n",
       "      <td>85</td>\n",
       "    </tr>\n",
       "    <tr>\n",
       "      <th>1376</th>\n",
       "      <td>407</td>\n",
       "      <td>407</td>\n",
       "      <td></td>\n",
       "      <td>4673</td>\n",
       "      <td>Andrés de Lazo</td>\n",
       "      <td>31</td>\n",
       "      <td>34</td>\n",
       "      <td>34</td>\n",
       "      <td>Destrada</td>\n",
       "      <td>PER</td>\n",
       "      <td>e</td>\n",
       "      <td>31</td>\n",
       "      <td>35</td>\n",
       "    </tr>\n",
       "    <tr>\n",
       "      <th>1436</th>\n",
       "      <td>467</td>\n",
       "      <td>467</td>\n",
       "      <td></td>\n",
       "      <td>5989</td>\n",
       "      <td>Bartolomé</td>\n",
       "      <td>9</td>\n",
       "      <td>10</td>\n",
       "      <td>10</td>\n",
       "      <td>-faranco</td>\n",
       "      <td>PER</td>\n",
       "      <td>e</td>\n",
       "      <td>9</td>\n",
       "      <td>11</td>\n",
       "    </tr>\n",
       "  </tbody>\n",
       "</table>\n",
       "<p>344 rows × 13 columns</p>\n",
       "</div>"
      ],
      "text/plain": [
       "      Unnamed: 0  Unnamed: 0.1 Unnamed: 0.1.1  docid  \\\n",
       "1              1             1              1     56   \n",
       "2              2             2              2     59   \n",
       "6              6             6              6    195   \n",
       "7              7             7              7    197   \n",
       "9              9             9              9    227   \n",
       "...          ...           ...            ...    ...   \n",
       "1346         377           377                  4319   \n",
       "1354         385           385                  4393   \n",
       "1375         406           406                  4625   \n",
       "1376         407           407                  4673   \n",
       "1436         467           467                  5989   \n",
       "\n",
       "                           string  start   end  tokenloc    tokentext  \\\n",
       "1                garcia fustanero     23    25        22         pero   \n",
       "2                  Pedro Blascoen   2476  2478      2478      Sevilla   \n",
       "6          Fernandez de Guadalupe      1     4         0         Pero   \n",
       "7          Fernandez de Guadalupe      1     4         0         Pero   \n",
       "9     firmefecho ut supraxpobal     70    73        73    alcantara   \n",
       "...                           ...    ...   ...       ...          ...   \n",
       "1346                juan bautista     73    75        75  billalpando   \n",
       "1354                juan de uzeda      3     6         6  castroberde   \n",
       "1375                        Lusia     81    82        82      damiano   \n",
       "1376               Andrés de Lazo     31    34        34     Destrada   \n",
       "1436                    Bartolomé      9    10        10     -faranco   \n",
       "\n",
       "     entlabel edit_short newstart newend  \n",
       "1         PER          e       22     25  \n",
       "2         PER          o     2476   2478  \n",
       "6         PER          e        0      4  \n",
       "7         PER          e        0      4  \n",
       "9         PER          o       70     73  \n",
       "...       ...        ...      ...    ...  \n",
       "1346      PER          e       73     76  \n",
       "1354      PER          e        3      7  \n",
       "1375      PER          e       81     85  \n",
       "1376      PER          e       31     35  \n",
       "1436      PER          e        9     11  \n",
       "\n",
       "[344 rows x 13 columns]"
      ]
     },
     "execution_count": 17,
     "metadata": {},
     "output_type": "execute_result"
    }
   ],
   "source": [
    "edits"
   ]
  },
  {
   "cell_type": "code",
   "execution_count": 18,
   "metadata": {},
   "outputs": [
    {
     "data": {
      "text/plain": [
       "Unnamed: 0         int64\n",
       "Unnamed: 0.1       int64\n",
       "Unnamed: 0.1.1    object\n",
       "docid              int64\n",
       "string            object\n",
       "start              int64\n",
       "end                int64\n",
       "tokenloc           int64\n",
       "tokentext         object\n",
       "entlabel          object\n",
       "edit_short        object\n",
       "newstart          object\n",
       "newend            object\n",
       "dtype: object"
      ]
     },
     "execution_count": 18,
     "metadata": {},
     "output_type": "execute_result"
    }
   ],
   "source": [
    "edits.dtypes"
   ]
  },
  {
   "cell_type": "code",
   "execution_count": 19,
   "metadata": {},
   "outputs": [
    {
     "data": {
      "text/html": [
       "<div>\n",
       "<style scoped>\n",
       "    .dataframe tbody tr th:only-of-type {\n",
       "        vertical-align: middle;\n",
       "    }\n",
       "\n",
       "    .dataframe tbody tr th {\n",
       "        vertical-align: top;\n",
       "    }\n",
       "\n",
       "    .dataframe thead th {\n",
       "        text-align: right;\n",
       "    }\n",
       "</style>\n",
       "<table border=\"1\" class=\"dataframe\">\n",
       "  <thead>\n",
       "    <tr style=\"text-align: right;\">\n",
       "      <th></th>\n",
       "      <th>Unnamed: 0</th>\n",
       "      <th>Unnamed: 0.1</th>\n",
       "      <th>Unnamed: 0.1.1</th>\n",
       "      <th>docid</th>\n",
       "      <th>string</th>\n",
       "      <th>start</th>\n",
       "      <th>end</th>\n",
       "      <th>tokenloc</th>\n",
       "      <th>tokentext</th>\n",
       "      <th>entlabel</th>\n",
       "      <th>newstart</th>\n",
       "      <th>newend</th>\n",
       "    </tr>\n",
       "    <tr>\n",
       "      <th>edit_short</th>\n",
       "      <th></th>\n",
       "      <th></th>\n",
       "      <th></th>\n",
       "      <th></th>\n",
       "      <th></th>\n",
       "      <th></th>\n",
       "      <th></th>\n",
       "      <th></th>\n",
       "      <th></th>\n",
       "      <th></th>\n",
       "      <th></th>\n",
       "      <th></th>\n",
       "    </tr>\n",
       "  </thead>\n",
       "  <tbody>\n",
       "    <tr>\n",
       "      <th>L</th>\n",
       "      <td>1</td>\n",
       "      <td>1</td>\n",
       "      <td>1</td>\n",
       "      <td>1</td>\n",
       "      <td>1</td>\n",
       "      <td>1</td>\n",
       "      <td>1</td>\n",
       "      <td>1</td>\n",
       "      <td>1</td>\n",
       "      <td>1</td>\n",
       "      <td>1</td>\n",
       "      <td>1</td>\n",
       "    </tr>\n",
       "    <tr>\n",
       "      <th>R</th>\n",
       "      <td>10</td>\n",
       "      <td>10</td>\n",
       "      <td>10</td>\n",
       "      <td>10</td>\n",
       "      <td>10</td>\n",
       "      <td>10</td>\n",
       "      <td>10</td>\n",
       "      <td>10</td>\n",
       "      <td>10</td>\n",
       "      <td>10</td>\n",
       "      <td>10</td>\n",
       "      <td>10</td>\n",
       "    </tr>\n",
       "    <tr>\n",
       "      <th>e</th>\n",
       "      <td>317</td>\n",
       "      <td>317</td>\n",
       "      <td>317</td>\n",
       "      <td>317</td>\n",
       "      <td>317</td>\n",
       "      <td>317</td>\n",
       "      <td>317</td>\n",
       "      <td>317</td>\n",
       "      <td>317</td>\n",
       "      <td>317</td>\n",
       "      <td>317</td>\n",
       "      <td>317</td>\n",
       "    </tr>\n",
       "    <tr>\n",
       "      <th>o</th>\n",
       "      <td>16</td>\n",
       "      <td>16</td>\n",
       "      <td>16</td>\n",
       "      <td>16</td>\n",
       "      <td>16</td>\n",
       "      <td>16</td>\n",
       "      <td>16</td>\n",
       "      <td>16</td>\n",
       "      <td>16</td>\n",
       "      <td>16</td>\n",
       "      <td>16</td>\n",
       "      <td>16</td>\n",
       "    </tr>\n",
       "  </tbody>\n",
       "</table>\n",
       "</div>"
      ],
      "text/plain": [
       "            Unnamed: 0  Unnamed: 0.1  Unnamed: 0.1.1  docid  string  start  \\\n",
       "edit_short                                                                   \n",
       "L                    1             1               1      1       1      1   \n",
       "R                   10            10              10     10      10     10   \n",
       "e                  317           317             317    317     317    317   \n",
       "o                   16            16              16     16      16     16   \n",
       "\n",
       "            end  tokenloc  tokentext  entlabel  newstart  newend  \n",
       "edit_short                                                        \n",
       "L             1         1          1         1         1       1  \n",
       "R            10        10         10        10        10      10  \n",
       "e           317       317        317       317       317     317  \n",
       "o            16        16         16        16        16      16  "
      ]
     },
     "execution_count": 19,
     "metadata": {},
     "output_type": "execute_result"
    }
   ],
   "source": [
    "edits.groupby('edit_short').count()"
   ]
  },
  {
   "cell_type": "code",
   "execution_count": 20,
   "metadata": {},
   "outputs": [],
   "source": [
    "remove = edits[['docid','start','end']].values.tolist()"
   ]
  },
  {
   "cell_type": "code",
   "execution_count": 21,
   "metadata": {},
   "outputs": [
    {
     "data": {
      "text/plain": [
       "344"
      ]
     },
     "execution_count": 21,
     "metadata": {},
     "output_type": "execute_result"
    }
   ],
   "source": [
    "len(remove)"
   ]
  },
  {
   "cell_type": "code",
   "execution_count": 398,
   "metadata": {
    "collapsed": true,
    "jupyter": {
     "outputs_hidden": true
    }
   },
   "outputs": [
    {
     "data": {
      "text/plain": [
       "[[56, 23, 25],\n",
       " [59, 2476, 2478],\n",
       " [195, 1, 4],\n",
       " [197, 1, 4],\n",
       " [227, 70, 73],\n",
       " [229, 6, 8],\n",
       " [238, 34, 38],\n",
       " [267, 154, 157],\n",
       " [275, 170, 173],\n",
       " [276, 55, 59],\n",
       " [320, 7, 10],\n",
       " [329, 48, 51],\n",
       " [333, 52, 54],\n",
       " [337, 68, 71],\n",
       " [338, 45, 48],\n",
       " [339, 34, 37],\n",
       " [362, 7, 9],\n",
       " [602, 225, 228],\n",
       " [754, 189, 190],\n",
       " [772, 1840, 1843],\n",
       " [772, 2479, 2482],\n",
       " [772, 2753, 2756],\n",
       " [787, 169, 171],\n",
       " [1007, 337, 340],\n",
       " [1009, 21, 24],\n",
       " [1017, 72, 76],\n",
       " [1017, 100, 102],\n",
       " [1022, 30, 34],\n",
       " [1022, 146, 150],\n",
       " [1022, 179, 182],\n",
       " [1022, 418, 421],\n",
       " [1023, 173, 176],\n",
       " [1023, 383, 387],\n",
       " [1023, 403, 406],\n",
       " [1023, 452, 456],\n",
       " [1027, 110, 113],\n",
       " [1028, 3, 5],\n",
       " [1028, 193, 196],\n",
       " [1029, 83, 86],\n",
       " [1044, 1340, 1342],\n",
       " [1049, 167, 170],\n",
       " [1049, 349, 352],\n",
       " [1059, 32, 34],\n",
       " [1066, 131, 133],\n",
       " [1066, 1142, 1144],\n",
       " [1086, 90, 92],\n",
       " [1107, 13, 15],\n",
       " [1107, 321, 323],\n",
       " [1107, 586, 588],\n",
       " [1170, 326, 328],\n",
       " [1197, 7, 9],\n",
       " [1199, 602, 604],\n",
       " [1201, 925, 926],\n",
       " [1201, 928, 929],\n",
       " [1201, 958, 959],\n",
       " [1211, 970, 972],\n",
       " [1227, 700, 703],\n",
       " [1239, 567, 570],\n",
       " [1273, 15, 17],\n",
       " [1294, 70, 72],\n",
       " [1324, 21, 23],\n",
       " [1331, 23, 25],\n",
       " [1332, 1439, 1442],\n",
       " [1362, 86, 88],\n",
       " [1377, 30, 32],\n",
       " [1380, 26, 29],\n",
       " [1396, 23, 26],\n",
       " [1425, 569, 572],\n",
       " [1442, 32, 35],\n",
       " [1445, 42, 44],\n",
       " [1466, 410, 412],\n",
       " [1466, 506, 508],\n",
       " [1466, 643, 646],\n",
       " [1466, 798, 800],\n",
       " [1466, 803, 806],\n",
       " [1486, 151, 154],\n",
       " [1486, 647, 651],\n",
       " [1516, 261, 264],\n",
       " [1589, 248, 251],\n",
       " [1645, 31, 34],\n",
       " [1647, 43, 46],\n",
       " [1647, 113, 116],\n",
       " [1647, 238, 241],\n",
       " [1660, 169, 171],\n",
       " [1673, 39, 41],\n",
       " [1695, 720, 722],\n",
       " [1703, 225, 228],\n",
       " [1713, 92, 95],\n",
       " [1726, 69, 71],\n",
       " [1743, 62, 65],\n",
       " [1751, 31, 33],\n",
       " [1816, 290, 292],\n",
       " [1816, 1080, 1082],\n",
       " [1820, 31, 33],\n",
       " [1820, 198, 200],\n",
       " [1844, 220, 221],\n",
       " [1853, 69, 72],\n",
       " [1882, 30, 32],\n",
       " [1882, 114, 116],\n",
       " [1883, 238, 241],\n",
       " [1886, 52, 54],\n",
       " [1916, 31, 33],\n",
       " [1916, 86, 88],\n",
       " [1949, 31, 35],\n",
       " [2000, 14, 17],\n",
       " [2033, 2, 4],\n",
       " [2042, 12, 13],\n",
       " [2122, 4, 5],\n",
       " [2126, 962, 965],\n",
       " [2137, 179, 180],\n",
       " [2146, 30, 32],\n",
       " [2149, 444, 451],\n",
       " [2150, 59, 61],\n",
       " [2185, 73, 77],\n",
       " [2186, 896, 898],\n",
       " [2186, 1503, 1507],\n",
       " [2189, 475, 477],\n",
       " [2196, 0, 3],\n",
       " [2201, 60, 61],\n",
       " [2308, 486, 491],\n",
       " [2332, 58, 60],\n",
       " [2335, 106, 108],\n",
       " [2335, 274, 276],\n",
       " [2353, 15, 17],\n",
       " [2382, 0, 3],\n",
       " [2395, 0, 3],\n",
       " [2396, 0, 3],\n",
       " [2401, 89, 92],\n",
       " [2411, 18, 20],\n",
       " [2437, 11, 13],\n",
       " [2441, 19, 22],\n",
       " [2441, 65, 67],\n",
       " [2448, 33, 36],\n",
       " [2449, 14, 17],\n",
       " [2450, 21, 24],\n",
       " [2462, 3, 6],\n",
       " [2462, 44, 48],\n",
       " [2466, 0, 3],\n",
       " [2476, 59, 63],\n",
       " [2476, 72, 75],\n",
       " [2499, 12, 15],\n",
       " [2515, 0, 2],\n",
       " [2556, 725, 727],\n",
       " [2587, 98, 100],\n",
       " [2596, 19, 21],\n",
       " [2596, 40, 42],\n",
       " [2597, 92, 95],\n",
       " [2604, 56, 58],\n",
       " [2606, 1, 4],\n",
       " [2622, 582, 584],\n",
       " [2655, 23, 26],\n",
       " [2702, 56, 58],\n",
       " [2714, 108, 110],\n",
       " [2733, 70, 73],\n",
       " [2734, 411, 413],\n",
       " [2743, 93, 95],\n",
       " [2768, 705, 707],\n",
       " [2816, 0, 2],\n",
       " [2820, 27, 29],\n",
       " [2822, 0, 2],\n",
       " [2827, 19, 20],\n",
       " [2827, 31, 33],\n",
       " [2844, 17, 19],\n",
       " [2846, 19, 21],\n",
       " [2859, 185, 188],\n",
       " [2862, 17, 18],\n",
       " [2873, 266, 268],\n",
       " [2874, 321, 323],\n",
       " [2889, 36, 38],\n",
       " [2935, 216, 219],\n",
       " [2935, 629, 632],\n",
       " [2936, 63, 66],\n",
       " [2958, 78, 80],\n",
       " [2975, 42, 43],\n",
       " [2975, 357, 358],\n",
       " [2975, 445, 446],\n",
       " [2978, 421, 422],\n",
       " [2990, 14, 17],\n",
       " [2990, 317, 320],\n",
       " [3033, 1253, 1255],\n",
       " [3033, 2589, 2593],\n",
       " [3040, 467, 470],\n",
       " [3049, 13, 15],\n",
       " [3067, 0, 2],\n",
       " [3073, 13, 16],\n",
       " [3117, 586, 589],\n",
       " [3142, 213, 215],\n",
       " [3152, 10, 13],\n",
       " [3185, 0, 3],\n",
       " [3200, 19, 21],\n",
       " [3209, 31, 33],\n",
       " [3211, 43, 46],\n",
       " [3211, 104, 107],\n",
       " [3235, 15, 19],\n",
       " [3238, 18, 22],\n",
       " [3252, 52, 54],\n",
       " [3365, 51, 53],\n",
       " [3383, 34, 37],\n",
       " [3398, 12, 15],\n",
       " [3427, 15, 17],\n",
       " [3427, 184, 185],\n",
       " [3449, 44, 46],\n",
       " [3464, 25, 27],\n",
       " [3482, 142, 145],\n",
       " [3517, 22, 24],\n",
       " [3617, 145, 146],\n",
       " [3651, 17, 18],\n",
       " [3660, 10, 12],\n",
       " [3680, 10, 13],\n",
       " [3683, 54, 56],\n",
       " [3689, 59, 61],\n",
       " [3738, 234, 238],\n",
       " [3770, 493, 496],\n",
       " [3790, 25, 27],\n",
       " [3793, 227, 228],\n",
       " [3806, 98, 100],\n",
       " [3831, 20, 24],\n",
       " [3868, 72, 75],\n",
       " [3886, 42, 44],\n",
       " [3893, 7, 9],\n",
       " [3902, 8, 10],\n",
       " [3905, 15, 18],\n",
       " [3907, 125, 128],\n",
       " [3910, 69, 73],\n",
       " [3920, 107, 109],\n",
       " [3965, 14, 16],\n",
       " [4010, 53, 54],\n",
       " [4016, 164, 166],\n",
       " [4022, 28, 31],\n",
       " [4077, 55, 57],\n",
       " [4080, 47, 49],\n",
       " [4130, 7, 9],\n",
       " [4138, 8, 11],\n",
       " [4176, 9, 11],\n",
       " [4204, 7, 9],\n",
       " [4229, 10, 13],\n",
       " [4236, 24, 28],\n",
       " [4239, 125, 129],\n",
       " [4257, 12, 15],\n",
       " [4300, 171, 174],\n",
       " [4331, 46, 48],\n",
       " [4363, 97, 99],\n",
       " [4380, 8, 11],\n",
       " [4401, 9, 12],\n",
       " [4428, 5, 7],\n",
       " [4439, 12, 14],\n",
       " [4446, 6, 9],\n",
       " [4447, 17, 19],\n",
       " [4469, 1648, 1650],\n",
       " [4502, 56, 58],\n",
       " [4546, 296, 298],\n",
       " [4565, 10, 13],\n",
       " [4574, 11, 14],\n",
       " [4612, 15, 19],\n",
       " [4726, 128, 131],\n",
       " [4818, 1, 4],\n",
       " [5148, 6, 9],\n",
       " [5930, 20, 22],\n",
       " [6195, 8, 12],\n",
       " [6196, 8, 12],\n",
       " [6386, 49, 52],\n",
       " [6435, 17, 20],\n",
       " [6443, 41, 44],\n",
       " [6444, 73, 76],\n",
       " [6933, 157, 160],\n",
       " [7013, 1, 4],\n",
       " [7035, 51, 54],\n",
       " [7036, 52, 55],\n",
       " [7080, 18, 20],\n",
       " [7279, 14, 16],\n",
       " [7279, 110, 112],\n",
       " [7375, 10, 12],\n",
       " [7627, 42, 45],\n",
       " [7715, 26, 30],\n",
       " [7770, 37, 39],\n",
       " [7773, 15, 17],\n",
       " [8083, 57, 60],\n",
       " [8172, 28, 31],\n",
       " [8218, 61, 64],\n",
       " [8220, 1959, 1963],\n",
       " [8376, 45, 48],\n",
       " [8483, 20, 23],\n",
       " [8547, 68, 71],\n",
       " [112, 15, 16],\n",
       " [201, 33, 35],\n",
       " [313, 139, 142],\n",
       " [675, 721, 723],\n",
       " [715, 7, 10],\n",
       " [875, 1, 3],\n",
       " [1003, 6, 8],\n",
       " [1049, 633, 636],\n",
       " [1199, 152, 153],\n",
       " [1199, 427, 428],\n",
       " [1328, 1576, 1579],\n",
       " [1355, 26, 29],\n",
       " [1466, 811, 817],\n",
       " [1521, 177, 179],\n",
       " [1755, 708, 711],\n",
       " [1830, 7, 10],\n",
       " [2057, 2, 4],\n",
       " [2071, 3, 5],\n",
       " [2203, 1341, 1346],\n",
       " [2401, 13, 17],\n",
       " [2633, 0, 3],\n",
       " [2751, 49, 52],\n",
       " [2768, 58, 61],\n",
       " [2854, 63, 66],\n",
       " [2862, 0, 3],\n",
       " [2863, 0, 3],\n",
       " [2864, 0, 3],\n",
       " [2865, 0, 3],\n",
       " [2866, 0, 3],\n",
       " [2868, 0, 3],\n",
       " [2870, 0, 3],\n",
       " [2871, 0, 3],\n",
       " [2872, 0, 3],\n",
       " [2873, 0, 3],\n",
       " [2874, 0, 4],\n",
       " [2874, 19, 22],\n",
       " [3109, 22, 25],\n",
       " [3117, 408, 411],\n",
       " [3122, 51, 53],\n",
       " [3427, 265, 266],\n",
       " [3450, 30, 32],\n",
       " [3521, 14, 16],\n",
       " [3599, 31, 33],\n",
       " [3711, 9, 10],\n",
       " [3731, 4, 6],\n",
       " [3753, 75, 76],\n",
       " [3753, 276, 278],\n",
       " [3754, 31, 33],\n",
       " [3799, 30, 31],\n",
       " [3814, 1, 2],\n",
       " [3836, 13, 16],\n",
       " [3884, 32, 34],\n",
       " [4018, 109, 111],\n",
       " [4296, 148, 149],\n",
       " [4296, 240, 241],\n",
       " [4296, 260, 261],\n",
       " [4319, 73, 75],\n",
       " [4393, 3, 6],\n",
       " [4625, 81, 82],\n",
       " [4673, 31, 34],\n",
       " [5989, 9, 10]]"
      ]
     },
     "execution_count": 398,
     "metadata": {},
     "output_type": "execute_result"
    }
   ],
   "source": [
    "remove"
   ]
  },
  {
   "cell_type": "code",
   "execution_count": 22,
   "metadata": {},
   "outputs": [],
   "source": [
    "edits = edits[edits['edit_short']!='R']"
   ]
  },
  {
   "cell_type": "code",
   "execution_count": 23,
   "metadata": {},
   "outputs": [],
   "source": [
    "add = edits[['docid','newstart','newend','entlabel']].values.tolist()"
   ]
  },
  {
   "cell_type": "code",
   "execution_count": 24,
   "metadata": {},
   "outputs": [
    {
     "data": {
      "text/plain": [
       "334"
      ]
     },
     "execution_count": 24,
     "metadata": {},
     "output_type": "execute_result"
    }
   ],
   "source": [
    "len(add)"
   ]
  },
  {
   "cell_type": "code",
   "execution_count": null,
   "metadata": {},
   "outputs": [],
   "source": [
    "# First step: drop all tags included in our edits dataset."
   ]
  },
  {
   "cell_type": "code",
   "execution_count": 25,
   "metadata": {},
   "outputs": [],
   "source": [
    "tempents =[]\n",
    "\n",
    "for doc, context in docs:\n",
    "    ents = list(doc.ents)\n",
    "    ents2 =[]\n",
    "    for ent in ents:\n",
    "        rep = [ context['id'] , ent.start , ent.end]\n",
    "        if rep not in remove: \n",
    "            a = spacy.tokens.Span(doc, ent.start,ent.end,label = ent.label)\n",
    "            ents2.append(a)\n",
    "    ents_id = [context['id'], ents2]\n",
    "    tempents.append(ents_id)"
   ]
  },
  {
   "cell_type": "code",
   "execution_count": 26,
   "metadata": {},
   "outputs": [],
   "source": [
    "count=0\n",
    "for line in tempents:\n",
    "    for ent in line[1]:\n",
    "        count = count+1"
   ]
  },
  {
   "cell_type": "code",
   "execution_count": 27,
   "metadata": {},
   "outputs": [
    {
     "data": {
      "text/plain": [
       "70859"
      ]
     },
     "execution_count": 27,
     "metadata": {},
     "output_type": "execute_result"
    }
   ],
   "source": [
    "count"
   ]
  },
  {
   "cell_type": "markdown",
   "metadata": {},
   "source": [
    "Just to double check that this removed the right number of entities, there should be a difference of 344 with the original."
   ]
  },
  {
   "cell_type": "code",
   "execution_count": 28,
   "metadata": {},
   "outputs": [],
   "source": [
    "count =0\n",
    "for doc,context in docs:\n",
    "    ents = list(doc.ents)\n",
    "    for ent in ents:\n",
    "        count = count+1"
   ]
  },
  {
   "cell_type": "code",
   "execution_count": 29,
   "metadata": {},
   "outputs": [
    {
     "data": {
      "text/plain": [
       "71203"
      ]
     },
     "execution_count": 29,
     "metadata": {},
     "output_type": "execute_result"
    }
   ],
   "source": [
    "count"
   ]
  },
  {
   "cell_type": "code",
   "execution_count": 30,
   "metadata": {},
   "outputs": [
    {
     "data": {
      "text/plain": [
       "70859"
      ]
     },
     "execution_count": 30,
     "metadata": {},
     "output_type": "execute_result"
    }
   ],
   "source": [
    "71203-344"
   ]
  },
  {
   "cell_type": "code",
   "execution_count": 31,
   "metadata": {},
   "outputs": [],
   "source": [
    "for doc, context in docs:\n",
    "    for item in tempents:\n",
    "        if item[0]==context['id']:\n",
    "            doc.ents= item[1]"
   ]
  },
  {
   "cell_type": "markdown",
   "metadata": {},
   "source": [
    "That should have updated the ents, including all but those in our 'remove' list."
   ]
  },
  {
   "cell_type": "code",
   "execution_count": 184,
   "metadata": {},
   "outputs": [],
   "source": [
    "# Second step: add tags with modified spans and labels, not those marked R."
   ]
  },
  {
   "cell_type": "code",
   "execution_count": 32,
   "metadata": {},
   "outputs": [],
   "source": [
    "for doc, context in docs:\n",
    "    for line in add:\n",
    "        if line[0] == context['id']:\n",
    "            a = spacy.tokens.Span(doc, int(line[1]),int(line[2]),label = line[3])\n",
    "            doc.ents = list(doc.ents) + [a]"
   ]
  },
  {
   "cell_type": "markdown",
   "metadata": {},
   "source": [
    "To double check, we should have 70920 + 334 entities. "
   ]
  },
  {
   "cell_type": "code",
   "execution_count": 33,
   "metadata": {},
   "outputs": [
    {
     "data": {
      "text/plain": [
       "334"
      ]
     },
     "execution_count": 33,
     "metadata": {},
     "output_type": "execute_result"
    }
   ],
   "source": [
    "len(add)"
   ]
  },
  {
   "cell_type": "code",
   "execution_count": 34,
   "metadata": {},
   "outputs": [],
   "source": [
    "count =0\n",
    "for doc,context in docs:\n",
    "    ents = list(doc.ents)\n",
    "    for ent in ents:\n",
    "        count = count+1"
   ]
  },
  {
   "cell_type": "code",
   "execution_count": 35,
   "metadata": {},
   "outputs": [
    {
     "data": {
      "text/plain": [
       "71193"
      ]
     },
     "execution_count": 35,
     "metadata": {},
     "output_type": "execute_result"
    }
   ],
   "source": [
    "count"
   ]
  },
  {
   "cell_type": "code",
   "execution_count": 36,
   "metadata": {},
   "outputs": [
    {
     "data": {
      "text/plain": [
       "334"
      ]
     },
     "execution_count": 36,
     "metadata": {},
     "output_type": "execute_result"
    }
   ],
   "source": [
    "71193-70859"
   ]
  },
  {
   "cell_type": "markdown",
   "metadata": {},
   "source": [
    "Finally, let's pickle the results."
   ]
  },
  {
   "cell_type": "code",
   "execution_count": 37,
   "metadata": {},
   "outputs": [],
   "source": [
    "pickle.dump(docs, open( \"Files_Cleaning3/NER_data_Cleaned3.p\", \"wb\" ))"
   ]
  }
 ],
 "metadata": {
  "kernelspec": {
   "display_name": "Python 3",
   "language": "python",
   "name": "python3"
  },
  "language_info": {
   "codemirror_mode": {
    "name": "ipython",
    "version": 3
   },
   "file_extension": ".py",
   "mimetype": "text/x-python",
   "name": "python",
   "nbconvert_exporter": "python",
   "pygments_lexer": "ipython3",
   "version": "3.7.6"
  }
 },
 "nbformat": 4,
 "nbformat_minor": 4
}
