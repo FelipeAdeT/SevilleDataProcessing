{
 "cells": [
  {
   "cell_type": "code",
   "execution_count": 1,
   "metadata": {},
   "outputs": [],
   "source": [
    "import spacy\n",
    "import regex\n",
    "from spacy import displacy"
   ]
  },
  {
   "cell_type": "code",
   "execution_count": 2,
   "metadata": {},
   "outputs": [
    {
     "ename": "OSError",
     "evalue": "[E050] Can't find model 'es_core_news_md'. It doesn't seem to be a shortcut link, a Python package or a valid path to a data directory.",
     "output_type": "error",
     "traceback": [
      "\u001b[0;31m---------------------------------------------------------------------------\u001b[0m",
      "\u001b[0;31mOSError\u001b[0m                                   Traceback (most recent call last)",
      "\u001b[0;32m<ipython-input-2-66323a169bf3>\u001b[0m in \u001b[0;36m<module>\u001b[0;34m\u001b[0m\n\u001b[1;32m      1\u001b[0m \u001b[0;31m# Load the small English model\u001b[0m\u001b[0;34m\u001b[0m\u001b[0;34m\u001b[0m\u001b[0;34m\u001b[0m\u001b[0m\n\u001b[0;32m----> 2\u001b[0;31m \u001b[0mnlp\u001b[0m \u001b[0;34m=\u001b[0m \u001b[0mspacy\u001b[0m\u001b[0;34m.\u001b[0m\u001b[0mload\u001b[0m\u001b[0;34m(\u001b[0m\u001b[0;34m'es_core_news_md'\u001b[0m\u001b[0;34m)\u001b[0m\u001b[0;34m\u001b[0m\u001b[0;34m\u001b[0m\u001b[0m\n\u001b[0m\u001b[1;32m      3\u001b[0m \u001b[0;31m# nlp = spacy.load('en_core_web_md')\u001b[0m\u001b[0;34m\u001b[0m\u001b[0;34m\u001b[0m\u001b[0;34m\u001b[0m\u001b[0m\n",
      "\u001b[0;32m~/anaconda3/lib/python3.7/site-packages/spacy/__init__.py\u001b[0m in \u001b[0;36mload\u001b[0;34m(name, **overrides)\u001b[0m\n\u001b[1;32m     25\u001b[0m     \u001b[0;32mif\u001b[0m \u001b[0mdepr_path\u001b[0m \u001b[0;32mnot\u001b[0m \u001b[0;32min\u001b[0m \u001b[0;34m(\u001b[0m\u001b[0;32mTrue\u001b[0m\u001b[0;34m,\u001b[0m \u001b[0;32mFalse\u001b[0m\u001b[0;34m,\u001b[0m \u001b[0;32mNone\u001b[0m\u001b[0;34m)\u001b[0m\u001b[0;34m:\u001b[0m\u001b[0;34m\u001b[0m\u001b[0;34m\u001b[0m\u001b[0m\n\u001b[1;32m     26\u001b[0m         \u001b[0mdeprecation_warning\u001b[0m\u001b[0;34m(\u001b[0m\u001b[0mWarnings\u001b[0m\u001b[0;34m.\u001b[0m\u001b[0mW001\u001b[0m\u001b[0;34m.\u001b[0m\u001b[0mformat\u001b[0m\u001b[0;34m(\u001b[0m\u001b[0mpath\u001b[0m\u001b[0;34m=\u001b[0m\u001b[0mdepr_path\u001b[0m\u001b[0;34m)\u001b[0m\u001b[0;34m)\u001b[0m\u001b[0;34m\u001b[0m\u001b[0;34m\u001b[0m\u001b[0m\n\u001b[0;32m---> 27\u001b[0;31m     \u001b[0;32mreturn\u001b[0m \u001b[0mutil\u001b[0m\u001b[0;34m.\u001b[0m\u001b[0mload_model\u001b[0m\u001b[0;34m(\u001b[0m\u001b[0mname\u001b[0m\u001b[0;34m,\u001b[0m \u001b[0;34m**\u001b[0m\u001b[0moverrides\u001b[0m\u001b[0;34m)\u001b[0m\u001b[0;34m\u001b[0m\u001b[0;34m\u001b[0m\u001b[0m\n\u001b[0m\u001b[1;32m     28\u001b[0m \u001b[0;34m\u001b[0m\u001b[0m\n\u001b[1;32m     29\u001b[0m \u001b[0;34m\u001b[0m\u001b[0m\n",
      "\u001b[0;32m~/anaconda3/lib/python3.7/site-packages/spacy/util.py\u001b[0m in \u001b[0;36mload_model\u001b[0;34m(name, **overrides)\u001b[0m\n\u001b[1;32m    169\u001b[0m     \u001b[0;32melif\u001b[0m \u001b[0mhasattr\u001b[0m\u001b[0;34m(\u001b[0m\u001b[0mname\u001b[0m\u001b[0;34m,\u001b[0m \u001b[0;34m\"exists\"\u001b[0m\u001b[0;34m)\u001b[0m\u001b[0;34m:\u001b[0m  \u001b[0;31m# Path or Path-like to model data\u001b[0m\u001b[0;34m\u001b[0m\u001b[0;34m\u001b[0m\u001b[0m\n\u001b[1;32m    170\u001b[0m         \u001b[0;32mreturn\u001b[0m \u001b[0mload_model_from_path\u001b[0m\u001b[0;34m(\u001b[0m\u001b[0mname\u001b[0m\u001b[0;34m,\u001b[0m \u001b[0;34m**\u001b[0m\u001b[0moverrides\u001b[0m\u001b[0;34m)\u001b[0m\u001b[0;34m\u001b[0m\u001b[0;34m\u001b[0m\u001b[0m\n\u001b[0;32m--> 171\u001b[0;31m     \u001b[0;32mraise\u001b[0m \u001b[0mIOError\u001b[0m\u001b[0;34m(\u001b[0m\u001b[0mErrors\u001b[0m\u001b[0;34m.\u001b[0m\u001b[0mE050\u001b[0m\u001b[0;34m.\u001b[0m\u001b[0mformat\u001b[0m\u001b[0;34m(\u001b[0m\u001b[0mname\u001b[0m\u001b[0;34m=\u001b[0m\u001b[0mname\u001b[0m\u001b[0;34m)\u001b[0m\u001b[0;34m)\u001b[0m\u001b[0;34m\u001b[0m\u001b[0;34m\u001b[0m\u001b[0m\n\u001b[0m\u001b[1;32m    172\u001b[0m \u001b[0;34m\u001b[0m\u001b[0m\n\u001b[1;32m    173\u001b[0m \u001b[0;34m\u001b[0m\u001b[0m\n",
      "\u001b[0;31mOSError\u001b[0m: [E050] Can't find model 'es_core_news_md'. It doesn't seem to be a shortcut link, a Python package or a valid path to a data directory."
     ]
    }
   ],
   "source": [
    "# Load the small English model\n",
    "nlp = spacy.load('es_core_news_md')\n",
    "# nlp = spacy.load('en_core_web_md')"
   ]
  },
  {
   "cell_type": "code",
   "execution_count": 41,
   "metadata": {},
   "outputs": [
    {
     "name": "stdout",
     "output_type": "stream",
     "text": [
      "\n",
      "Sepa cuántos de esta carta ve como Luis Luis de Figueroa, un maestro vecino con muescas, en la ciudad de Seuilla, en La Collation de la Madalena, le concedo y sé que estoy de acuerdo y acordado con el anterior, los frailes y el convento. de San Miguel de Los Ángeles Gerónimo en la ciudad de Sanlúcar la Mayor y con el padre Fray Juan Bautista bicariano del convento en su nombre y por su poder que está presente en este hecho de tal manera que estoy obligado y obligado a tener y tallar el retablo que dicho convento ha sido acordado y ordenado para que su capilla y altar principal sean manuales y conformes y de acuerdo con la trache y el modelo que está fechado y en mi poder el dicho Luis de Figueroa firmado por mi mano y el dicho Hermano Juan Baptista y de la presente escritura pública y de las condiciones hechas de conformidad con varias partes, su tenor de los quales es el siguiente porque para el propósito de la ynserta en esta escritura, los emos entregados a la presente escritura pública y son Firmado por mi nombre y dicho Hermano Juan Baptista y son los siguientes Las condiciones bajo las cuales se llevará a cabo el Retablo de San Miguel de los Ángeles cerca de Sant Lucar la Mayor son las siguientes Primero que nada tener este Retablo de todos los altos dados y siete barras Desde el altar y los siete y siete barras se entiende sin los rremates todo el ancho que esta torre debe tener ocho barras de ancho que toca el primer cuerpo y la caja principal para tener siete barras altas y esto caxa para ser quadrada y cuatro barras anchas, estas se entienden como un corcho en los lados de los cuales caxa son algunas colunas = es una condición que en su lugar se toman colunas para transportar algunas pilastras con sus capiteles corintios y estriadas en el banco y el tabernáculo. continuar como es en el proceso que no hay nada y nada en el segundo cuerpo continuará (sin) más o menos ya que es en el proceso que no traerá fruta a los lados o en el frontispisio ni niños ni un cristo que es Así que por favor recuerden, tengo poca obligación de hacerlo porque eso es poner el convento y este caxa le da al segundo cuerpo tener cuatro barras de gueco y dos barras anchas y dos tercios y en todo lo demás que está en el la parte posterior es continuar de acuerdo con esto, a estas cosas referidas, la madera con la que este trabajo debe hacerse para ser de tablas de pino de flancos y bien acondicionadas y sin samago = es una condición que las pilastras deben ser la mitad de lo que tenían ancho y antes menos que más = es una condición que no tenga tablas detrás de la pintura porque la pintura debe venir sobre lienzo y si recuerdan tirar tablas por\n",
      "\n"
     ]
    }
   ],
   "source": [
    "entry = \"\"\"\n",
    "Sepa cuántos de esta carta ve como Luis de Figueroa, un maestro vecino con muescas, en la ciudad de Seuilla, en La Collation de la Madalena, le concedo y sé que estoy de acuerdo y acordado con el anterior, los frailes y el convento. de San Miguel de Los Ángeles Gerónimo en la ciudad de Sanlúcar la Mayor y con el padre Fray Juan Bautista bicariano del convento en su nombre y por su poder que está presente en este hecho de tal manera que estoy obligado y obligado a tener y tallar el retablo que dicho convento ha sido acordado y ordenado para que su capilla y altar principal sean manuales y conformes y de acuerdo con la trache y el modelo que está fechado y en mi poder el dicho Luis de Figueroa firmado por mi mano y el dicho Hermano Juan Baptista y de la presente escritura pública y de las condiciones hechas de conformidad con varias partes, su tenor de los quales es el siguiente porque para el propósito de la ynserta en esta escritura, los emos entregados a la presente escritura pública y son Firmado por mi nombre y dicho Hermano Juan Baptista y son los siguientes Las condiciones bajo las cuales se llevará a cabo el Retablo de San Miguel de los Ángeles cerca de Sant Lucar la Mayor son las siguientes Primero que nada tener este Retablo de todos los altos dados y siete barras Desde el altar y los siete y siete barras se entiende sin los rremates todo el ancho que esta torre debe tener ocho barras de ancho que toca el primer cuerpo y la caja principal para tener siete barras altas y esto caxa para ser quadrada y cuatro barras anchas, estas se entienden como un corcho en los lados de los cuales caxa son algunas colunas = es una condición que en su lugar se toman colunas para transportar algunas pilastras con sus capiteles corintios y estriadas en el banco y el tabernáculo. continuar como es en el proceso que no hay nada y nada en el segundo cuerpo continuará (sin) más o menos ya que es en el proceso que no traerá fruta a los lados o en el frontispisio ni niños ni un cristo que es Así que por favor recuerden, tengo poca obligación de hacerlo porque eso es poner el convento y este caxa le da al segundo cuerpo tener cuatro barras de gueco y dos barras anchas y dos tercios y en todo lo demás que está en el la parte posterior es continuar de acuerdo con esto, a estas cosas referidas, la madera con la que este trabajo debe hacerse para ser de tablas de pino de flancos y bien acondicionadas y sin samago = es una condición que las pilastras deben ser la mitad de lo que tenían ancho y antes menos que más = es una condición que no tenga tablas detrás de la pintura porque la pintura debe venir sobre lienzo y si recuerdan tirar tablas por\n",
    "\"\"\"\n",
    "\n",
    "entry = entry.replace(']',' ').replace('[',' ')\n",
    "\n",
    "# Change all caps names to initial capital\n",
    "# re_allcaps = regex.compile(r\"([[:upper:]]{2,})\", regex.U)\n",
    "# entry = regex.sub(re_allcaps, lambda m: m.group(0).capitalize(), entry)\n",
    "print(entry)"
   ]
  },
  {
   "cell_type": "code",
   "execution_count": 42,
   "metadata": {},
   "outputs": [],
   "source": [
    "doc = nlp(entry)"
   ]
  },
  {
   "cell_type": "code",
   "execution_count": 43,
   "metadata": {},
   "outputs": [
    {
     "name": "stdout",
     "output_type": "stream",
     "text": [
      "\n",
      " SPACE - Sepa VERB - cuántos NOUN - de ADP - esta DET - carta NOUN - ve VERB - como SCONJ - Luis PROPN - Luis PROPN - de ADP - Figueroa PROPN - , PUNCT - un DET - maestro NOUN - vecino ADJ - con ADP - muescas NOUN - , PUNCT - en ADP - la DET - ciudad NOUN - de ADP - Seuilla PROPN - , PUNCT - en ADP - La DET - Collation PROPN - de ADP - la DET - Madalena PROPN - , PUNCT - le PRON - concedo VERB - y CONJ - sé VERB - que SCONJ - estoy AUX - de ADP - acuerdo NOUN - y CONJ - acordado ADJ - con ADP - el DET - anterior ADJ - , PUNCT - los DET - frailes NOUN - y CONJ - el DET - convento NOUN - . PUNCT - de ADP - San PROPN - Miguel PROPN - de ADP - Los DET - Ángeles PROPN - Gerónimo PROPN - en ADP - la DET - ciudad NOUN - de ADP - Sanlúcar PROPN - la DET - Mayor PROPN - y CONJ - con ADP - el DET - padre NOUN - Fray PROPN - Juan PROPN - Bautista PROPN - bicariano ADJ - del ADP - convento NOUN - en ADP - su DET - nombre NOUN - y CONJ - por ADP - su DET - poder NOUN - que PRON - está VERB - presente ADJ - en ADP - este DET - hecho NOUN - de ADP - tal NOUN - manera NOUN - que SCONJ - estoy AUX - obligado ADJ - y CONJ - obligado ADJ - a ADP - tener VERB - y CONJ - tallar VERB - el DET - retablo NOUN - que SCONJ - dicho ADJ - convento NOUN - ha AUX - sido AUX - acordado VERB - y CONJ - ordenado ADJ - para ADP - que SCONJ - su DET - capilla NOUN - y CONJ - altar NOUN - principal ADJ - sean AUX - manuales ADJ - y CONJ - conformes ADJ - y CONJ - de ADP - acuerdo NOUN - con ADP - la DET - trache NOUN - y CONJ - el DET - modelo NOUN - que PRON - está AUX - fechado ADJ - y CONJ - en ADP - mi DET - poder NOUN - el DET - dicho ADJ - Luis PROPN - de ADP - Figueroa PROPN - firmado ADJ - por ADP - mi DET - mano NOUN - y CONJ - el DET - dicho ADJ - Hermano PROPN - Juan PROPN - Baptista PROPN - y CONJ - de ADP - la DET - presente ADJ - escritura NOUN - pública ADJ - y CONJ - de ADP - las DET - condiciones NOUN - hechas ADJ - de ADP - conformidad NOUN - con ADP - varias DET - partes NOUN - , PUNCT - su DET - tenor NOUN - de ADP - los DET - quales NOUN - es AUX - el DET - siguiente ADJ - porque SCONJ - para ADP - el DET - propósito NOUN - de ADP - la DET - ynserta NOUN - en ADP - esta DET - escritura NOUN - , PUNCT - los DET - emos NOUN - entregados ADJ - a ADP - la DET - presente ADJ - escritura NOUN - pública ADJ - y CONJ - son AUX - Firmado VERB - por ADP - mi DET - nombre NOUN - y CONJ - dicho ADJ - Hermano PROPN - Juan PROPN - Baptista PROPN - y CONJ - son AUX - los DET - siguientes ADJ - Las DET - condiciones NOUN - bajo ADP - las DET - cuales PRON - se PRON - llevará VERB - a ADP - cabo NOUN - el DET - Retablo PROPN - de ADP - San PROPN - Miguel PROPN - de ADP - los DET - Ángeles PROPN - cerca ADV - de ADP - Sant PROPN - Lucar PROPN - la DET - Mayor PROPN - son AUX - las DET - siguientes ADJ - Primero ADJ - que SCONJ - nada PRON - tener VERB - este DET - Retablo PROPN - de ADP - todos DET - los DET - altos NOUN - dados ADJ - y CONJ - siete NUM - barras NOUN - Desde ADP - el DET - altar NOUN - y CONJ - los DET - siete NUM - y CONJ - siete NUM - barras NOUN - se PRON - entiende VERB - sin ADP - los DET - rremates NOUN - todo DET - el DET - ancho NOUN - que PRON - esta DET - torre NOUN - debe AUX - tener VERB - ocho NUM - barras NOUN - de ADP - ancho NOUN - que PRON - toca VERB - el DET - primer ADJ - cuerpo NOUN - y CONJ - la DET - caja NOUN - principal ADJ - para ADP - tener VERB - siete NUM - barras NOUN - altas ADJ - y CONJ - esto PRON - caxa NOUN - para ADP - ser AUX - quadrada VERB - y CONJ - cuatro NUM - barras NOUN - anchas ADJ - , PUNCT - estas PRON - se PRON - entienden VERB - como SCONJ - un DET - corcho NOUN - en ADP - los DET - lados NOUN - de ADP - los DET - cuales PRON - caxa NOUN - son AUX - algunas DET - colunas NOUN - = PROPN - es AUX - una DET - condición NOUN - que PRON - en ADP - su DET - lugar NOUN - se PRON - toman VERB - colunas NOUN - para ADP - transportar VERB - algunas DET - pilastras NOUN - con ADP - sus DET - capiteles NOUN - corintios ADJ - y CONJ - estriadas ADJ - en ADP - el DET - banco NOUN - y CONJ - el DET - tabernáculo NOUN - . PUNCT - continuar VERB - como SCONJ - es AUX - en ADP - el DET - proceso NOUN - que PRON - no ADV - hay AUX - nada PRON - y CONJ - nada PRON - en ADP - el DET - segundo ADJ - cuerpo NOUN - continuará VERB - ( PUNCT - sin ADP - ) PUNCT - más ADV - o CONJ - menos ADV - ya ADV - que SCONJ - es AUX - en ADP - el DET - proceso NOUN - que PRON - no ADV - traerá VERB - fruta NOUN - a ADP - los DET - lados NOUN - o CONJ - en ADP - el DET - frontispisio NOUN - ni CONJ - niños NOUN - ni CONJ - un DET - cristo NOUN - que PRON - es AUX - Así ADV - que SCONJ - por ADP - favor NOUN - recuerden VERB - , PUNCT - tengo VERB - poca DET - obligación NOUN - de ADP - hacerlo NOUN - porque SCONJ - eso PRON - es AUX - poner VERB - el DET - convento NOUN - y CONJ - este DET - caxa NOUN - le PRON - da VERB - al ADP - segundo ADJ - cuerpo NOUN - tener VERB - cuatro NUM - barras NOUN - de ADP - gueco NOUN - y CONJ - dos NUM - barras NOUN - anchas ADJ - y CONJ - dos NUM - tercios NOUN - y CONJ - en ADP - todo DET - lo DET - demás PRON - que PRON - está VERB - en ADP - el DET - la DET - parte NOUN - posterior ADJ - es AUX - continuar VERB - de ADP - acuerdo NOUN - con ADP - esto PRON - , PUNCT - a ADP - estas DET - cosas NOUN - referidas ADJ - , PUNCT - la DET - madera NOUN - con ADP - la DET - que PRON - este DET - trabajo NOUN - debe AUX - hacerse VERB - para ADP - ser AUX - de ADP - tablas NOUN - de ADP - pino NOUN - de ADP - flancos NOUN - y CONJ - bien ADV - acondicionadas ADJ - y CONJ - sin ADP - samago CONJ - = PROPN - es AUX - una DET - condición NOUN - que PRON - las DET - pilastras NOUN - deben AUX - ser AUX - la DET - mitad NOUN - de ADP - lo DET - que PRON - tenían VERB - ancho ADV - y CONJ - antes ADV - menos ADV - que SCONJ - más ADV - = PROPN - es AUX - una DET - condición NOUN - que PRON - no ADV - tenga VERB - tablas NOUN - detrás ADV - de ADP - la DET - pintura NOUN - porque SCONJ - la DET - pintura NOUN - debe AUX - venir VERB - sobre ADP - lienzo NOUN - y CONJ - si SCONJ - recuerdan VERB - tirar VERB - tablas NOUN - por ADP - \n",
      " SPACE - "
     ]
    }
   ],
   "source": [
    "# Iterate over the tokens\n",
    "for token in doc:\n",
    "    # Print the text and the predicted part-of-speech tag\n",
    "    print(token.text, token.pos_, end=' - ')"
   ]
  },
  {
   "cell_type": "code",
   "execution_count": 44,
   "metadata": {},
   "outputs": [
    {
     "name": "stdout",
     "output_type": "stream",
     "text": [
      "Luis Luis de Figueroa PER\n",
      "Seuilla LOC\n",
      "La Collation de la Madalena LOC\n",
      "San Miguel de Los Ángeles Gerónimo LOC\n",
      "Sanlúcar la Mayor LOC\n",
      "Fray Juan Bautista PER\n",
      "Luis de Figueroa PER\n",
      "Hermano Juan Baptista PER\n",
      "Firmado MISC\n",
      "Hermano Juan Baptista PER\n",
      "Las condiciones bajo las cuales MISC\n",
      "Retablo de San Miguel de los Ángeles LOC\n",
      "Sant Lucar la Mayor LOC\n",
      "Primero que nada tener MISC\n",
      "Retablo de todos MISC\n",
      "Así PER\n"
     ]
    }
   ],
   "source": [
    "# Iterate over the predicted entities\n",
    "for ent in doc.ents:\n",
    "    # Print the entity text and its label\n",
    "    print(ent.text, ent.label_)"
   ]
  },
  {
   "cell_type": "code",
   "execution_count": 45,
   "metadata": {},
   "outputs": [
    {
     "data": {
      "text/html": [
       "<div class=\"entities\" style=\"line-height: 2.5; direction: ltr\"></br>Sepa cuántos de esta carta ve como \n",
       "<mark class=\"entity\" style=\"background: #ddd; padding: 0.45em 0.6em; margin: 0 0.25em; line-height: 1; border-radius: 0.35em; box-decoration-break: clone; -webkit-box-decoration-break: clone\">\n",
       "    Luis Luis de Figueroa\n",
       "    <span style=\"font-size: 0.8em; font-weight: bold; line-height: 1; border-radius: 0.35em; text-transform: uppercase; vertical-align: middle; margin-left: 0.5rem\">PER</span>\n",
       "</mark>\n",
       ", un maestro vecino con muescas, en la ciudad de \n",
       "<mark class=\"entity\" style=\"background: #ff9561; padding: 0.45em 0.6em; margin: 0 0.25em; line-height: 1; border-radius: 0.35em; box-decoration-break: clone; -webkit-box-decoration-break: clone\">\n",
       "    Seuilla\n",
       "    <span style=\"font-size: 0.8em; font-weight: bold; line-height: 1; border-radius: 0.35em; text-transform: uppercase; vertical-align: middle; margin-left: 0.5rem\">LOC</span>\n",
       "</mark>\n",
       ", en \n",
       "<mark class=\"entity\" style=\"background: #ff9561; padding: 0.45em 0.6em; margin: 0 0.25em; line-height: 1; border-radius: 0.35em; box-decoration-break: clone; -webkit-box-decoration-break: clone\">\n",
       "    La Collation de la Madalena\n",
       "    <span style=\"font-size: 0.8em; font-weight: bold; line-height: 1; border-radius: 0.35em; text-transform: uppercase; vertical-align: middle; margin-left: 0.5rem\">LOC</span>\n",
       "</mark>\n",
       ", le concedo y sé que estoy de acuerdo y acordado con el anterior, los frailes y el convento. de \n",
       "<mark class=\"entity\" style=\"background: #ff9561; padding: 0.45em 0.6em; margin: 0 0.25em; line-height: 1; border-radius: 0.35em; box-decoration-break: clone; -webkit-box-decoration-break: clone\">\n",
       "    San Miguel de Los Ángeles Gerónimo\n",
       "    <span style=\"font-size: 0.8em; font-weight: bold; line-height: 1; border-radius: 0.35em; text-transform: uppercase; vertical-align: middle; margin-left: 0.5rem\">LOC</span>\n",
       "</mark>\n",
       " en la ciudad de \n",
       "<mark class=\"entity\" style=\"background: #ff9561; padding: 0.45em 0.6em; margin: 0 0.25em; line-height: 1; border-radius: 0.35em; box-decoration-break: clone; -webkit-box-decoration-break: clone\">\n",
       "    Sanlúcar la Mayor\n",
       "    <span style=\"font-size: 0.8em; font-weight: bold; line-height: 1; border-radius: 0.35em; text-transform: uppercase; vertical-align: middle; margin-left: 0.5rem\">LOC</span>\n",
       "</mark>\n",
       " y con el padre \n",
       "<mark class=\"entity\" style=\"background: #ddd; padding: 0.45em 0.6em; margin: 0 0.25em; line-height: 1; border-radius: 0.35em; box-decoration-break: clone; -webkit-box-decoration-break: clone\">\n",
       "    Fray Juan Bautista\n",
       "    <span style=\"font-size: 0.8em; font-weight: bold; line-height: 1; border-radius: 0.35em; text-transform: uppercase; vertical-align: middle; margin-left: 0.5rem\">PER</span>\n",
       "</mark>\n",
       " bicariano del convento en su nombre y por su poder que está presente en este hecho de tal manera que estoy obligado y obligado a tener y tallar el retablo que dicho convento ha sido acordado y ordenado para que su capilla y altar principal sean manuales y conformes y de acuerdo con la trache y el modelo que está fechado y en mi poder el dicho \n",
       "<mark class=\"entity\" style=\"background: #ddd; padding: 0.45em 0.6em; margin: 0 0.25em; line-height: 1; border-radius: 0.35em; box-decoration-break: clone; -webkit-box-decoration-break: clone\">\n",
       "    Luis de Figueroa\n",
       "    <span style=\"font-size: 0.8em; font-weight: bold; line-height: 1; border-radius: 0.35em; text-transform: uppercase; vertical-align: middle; margin-left: 0.5rem\">PER</span>\n",
       "</mark>\n",
       " firmado por mi mano y el dicho \n",
       "<mark class=\"entity\" style=\"background: #ddd; padding: 0.45em 0.6em; margin: 0 0.25em; line-height: 1; border-radius: 0.35em; box-decoration-break: clone; -webkit-box-decoration-break: clone\">\n",
       "    Hermano Juan Baptista\n",
       "    <span style=\"font-size: 0.8em; font-weight: bold; line-height: 1; border-radius: 0.35em; text-transform: uppercase; vertical-align: middle; margin-left: 0.5rem\">PER</span>\n",
       "</mark>\n",
       " y de la presente escritura pública y de las condiciones hechas de conformidad con varias partes, su tenor de los quales es el siguiente porque para el propósito de la ynserta en esta escritura, los emos entregados a la presente escritura pública y son \n",
       "<mark class=\"entity\" style=\"background: #ddd; padding: 0.45em 0.6em; margin: 0 0.25em; line-height: 1; border-radius: 0.35em; box-decoration-break: clone; -webkit-box-decoration-break: clone\">\n",
       "    Firmado\n",
       "    <span style=\"font-size: 0.8em; font-weight: bold; line-height: 1; border-radius: 0.35em; text-transform: uppercase; vertical-align: middle; margin-left: 0.5rem\">MISC</span>\n",
       "</mark>\n",
       " por mi nombre y dicho \n",
       "<mark class=\"entity\" style=\"background: #ddd; padding: 0.45em 0.6em; margin: 0 0.25em; line-height: 1; border-radius: 0.35em; box-decoration-break: clone; -webkit-box-decoration-break: clone\">\n",
       "    Hermano Juan Baptista\n",
       "    <span style=\"font-size: 0.8em; font-weight: bold; line-height: 1; border-radius: 0.35em; text-transform: uppercase; vertical-align: middle; margin-left: 0.5rem\">PER</span>\n",
       "</mark>\n",
       " y son los siguientes \n",
       "<mark class=\"entity\" style=\"background: #ddd; padding: 0.45em 0.6em; margin: 0 0.25em; line-height: 1; border-radius: 0.35em; box-decoration-break: clone; -webkit-box-decoration-break: clone\">\n",
       "    Las condiciones bajo las cuales\n",
       "    <span style=\"font-size: 0.8em; font-weight: bold; line-height: 1; border-radius: 0.35em; text-transform: uppercase; vertical-align: middle; margin-left: 0.5rem\">MISC</span>\n",
       "</mark>\n",
       " se llevará a cabo el \n",
       "<mark class=\"entity\" style=\"background: #ff9561; padding: 0.45em 0.6em; margin: 0 0.25em; line-height: 1; border-radius: 0.35em; box-decoration-break: clone; -webkit-box-decoration-break: clone\">\n",
       "    Retablo de San Miguel de los Ángeles\n",
       "    <span style=\"font-size: 0.8em; font-weight: bold; line-height: 1; border-radius: 0.35em; text-transform: uppercase; vertical-align: middle; margin-left: 0.5rem\">LOC</span>\n",
       "</mark>\n",
       " cerca de \n",
       "<mark class=\"entity\" style=\"background: #ff9561; padding: 0.45em 0.6em; margin: 0 0.25em; line-height: 1; border-radius: 0.35em; box-decoration-break: clone; -webkit-box-decoration-break: clone\">\n",
       "    Sant Lucar la Mayor\n",
       "    <span style=\"font-size: 0.8em; font-weight: bold; line-height: 1; border-radius: 0.35em; text-transform: uppercase; vertical-align: middle; margin-left: 0.5rem\">LOC</span>\n",
       "</mark>\n",
       " son las siguientes \n",
       "<mark class=\"entity\" style=\"background: #ddd; padding: 0.45em 0.6em; margin: 0 0.25em; line-height: 1; border-radius: 0.35em; box-decoration-break: clone; -webkit-box-decoration-break: clone\">\n",
       "    Primero que nada tener\n",
       "    <span style=\"font-size: 0.8em; font-weight: bold; line-height: 1; border-radius: 0.35em; text-transform: uppercase; vertical-align: middle; margin-left: 0.5rem\">MISC</span>\n",
       "</mark>\n",
       " este \n",
       "<mark class=\"entity\" style=\"background: #ddd; padding: 0.45em 0.6em; margin: 0 0.25em; line-height: 1; border-radius: 0.35em; box-decoration-break: clone; -webkit-box-decoration-break: clone\">\n",
       "    Retablo de todos\n",
       "    <span style=\"font-size: 0.8em; font-weight: bold; line-height: 1; border-radius: 0.35em; text-transform: uppercase; vertical-align: middle; margin-left: 0.5rem\">MISC</span>\n",
       "</mark>\n",
       " los altos dados y siete barras Desde el altar y los siete y siete barras se entiende sin los rremates todo el ancho que esta torre debe tener ocho barras de ancho que toca el primer cuerpo y la caja principal para tener siete barras altas y esto caxa para ser quadrada y cuatro barras anchas, estas se entienden como un corcho en los lados de los cuales caxa son algunas colunas = es una condición que en su lugar se toman colunas para transportar algunas pilastras con sus capiteles corintios y estriadas en el banco y el tabernáculo. continuar como es en el proceso que no hay nada y nada en el segundo cuerpo continuará (sin) más o menos ya que es en el proceso que no traerá fruta a los lados o en el frontispisio ni niños ni un cristo que es \n",
       "<mark class=\"entity\" style=\"background: #ddd; padding: 0.45em 0.6em; margin: 0 0.25em; line-height: 1; border-radius: 0.35em; box-decoration-break: clone; -webkit-box-decoration-break: clone\">\n",
       "    Así\n",
       "    <span style=\"font-size: 0.8em; font-weight: bold; line-height: 1; border-radius: 0.35em; text-transform: uppercase; vertical-align: middle; margin-left: 0.5rem\">PER</span>\n",
       "</mark>\n",
       " que por favor recuerden, tengo poca obligación de hacerlo porque eso es poner el convento y este caxa le da al segundo cuerpo tener cuatro barras de gueco y dos barras anchas y dos tercios y en todo lo demás que está en el la parte posterior es continuar de acuerdo con esto, a estas cosas referidas, la madera con la que este trabajo debe hacerse para ser de tablas de pino de flancos y bien acondicionadas y sin samago = es una condición que las pilastras deben ser la mitad de lo que tenían ancho y antes menos que más = es una condición que no tenga tablas detrás de la pintura porque la pintura debe venir sobre lienzo y si recuerdan tirar tablas por\n",
       "</div>"
      ],
      "text/plain": [
       "<IPython.core.display.HTML object>"
      ]
     },
     "metadata": {},
     "output_type": "display_data"
    }
   ],
   "source": [
    "displacy.render(doc, style=\"ent\", jupyter=True)"
   ]
  },
  {
   "cell_type": "markdown",
   "metadata": {},
   "source": [
    "---\n",
    "\n",
    "# Google English translation of same text"
   ]
  },
  {
   "cell_type": "code",
   "execution_count": 8,
   "metadata": {},
   "outputs": [],
   "source": [
    "nlp_en = spacy.load('en_core_web_md')"
   ]
  },
  {
   "cell_type": "code",
   "execution_count": 35,
   "metadata": {},
   "outputs": [
    {
     "name": "stdout",
     "output_type": "stream",
     "text": [
      "Luis Luis de Figueroa PERSON\n",
      "Seuilla GPE\n",
      "the La Collation de la Madalena LOC\n",
      "San Miguel de Los Angeles GPE\n",
      "Geronimo PERSON\n",
      "Sanlucar la Mayor GPE\n",
      "Fray Juan Baptist PERSON\n",
      "Luis de Figueroa PERSON\n",
      "Juan Baptista PERSON\n",
      "Juan Baptista PERSON\n",
      "Altarpiece PERSON\n",
      "St. Michael GPE\n",
      "Sant Lucar PERSON\n",
      "First ORDINAL\n",
      "Altarpiece PERSON\n",
      "Dies PERSON\n",
      "seven CARDINAL\n",
      "seven CARDINAL\n",
      "seven CARDINAL\n",
      "eight CARDINAL\n",
      "first ORDINAL\n",
      "seven CARDINAL\n",
      "four CARDINAL\n",
      "Corinthian NORP\n",
      "second ORDINAL\n",
      "second ORDINAL\n",
      "four CARDINAL\n",
      "two CARDINAL\n",
      "two thirds CARDINAL\n",
      "half CARDINAL\n"
     ]
    }
   ],
   "source": [
    "en_txt = \"\"\"\n",
    "Know how many this letter you see as Luis Luis de Figueroa, a master notching neighbor, in the city of Seuilla, in the La Collation de la Madalena, I grant and I know that I am agreed and agreed with the prior and friars and convent of San Miguel de Los Angeles Geronimo in the town of Sanlucar la Mayor and with the father Fray Juan Baptist bicar of the convent in his name and by his power that is present in this deed in such a way that I am obliged and forced myself to have and carve the altarpiece that said convent has been agreed and commanded for his chapel and main altar to be hand and compliant and according to the trache and model that is dated and is in my possession the said Luis de Figueroa signed by my hand and the said Brother Juan Baptista and of the present public deed and to the conditions made in conformity of several parties its tenor of the quales is as follows because for the purpose of the ynserta in this deed the emos delivered to the present public deed and they are signed by my name and the said Brother Juan Baptista and they are as follows The conditions under which the Altarpiece of St. Michael of the Angels is to be held near Sant Lucar la Mayor are the following First of all to have this Altarpiece of all the high Dies and seven bars From the altar and the seven and seven bars it is understood without the rremates all the width that this tower should have to be eight bars wide which touches the first body and the main box to have high seven bars and this caxa to be quadrada and wide four bars these are understood as a cork on the sides of which caxa are some colunas = it is a condition that instead you take colunas to carry some pilasters with their Corinthian capitals and striated in the bank and tabernacle is to continue as it is in the process that there is nothing and nothing in the second body will continue (without) more or less as it is in the process that will not bring fruit on the sides or in the frontispisio neither children nor a christ that is So please remember, I have little obligation to do it because that is to put the convent and this caxa gives the second body to have four bars of gueco and wide two bars and two thirds and in everything else that is in the back is to continue according to it, these things referred to, the wood with which this work is to be made to be of pine boards of flanks and well-conditioned and without samago = it is a condition that the pilasters have to be half of what they had width and before less than more = it is a condition that I do not have boards behind the paint because the paint must come on canvas and if they remember to throw boards by\n",
    "\n",
    "\"\"\"\n",
    "\n",
    "doc_en = nlp_en(en_txt)\n",
    "\n",
    "# Iterate over the predicted entities\n",
    "for ent in doc_en.ents:\n",
    "    # Print the entity text and its label\n",
    "    print(ent.text, ent.label_)"
   ]
  },
  {
   "cell_type": "code",
   "execution_count": 36,
   "metadata": {},
   "outputs": [
    {
     "data": {
      "text/html": [
       "<div class=\"entities\" style=\"line-height: 2.5; direction: ltr\"></br>Know how many this letter you see as \n",
       "<mark class=\"entity\" style=\"background: #aa9cfc; padding: 0.45em 0.6em; margin: 0 0.25em; line-height: 1; border-radius: 0.35em; box-decoration-break: clone; -webkit-box-decoration-break: clone\">\n",
       "    Luis Luis de Figueroa\n",
       "    <span style=\"font-size: 0.8em; font-weight: bold; line-height: 1; border-radius: 0.35em; text-transform: uppercase; vertical-align: middle; margin-left: 0.5rem\">PERSON</span>\n",
       "</mark>\n",
       ", a master notching neighbor, in the city of \n",
       "<mark class=\"entity\" style=\"background: #feca74; padding: 0.45em 0.6em; margin: 0 0.25em; line-height: 1; border-radius: 0.35em; box-decoration-break: clone; -webkit-box-decoration-break: clone\">\n",
       "    Seuilla\n",
       "    <span style=\"font-size: 0.8em; font-weight: bold; line-height: 1; border-radius: 0.35em; text-transform: uppercase; vertical-align: middle; margin-left: 0.5rem\">GPE</span>\n",
       "</mark>\n",
       ", in \n",
       "<mark class=\"entity\" style=\"background: #ff9561; padding: 0.45em 0.6em; margin: 0 0.25em; line-height: 1; border-radius: 0.35em; box-decoration-break: clone; -webkit-box-decoration-break: clone\">\n",
       "    the La Collation de la Madalena\n",
       "    <span style=\"font-size: 0.8em; font-weight: bold; line-height: 1; border-radius: 0.35em; text-transform: uppercase; vertical-align: middle; margin-left: 0.5rem\">LOC</span>\n",
       "</mark>\n",
       ", I grant and I know that I am agreed and agreed with the prior and friars and convent of \n",
       "<mark class=\"entity\" style=\"background: #feca74; padding: 0.45em 0.6em; margin: 0 0.25em; line-height: 1; border-radius: 0.35em; box-decoration-break: clone; -webkit-box-decoration-break: clone\">\n",
       "    San Miguel de Los Angeles\n",
       "    <span style=\"font-size: 0.8em; font-weight: bold; line-height: 1; border-radius: 0.35em; text-transform: uppercase; vertical-align: middle; margin-left: 0.5rem\">GPE</span>\n",
       "</mark>\n",
       " \n",
       "<mark class=\"entity\" style=\"background: #aa9cfc; padding: 0.45em 0.6em; margin: 0 0.25em; line-height: 1; border-radius: 0.35em; box-decoration-break: clone; -webkit-box-decoration-break: clone\">\n",
       "    Geronimo\n",
       "    <span style=\"font-size: 0.8em; font-weight: bold; line-height: 1; border-radius: 0.35em; text-transform: uppercase; vertical-align: middle; margin-left: 0.5rem\">PERSON</span>\n",
       "</mark>\n",
       " in the town of \n",
       "<mark class=\"entity\" style=\"background: #feca74; padding: 0.45em 0.6em; margin: 0 0.25em; line-height: 1; border-radius: 0.35em; box-decoration-break: clone; -webkit-box-decoration-break: clone\">\n",
       "    Sanlucar la Mayor\n",
       "    <span style=\"font-size: 0.8em; font-weight: bold; line-height: 1; border-radius: 0.35em; text-transform: uppercase; vertical-align: middle; margin-left: 0.5rem\">GPE</span>\n",
       "</mark>\n",
       " and with the father \n",
       "<mark class=\"entity\" style=\"background: #aa9cfc; padding: 0.45em 0.6em; margin: 0 0.25em; line-height: 1; border-radius: 0.35em; box-decoration-break: clone; -webkit-box-decoration-break: clone\">\n",
       "    Fray Juan Baptist\n",
       "    <span style=\"font-size: 0.8em; font-weight: bold; line-height: 1; border-radius: 0.35em; text-transform: uppercase; vertical-align: middle; margin-left: 0.5rem\">PERSON</span>\n",
       "</mark>\n",
       " bicar of the convent in his name and by his power that is present in this deed in such a way that I am obliged and forced myself to have and carve the altarpiece that said convent has been agreed and commanded for his chapel and main altar to be hand and compliant and according to the trache and model that is dated and is in my possession the said \n",
       "<mark class=\"entity\" style=\"background: #aa9cfc; padding: 0.45em 0.6em; margin: 0 0.25em; line-height: 1; border-radius: 0.35em; box-decoration-break: clone; -webkit-box-decoration-break: clone\">\n",
       "    Luis de Figueroa\n",
       "    <span style=\"font-size: 0.8em; font-weight: bold; line-height: 1; border-radius: 0.35em; text-transform: uppercase; vertical-align: middle; margin-left: 0.5rem\">PERSON</span>\n",
       "</mark>\n",
       " signed by my hand and the said Brother \n",
       "<mark class=\"entity\" style=\"background: #aa9cfc; padding: 0.45em 0.6em; margin: 0 0.25em; line-height: 1; border-radius: 0.35em; box-decoration-break: clone; -webkit-box-decoration-break: clone\">\n",
       "    Juan Baptista\n",
       "    <span style=\"font-size: 0.8em; font-weight: bold; line-height: 1; border-radius: 0.35em; text-transform: uppercase; vertical-align: middle; margin-left: 0.5rem\">PERSON</span>\n",
       "</mark>\n",
       " and of the present public deed and to the conditions made in conformity of several parties its tenor of the quales is as follows because for the purpose of the ynserta in this deed the emos delivered to the present public deed and they are signed by my name and the said Brother \n",
       "<mark class=\"entity\" style=\"background: #aa9cfc; padding: 0.45em 0.6em; margin: 0 0.25em; line-height: 1; border-radius: 0.35em; box-decoration-break: clone; -webkit-box-decoration-break: clone\">\n",
       "    Juan Baptista\n",
       "    <span style=\"font-size: 0.8em; font-weight: bold; line-height: 1; border-radius: 0.35em; text-transform: uppercase; vertical-align: middle; margin-left: 0.5rem\">PERSON</span>\n",
       "</mark>\n",
       " and they are as follows The conditions under which the \n",
       "<mark class=\"entity\" style=\"background: #aa9cfc; padding: 0.45em 0.6em; margin: 0 0.25em; line-height: 1; border-radius: 0.35em; box-decoration-break: clone; -webkit-box-decoration-break: clone\">\n",
       "    Altarpiece\n",
       "    <span style=\"font-size: 0.8em; font-weight: bold; line-height: 1; border-radius: 0.35em; text-transform: uppercase; vertical-align: middle; margin-left: 0.5rem\">PERSON</span>\n",
       "</mark>\n",
       " of \n",
       "<mark class=\"entity\" style=\"background: #feca74; padding: 0.45em 0.6em; margin: 0 0.25em; line-height: 1; border-radius: 0.35em; box-decoration-break: clone; -webkit-box-decoration-break: clone\">\n",
       "    St. Michael\n",
       "    <span style=\"font-size: 0.8em; font-weight: bold; line-height: 1; border-radius: 0.35em; text-transform: uppercase; vertical-align: middle; margin-left: 0.5rem\">GPE</span>\n",
       "</mark>\n",
       " of the Angels is to be held near \n",
       "<mark class=\"entity\" style=\"background: #aa9cfc; padding: 0.45em 0.6em; margin: 0 0.25em; line-height: 1; border-radius: 0.35em; box-decoration-break: clone; -webkit-box-decoration-break: clone\">\n",
       "    Sant Lucar\n",
       "    <span style=\"font-size: 0.8em; font-weight: bold; line-height: 1; border-radius: 0.35em; text-transform: uppercase; vertical-align: middle; margin-left: 0.5rem\">PERSON</span>\n",
       "</mark>\n",
       " la Mayor are the following \n",
       "<mark class=\"entity\" style=\"background: #e4e7d2; padding: 0.45em 0.6em; margin: 0 0.25em; line-height: 1; border-radius: 0.35em; box-decoration-break: clone; -webkit-box-decoration-break: clone\">\n",
       "    First\n",
       "    <span style=\"font-size: 0.8em; font-weight: bold; line-height: 1; border-radius: 0.35em; text-transform: uppercase; vertical-align: middle; margin-left: 0.5rem\">ORDINAL</span>\n",
       "</mark>\n",
       " of all to have this \n",
       "<mark class=\"entity\" style=\"background: #aa9cfc; padding: 0.45em 0.6em; margin: 0 0.25em; line-height: 1; border-radius: 0.35em; box-decoration-break: clone; -webkit-box-decoration-break: clone\">\n",
       "    Altarpiece\n",
       "    <span style=\"font-size: 0.8em; font-weight: bold; line-height: 1; border-radius: 0.35em; text-transform: uppercase; vertical-align: middle; margin-left: 0.5rem\">PERSON</span>\n",
       "</mark>\n",
       " of all the high \n",
       "<mark class=\"entity\" style=\"background: #aa9cfc; padding: 0.45em 0.6em; margin: 0 0.25em; line-height: 1; border-radius: 0.35em; box-decoration-break: clone; -webkit-box-decoration-break: clone\">\n",
       "    Dies\n",
       "    <span style=\"font-size: 0.8em; font-weight: bold; line-height: 1; border-radius: 0.35em; text-transform: uppercase; vertical-align: middle; margin-left: 0.5rem\">PERSON</span>\n",
       "</mark>\n",
       " and \n",
       "<mark class=\"entity\" style=\"background: #e4e7d2; padding: 0.45em 0.6em; margin: 0 0.25em; line-height: 1; border-radius: 0.35em; box-decoration-break: clone; -webkit-box-decoration-break: clone\">\n",
       "    seven\n",
       "    <span style=\"font-size: 0.8em; font-weight: bold; line-height: 1; border-radius: 0.35em; text-transform: uppercase; vertical-align: middle; margin-left: 0.5rem\">CARDINAL</span>\n",
       "</mark>\n",
       " bars From the altar and the \n",
       "<mark class=\"entity\" style=\"background: #e4e7d2; padding: 0.45em 0.6em; margin: 0 0.25em; line-height: 1; border-radius: 0.35em; box-decoration-break: clone; -webkit-box-decoration-break: clone\">\n",
       "    seven\n",
       "    <span style=\"font-size: 0.8em; font-weight: bold; line-height: 1; border-radius: 0.35em; text-transform: uppercase; vertical-align: middle; margin-left: 0.5rem\">CARDINAL</span>\n",
       "</mark>\n",
       " and \n",
       "<mark class=\"entity\" style=\"background: #e4e7d2; padding: 0.45em 0.6em; margin: 0 0.25em; line-height: 1; border-radius: 0.35em; box-decoration-break: clone; -webkit-box-decoration-break: clone\">\n",
       "    seven\n",
       "    <span style=\"font-size: 0.8em; font-weight: bold; line-height: 1; border-radius: 0.35em; text-transform: uppercase; vertical-align: middle; margin-left: 0.5rem\">CARDINAL</span>\n",
       "</mark>\n",
       " bars it is understood without the rremates all the width that this tower should have to be \n",
       "<mark class=\"entity\" style=\"background: #e4e7d2; padding: 0.45em 0.6em; margin: 0 0.25em; line-height: 1; border-radius: 0.35em; box-decoration-break: clone; -webkit-box-decoration-break: clone\">\n",
       "    eight\n",
       "    <span style=\"font-size: 0.8em; font-weight: bold; line-height: 1; border-radius: 0.35em; text-transform: uppercase; vertical-align: middle; margin-left: 0.5rem\">CARDINAL</span>\n",
       "</mark>\n",
       " bars wide which touches the \n",
       "<mark class=\"entity\" style=\"background: #e4e7d2; padding: 0.45em 0.6em; margin: 0 0.25em; line-height: 1; border-radius: 0.35em; box-decoration-break: clone; -webkit-box-decoration-break: clone\">\n",
       "    first\n",
       "    <span style=\"font-size: 0.8em; font-weight: bold; line-height: 1; border-radius: 0.35em; text-transform: uppercase; vertical-align: middle; margin-left: 0.5rem\">ORDINAL</span>\n",
       "</mark>\n",
       " body and the main box to have high \n",
       "<mark class=\"entity\" style=\"background: #e4e7d2; padding: 0.45em 0.6em; margin: 0 0.25em; line-height: 1; border-radius: 0.35em; box-decoration-break: clone; -webkit-box-decoration-break: clone\">\n",
       "    seven\n",
       "    <span style=\"font-size: 0.8em; font-weight: bold; line-height: 1; border-radius: 0.35em; text-transform: uppercase; vertical-align: middle; margin-left: 0.5rem\">CARDINAL</span>\n",
       "</mark>\n",
       " bars and this caxa to be quadrada and wide \n",
       "<mark class=\"entity\" style=\"background: #e4e7d2; padding: 0.45em 0.6em; margin: 0 0.25em; line-height: 1; border-radius: 0.35em; box-decoration-break: clone; -webkit-box-decoration-break: clone\">\n",
       "    four\n",
       "    <span style=\"font-size: 0.8em; font-weight: bold; line-height: 1; border-radius: 0.35em; text-transform: uppercase; vertical-align: middle; margin-left: 0.5rem\">CARDINAL</span>\n",
       "</mark>\n",
       " bars these are understood as a cork on the sides of which caxa are some colunas = it is a condition that instead you take colunas to carry some pilasters with their \n",
       "<mark class=\"entity\" style=\"background: #c887fb; padding: 0.45em 0.6em; margin: 0 0.25em; line-height: 1; border-radius: 0.35em; box-decoration-break: clone; -webkit-box-decoration-break: clone\">\n",
       "    Corinthian\n",
       "    <span style=\"font-size: 0.8em; font-weight: bold; line-height: 1; border-radius: 0.35em; text-transform: uppercase; vertical-align: middle; margin-left: 0.5rem\">NORP</span>\n",
       "</mark>\n",
       " capitals and striated in the bank and tabernacle is to continue as it is in the process that there is nothing and nothing in the \n",
       "<mark class=\"entity\" style=\"background: #e4e7d2; padding: 0.45em 0.6em; margin: 0 0.25em; line-height: 1; border-radius: 0.35em; box-decoration-break: clone; -webkit-box-decoration-break: clone\">\n",
       "    second\n",
       "    <span style=\"font-size: 0.8em; font-weight: bold; line-height: 1; border-radius: 0.35em; text-transform: uppercase; vertical-align: middle; margin-left: 0.5rem\">ORDINAL</span>\n",
       "</mark>\n",
       " body will continue (without) more or less as it is in the process that will not bring fruit on the sides or in the frontispisio neither children nor a christ that is So please remember, I have little obligation to do it because that is to put the convent and this caxa gives the \n",
       "<mark class=\"entity\" style=\"background: #e4e7d2; padding: 0.45em 0.6em; margin: 0 0.25em; line-height: 1; border-radius: 0.35em; box-decoration-break: clone; -webkit-box-decoration-break: clone\">\n",
       "    second\n",
       "    <span style=\"font-size: 0.8em; font-weight: bold; line-height: 1; border-radius: 0.35em; text-transform: uppercase; vertical-align: middle; margin-left: 0.5rem\">ORDINAL</span>\n",
       "</mark>\n",
       " body to have \n",
       "<mark class=\"entity\" style=\"background: #e4e7d2; padding: 0.45em 0.6em; margin: 0 0.25em; line-height: 1; border-radius: 0.35em; box-decoration-break: clone; -webkit-box-decoration-break: clone\">\n",
       "    four\n",
       "    <span style=\"font-size: 0.8em; font-weight: bold; line-height: 1; border-radius: 0.35em; text-transform: uppercase; vertical-align: middle; margin-left: 0.5rem\">CARDINAL</span>\n",
       "</mark>\n",
       " bars of gueco and wide \n",
       "<mark class=\"entity\" style=\"background: #e4e7d2; padding: 0.45em 0.6em; margin: 0 0.25em; line-height: 1; border-radius: 0.35em; box-decoration-break: clone; -webkit-box-decoration-break: clone\">\n",
       "    two\n",
       "    <span style=\"font-size: 0.8em; font-weight: bold; line-height: 1; border-radius: 0.35em; text-transform: uppercase; vertical-align: middle; margin-left: 0.5rem\">CARDINAL</span>\n",
       "</mark>\n",
       " bars and \n",
       "<mark class=\"entity\" style=\"background: #e4e7d2; padding: 0.45em 0.6em; margin: 0 0.25em; line-height: 1; border-radius: 0.35em; box-decoration-break: clone; -webkit-box-decoration-break: clone\">\n",
       "    two thirds\n",
       "    <span style=\"font-size: 0.8em; font-weight: bold; line-height: 1; border-radius: 0.35em; text-transform: uppercase; vertical-align: middle; margin-left: 0.5rem\">CARDINAL</span>\n",
       "</mark>\n",
       " and in everything else that is in the back is to continue according to it, these things referred to, the wood with which this work is to be made to be of pine boards of flanks and well-conditioned and without samago = it is a condition that the pilasters have to be \n",
       "<mark class=\"entity\" style=\"background: #e4e7d2; padding: 0.45em 0.6em; margin: 0 0.25em; line-height: 1; border-radius: 0.35em; box-decoration-break: clone; -webkit-box-decoration-break: clone\">\n",
       "    half\n",
       "    <span style=\"font-size: 0.8em; font-weight: bold; line-height: 1; border-radius: 0.35em; text-transform: uppercase; vertical-align: middle; margin-left: 0.5rem\">CARDINAL</span>\n",
       "</mark>\n",
       " of what they had width and before less than more = it is a condition that I do not have boards behind the paint because the paint must come on canvas and if they remember to throw boards by\n",
       "\n",
       "</div>"
      ],
      "text/plain": [
       "<IPython.core.display.HTML object>"
      ]
     },
     "metadata": {},
     "output_type": "display_data"
    }
   ],
   "source": [
    "displacy.render(doc_en, style=\"ent\", jupyter=True)"
   ]
  },
  {
   "cell_type": "markdown",
   "metadata": {},
   "source": [
    "---\n",
    "\n",
    "# NLTK for accessing CoreNLP\n",
    "\n",
    "https://github.com/nltk/nltk/wiki/Stanford-CoreNLP-API-in-NLTK\n",
    "\n",
    "**Stanford CoreNLP server needs to be running behind the scenes!**\n",
    "\n",
    "### Start server\n",
    "\n",
    "```\n",
    "java -Xmx4g edu.stanford.nlp.pipeline.StanfordCoreNLPServer \\\n",
    "-serverProperties StanfordCoreNLP-spanish.properties \\\n",
    "-preload tokenize,ssplit,pos,lemma,ner,parse \\\n",
    "-status_port 9003  -port 9003 -timeout 100000\n",
    "```"
   ]
  },
  {
   "cell_type": "code",
   "execution_count": 11,
   "metadata": {},
   "outputs": [],
   "source": [
    "from nltk.parse import CoreNLPParser"
   ]
  },
  {
   "cell_type": "code",
   "execution_count": 12,
   "metadata": {},
   "outputs": [],
   "source": [
    "parser = CoreNLPParser(url='http://localhost:9003')\n",
    "ner_tagger = CoreNLPParser('http://localhost:9003', tagtype='ner')"
   ]
  },
  {
   "cell_type": "code",
   "execution_count": 46,
   "metadata": {},
   "outputs": [
    {
     "name": "stdout",
     "output_type": "stream",
     "text": [
      "[('Sepa', 'O'), ('cuántos', 'O'), ('de', 'O'), ('esta', 'O'), ('carta', 'O'), ('ve', 'O'), ('como', 'O'), ('Luis', 'PERSON'), ('Luis', 'PERSON'), ('de', 'O'), ('Figueroa', 'PERSON'), (',', 'O'), ('un', 'O'), ('maestro', 'TITLE'), ('vecino', 'O'), ('con', 'O'), ('muescas', 'O'), (',', 'O'), ('en', 'O'), ('la', 'O'), ('ciudad', 'O'), ('de', 'O'), ('Seuilla', 'LOCATION'), (',', 'O'), ('en', 'O'), ('La', 'O'), ('Collation', 'LOCATION'), ('de', 'O'), ('la', 'O'), ('Madalena', 'MISC'), (',', 'O'), ('le', 'O'), ('concedo', 'O'), ('y', 'O'), ('sé', 'O'), ('que', 'O'), ('estoy', 'O'), ('de', 'O'), ('acuerdo', 'O'), ('y', 'O'), ('acordado', 'O'), ('con', 'O'), ('el', 'O'), ('anterior', 'O'), (',', 'O'), ('los', 'O'), ('frailes', 'O'), ('y', 'O'), ('el', 'O'), ('convento', 'O'), ('.', 'O'), ('de', 'O'), ('San', 'MISC'), ('Miguel', 'MISC'), ('de', 'O'), ('Los', 'O'), ('Ángeles', 'LOCATION'), ('Gerónimo', 'LOCATION'), ('en', 'O'), ('la', 'O'), ('ciudad', 'O'), ('de', 'O'), ('Sanlúcar', 'CITY'), ('la', 'CITY'), ('Mayor', 'CITY'), ('y', 'O'), ('con', 'O'), ('el', 'O'), ('padre', 'O'), ('Fray', 'PERSON'), ('Juan', 'PERSON'), ('Bautista', 'PERSON'), ('bicariano', 'O'), ('de', 'O'), ('el', 'O'), ('convento', 'O'), ('en', 'O'), ('su', 'O'), ('nombre', 'O'), ('y', 'O'), ('por', 'O'), ('su', 'O'), ('poder', 'O'), ('que', 'O'), ('está', 'O'), ('presente', 'O'), ('en', 'O'), ('este', 'O'), ('hecho', 'O'), ('de', 'O'), ('tal', 'O'), ('manera', 'O'), ('que', 'O'), ('estoy', 'O'), ('obligado', 'O'), ('y', 'O'), ('obligado', 'O'), ('a', 'O'), ('tener', 'O'), ('y', 'O'), ('tallar', 'O'), ('el', 'O'), ('retablo', 'O'), ('que', 'O'), ('dicho', 'O'), ('convento', 'O'), ('ha', 'O'), ('sido', 'O'), ('acordado', 'O'), ('y', 'O'), ('ordenado', 'O'), ('para', 'O'), ('que', 'O'), ('su', 'O'), ('capilla', 'O'), ('y', 'O'), ('altar', 'O'), ('principal', 'TITLE'), ('sean', 'O'), ('manuales', 'O'), ('y', 'O'), ('conformes', 'O'), ('y', 'O'), ('de', 'O'), ('acuerdo', 'O'), ('con', 'O'), ('la', 'O'), ('trache', 'ORGANIZATION'), ('y', 'O'), ('el', 'O'), ('modelo', 'TITLE'), ('que', 'O'), ('está', 'O'), ('fechado', 'O'), ('y', 'O'), ('en', 'O'), ('mi', 'O'), ('poder', 'O'), ('el', 'O'), ('dicho', 'O'), ('Luis', 'PERSON'), ('de', 'O'), ('Figueroa', 'PERSON'), ('firmado', 'O'), ('por', 'O'), ('mi', 'O'), ('mano', 'O'), ('y', 'O'), ('el', 'O'), ('dicho', 'O'), ('Hermano', 'PERSON'), ('Juan', 'PERSON'), ('Baptista', 'PERSON'), ('y', 'O'), ('de', 'O'), ('la', 'O'), ('presente', 'O'), ('escritura', 'O'), ('pública', 'O'), ('y', 'O'), ('de', 'O'), ('las', 'O'), ('condiciones', 'O'), ('hechas', 'O'), ('de', 'O'), ('conformidad', 'O'), ('con', 'O'), ('varias', 'O'), ('partes', 'O'), (',', 'O'), ('su', 'O'), ('tenor', 'TITLE'), ('de', 'O'), ('los', 'O'), ('quales', 'O'), ('es', 'O'), ('el', 'O'), ('siguiente', 'O'), ('porque', 'O'), ('para', 'O'), ('el', 'O'), ('propósito', 'O'), ('de', 'O'), ('la', 'O'), ('ynserta', 'O'), ('en', 'O'), ('esta', 'O'), ('escritura', 'O'), (',', 'O'), ('los', 'O'), ('emos', 'O'), ('entregados', 'O'), ('a', 'O'), ('la', 'O'), ('presente', 'O'), ('escritura', 'O'), ('pública', 'O'), ('y', 'O'), ('son', 'O'), ('Firmado', 'O'), ('por', 'O'), ('mi', 'O'), ('nombre', 'O'), ('y', 'O'), ('dicho', 'O'), ('Hermano', 'ORGANIZATION'), ('Juan', 'PERSON'), ('Baptista', 'PERSON'), ('y', 'O'), ('son', 'O'), ('los', 'O'), ('siguientes', 'O'), ('Las', 'O'), ('condiciones', 'O'), ('bajo', 'O'), ('las', 'O'), ('cuales', 'O'), ('se', 'O'), ('llevará', 'O'), ('a', 'O'), ('cabo', 'O'), ('el', 'O'), ('Retablo', 'ORGANIZATION'), ('de', 'O'), ('San', 'MISC'), ('Miguel', 'MISC'), ('de', 'O'), ('los', 'O'), ('Ángeles', 'O'), ('cerca', 'O'), ('de', 'O'), ('Sant', 'CITY'), ('Lucar', 'LOCATION'), ('la', 'O'), ('Mayor', 'ORGANIZATION'), ('son', 'O'), ('las', 'O'), ('siguientes', 'O'), ('Primero', 'O'), ('que', 'O'), ('nada', 'O'), ('tener', 'O'), ('este', 'O'), ('Retablo', 'PERSON'), ('de', 'O'), ('todos', 'O'), ('los', 'O'), ('altos', 'O'), ('dados', 'O'), ('y', 'O'), ('siete', 'NUMBER'), ('barras', 'O'), ('Desde', 'O'), ('el', 'O'), ('altar', 'O'), ('y', 'O'), ('los', 'O'), ('siete', 'NUMBER'), ('y', 'O'), ('siete', 'NUMBER'), ('barras', 'O'), ('se', 'O'), ('entiende', 'O'), ('sin', 'O'), ('los', 'O'), ('rremates', 'O'), ('todo', 'O'), ('el', 'O'), ('ancho', 'O'), ('que', 'O'), ('esta', 'O'), ('torre', 'O'), ('debe', 'O'), ('tener', 'O'), ('ocho', 'O'), ('barras', 'O'), ('de', 'O'), ('ancho', 'O'), ('que', 'O'), ('toca', 'O'), ('el', 'O'), ('primer', 'O'), ('cuerpo', 'O'), ('y', 'O'), ('la', 'O'), ('caja', 'O'), ('principal', 'TITLE'), ('para', 'O'), ('tener', 'O'), ('siete', 'NUMBER'), ('barras', 'O'), ('altas', 'O'), ('y', 'O'), ('esto', 'O'), ('caxa', 'O'), ('para', 'O'), ('ser', 'O'), ('quadrada', 'O'), ('y', 'O'), ('cuatro', 'NUMBER'), ('barras', 'O'), ('anchas', 'O'), (',', 'O'), ('estas', 'O'), ('se', 'O'), ('entienden', 'O'), ('como', 'O'), ('un', 'O'), ('corcho', 'O'), ('en', 'O'), ('los', 'O'), ('lados', 'O'), ('de', 'O'), ('los', 'O'), ('cuales', 'O'), ('caxa', 'O'), ('son', 'O'), ('algunas', 'O'), ('colunas', 'O'), ('=', 'O'), ('es', 'O'), ('una', 'O'), ('condición', 'O'), ('que', 'O'), ('en', 'O'), ('su', 'O'), ('lugar', 'O'), ('se', 'O'), ('toman', 'O'), ('colunas', 'O'), ('para', 'O'), ('transportar', 'O'), ('algunas', 'O'), ('pilastras', 'O'), ('con', 'O'), ('sus', 'O'), ('capiteles', 'O'), ('corintios', 'O'), ('y', 'O'), ('estriadas', 'O'), ('en', 'O'), ('el', 'O'), ('banco', 'O'), ('y', 'O'), ('el', 'O'), ('tabernáculo', 'O'), ('.', 'O'), ('continuar', 'O'), ('como', 'O'), ('es', 'O'), ('en', 'O'), ('el', 'O'), ('proceso', 'O'), ('que', 'O'), ('no', 'O'), ('hay', 'O'), ('nada', 'O'), ('y', 'O'), ('nada', 'O'), ('en', 'O'), ('el', 'O'), ('segundo', 'O'), ('cuerpo', 'O'), ('continuará', 'O'), ('=LRB=', 'O'), ('sin', 'O'), ('=RRB=', 'O'), ('más', 'O'), ('o', 'O'), ('menos', 'O'), ('ya', 'O'), ('que', 'O'), ('es', 'O'), ('en', 'O'), ('el', 'O'), ('proceso', 'O'), ('que', 'O'), ('no', 'O'), ('traerá', 'O'), ('fruta', 'O'), ('a', 'O'), ('los', 'O'), ('lados', 'O'), ('o', 'O'), ('en', 'O'), ('el', 'O'), ('frontispisio', 'O'), ('ni', 'O'), ('niños', 'O'), ('ni', 'O'), ('un', 'O'), ('cristo', 'O'), ('que', 'O'), ('es', 'O'), ('Así', 'O'), ('que', 'O'), ('por', 'O'), ('favor', 'O'), ('recuerden', 'O'), (',', 'O'), ('tengo', 'O'), ('poca', 'O'), ('obligación', 'O'), ('de', 'O'), ('hacer', 'O'), ('lo', 'O'), ('porque', 'O'), ('eso', 'O'), ('es', 'O'), ('poner', 'O'), ('el', 'O'), ('convento', 'O'), ('y', 'O'), ('este', 'O'), ('caxa', 'O'), ('le', 'O'), ('da', 'O'), ('a', 'O'), ('el', 'O'), ('segundo', 'O'), ('cuerpo', 'O'), ('tener', 'O'), ('cuatro', 'O'), ('barras', 'O'), ('de', 'O'), ('gueco', 'O'), ('y', 'O'), ('dos', 'NUMBER'), ('barras', 'O'), ('anchas', 'O'), ('y', 'O'), ('dos', 'NUMBER'), ('tercios', 'O'), ('y', 'O'), ('en', 'O'), ('todo', 'O'), ('lo', 'O'), ('demás', 'O'), ('que', 'O'), ('está', 'O'), ('en', 'O'), ('el', 'O'), ('la', 'O'), ('parte', 'O'), ('posterior', 'O'), ('es', 'O'), ('continuar', 'O'), ('de', 'O'), ('acuerdo', 'O'), ('con', 'O'), ('esto', 'O'), (',', 'O'), ('a', 'O'), ('estas', 'O'), ('cosas', 'O'), ('referidas', 'O'), (',', 'O'), ('la', 'O'), ('madera', 'O'), ('con', 'O'), ('la', 'O'), ('que', 'O'), ('este', 'O'), ('trabajo', 'O'), ('debe', 'O'), ('hacer', 'O'), ('se', 'O'), ('para', 'O'), ('ser', 'O'), ('de', 'O'), ('tablas', 'O'), ('de', 'O'), ('pino', 'O'), ('de', 'O'), ('flancos', 'O'), ('y', 'O'), ('bien', 'O'), ('acondicionadas', 'O'), ('y', 'O'), ('sin', 'O'), ('samago', 'O'), ('=', 'O'), ('es', 'O'), ('una', 'O'), ('condición', 'O'), ('que', 'O'), ('las', 'O'), ('pilastras', 'O'), ('deben', 'O'), ('ser', 'O'), ('la', 'O'), ('mitad', 'O'), ('de', 'O'), ('lo', 'O'), ('que', 'O'), ('tenían', 'O'), ('ancho', 'O'), ('y', 'O'), ('antes', 'O'), ('menos', 'O'), ('que', 'O'), ('más', 'O'), ('=', 'O'), ('es', 'O'), ('una', 'O'), ('condición', 'O'), ('que', 'O'), ('no', 'O'), ('tenga', 'O'), ('tablas', 'O'), ('detrás', 'O'), ('de', 'O'), ('la', 'O'), ('pintura', 'O'), ('porque', 'O'), ('la', 'O'), ('pintura', 'O'), ('debe', 'O'), ('venir', 'O'), ('sobre', 'O'), ('lienzo', 'O'), ('y', 'O'), ('si', 'O'), ('recuerdan', 'O'), ('tirar', 'O'), ('tablas', 'O'), ('por', 'O')]\n"
     ]
    }
   ],
   "source": [
    "parsed_entry = parser.tokenize(entry)\n",
    "print(ner_tagger.tag(list(parsed_entry)))"
   ]
  },
  {
   "cell_type": "markdown",
   "metadata": {},
   "source": [
    "*Note: these full calls need a much longer **timeout** on the server*"
   ]
  },
  {
   "cell_type": "code",
   "execution_count": 47,
   "metadata": {},
   "outputs": [
    {
     "ename": "HTTPError",
     "evalue": "500 Server Error: Internal Server Error for url: http://localhost:9003/?properties=%7B%22outputFormat%22%3A+%22json%22%2C+%22annotators%22%3A+%22tokenize%2Cpos%2Clemma%2Cssplit%2Cparse%22%7D",
     "output_type": "error",
     "traceback": [
      "\u001b[0;31m---------------------------------------------------------------------------\u001b[0m",
      "\u001b[0;31mHTTPError\u001b[0m                                 Traceback (most recent call last)",
      "\u001b[0;32m<ipython-input-47-b12b47a22738>\u001b[0m in \u001b[0;36m<module>\u001b[0;34m\u001b[0m\n\u001b[1;32m      1\u001b[0m \u001b[0;31m# This just does parts of speach...\u001b[0m\u001b[0;34m\u001b[0m\u001b[0;34m\u001b[0m\u001b[0;34m\u001b[0m\u001b[0m\n\u001b[0;32m----> 2\u001b[0;31m \u001b[0mall_output\u001b[0m \u001b[0;34m=\u001b[0m \u001b[0mparser\u001b[0m\u001b[0;34m.\u001b[0m\u001b[0mapi_call\u001b[0m\u001b[0;34m(\u001b[0m\u001b[0mentry\u001b[0m\u001b[0;34m)\u001b[0m\u001b[0;34m\u001b[0m\u001b[0;34m\u001b[0m\u001b[0m\n\u001b[0m",
      "\u001b[0;32m~/anaconda3/envs/spacy/lib/python3.7/site-packages/nltk/parse/corenlp.py\u001b[0m in \u001b[0;36mapi_call\u001b[0;34m(self, data, properties, timeout)\u001b[0m\n\u001b[1;32m    250\u001b[0m         )\n\u001b[1;32m    251\u001b[0m \u001b[0;34m\u001b[0m\u001b[0m\n\u001b[0;32m--> 252\u001b[0;31m         \u001b[0mresponse\u001b[0m\u001b[0;34m.\u001b[0m\u001b[0mraise_for_status\u001b[0m\u001b[0;34m(\u001b[0m\u001b[0;34m)\u001b[0m\u001b[0;34m\u001b[0m\u001b[0;34m\u001b[0m\u001b[0m\n\u001b[0m\u001b[1;32m    253\u001b[0m \u001b[0;34m\u001b[0m\u001b[0m\n\u001b[1;32m    254\u001b[0m         \u001b[0;32mreturn\u001b[0m \u001b[0mresponse\u001b[0m\u001b[0;34m.\u001b[0m\u001b[0mjson\u001b[0m\u001b[0;34m(\u001b[0m\u001b[0;34m)\u001b[0m\u001b[0;34m\u001b[0m\u001b[0;34m\u001b[0m\u001b[0m\n",
      "\u001b[0;32m~/anaconda3/envs/spacy/lib/python3.7/site-packages/requests/models.py\u001b[0m in \u001b[0;36mraise_for_status\u001b[0;34m(self)\u001b[0m\n\u001b[1;32m    938\u001b[0m \u001b[0;34m\u001b[0m\u001b[0m\n\u001b[1;32m    939\u001b[0m         \u001b[0;32mif\u001b[0m \u001b[0mhttp_error_msg\u001b[0m\u001b[0;34m:\u001b[0m\u001b[0;34m\u001b[0m\u001b[0;34m\u001b[0m\u001b[0m\n\u001b[0;32m--> 940\u001b[0;31m             \u001b[0;32mraise\u001b[0m \u001b[0mHTTPError\u001b[0m\u001b[0;34m(\u001b[0m\u001b[0mhttp_error_msg\u001b[0m\u001b[0;34m,\u001b[0m \u001b[0mresponse\u001b[0m\u001b[0;34m=\u001b[0m\u001b[0mself\u001b[0m\u001b[0;34m)\u001b[0m\u001b[0;34m\u001b[0m\u001b[0;34m\u001b[0m\u001b[0m\n\u001b[0m\u001b[1;32m    941\u001b[0m \u001b[0;34m\u001b[0m\u001b[0m\n\u001b[1;32m    942\u001b[0m     \u001b[0;32mdef\u001b[0m \u001b[0mclose\u001b[0m\u001b[0;34m(\u001b[0m\u001b[0mself\u001b[0m\u001b[0;34m)\u001b[0m\u001b[0;34m:\u001b[0m\u001b[0;34m\u001b[0m\u001b[0;34m\u001b[0m\u001b[0m\n",
      "\u001b[0;31mHTTPError\u001b[0m: 500 Server Error: Internal Server Error for url: http://localhost:9003/?properties=%7B%22outputFormat%22%3A+%22json%22%2C+%22annotators%22%3A+%22tokenize%2Cpos%2Clemma%2Cssplit%2Cparse%22%7D"
     ]
    }
   ],
   "source": [
    "# This just does parts of speach...\n",
    "all_output = parser.api_call(entry)"
   ]
  },
  {
   "cell_type": "code",
   "execution_count": 48,
   "metadata": {},
   "outputs": [
    {
     "data": {
      "text/plain": [
       "dict_keys(['index', 'parse', 'tokens'])"
      ]
     },
     "execution_count": 48,
     "metadata": {},
     "output_type": "execute_result"
    }
   ],
   "source": [
    "all_output['sentences'][0].keys()"
   ]
  },
  {
   "cell_type": "markdown",
   "metadata": {},
   "source": [
    "## Real NER and Entity Mentions from CoreNLP\n",
    "\n",
    "Figured out these options by reading [the source code for nltk.parse.corenlp](https://www.nltk.org/_modules/nltk/parse/corenlp.html)"
   ]
  },
  {
   "cell_type": "code",
   "execution_count": 49,
   "metadata": {},
   "outputs": [],
   "source": [
    "# Adding NER to 'annotators' gets all of it\n",
    "# Note: returns quickly if already done processing once\n",
    "ner_output = ner_tagger.api_call(entry, properties={'outputFormat': 'json',\n",
    "            'annotators':'tokenize,pos,lemma,ssplit,ner'})"
   ]
  },
  {
   "cell_type": "markdown",
   "metadata": {},
   "source": [
    "#### Stanford CoreNLP"
   ]
  },
  {
   "cell_type": "code",
   "execution_count": 50,
   "metadata": {},
   "outputs": [
    {
     "name": "stdout",
     "output_type": "stream",
     "text": [
      "Luis Luis - PERSON\n",
      "Figueroa - PERSON\n",
      "maestro - TITLE\n",
      "Seuilla - LOCATION\n",
      "Collation - LOCATION\n",
      "Madalena - MISC\n",
      "San Miguel - MISC\n",
      "Ángeles Gerónimo - LOCATION\n",
      "Sanlúcar la Mayor - CITY\n",
      "Fray Juan Bautista - PERSON\n",
      "principal - TITLE\n",
      "trache - ORGANIZATION\n",
      "modelo - TITLE\n",
      "Luis - PERSON\n",
      "Figueroa - PERSON\n",
      "Hermano Juan Baptista - PERSON\n",
      "tenor - TITLE\n",
      "Hermano - ORGANIZATION\n",
      "Juan Baptista - PERSON\n",
      "Retablo - ORGANIZATION\n",
      "San Miguel - MISC\n",
      "Sant - CITY\n",
      "Lucar - LOCATION\n",
      "Mayor - ORGANIZATION\n",
      "Retablo - PERSON\n",
      "siete - NUMBER\n",
      "siete - NUMBER\n",
      "siete - NUMBER\n",
      "principal - TITLE\n",
      "siete - NUMBER\n",
      "cuatro - NUMBER\n",
      "dos - NUMBER\n",
      "dos - NUMBER\n"
     ]
    }
   ],
   "source": [
    "for ii, sent in enumerate(ner_output['sentences']):\n",
    "    # print(ii, '------')\n",
    "    for em in sent['entitymentions']:\n",
    "        print(em['text'], '-', em['ner'])"
   ]
  },
  {
   "cell_type": "markdown",
   "metadata": {},
   "source": [
    "#### spaCy Spanish"
   ]
  },
  {
   "cell_type": "code",
   "execution_count": 51,
   "metadata": {},
   "outputs": [
    {
     "name": "stdout",
     "output_type": "stream",
     "text": [
      "Luis Luis de Figueroa PER\n",
      "Seuilla LOC\n",
      "La Collation de la Madalena LOC\n",
      "San Miguel de Los Ángeles Gerónimo LOC\n",
      "Sanlúcar la Mayor LOC\n",
      "Fray Juan Bautista PER\n",
      "Luis de Figueroa PER\n",
      "Hermano Juan Baptista PER\n",
      "Firmado MISC\n",
      "Hermano Juan Baptista PER\n",
      "Las condiciones bajo las cuales MISC\n",
      "Retablo de San Miguel de los Ángeles LOC\n",
      "Sant Lucar la Mayor LOC\n",
      "Primero que nada tener MISC\n",
      "Retablo de todos MISC\n",
      "Así PER\n"
     ]
    }
   ],
   "source": [
    "# Iterate over the predicted entities\n",
    "for ent in doc.ents:\n",
    "    # Print the entity text and its label\n",
    "    print(ent.text, ent.label_)"
   ]
  },
  {
   "cell_type": "markdown",
   "metadata": {},
   "source": [
    "#### spaCy English on Google Translation"
   ]
  },
  {
   "cell_type": "code",
   "execution_count": 19,
   "metadata": {},
   "outputs": [
    {
     "name": "stdout",
     "output_type": "stream",
     "text": [
      "Altarpiece PERSON\n",
      "San Juan del Puerto GPE\n",
      "April 30, 1619 DATE\n",
      "Diego Lopez Bueno PERSON\n",
      "Seville GPE\n",
      "Archbishopric PERSON\n",
      "Mateo Gomez PERSON\n",
      "San Juan del Puerto GPE\n",
      "325 CARDINAL\n",
      "625 ducats QUANTITY\n"
     ]
    }
   ],
   "source": [
    "# Iterate over the predicted entities\n",
    "for ent in doc_en.ents:\n",
    "    # Print the entity text and its label\n",
    "    print(ent.text, ent.label_)"
   ]
  },
  {
   "cell_type": "code",
   "execution_count": null,
   "metadata": {},
   "outputs": [],
   "source": []
  }
 ],
 "metadata": {
  "kernelspec": {
   "display_name": "Python 3",
   "language": "python",
   "name": "python3"
  },
  "language_info": {
   "codemirror_mode": {
    "name": "ipython",
    "version": 3
   },
   "file_extension": ".py",
   "mimetype": "text/x-python",
   "name": "python",
   "nbconvert_exporter": "python",
   "pygments_lexer": "ipython3",
   "version": "3.7.3"
  }
 },
 "nbformat": 4,
 "nbformat_minor": 4
}
