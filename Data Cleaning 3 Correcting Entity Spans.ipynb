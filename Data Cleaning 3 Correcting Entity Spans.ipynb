{
 "cells": [
  {
   "cell_type": "markdown",
   "metadata": {},
   "source": [
    "# Data Cleaning 3: Correcting Entity Spans\n",
    "\n",
    "Long spans: Get the difference between the name set and the entity tokens set, revise which of these spans may be problematic. Find them and determine if they should be a part of the span.\n",
    "\n",
    "Short spans: search for tokens from the entity list and the name lists that have not been tagged as entities.\n",
    "\n",
    "Same approach might work for untagged entities."
   ]
  },
  {
   "cell_type": "code",
   "execution_count": null,
   "metadata": {},
   "outputs": [],
   "source": []
  }
 ],
 "metadata": {
  "kernelspec": {
   "display_name": "Python 3",
   "language": "python",
   "name": "python3"
  },
  "language_info": {
   "codemirror_mode": {
    "name": "ipython",
    "version": 3
   },
   "file_extension": ".py",
   "mimetype": "text/x-python",
   "name": "python",
   "nbconvert_exporter": "python",
   "pygments_lexer": "ipython3",
   "version": "3.7.6"
  }
 },
 "nbformat": 4,
 "nbformat_minor": 4
}
